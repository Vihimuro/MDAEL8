{
  "nbformat": 4,
  "nbformat_minor": 0,
  "metadata": {
    "colab": {
      "name": "Mineração.ipynb",
      "provenance": [],
      "collapsed_sections": [],
      "include_colab_link": true
    },
    "kernelspec": {
      "name": "python3",
      "display_name": "Python 3"
    },
    "language_info": {
      "name": "python"
    }
  },
  "cells": [
    {
      "cell_type": "markdown",
      "metadata": {
        "id": "view-in-github",
        "colab_type": "text"
      },
      "source": [
        "<a href=\"https://colab.research.google.com/github/Vihimuro/MDAEL8/blob/main/Minera%C3%A7%C3%A3o.ipynb\" target=\"_parent\"><img src=\"https://colab.research.google.com/assets/colab-badge.svg\" alt=\"Open In Colab\"/></a>"
      ]
    },
    {
      "cell_type": "markdown",
      "source": [
        "ATENÇÃO! Caso esteja no GitHub, clique acima em Open in Colab para um experiência interativa e completa!"
      ],
      "metadata": {
        "id": "vOQuFRgnUNo2"
      }
    },
    {
      "cell_type": "markdown",
      "source": [
        "![miner.jpg](data:image/jpeg;base64,/9j/4AAQSkZJRgABAQAAAQABAAD/2wCEAAoHCBYVFRgVFRYZFRgYGBgaGBgaHBgYGBkSGBgZGRgYGBgcIS4lHB4rIRgYJjgmKy8xNTU1GiQ7QDs0Py40NTEBDAwMEA8QHhISHjYlISU0NDQ0MTQ0NDQ0NDQxNDQ0NDQ0NDQ0NDQ0NDE0MTQ0NDQ0NDY0NDQ0NDQ2NDQ0PTQ0NP/AABEIAMIBBAMBIgACEQEDEQH/xAAbAAABBQEBAAAAAAAAAAAAAAAEAAECAwUGB//EAEIQAAIBAgQDBAgDBgQFBQAAAAECAAMRBBIhMQVBUSJhcYEGEzJSkZKhsRRCwRUWYoLR4SNTcvAHM7LS8TRDk6LC/8QAGgEAAwEBAQEAAAAAAAAAAAAAAAECAwQFBv/EACYRAAICAgICAwACAwEAAAAAAAABAhEDEiExQVEEE2EyQiJxgRT/2gAMAwEAAhEDEQA/APMWvuDb6x/XTQHBqnIp36xv2UxcoCocWv2tDcX0nOpROimBrVPePKO1S+4J8pofsKpsGX4iMeDON3UecnaPsaTM+/cZJCegHiYq9MIxVmOhtptfxlZtyYy6snZFx7zbw0izdCZWpXrr3yVx1+kNWGy9jlm5G/jIq3M79OkXnfyjEDr9IahsvYneVk9dSfgI5kLDrGoickdnhMWpo5GF1PLw2hGCxiUgQmgOp1ufjORfEuEXL59bRJxEgDMdY9TOzuBx4jnI4niiVlCvqAbjXnOGfHE849PGMAbHXlFoNSNv0pxWbIBsALDuFxOeL9fhLsTXLhc2+t7d3/mC5f4oalqRYH8PvEWPj9JC4976RwAeZioeyJlm7vvIu58ZJaQO0Rw9z1v/AL2hQWvZS3cbfWIVevxnQcH9DsTiO0qerpg2apUGVRa1wAdTvy03mZj+GtTdqb+0hIJvoehHcYyd43VgqVT3yRqX3ufKP+GPWUs4Byljcd3nCitl7LCe4xKT0+JluGw2e+VtjY3NtTDF4HUOzIPFpLaXY0AG/W3hFm6Ew1OEPci63G+unlJjg9TqnzRbL2FMAzHkfjEjHW/w/Uw08KexOZDa9xm1Fu6Z4qL1IPhGql0D47Ls5ilWaKPVhsvZs/tEILX779ZRh8beqzE9P+i0wy5fbS3WKkxUk3+EFiSRnudYMasprY22xuCbWO/iJzn4lupjrWJOm/WQ8JayFuOe7kn3m/pKg0WJ3F5WJulSMG+S4GODKgZMGMC0GK8gGjFogHYyERMaUBNREFBOwkLySbwEOwHQRhboPhIs0a8Bltx0EgxkbxiZICJheBwj1CFRGdj+VQSfpBEUsQALkmwHUnYT270YyYLDpTVQ1VtyLBndtTryUfYTl+X8n6IbJW34LhByZyXBv+H1V7NiW9SvuCzOf0X6zueG8Ow2EX/DprmH527T/MdfhCjh2fV3Ov5U7IHnuZRjeFplJ1+JM+bzfPyZnUpUvS6OyOKKMzjfpSEUlze+ndttaeYcR4uteppuBYH+EbA+E6vi3C1fsPmKlhcA9rceyes6DBegeFAAFEjvLPc951ns/H+bjxYUpdryc0/jf5uSPLCZnY6iS2YdACOfjPUPS/0LoYfDvWR2VgRZWN1a5tlAte+uk83q7TvwZ45o7R6M5Jp0yvh9cjMNtVN/jN2jxEKP1nNUkYtlUasQLden3npPAvRrCog9f/jubFhmZUTXZQLE8r3jyqK5ZrjTlwjkl4mDUe+otf6SacRy638p0PpfgsIUZqNJaVQD8nZU25FdvpeefesMSgpK0EtoumdEccO0ToWB+Fuc56mbnwjvXNosOJpCGtmc5bF+kUoqPrFNCCGG2Mk0jhvZMdoCGtCKaWkUSXU6ZY2gBXiTKQYRiF3HSCXgMsBkwZAC4uOW/h1jgyR0SjxoryhCjr37SN4rwAk6WP8AvURJ1ltEhxkJsfyHv909xjerOU9RuOklS8Mpx8oGvFeSCHpIsttJRIrxRo8ANT0cphsQhP5QW8xt953lDGEVQT+XQeE5j0R4S7BqwFwewo5kblvDQCdPT4HXd8ypYdSQJ5XznGXDZ04E0dXS4iLbyqvj82g1vKcLwBgLu9+4aDzJmnhqNJdEIZudjcebT5/6k5VFW/w7FxyD8N4WGYO4vY3A7+pmzi+LJT7Kg1Ht7C6m/eeUZWRVJYgjxyqB4QKmaA7VMLqb3BzC/XWd2P4MpO8r49Izk02E8T9FqGNCPiPWXC+wHKqpOp7I59/dM1v+GfD/AHan/wAjQx+LFecFq8eI5z14XCKjDhIweO3bMLjvoBhaC58MXWoAdHYuDcd+xnnacUelmRyQwJv4zueMcfOus8342/rHLDc7zeFy/kJ1CPBTj+IlzYGCWjLQIj5DOhJIwlJydshUhNPQeAlIpGXuhy7bxklAp31ij+rbpHgBDDnsnxliHWVU/Z8/0jodYCCxC6Qyjxg1Fb6wm+kTAGqDeAmHOdTBKg1MEMek+U3HKX1qegdfZP8A9W5qf0gohOGrZSQwujaMOduo7xE77RUWumVXiluIo5Da9wdVbkV5GUmNO1aE006YiYrxolW+0Yh1F5soc65x7ajtA650HPvIG/UTNVbS2nUK2INiDpJkrKjKn+F1ekAA6+y30bmpgNcazZpLu2XsPo69D1X7j4TOx+HKG17g6q3IqdjIjLwxyj/ZAYEcxCSp0y7Kii5Y2AHMzQg7P0d9KXVUoerRrAANciyi9yR4TosX6WV0WyBE8r/ec9wjgZpjM2rka9FHQdYRxPDMEvaebnx4pS6s9DDBqPJlcU49iKg/xKrML7XsN+YWwPnOj9H+J5UABnHV6d1Mu4fisvOXCEaqKotto9BxHFVIyOQQwIynmOczkx1LDpZBkS+wudT0E5mtj1uCdxsYG/FL3/WaxgYSnydvW4jpvMPG8T3sZz9Xi5tvMyvxC8uOMiWQM4jxHvgNC5GY89vAQLtO1h5zSLAKBtbQTZRoxlKyJSLLEHEcOIEDZZduJVnEktQQAlaKN6wRR2FGcvsef6GMp1jKNJEbxiNHDtpLWeD0TpJ5omAznUQesNZdUPOQqCIZVEI9o0oAvD1Ay5HOl7ofdY//AJMGdCCQdCN41pcTnGvtD6r08RJqmVeyryikC8JRLCKmlpIyiCMupnnBc9z3Sz1kkYcmIt56HvEgHDLkY6XuhP5WPXuPOB55NdYmkWnRWyEEgjUcu+dF6JYK2as2+qp4fmP6TJRDUKr+bQDvH9p2lOmERUGygCZzlxRpijcr8I0KL3hKJfQ7TNwFS828PraedluLPUxU4mDxDgqE3tl7x+onJ8X4Q9MF07SjVivIdSN56lUpZhOX43hHS7pe35l5S8OXmjPLj4PM2xhlDVyZ2f4WjW9qmAfeW6n6eMdfRGgRfNU+Zf8AtnfHNA4ZYJ+OTiS5MIw+ELanQfUztsL6O4dOTMerHb4ACZPFP8NyjjMp1Rx7Vu/rbmPtKWRPoh4ZJcmRTdQBlFj075dRw5Y3MoWit73La36C/hD1rWEpv0ZtV2Xrhl6SaUk0uIP628bNJoRo+ppnkIjQQa2Ezg56y0V7RUMuyL0igpxEUdAZLewvjKQYRkJUDpEKImhBJDpJgyBFhHVoAibjSQbVfL7SYqW3Fx0l1HDFlLJ2gupH5lHeOnfIbrspKwAMekRbuhVo2SVYgUEnlCKSWk7SQWMCRMFq1M2g2+8m5J0G0itEwAYMBGNTpLlw456ywKB3QAGVWMKw69TC8NhA40b6S6pwlgLq1+62v95DkitWW+j9K9Qt7g0/1Hb9Z0dd9JkcJp5F3vc3vCMXiLTnyO5HViVRCOF1CHPdrN1+IogsNTOLwmMszn+HT4xsNjCTcmYZobcnThlrwdenGG5RqvE83tDeYaVJJ6mk51E2lIbEKl7qQLnbneWUsQVmFxCqQbg2I2hOBxwqJm2I0Yd82eN1sZKavU13xAImZxfDetpmwGdO0vUjmt+8fpGd5T+KKm/SaY24sjJyjlFeX0q14TjeGOWZkW6ntA32vraBphXDWYW3ncqPPkwn1klng7Ag2MWaOiQnPGLyjNEWhQyy8UqzRRCOp/d9LDtn4CL93k99vgIS1e3OVNijynC55PZuox9Ef3dS3tnfoIh6Np75+VY4qsTuZpYWgTubyHkyryUox9GcPRxPfb4CWUuBKhzLVdSNiALzdXDAbmV1HUDSR92R8WVpFeAFfR6hV3f1dTrYBHPePyHv2gtf0XVDld2UjqBt17xCqziOmN7ORxnTlrZk/wBDfptJ3zLqVr0GsH2jPHo6h/8AcPwER9HU/wAxvgIb6kp20bMuwPMdzLyhNOnnBZNSBdk5ge8vUfaV92Tuw+uHozafowjaesYHwFv7Qr9yLC5drciACPiISle00MFxdk2by3B8QdDJeXN4YaQ9GN+56Deo3wEf906XvsfIToX4jSqe0PVN7y9pPNNx5QXFYd1GcWdPfQ5l8+a+clfIy3TdMekPRxHFKf4TEWUlkZQQSLA8iPKdDgkWsl010vbnKuIUVrqVYX5g81bkQZy/B+IvQqlCdiVPl/4noYpPJHntGMv8X+HTHCVEPsMR3DWCY/CVDqqOf5SIRX9I2ANjIUPSU2HauTG4NlqdGK1B1PsN0Oh2MzxiCjEX2M7QcduDexnFcbt61mGz9rwPOVGF8Ml5GuUalLiGm8d8f3znczLbodR4RmxBi+hWU89o0sVi7wng9Syn+JiZj4SiXYXvlvqe7nbvnomD4ph0RKZohVC2UuoGbqb9SdfOOcajSIjke2xhPVHWCVqgnZfiKB1FJPlEZno/5KfKJlGNGsstnL8KxWhXcDl9vvDFoo2l7Hof6zaNSiNqKC/8IlRxFL/JT4TWzFmRW4EHHZ/35TBx3C6lL2lOXruJ2FXi6IberWPV44mU3QWtrGpSRLSOCynpFlPQzZdA5LhMgbUKNgOUh6rxmlkMych6GKa3q4oWI3KWGXnrLWwqwZXlgqThaOhF1KkFhC17bQPNJAzNopBTVyd5ByraZsh6Nt8eUpZoNVaTqVZZiaTp7SkA7HdT4MNDKg8nhse6XCm6ndG7SHxUwymaFQ6g4duou9MnvHtJ5Xibce1/1Bx4B6VQrsbde/uPWEJWykOhyMDcW5HqJDFYF01IDLydTmQ+Y/WCl4LWXKDlG82XEi6AJX/Mmy1O9Oj/AMPPlMjOVJB3G4PI9IMrm9wbEbHnebC1lxOjkJXt2XOi1Oiv0fo3PnJqv9BYMjK2gbKejbfNy85Znq0iDdkvsw9kjuI0IgFVGRirgqw0IO4Muw3EHQWU3U7owzIf5TBx445HYU+KR/bUBvfTS/8AqXY+VpxHpLRy1yQb5lVrjTX2fjpO3X1dS11bDk7N7dI+V8yfWc/6S8NdWRiAylW7akMpAII7Q8TvN/jPSdO1fhkTW0TlfXN1iWswhtTDWlZoT0NkYaspGLcRmxJOhF5emHkXw8doNWDVKt7d0KpYVTTLX7Wtulhy84ww8TBl05QsWp0XA6tKhSzMULPqC1jYd3fLsZ6RK4y5TWHIZbAf6TynMLVRbN6vM3O57PwEsbirsMqgKOigD6ydebHtxRs8PxbAZWBWxJAPJTqBNFcXfnObw7kasbnmd4SMVJceQs23xHfB6uLtrM38VIviLx0Fl1asHsb2MqRS5yi5FwB/FUJ+wgym5yrpfcjkvMzqPQrBCpiVNuxSW/8ANssU5axbBK2GVuFlLIRqAPtKHwY6TpOLVAajdxsPAC0zKrTGMm0rBpGScKOkUKdtY80sDMBkg0pWWoBzNpzs1RYpll4kRffUeNx+kl+FY7Mh/mEzk0uy1FvoqZ5Q7S6ph3H5b+BBlPq25qw8jBVVjcWu0QWXIZRK3rZZSjbpEt0HYfGOhujFfDY+I2MnVxKPqyhG6pop8U5eUy87HULB3dibbS18WTd1RP2qjTzjkQYzVR1mZUpMut41Gr1mn/l57J+06FeIK6hKp1GiVOYHuv7y/UTNr4nKxBNiD4giwIN/OD16wYWAlKdGHh3S4/GSf4S8rZv0+IH1aAHlaZBxDJVKqxQtYr0NxqCDodbw3BYdWG+3SU8S4bSdcyVWFRRorIQDY+zmDEDfe0JwUZK+UxqVr9JOqPcOmRuqiynQ/l5eUDOCtY7g8xNPg9Zao9XV7LjZj3cjNGrww7KytYdbGZtOLpG0XGStnOJg+15SFTCTfOGZTcodraawWogDa6X6wUmNxiZlHB8zKnoC4m0ig6DXrA6iWaNSYOKMjE4OwLLpbccjBAhnRIlxM8UBqOhI+BmsZXwYzjXJnBWiyNNBqYEqYS7M6Bcp6xiIQRKMQL9kdIAWYesEU9W38BsJ6J6IU/w+G9Y4s9Q5h5+yPhPMaVE5hm2vrrynULxZmtc6AAAcgB0EjLHZUCdHUValySTcnU+MEqvM+lxGWnEgzPWgsZ21jSo1IpYzO/E2NiDGbFaaCM7lFIIGvOUBdRfUTVYop9EuTYTRsVLE68pX+IY90vxNJVS4MByGwjeOL7QKTRZSbtamG4iuRbIxv4mTw2CzWNpZjuHFbERvGmqaBSadpgdXHuN8xv5/eDVHY6sLeVoa9Fksx1EapnqnQbSY4YxdpDlNy7YZwl1/NG4rQUjMBYiCYWm4NgNpdiKhYWmpBmVQSNTJYXC5ucsxLiwEppO2wiAKoYdQ1t5r1MCjJcWvMnDYZiZpVMK6rvBAZK1ijECPQxdmNxe8j6ok6wujw8nlGANXa5zrow+sF/arq1zca87/AHh+Jo5fGAYijcEdZEoplKVGlhuPk6ZreO0IxHFGtd0DLyb2l+YaTmuHcOzP2thynT08MgFtddwNjMZKKNIykTw2JpMLgZfDSUthkY3DkeMlicKgXQ5ZmVMG7f8AKqJUNr5L5Kg7sjGx8QSIlFPopzaNJMKwGhD+cyLFSwbcM1/G8qXHOhyuGRhurAg/Axw9+0eevxjUdRSlshEytpJjDMDhC/LfaNsgz785S1I5Q+9wCeouJ2eH4KD7WUH4y3F8BXISrjMNriwI6GLdD1ODBliPJ43DFG2sPt3QXNL7IDUr98ITFd8y88b1nfCgNn8XFAKT6RQ1CzWJDPZhpyEtqYRcpteTZSbNzGkNw7ErbTWbEmJUwuUgFtDE1SzW3A+0Lx6qrjXN1guHpq79ATtADXw+OuBblCcRicygQd8CEIK7GWYymoTQ6wAFx+J7GUayHDcYEQjnK8VQKoHgWDqKCb84AbXDsUvavvB3cF7WgGGrhGPSXPizmBUkQAjxTCEMCgYg9xMs4fhXv/y3P8jH9JOvxGqbWqOPAkRJja52rVPnb+sANCnhqobSjUP8j/0hlXD4jLb1NX5H/pM2gKz6GrUP87/1ltem6e07nxZv6wAenw6oDdqTjxVh9xDKasm6kDv0mHWdl11Ili4hmFhACHFHu4Amfj1yhtfyn7QmupGpmXxGubHvETAuwdQi1hpz8JfV4m7G1KwUcyN4Jw57qRfcWkqCkKQdxf4zBo0QbQ4ix7FZQc2zDQE9JicVJzX2sdOs1faCjvBmZxf2vOOPYpDUuMVMuR7VkGy1Bmt/pb2lPgZopXw7KMpakbbN2l8m3tOeywhG6y2JGutOzC9iOoNx8Z03DyigWYZiNugnCo+U3B8pq4XHa6DUi15nKNlJmvxDj5VilIXI3O+shS4wz2SqLXOhGmvK8xcCBmfNuDL+dzvyEmkM1uLhQl9mGx/rMkY1ekjxbHXFpi+ubrKUeBWbv41ekkMevuzA9c3WN61useoWdF+0l92Kc761useGorOww+MULldLn3hLcPiFBtbN01lw9SOS/COGob2HwhHK/JUox8AGLw7asVsGMApPlcTpGxNIix28IOUw+9j9ZX2r0TqTq4rsDuglOtnNoVUegwsSxHnGpth19kfQw+1eg1M/iVRrZBtBqODJF7X6zbNSgdwD5SVHE0kN108pKyc89DcVXHZgYjD20F5dhsIObWm1jMalQWJAtzC2gDpTP57eRl7xJ1ZdU4TamXDXtAsPVXnpDqdVAuUuSOloicP7o+WJ5VfCGo+yyljFQbiRqVy9jykA+H91fgZMVqQFgdOlofb+Bp+g+OcFQqi5lGFcjxmhSxNIbWH8siz0Sb8/CH2r0GplY6qbzLrUS+86g+oO4B/ljZcP7q/LIlkb6KjFLs5MUmp9oajmP1hbYtCLkXPcbTogaHRflkfVYb3E+SLb2htLwYDYtQvYFifMwY4R31bQ9Ok6gJhhqET5JNTh+g+WLb0CivJyf7Nj/gZ1hbD9F+WNnw/RflhuytYnKfgO+QqYV07S3I59R/adfmw/QfLHzYboPlhuxOMTk0xKmzHcbEST43p/edL6vC3vkXX+CSUYYbKo/khsvROv6coMEzdpufKSHDTOrz4boPliL4boPl/vFvIuonK/ssx04Qx2BPhrPQ+HcJpPlZ1yoddtSP0mxjOJYLBrkQDNa+VRdiSNMzHaQ80rpclrHHt8HkX7O8Y86XH8ap1HLfhqWvW9/OwtFL2kTrAyooopRkSkYoowEYxiigA0UUUAGMYxRQAUYx4oARERjxRgMI8UUQEoo0UAIRoooAIyQiigA8hFFEMUUUUBD3jRRQGNGiijEdR6HVWzEXNtNLm3PlAPST/1FT+T/oWKKY/3Zqv4nK16hvufjFFFOgyP/9k=)\n",
        "\n",
        "# Mineração de Dados\n"
      ],
      "metadata": {
        "id": "TGNlfRHwsRuy"
      }
    },
    {
      "cell_type": "markdown",
      "source": [
        "Alunos: Tiago Júnio Tegon Nascimento e Vinícius Himuro Augusto\n",
        "\n",
        "Githubs: https://github.com/TiagoTegon/MDAEL8.git e https://github.com/Vihimuro/MDAEL8"
      ],
      "metadata": {
        "id": "t6o6hGhruGdZ"
      }
    },
    {
      "cell_type": "markdown",
      "source": [
        "Database escolhida: Congressional Voting Records Data Set\n",
        "\n",
        "link: https://archive.ics.uci.edu/ml/datasets/Congressional+Voting+Records"
      ],
      "metadata": {
        "id": "zvpaknhHtrdQ"
      }
    },
    {
      "cell_type": "markdown",
      "source": [
        " # Atividade 1 - Pré-processamento de dados"
      ],
      "metadata": {
        "id": "aGXoIAZ0t9rg"
      }
    },
    {
      "cell_type": "markdown",
      "source": [
        "## Avaliação das características\n",
        "\n",
        "### Problema a ser investigado\n",
        "\n",
        "A base de dados possui o posicionamento (a favor ou contra) de senadores sobre alguns assuntos politicos (atributos) e, a partir deles, identificar se uma pessoa analisada integra o partido republicano ou democrata.\n",
        "\n",
        "Avalie as características da base de dados: problema a ser\n",
        "investigado, número de amostras, número de atributos, tipos de\n",
        "atributos, possui valores ausentes?\n",
        "\n",
        "### Número de amostras\n",
        "\n",
        "435 amostras, dos quais 267 são democratas e 168 republicanos.\n",
        "\n",
        "### Atributos\n",
        "\n",
        "São ao todo 17 atributos booleanos, sendo eles: \n",
        "\n",
        "\n",
        "   1. Class Name: 2 (democrat, republican)\n",
        "   2. handicapped-infants: 2 (y,n)\n",
        "   3. water-project-cost-sharing: 2 (y,n)\n",
        "   4. adoption-of-the-budget-resolution: 2 (y,n)\n",
        "   5. physician-fee-freeze: 2 (y,n)\n",
        "   6. el-salvador-aid: 2 (y,n)\n",
        "   7. religious-groups-in-schools: 2 (y,n)\n",
        "   8. anti-satellite-test-ban: 2 (y,n)\n",
        "   9. aid-to-nicaraguan-contras: 2 (y,n)\n",
        "   10. mx-missile: 2 (y,n)\n",
        "   11. immigration: 2 (y,n)\n",
        "   12. synfuels-corporation-cutback: 2 (y,n)\n",
        "   13. education-spending: 2 (y,n)\n",
        "   14. superfund-right-to-sue: 2 (y,n)\n",
        "   15. crime: 2 (y,n)\n",
        "   16. duty-free-exports: 2 (y,n)\n",
        "   17. export-administration-act-south-africa: 2 (y,n)\n",
        "\n",
        "### Sobre valores ausentes\n",
        "\n",
        "\n",
        "Analisando a base de dados, temos 288 dados definidos como '?', porém não são valores ausentes, e sim um posicionamento neutro sobre o atributo. Diante disso, foram cogitados 2 métodos para o tratamento desses valores: \n",
        "\n",
        "1- Criar uma terceira classificação denominada abstenção para cada atributo, além de sim e não.\n",
        "\n",
        "2- Substituir esses valores a partir da moda da classe que a pessoa faz parte (republicano e democrata)."
      ],
      "metadata": {
        "id": "zdOTlzkLAIuR"
      }
    },
    {
      "cell_type": "markdown",
      "source": [
        "## Código"
      ],
      "metadata": {
        "id": "c3yzHHXRD6k7"
      }
    },
    {
      "cell_type": "markdown",
      "source": [
        "É necessário fazer o upload da base de dados. Para tal, realize os seguintes passos:\n",
        "\n",
        "1- acesse https://archive.ics.uci.edu/ml/datasets/Congressional+Voting+Records\n",
        "\n",
        "2- clique em data folder\n",
        "\n",
        "3- clique em house-votes-84.data e baixe o arquivo\n",
        "\n",
        "4- No notebook, clique em Arquivos na barra da esquerda\n",
        "\n",
        "5- Em seguida, em Fazer upload para o armazenamento da função (1º ícone da esquerda para a direita)\n",
        "\n",
        "6- Carregue o arquivo baixado \n",
        "\n",
        "Pronto! Podemos começar! \n",
        "\n"
      ],
      "metadata": {
        "id": "p4cKSOFeqJHt"
      }
    },
    {
      "cell_type": "markdown",
      "source": [
        "Começando o código.\n",
        "\n",
        "Github de referência: https://github.com/murilovarges/DataMiningSamples/blob/master/1-Preprocessing/DataCleaning.py"
      ],
      "metadata": {
        "id": "Rq15PGvFuvfx"
      }
    },
    {
      "cell_type": "markdown",
      "source": [
        "Fazendo os imports "
      ],
      "metadata": {
        "id": "bb_SzJ-duTpP"
      }
    },
    {
      "cell_type": "code",
      "execution_count": 31,
      "metadata": {
        "id": "ehGs5bVTpWwT"
      },
      "outputs": [],
      "source": [
        "import pandas as pd\n",
        "import numpy as np"
      ]
    },
    {
      "cell_type": "markdown",
      "source": [
        "Faz a leitura do arquivo"
      ],
      "metadata": {
        "id": "mCmO3LrDErnK"
      }
    },
    {
      "cell_type": "code",
      "source": [
        "names = ['Class-Name','handicapped-infants','water-project-cost-sharing','adoption-of-the-budget-resolution','physician-fee-freeze','el-salvador-aid',\n",
        "          'religious-groups-in-schools','anti-satellite-test-ban','aid-to-nicaraguan-contras','mx-missile','immigration','synfuels-corporation-cutback','education-spending',\n",
        "          'superfund-right-to-sue','crime','duty-free-exports','export-administration-act-south-africa'] \n",
        "features = ['Class-Name','handicapped-infants','water-project-cost-sharing','adoption-of-the-budget-resolution','physician-fee-freeze','el-salvador-aid',\n",
        "          'religious-groups-in-schools','anti-satellite-test-ban','aid-to-nicaraguan-contras','mx-missile','immigration','synfuels-corporation-cutback','education-spending',\n",
        "          'superfund-right-to-sue','crime','duty-free-exports','export-administration-act-south-africa'] \n",
        "output_file_abstencao = '/content/house-votes-84-abstencao.data'\n",
        "output_file_moda = '/content/house-votes-84-moda.data'\n",
        "input_file = '/content/house-votes-84.data' \n",
        "df = pd.read_csv(input_file,         # Nome do arquivo com dados\n",
        "                  names = names,      # Nome das colunas \n",
        "                  usecols = features, # Define as colunas que serão  utilizadas\n",
        "                  na_values='?')      # Define que ? será considerado valores ausentes\n",
        "  "
      ],
      "metadata": {
        "id": "kCaVTx8wEOGh"
      },
      "execution_count": 32,
      "outputs": []
    },
    {
      "cell_type": "markdown",
      "source": [
        "Mostrando os dados"
      ],
      "metadata": {
        "id": "JnxnuD6zGYi7"
      }
    },
    {
      "cell_type": "code",
      "source": [
        "df_original = df.copy()\n",
        "# Imprime as 15 primeiras linhas do arquivo\n",
        "print(\"PRIMEIRAS 15 LINHAS\\n\")\n",
        "print(df.head(15))\n",
        "print(\"\\n\") "
      ],
      "metadata": {
        "id": "X1wOb7S1GVwy",
        "colab": {
          "base_uri": "https://localhost:8080/"
        },
        "outputId": "266418cc-a58b-4c9d-f551-0c7d721a798c"
      },
      "execution_count": 33,
      "outputs": [
        {
          "output_type": "stream",
          "name": "stdout",
          "text": [
            "PRIMEIRAS 15 LINHAS\n",
            "\n",
            "    Class-Name handicapped-infants water-project-cost-sharing  \\\n",
            "0   republican                   n                          y   \n",
            "1   republican                   n                          y   \n",
            "2     democrat                 NaN                          y   \n",
            "3     democrat                   n                          y   \n",
            "4     democrat                   y                          y   \n",
            "5     democrat                   n                          y   \n",
            "6     democrat                   n                          y   \n",
            "7   republican                   n                          y   \n",
            "8   republican                   n                          y   \n",
            "9     democrat                   y                          y   \n",
            "10  republican                   n                          y   \n",
            "11  republican                   n                          y   \n",
            "12    democrat                   n                          y   \n",
            "13    democrat                   y                          y   \n",
            "14  republican                   n                          y   \n",
            "\n",
            "   adoption-of-the-budget-resolution physician-fee-freeze el-salvador-aid  \\\n",
            "0                                  n                    y               y   \n",
            "1                                  n                    y               y   \n",
            "2                                  y                  NaN               y   \n",
            "3                                  y                    n             NaN   \n",
            "4                                  y                    n               y   \n",
            "5                                  y                    n               y   \n",
            "6                                  n                    y               y   \n",
            "7                                  n                    y               y   \n",
            "8                                  n                    y               y   \n",
            "9                                  y                    n               n   \n",
            "10                                 n                    y               y   \n",
            "11                                 n                    y               y   \n",
            "12                                 y                    n               n   \n",
            "13                                 y                    n               n   \n",
            "14                                 n                    y               y   \n",
            "\n",
            "   religious-groups-in-schools anti-satellite-test-ban  \\\n",
            "0                            y                       n   \n",
            "1                            y                       n   \n",
            "2                            y                       n   \n",
            "3                            y                       n   \n",
            "4                            y                       n   \n",
            "5                            y                       n   \n",
            "6                            y                       n   \n",
            "7                            y                       n   \n",
            "8                            y                       n   \n",
            "9                            n                       y   \n",
            "10                           n                       n   \n",
            "11                           y                       n   \n",
            "12                           n                       y   \n",
            "13                           y                       y   \n",
            "14                           y                       n   \n",
            "\n",
            "   aid-to-nicaraguan-contras mx-missile immigration  \\\n",
            "0                          n          n           y   \n",
            "1                          n          n           n   \n",
            "2                          n          n           n   \n",
            "3                          n          n           n   \n",
            "4                          n          n           n   \n",
            "5                          n          n           n   \n",
            "6                          n          n           n   \n",
            "7                          n          n           n   \n",
            "8                          n          n           n   \n",
            "9                          y          y           n   \n",
            "10                         n          n           n   \n",
            "11                         n          n           n   \n",
            "12                         y          y           n   \n",
            "13                         y        NaN           y   \n",
            "14                         n          n           n   \n",
            "\n",
            "   synfuels-corporation-cutback education-spending superfund-right-to-sue  \\\n",
            "0                           NaN                  y                      y   \n",
            "1                             n                  y                      y   \n",
            "2                             y                  n                      y   \n",
            "3                             y                  n                      y   \n",
            "4                             y                NaN                      y   \n",
            "5                             n                  n                      y   \n",
            "6                             n                  n                    NaN   \n",
            "7                             n                  n                      y   \n",
            "8                             n                  y                      y   \n",
            "9                             n                  n                      n   \n",
            "10                          NaN                NaN                      y   \n",
            "11                            y                NaN                      y   \n",
            "12                            n                  n                      y   \n",
            "13                            y                NaN                      n   \n",
            "14                            n                  y                    NaN   \n",
            "\n",
            "   crime duty-free-exports export-administration-act-south-africa  \n",
            "0      y                 n                                      y  \n",
            "1      y                 n                                    NaN  \n",
            "2      y                 n                                      n  \n",
            "3      n                 n                                      y  \n",
            "4      y                 y                                      y  \n",
            "5      y                 y                                      y  \n",
            "6      y                 y                                      y  \n",
            "7      y               NaN                                      y  \n",
            "8      y                 n                                      y  \n",
            "9      n               NaN                                    NaN  \n",
            "10     y                 n                                      n  \n",
            "11     y               NaN                                    NaN  \n",
            "12     n               NaN                                    NaN  \n",
            "13     n                 y                                    NaN  \n",
            "14   NaN                 n                                    NaN  \n",
            "\n",
            "\n"
          ]
        }
      ]
    },
    {
      "cell_type": "markdown",
      "source": [
        "Alterando os dados dos atributos para valores numéricos"
      ],
      "metadata": {
        "id": "1hE_WYJfEyKS"
      }
    },
    {
      "cell_type": "code",
      "source": [
        "# republican => 0\n",
        "df['Class-Name'] = df['Class-Name'].replace(['republican'],0)\n",
        "\n",
        "# democrat => 1\n",
        "df['Class-Name'] = df['Class-Name'].replace(['democrat'],1)\n",
        "\n",
        "# n-> 0\n",
        "df = df.replace(['n'],int(0))\n",
        "\n",
        "# y-> 1\n",
        "df = df.replace(['y'],int(1))"
      ],
      "metadata": {
        "id": "8fr0euBbE9Cq"
      },
      "execution_count": 34,
      "outputs": []
    },
    {
      "cell_type": "markdown",
      "source": [
        "Para ver a mudança: "
      ],
      "metadata": {
        "id": "Fw5s5RpVGr27"
      }
    },
    {
      "cell_type": "code",
      "source": [
        "df_original = df.copy()\n",
        "# Imprime as 15 primeiras linhas do arquivo\n",
        "print(\"PRIMEIRAS 15 LINHAS\\n\")\n",
        "print(df.head(15))\n",
        "print(\"\\n\") "
      ],
      "metadata": {
        "id": "FhskInlmGuuh",
        "colab": {
          "base_uri": "https://localhost:8080/"
        },
        "outputId": "760623f7-81b1-4817-c867-35e56d4fe1d6"
      },
      "execution_count": 35,
      "outputs": [
        {
          "output_type": "stream",
          "name": "stdout",
          "text": [
            "PRIMEIRAS 15 LINHAS\n",
            "\n",
            "    Class-Name  handicapped-infants  water-project-cost-sharing  \\\n",
            "0            0                  0.0                         1.0   \n",
            "1            0                  0.0                         1.0   \n",
            "2            1                  NaN                         1.0   \n",
            "3            1                  0.0                         1.0   \n",
            "4            1                  1.0                         1.0   \n",
            "5            1                  0.0                         1.0   \n",
            "6            1                  0.0                         1.0   \n",
            "7            0                  0.0                         1.0   \n",
            "8            0                  0.0                         1.0   \n",
            "9            1                  1.0                         1.0   \n",
            "10           0                  0.0                         1.0   \n",
            "11           0                  0.0                         1.0   \n",
            "12           1                  0.0                         1.0   \n",
            "13           1                  1.0                         1.0   \n",
            "14           0                  0.0                         1.0   \n",
            "\n",
            "    adoption-of-the-budget-resolution  physician-fee-freeze  el-salvador-aid  \\\n",
            "0                                 0.0                   1.0              1.0   \n",
            "1                                 0.0                   1.0              1.0   \n",
            "2                                 1.0                   NaN              1.0   \n",
            "3                                 1.0                   0.0              NaN   \n",
            "4                                 1.0                   0.0              1.0   \n",
            "5                                 1.0                   0.0              1.0   \n",
            "6                                 0.0                   1.0              1.0   \n",
            "7                                 0.0                   1.0              1.0   \n",
            "8                                 0.0                   1.0              1.0   \n",
            "9                                 1.0                   0.0              0.0   \n",
            "10                                0.0                   1.0              1.0   \n",
            "11                                0.0                   1.0              1.0   \n",
            "12                                1.0                   0.0              0.0   \n",
            "13                                1.0                   0.0              0.0   \n",
            "14                                0.0                   1.0              1.0   \n",
            "\n",
            "    religious-groups-in-schools  anti-satellite-test-ban  \\\n",
            "0                           1.0                      0.0   \n",
            "1                           1.0                      0.0   \n",
            "2                           1.0                      0.0   \n",
            "3                           1.0                      0.0   \n",
            "4                           1.0                      0.0   \n",
            "5                           1.0                      0.0   \n",
            "6                           1.0                      0.0   \n",
            "7                           1.0                      0.0   \n",
            "8                           1.0                      0.0   \n",
            "9                           0.0                      1.0   \n",
            "10                          0.0                      0.0   \n",
            "11                          1.0                      0.0   \n",
            "12                          0.0                      1.0   \n",
            "13                          1.0                      1.0   \n",
            "14                          1.0                      0.0   \n",
            "\n",
            "    aid-to-nicaraguan-contras  mx-missile  immigration  \\\n",
            "0                         0.0         0.0          1.0   \n",
            "1                         0.0         0.0          0.0   \n",
            "2                         0.0         0.0          0.0   \n",
            "3                         0.0         0.0          0.0   \n",
            "4                         0.0         0.0          0.0   \n",
            "5                         0.0         0.0          0.0   \n",
            "6                         0.0         0.0          0.0   \n",
            "7                         0.0         0.0          0.0   \n",
            "8                         0.0         0.0          0.0   \n",
            "9                         1.0         1.0          0.0   \n",
            "10                        0.0         0.0          0.0   \n",
            "11                        0.0         0.0          0.0   \n",
            "12                        1.0         1.0          0.0   \n",
            "13                        1.0         NaN          1.0   \n",
            "14                        0.0         0.0          0.0   \n",
            "\n",
            "    synfuels-corporation-cutback  education-spending  superfund-right-to-sue  \\\n",
            "0                            NaN                 1.0                     1.0   \n",
            "1                            0.0                 1.0                     1.0   \n",
            "2                            1.0                 0.0                     1.0   \n",
            "3                            1.0                 0.0                     1.0   \n",
            "4                            1.0                 NaN                     1.0   \n",
            "5                            0.0                 0.0                     1.0   \n",
            "6                            0.0                 0.0                     NaN   \n",
            "7                            0.0                 0.0                     1.0   \n",
            "8                            0.0                 1.0                     1.0   \n",
            "9                            0.0                 0.0                     0.0   \n",
            "10                           NaN                 NaN                     1.0   \n",
            "11                           1.0                 NaN                     1.0   \n",
            "12                           0.0                 0.0                     1.0   \n",
            "13                           1.0                 NaN                     0.0   \n",
            "14                           0.0                 1.0                     NaN   \n",
            "\n",
            "    crime  duty-free-exports  export-administration-act-south-africa  \n",
            "0     1.0                0.0                                     1.0  \n",
            "1     1.0                0.0                                     NaN  \n",
            "2     1.0                0.0                                     0.0  \n",
            "3     0.0                0.0                                     1.0  \n",
            "4     1.0                1.0                                     1.0  \n",
            "5     1.0                1.0                                     1.0  \n",
            "6     1.0                1.0                                     1.0  \n",
            "7     1.0                NaN                                     1.0  \n",
            "8     1.0                0.0                                     1.0  \n",
            "9     0.0                NaN                                     NaN  \n",
            "10    1.0                0.0                                     0.0  \n",
            "11    1.0                NaN                                     NaN  \n",
            "12    0.0                NaN                                     NaN  \n",
            "13    0.0                1.0                                     NaN  \n",
            "14    NaN                0.0                                     NaN  \n",
            "\n",
            "\n"
          ]
        }
      ]
    },
    {
      "cell_type": "markdown",
      "source": [
        "Imprimindo informações sobre os dados"
      ],
      "metadata": {
        "id": "BIuAOqfrFMt6"
      }
    },
    {
      "cell_type": "code",
      "source": [
        "# Imprime informações sobre dos dados\n",
        "print(\"INFORMAÇÕES GERAIS DOS DADOS\\n\")\n",
        "print(df.info())\n",
        "print(\"\\n\")"
      ],
      "metadata": {
        "id": "mac7flRxFXjy",
        "colab": {
          "base_uri": "https://localhost:8080/"
        },
        "outputId": "e2af0467-2937-41d3-8d1d-7714f33aee77"
      },
      "execution_count": 36,
      "outputs": [
        {
          "output_type": "stream",
          "name": "stdout",
          "text": [
            "INFORMAÇÕES GERAIS DOS DADOS\n",
            "\n",
            "<class 'pandas.core.frame.DataFrame'>\n",
            "RangeIndex: 435 entries, 0 to 434\n",
            "Data columns (total 17 columns):\n",
            " #   Column                                  Non-Null Count  Dtype  \n",
            "---  ------                                  --------------  -----  \n",
            " 0   Class-Name                              435 non-null    int64  \n",
            " 1   handicapped-infants                     423 non-null    float64\n",
            " 2   water-project-cost-sharing              387 non-null    float64\n",
            " 3   adoption-of-the-budget-resolution       424 non-null    float64\n",
            " 4   physician-fee-freeze                    424 non-null    float64\n",
            " 5   el-salvador-aid                         420 non-null    float64\n",
            " 6   religious-groups-in-schools             424 non-null    float64\n",
            " 7   anti-satellite-test-ban                 421 non-null    float64\n",
            " 8   aid-to-nicaraguan-contras               420 non-null    float64\n",
            " 9   mx-missile                              413 non-null    float64\n",
            " 10  immigration                             428 non-null    float64\n",
            " 11  synfuels-corporation-cutback            414 non-null    float64\n",
            " 12  education-spending                      404 non-null    float64\n",
            " 13  superfund-right-to-sue                  410 non-null    float64\n",
            " 14  crime                                   418 non-null    float64\n",
            " 15  duty-free-exports                       407 non-null    float64\n",
            " 16  export-administration-act-south-africa  331 non-null    float64\n",
            "dtypes: float64(16), int64(1)\n",
            "memory usage: 57.9 KB\n",
            "None\n",
            "\n",
            "\n"
          ]
        }
      ]
    },
    {
      "cell_type": "code",
      "source": [
        "# Imprime uma analise descritiva sobre dos dados\n",
        "print(\"DESCRIÇÃO DOS DADOS\\n\")\n",
        "print(df.describe())\n",
        "print(\"\\n\")"
      ],
      "metadata": {
        "id": "QEWwbFNAHTVB",
        "colab": {
          "base_uri": "https://localhost:8080/"
        },
        "outputId": "a3692f28-8592-4616-bbff-a6f8f2c4b8c5"
      },
      "execution_count": 37,
      "outputs": [
        {
          "output_type": "stream",
          "name": "stdout",
          "text": [
            "DESCRIÇÃO DOS DADOS\n",
            "\n",
            "       Class-Name  handicapped-infants  water-project-cost-sharing  \\\n",
            "count  435.000000           423.000000                  387.000000   \n",
            "mean     0.613793             0.442080                    0.503876   \n",
            "std      0.487440             0.497222                    0.500632   \n",
            "min      0.000000             0.000000                    0.000000   \n",
            "25%      0.000000             0.000000                    0.000000   \n",
            "50%      1.000000             0.000000                    1.000000   \n",
            "75%      1.000000             1.000000                    1.000000   \n",
            "max      1.000000             1.000000                    1.000000   \n",
            "\n",
            "       adoption-of-the-budget-resolution  physician-fee-freeze  \\\n",
            "count                         424.000000            424.000000   \n",
            "mean                            0.596698              0.417453   \n",
            "std                             0.491140              0.493721   \n",
            "min                             0.000000              0.000000   \n",
            "25%                             0.000000              0.000000   \n",
            "50%                             1.000000              0.000000   \n",
            "75%                             1.000000              1.000000   \n",
            "max                             1.000000              1.000000   \n",
            "\n",
            "       el-salvador-aid  religious-groups-in-schools  anti-satellite-test-ban  \\\n",
            "count       420.000000                   424.000000               421.000000   \n",
            "mean          0.504762                     0.641509                 0.567696   \n",
            "std           0.500574                     0.480124                 0.495985   \n",
            "min           0.000000                     0.000000                 0.000000   \n",
            "25%           0.000000                     0.000000                 0.000000   \n",
            "50%           1.000000                     1.000000                 1.000000   \n",
            "75%           1.000000                     1.000000                 1.000000   \n",
            "max           1.000000                     1.000000                 1.000000   \n",
            "\n",
            "       aid-to-nicaraguan-contras  mx-missile  immigration  \\\n",
            "count                  420.00000  413.000000   428.000000   \n",
            "mean                     0.57619    0.501211     0.504673   \n",
            "std                      0.49475    0.500605     0.500563   \n",
            "min                      0.00000    0.000000     0.000000   \n",
            "25%                      0.00000    0.000000     0.000000   \n",
            "50%                      1.00000    1.000000     1.000000   \n",
            "75%                      1.00000    1.000000     1.000000   \n",
            "max                      1.00000    1.000000     1.000000   \n",
            "\n",
            "       synfuels-corporation-cutback  education-spending  \\\n",
            "count                    414.000000          404.000000   \n",
            "mean                       0.362319            0.423267   \n",
            "std                        0.481252            0.494690   \n",
            "min                        0.000000            0.000000   \n",
            "25%                        0.000000            0.000000   \n",
            "50%                        0.000000            0.000000   \n",
            "75%                        1.000000            1.000000   \n",
            "max                        1.000000            1.000000   \n",
            "\n",
            "       superfund-right-to-sue       crime  duty-free-exports  \\\n",
            "count              410.000000  418.000000         407.000000   \n",
            "mean                 0.509756    0.593301           0.427518   \n",
            "std                  0.500516    0.491806           0.495327   \n",
            "min                  0.000000    0.000000           0.000000   \n",
            "25%                  0.000000    0.000000           0.000000   \n",
            "50%                  1.000000    1.000000           0.000000   \n",
            "75%                  1.000000    1.000000           1.000000   \n",
            "max                  1.000000    1.000000           1.000000   \n",
            "\n",
            "       export-administration-act-south-africa  \n",
            "count                              331.000000  \n",
            "mean                                 0.812689  \n",
            "std                                  0.390752  \n",
            "min                                  0.000000  \n",
            "25%                                  1.000000  \n",
            "50%                                  1.000000  \n",
            "75%                                  1.000000  \n",
            "max                                  1.000000  \n",
            "\n",
            "\n"
          ]
        }
      ]
    },
    {
      "cell_type": "code",
      "source": [
        "# Imprime a quantidade de valores faltantes por coluna\n",
        "print(\"VALORES FALTANTES\\n\")\n",
        "print(df.isnull().sum())\n",
        "print(\"\\n\")"
      ],
      "metadata": {
        "id": "MyqxBnAgHWOZ",
        "colab": {
          "base_uri": "https://localhost:8080/"
        },
        "outputId": "8bd4da92-5bca-462f-b81a-7ec1519d3df6"
      },
      "execution_count": 38,
      "outputs": [
        {
          "output_type": "stream",
          "name": "stdout",
          "text": [
            "VALORES FALTANTES\n",
            "\n",
            "Class-Name                                  0\n",
            "handicapped-infants                        12\n",
            "water-project-cost-sharing                 48\n",
            "adoption-of-the-budget-resolution          11\n",
            "physician-fee-freeze                       11\n",
            "el-salvador-aid                            15\n",
            "religious-groups-in-schools                11\n",
            "anti-satellite-test-ban                    14\n",
            "aid-to-nicaraguan-contras                  15\n",
            "mx-missile                                 22\n",
            "immigration                                 7\n",
            "synfuels-corporation-cutback               21\n",
            "education-spending                         31\n",
            "superfund-right-to-sue                     25\n",
            "crime                                      17\n",
            "duty-free-exports                          28\n",
            "export-administration-act-south-africa    104\n",
            "dtype: int64\n",
            "\n",
            "\n"
          ]
        }
      ]
    },
    {
      "cell_type": "markdown",
      "source": [
        "Imprimindo colunas com valores ausentes"
      ],
      "metadata": {
        "id": "RqJIks_DF1Kq"
      }
    },
    {
      "cell_type": "code",
      "source": [
        "columns_missing_value = df.columns[df.isnull().any()]\n",
        "print(columns_missing_value)\n",
        "method = 'number' # number or median or mean or mode"
      ],
      "metadata": {
        "id": "U3j1hpK2F4Aa",
        "colab": {
          "base_uri": "https://localhost:8080/"
        },
        "outputId": "6c93e214-890a-4a5f-be5e-90d933954444"
      },
      "execution_count": 39,
      "outputs": [
        {
          "output_type": "stream",
          "name": "stdout",
          "text": [
            "Index(['handicapped-infants', 'water-project-cost-sharing',\n",
            "       'adoption-of-the-budget-resolution', 'physician-fee-freeze',\n",
            "       'el-salvador-aid', 'religious-groups-in-schools',\n",
            "       'anti-satellite-test-ban', 'aid-to-nicaraguan-contras', 'mx-missile',\n",
            "       'immigration', 'synfuels-corporation-cutback', 'education-spending',\n",
            "       'superfund-right-to-sue', 'crime', 'duty-free-exports',\n",
            "       'export-administration-act-south-africa'],\n",
            "      dtype='object')\n"
          ]
        }
      ]
    },
    {
      "cell_type": "markdown",
      "source": [
        "Função para atualizar os valores ausentes para 2, usando o método de número\n"
      ],
      "metadata": {
        "id": "z5Zx0ZAWwtAq"
      }
    },
    {
      "cell_type": "code",
      "source": [
        "def UpdateMissingValues(df, column, method=\"number\", number=2):\n",
        "    if method == 'number':\n",
        "        # Substituindo valores ausentes por um número\n",
        "        df[column].fillna(number, inplace=True)\n",
        "    elif method == 'median':\n",
        "        # Substituindo valores ausentes pela mediana \n",
        "        median = df['Density'].median()\n",
        "        df[column].fillna(median, inplace=True)\n",
        "    elif method == 'mean':\n",
        "        # Substituindo valores ausentes pela média\n",
        "        mean = df[column].mean()\n",
        "        df[column].fillna(mean, inplace=True)\n",
        "    elif method == 'mode':\n",
        "        # Substituindo valores ausentes pela moda\n",
        "        mode = df[column].mode()[0]\n",
        "        df[column].fillna(mode, inplace=True)"
      ],
      "metadata": {
        "id": "ubQhfT-eH78C"
      },
      "execution_count": 40,
      "outputs": []
    },
    {
      "cell_type": "markdown",
      "source": [
        "Salvando um novo arquivo com a substituição para os dados faltantes. para visualizá-lo, atualize a parte de arquivos.\n"
      ],
      "metadata": {
        "id": "olfgzJvFs8EZ"
      }
    },
    {
      "cell_type": "code",
      "source": [
        "method = 'number' # number or median or mean or mode\n",
        "    \n",
        "for c in columns_missing_value:\n",
        "    UpdateMissingValues(df, c, method, 2)  \n",
        "\n",
        "# Salva arquivo com o tratamento para dados faltantes\n",
        "df.to_csv(output_file_abstencao, header=False, index=False)  "
      ],
      "metadata": {
        "id": "rt5MNwGpJrey"
      },
      "execution_count": 41,
      "outputs": []
    },
    {
      "cell_type": "markdown",
      "source": [
        "# Atividade 2 - Redução e Transformação\n",
        "\n",
        "\n"
      ],
      "metadata": {
        "id": "TVJTNe3AGuF7"
      }
    },
    {
      "cell_type": "markdown",
      "source": [
        "- Utilize alguma técnica de normalização de dados;\n",
        "\n",
        "- Utilize a técnica PCA e plot os dois principais componentes."
      ],
      "metadata": {
        "id": "AeLloB83HPeK"
      }
    },
    {
      "cell_type": "markdown",
      "source": [
        "## Normalização de dados"
      ],
      "metadata": {
        "id": "RtFFQ0hKHijo"
      }
    },
    {
      "cell_type": "markdown",
      "source": [
        "###Código"
      ],
      "metadata": {
        "id": "DAX-lXK-IAVr"
      }
    },
    {
      "cell_type": "markdown",
      "source": [
        "Imports necessários"
      ],
      "metadata": {
        "id": "Uzjsn5v7H6SD"
      }
    },
    {
      "cell_type": "code",
      "source": [
        "from sklearn.preprocessing import StandardScaler\n",
        "from sklearn.preprocessing import MinMaxScaler"
      ],
      "metadata": {
        "id": "E-pUzFxP8e3d"
      },
      "execution_count": 42,
      "outputs": []
    },
    {
      "cell_type": "markdown",
      "source": [
        "Lendo o arquivo\n"
      ],
      "metadata": {
        "id": "8Z3TJ-DtLNEq"
      }
    },
    {
      "cell_type": "code",
      "source": [
        "input_file = '/content/house-votes-84-abstencao.data'\n",
        "names = ['Class-Name','handicapped-infants','water-project-cost-sharing','adoption-of-the-budget-resolution','physician-fee-freeze','el-salvador-aid',\n",
        "          'religious-groups-in-schools','anti-satellite-test-ban','aid-to-nicaraguan-contras','mx-missile','immigration','synfuels-corporation-cutback','education-spending',\n",
        "          'superfund-right-to-sue','crime','duty-free-exports','export-administration-act-south-africa']\n",
        "features = ['handicapped-infants','water-project-cost-sharing','adoption-of-the-budget-resolution','physician-fee-freeze','el-salvador-aid',\n",
        "          'religious-groups-in-schools','anti-satellite-test-ban','aid-to-nicaraguan-contras','mx-missile','immigration','synfuels-corporation-cutback','education-spending',\n",
        "          'superfund-right-to-sue','crime','duty-free-exports','export-administration-act-south-africa']\n",
        "target = 'Class-Name'\n",
        "df = pd.read_csv(input_file,    # Nome do arquivo com dados\n",
        "                 names = names) # Nome das colunas"
      ],
      "metadata": {
        "id": "T8Pnf_rRLQTi"
      },
      "execution_count": 43,
      "outputs": []
    },
    {
      "cell_type": "markdown",
      "source": [
        "Separando as características do alvo"
      ],
      "metadata": {
        "id": "ITKTzQJHUZGP"
      }
    },
    {
      "cell_type": "code",
      "source": [
        "x = df.loc[:, features].values\n",
        "y = df.loc[:,[target]].values"
      ],
      "metadata": {
        "id": "uvDdYr6eMqbK"
      },
      "execution_count": 44,
      "outputs": []
    },
    {
      "cell_type": "markdown",
      "source": [
        "Função para mostrar o dataframe"
      ],
      "metadata": {
        "id": "hdh8M30IUk4A"
      }
    },
    {
      "cell_type": "code",
      "source": [
        "def ShowInformationDataFrame(df, message=\"\"):\n",
        "    print(message+\"\\n\")\n",
        "    print(df.info())\n",
        "    print(df.describe())\n",
        "    print(df.head(10))\n",
        "    print(\"\\n\") "
      ],
      "metadata": {
        "id": "nzgp7cgaL_XC"
      },
      "execution_count": 45,
      "outputs": []
    },
    {
      "cell_type": "markdown",
      "source": [
        "Mostrando o dataframe"
      ],
      "metadata": {
        "id": "7qwl1S2FUp8p"
      }
    },
    {
      "cell_type": "code",
      "source": [
        "ShowInformationDataFrame(df,\"Dataframe original\")"
      ],
      "metadata": {
        "id": "JpQFb9bvMH9C",
        "colab": {
          "base_uri": "https://localhost:8080/"
        },
        "outputId": "8f04052d-ae53-46a5-d6fb-d3567205727b"
      },
      "execution_count": 46,
      "outputs": [
        {
          "output_type": "stream",
          "name": "stdout",
          "text": [
            "Dataframe original\n",
            "\n",
            "<class 'pandas.core.frame.DataFrame'>\n",
            "RangeIndex: 435 entries, 0 to 434\n",
            "Data columns (total 17 columns):\n",
            " #   Column                                  Non-Null Count  Dtype  \n",
            "---  ------                                  --------------  -----  \n",
            " 0   Class-Name                              435 non-null    int64  \n",
            " 1   handicapped-infants                     435 non-null    float64\n",
            " 2   water-project-cost-sharing              435 non-null    float64\n",
            " 3   adoption-of-the-budget-resolution       435 non-null    float64\n",
            " 4   physician-fee-freeze                    435 non-null    float64\n",
            " 5   el-salvador-aid                         435 non-null    float64\n",
            " 6   religious-groups-in-schools             435 non-null    float64\n",
            " 7   anti-satellite-test-ban                 435 non-null    float64\n",
            " 8   aid-to-nicaraguan-contras               435 non-null    float64\n",
            " 9   mx-missile                              435 non-null    float64\n",
            " 10  immigration                             435 non-null    float64\n",
            " 11  synfuels-corporation-cutback            435 non-null    float64\n",
            " 12  education-spending                      435 non-null    float64\n",
            " 13  superfund-right-to-sue                  435 non-null    float64\n",
            " 14  crime                                   435 non-null    float64\n",
            " 15  duty-free-exports                       435 non-null    float64\n",
            " 16  export-administration-act-south-africa  435 non-null    float64\n",
            "dtypes: float64(16), int64(1)\n",
            "memory usage: 57.9 KB\n",
            "None\n",
            "       Class-Name  handicapped-infants  water-project-cost-sharing  \\\n",
            "count  435.000000           435.000000                  435.000000   \n",
            "mean     0.613793             0.485057                    0.668966   \n",
            "std      0.487440             0.552858                    0.665702   \n",
            "min      0.000000             0.000000                    0.000000   \n",
            "25%      0.000000             0.000000                    0.000000   \n",
            "50%      1.000000             0.000000                    1.000000   \n",
            "75%      1.000000             1.000000                    1.000000   \n",
            "max      1.000000             2.000000                    2.000000   \n",
            "\n",
            "       adoption-of-the-budget-resolution  physician-fee-freeze  \\\n",
            "count                         435.000000            435.000000   \n",
            "mean                            0.632184              0.457471   \n",
            "std                             0.532686              0.547224   \n",
            "min                             0.000000              0.000000   \n",
            "25%                             0.000000              0.000000   \n",
            "50%                             1.000000              0.000000   \n",
            "75%                             1.000000              1.000000   \n",
            "max                             2.000000              2.000000   \n",
            "\n",
            "       el-salvador-aid  religious-groups-in-schools  anti-satellite-test-ban  \\\n",
            "count       435.000000                   435.000000               435.000000   \n",
            "mean          0.556322                     0.675862                 0.613793   \n",
            "std           0.562602                     0.519874                 0.549648   \n",
            "min           0.000000                     0.000000                 0.000000   \n",
            "25%           0.000000                     0.000000                 0.000000   \n",
            "50%           1.000000                     1.000000                 1.000000   \n",
            "75%           1.000000                     1.000000                 1.000000   \n",
            "max           2.000000                     2.000000                 2.000000   \n",
            "\n",
            "       aid-to-nicaraguan-contras  mx-missile  immigration  \\\n",
            "count                 435.000000  435.000000   435.000000   \n",
            "mean                    0.625287    0.577011     0.528736   \n",
            "std                     0.551332    0.588230     0.531043   \n",
            "min                     0.000000    0.000000     0.000000   \n",
            "25%                     0.000000    0.000000     0.000000   \n",
            "50%                     1.000000    1.000000     1.000000   \n",
            "75%                     1.000000    1.000000     1.000000   \n",
            "max                     2.000000    2.000000     2.000000   \n",
            "\n",
            "       synfuels-corporation-cutback  education-spending  \\\n",
            "count                    435.000000          435.000000   \n",
            "mean                       0.441379            0.535632   \n",
            "std                        0.586435            0.626227   \n",
            "min                        0.000000            0.000000   \n",
            "25%                        0.000000            0.000000   \n",
            "50%                        0.000000            0.000000   \n",
            "75%                        1.000000            1.000000   \n",
            "max                        2.000000            2.000000   \n",
            "\n",
            "       superfund-right-to-sue       crime  duty-free-exports  \\\n",
            "count              435.000000  435.000000         435.000000   \n",
            "mean                 0.595402    0.648276           0.528736   \n",
            "std                  0.597211    0.553968           0.615452   \n",
            "min                  0.000000    0.000000           0.000000   \n",
            "25%                  0.000000    0.000000           0.000000   \n",
            "50%                  1.000000    1.000000           0.000000   \n",
            "75%                  1.000000    1.000000           1.000000   \n",
            "max                  2.000000    2.000000           2.000000   \n",
            "\n",
            "       export-administration-act-south-africa  \n",
            "count                              435.000000  \n",
            "mean                                 1.096552  \n",
            "std                                  0.610856  \n",
            "min                                  0.000000  \n",
            "25%                                  1.000000  \n",
            "50%                                  1.000000  \n",
            "75%                                  1.000000  \n",
            "max                                  2.000000  \n",
            "   Class-Name  handicapped-infants  water-project-cost-sharing  \\\n",
            "0           0                  0.0                         1.0   \n",
            "1           0                  0.0                         1.0   \n",
            "2           1                  2.0                         1.0   \n",
            "3           1                  0.0                         1.0   \n",
            "4           1                  1.0                         1.0   \n",
            "5           1                  0.0                         1.0   \n",
            "6           1                  0.0                         1.0   \n",
            "7           0                  0.0                         1.0   \n",
            "8           0                  0.0                         1.0   \n",
            "9           1                  1.0                         1.0   \n",
            "\n",
            "   adoption-of-the-budget-resolution  physician-fee-freeze  el-salvador-aid  \\\n",
            "0                                0.0                   1.0              1.0   \n",
            "1                                0.0                   1.0              1.0   \n",
            "2                                1.0                   2.0              1.0   \n",
            "3                                1.0                   0.0              2.0   \n",
            "4                                1.0                   0.0              1.0   \n",
            "5                                1.0                   0.0              1.0   \n",
            "6                                0.0                   1.0              1.0   \n",
            "7                                0.0                   1.0              1.0   \n",
            "8                                0.0                   1.0              1.0   \n",
            "9                                1.0                   0.0              0.0   \n",
            "\n",
            "   religious-groups-in-schools  anti-satellite-test-ban  \\\n",
            "0                          1.0                      0.0   \n",
            "1                          1.0                      0.0   \n",
            "2                          1.0                      0.0   \n",
            "3                          1.0                      0.0   \n",
            "4                          1.0                      0.0   \n",
            "5                          1.0                      0.0   \n",
            "6                          1.0                      0.0   \n",
            "7                          1.0                      0.0   \n",
            "8                          1.0                      0.0   \n",
            "9                          0.0                      1.0   \n",
            "\n",
            "   aid-to-nicaraguan-contras  mx-missile  immigration  \\\n",
            "0                        0.0         0.0          1.0   \n",
            "1                        0.0         0.0          0.0   \n",
            "2                        0.0         0.0          0.0   \n",
            "3                        0.0         0.0          0.0   \n",
            "4                        0.0         0.0          0.0   \n",
            "5                        0.0         0.0          0.0   \n",
            "6                        0.0         0.0          0.0   \n",
            "7                        0.0         0.0          0.0   \n",
            "8                        0.0         0.0          0.0   \n",
            "9                        1.0         1.0          0.0   \n",
            "\n",
            "   synfuels-corporation-cutback  education-spending  superfund-right-to-sue  \\\n",
            "0                           2.0                 1.0                     1.0   \n",
            "1                           0.0                 1.0                     1.0   \n",
            "2                           1.0                 0.0                     1.0   \n",
            "3                           1.0                 0.0                     1.0   \n",
            "4                           1.0                 2.0                     1.0   \n",
            "5                           0.0                 0.0                     1.0   \n",
            "6                           0.0                 0.0                     2.0   \n",
            "7                           0.0                 0.0                     1.0   \n",
            "8                           0.0                 1.0                     1.0   \n",
            "9                           0.0                 0.0                     0.0   \n",
            "\n",
            "   crime  duty-free-exports  export-administration-act-south-africa  \n",
            "0    1.0                0.0                                     1.0  \n",
            "1    1.0                0.0                                     2.0  \n",
            "2    1.0                0.0                                     0.0  \n",
            "3    0.0                0.0                                     1.0  \n",
            "4    1.0                1.0                                     1.0  \n",
            "5    1.0                1.0                                     1.0  \n",
            "6    1.0                1.0                                     1.0  \n",
            "7    1.0                2.0                                     1.0  \n",
            "8    1.0                0.0                                     1.0  \n",
            "9    0.0                2.0                                     2.0  \n",
            "\n",
            "\n"
          ]
        }
      ]
    },
    {
      "cell_type": "markdown",
      "source": [
        "Normalização com Z-score"
      ],
      "metadata": {
        "id": "fNDcgxIQUttq"
      }
    },
    {
      "cell_type": "code",
      "source": [
        "# Z-score normalization\n",
        "x_zcore = StandardScaler().fit_transform(x)\n",
        "normalized1Df = pd.DataFrame(data = x_zcore, columns = features)\n",
        "normalized1Df = pd.concat([normalized1Df, df[[target]]], axis = 1)\n",
        "ShowInformationDataFrame(normalized1Df,\"Dataframe Z-Score Normalized\")"
      ],
      "metadata": {
        "id": "-TXtmlY8Mxl7",
        "colab": {
          "base_uri": "https://localhost:8080/"
        },
        "outputId": "d4d61cc3-7dc3-4646-a008-deda61edeb33"
      },
      "execution_count": 47,
      "outputs": [
        {
          "output_type": "stream",
          "name": "stdout",
          "text": [
            "Dataframe Z-Score Normalized\n",
            "\n",
            "<class 'pandas.core.frame.DataFrame'>\n",
            "RangeIndex: 435 entries, 0 to 434\n",
            "Data columns (total 17 columns):\n",
            " #   Column                                  Non-Null Count  Dtype  \n",
            "---  ------                                  --------------  -----  \n",
            " 0   handicapped-infants                     435 non-null    float64\n",
            " 1   water-project-cost-sharing              435 non-null    float64\n",
            " 2   adoption-of-the-budget-resolution       435 non-null    float64\n",
            " 3   physician-fee-freeze                    435 non-null    float64\n",
            " 4   el-salvador-aid                         435 non-null    float64\n",
            " 5   religious-groups-in-schools             435 non-null    float64\n",
            " 6   anti-satellite-test-ban                 435 non-null    float64\n",
            " 7   aid-to-nicaraguan-contras               435 non-null    float64\n",
            " 8   mx-missile                              435 non-null    float64\n",
            " 9   immigration                             435 non-null    float64\n",
            " 10  synfuels-corporation-cutback            435 non-null    float64\n",
            " 11  education-spending                      435 non-null    float64\n",
            " 12  superfund-right-to-sue                  435 non-null    float64\n",
            " 13  crime                                   435 non-null    float64\n",
            " 14  duty-free-exports                       435 non-null    float64\n",
            " 15  export-administration-act-south-africa  435 non-null    float64\n",
            " 16  Class-Name                              435 non-null    int64  \n",
            "dtypes: float64(16), int64(1)\n",
            "memory usage: 57.9 KB\n",
            "None\n",
            "       handicapped-infants  water-project-cost-sharing  \\\n",
            "count         4.350000e+02                4.350000e+02   \n",
            "mean          7.095218e-17                4.058057e-17   \n",
            "std           1.001151e+00                1.001151e+00   \n",
            "min          -8.783740e-01               -1.006060e+00   \n",
            "25%          -8.783740e-01               -1.006060e+00   \n",
            "50%          -8.783740e-01                4.978439e-01   \n",
            "75%           9.324919e-01                4.978439e-01   \n",
            "max           2.743358e+00                2.001747e+00   \n",
            "\n",
            "       adoption-of-the-budget-resolution  physician-fee-freeze  \\\n",
            "count                       4.350000e+02          4.350000e+02   \n",
            "mean                       -1.092357e-16          1.995849e-16   \n",
            "std                         1.001151e+00          1.001151e+00   \n",
            "min                        -1.188152e+00         -8.369475e-01   \n",
            "25%                        -1.188152e+00         -8.369475e-01   \n",
            "50%                         6.912882e-01         -8.369475e-01   \n",
            "75%                         6.912882e-01          9.925609e-01   \n",
            "max                         2.570728e+00          2.822069e+00   \n",
            "\n",
            "       el-salvador-aid  religious-groups-in-schools  anti-satellite-test-ban  \\\n",
            "count     4.350000e+02                 4.350000e+02             4.350000e+02   \n",
            "mean      2.348058e-16                -5.563876e-17            -7.860889e-17   \n",
            "std       1.001151e+00                 1.001151e+00             1.001151e+00   \n",
            "min      -9.899759e-01                -1.301548e+00            -1.117987e+00   \n",
            "25%      -9.899759e-01                -1.301548e+00            -1.117987e+00   \n",
            "50%       7.895262e-01                 6.242116e-01             7.034525e-01   \n",
            "75%       7.895262e-01                 6.242116e-01             7.034525e-01   \n",
            "max       2.569028e+00                 2.549971e+00             2.524892e+00   \n",
            "\n",
            "       aid-to-nicaraguan-contras    mx-missile   immigration  \\\n",
            "count               4.350000e+02  4.350000e+02  4.350000e+02   \n",
            "mean               -1.306745e-16  9.443276e-18  6.635816e-18   \n",
            "std                 1.001151e+00  1.001151e+00  1.001151e+00   \n",
            "min                -1.135445e+00 -9.820584e-01 -9.968018e-01   \n",
            "25%                -1.135445e+00 -9.820584e-01 -9.968018e-01   \n",
            "50%                 6.804318e-01  7.199154e-01  8.884538e-01   \n",
            "75%                 6.804318e-01  7.199154e-01  8.884538e-01   \n",
            "max                 2.496308e+00  2.421889e+00  2.773709e+00   \n",
            "\n",
            "       synfuels-corporation-cutback  education-spending  \\\n",
            "count                  4.350000e+02        4.350000e+02   \n",
            "mean                  -6.380592e-17       -4.134624e-17   \n",
            "std                    1.001151e+00        1.001151e+00   \n",
            "min                   -7.535150e-01       -8.563168e-01   \n",
            "25%                   -7.535150e-01       -8.563168e-01   \n",
            "50%                   -7.535150e-01       -8.563168e-01   \n",
            "75%                    9.536674e-01        7.423862e-01   \n",
            "max                    2.660850e+00        2.341089e+00   \n",
            "\n",
            "       superfund-right-to-sue         crime  duty-free-exports  \\\n",
            "count            4.350000e+02  4.350000e+02       4.350000e+02   \n",
            "mean             8.218203e-17  8.218203e-17       6.125368e-17   \n",
            "std              1.001151e+00  1.001151e+00       1.001151e+00   \n",
            "min             -9.981195e-01 -1.171588e+00      -8.600911e-01   \n",
            "25%             -9.981195e-01 -1.171588e+00      -8.600911e-01   \n",
            "50%              6.782588e-01  6.356487e-01      -8.600911e-01   \n",
            "75%              6.782588e-01  6.356487e-01       7.666029e-01   \n",
            "max              2.354637e+00  2.442885e+00       2.393297e+00   \n",
            "\n",
            "       export-administration-act-south-africa  Class-Name  \n",
            "count                            4.350000e+02  435.000000  \n",
            "mean                             6.125368e-17    0.613793  \n",
            "std                              1.001151e+00    0.487440  \n",
            "min                             -1.797174e+00    0.000000  \n",
            "25%                             -1.582418e-01    0.000000  \n",
            "50%                             -1.582418e-01    1.000000  \n",
            "75%                             -1.582418e-01    1.000000  \n",
            "max                              1.480691e+00    1.000000  \n",
            "   handicapped-infants  water-project-cost-sharing  \\\n",
            "0            -0.878374                    0.497844   \n",
            "1            -0.878374                    0.497844   \n",
            "2             2.743358                    0.497844   \n",
            "3            -0.878374                    0.497844   \n",
            "4             0.932492                    0.497844   \n",
            "5            -0.878374                    0.497844   \n",
            "6            -0.878374                    0.497844   \n",
            "7            -0.878374                    0.497844   \n",
            "8            -0.878374                    0.497844   \n",
            "9             0.932492                    0.497844   \n",
            "\n",
            "   adoption-of-the-budget-resolution  physician-fee-freeze  el-salvador-aid  \\\n",
            "0                          -1.188152              0.992561         0.789526   \n",
            "1                          -1.188152              0.992561         0.789526   \n",
            "2                           0.691288              2.822069         0.789526   \n",
            "3                           0.691288             -0.836948         2.569028   \n",
            "4                           0.691288             -0.836948         0.789526   \n",
            "5                           0.691288             -0.836948         0.789526   \n",
            "6                          -1.188152              0.992561         0.789526   \n",
            "7                          -1.188152              0.992561         0.789526   \n",
            "8                          -1.188152              0.992561         0.789526   \n",
            "9                           0.691288             -0.836948        -0.989976   \n",
            "\n",
            "   religious-groups-in-schools  anti-satellite-test-ban  \\\n",
            "0                     0.624212                -1.117987   \n",
            "1                     0.624212                -1.117987   \n",
            "2                     0.624212                -1.117987   \n",
            "3                     0.624212                -1.117987   \n",
            "4                     0.624212                -1.117987   \n",
            "5                     0.624212                -1.117987   \n",
            "6                     0.624212                -1.117987   \n",
            "7                     0.624212                -1.117987   \n",
            "8                     0.624212                -1.117987   \n",
            "9                    -1.301548                 0.703452   \n",
            "\n",
            "   aid-to-nicaraguan-contras  mx-missile  immigration  \\\n",
            "0                  -1.135445   -0.982058     0.888454   \n",
            "1                  -1.135445   -0.982058    -0.996802   \n",
            "2                  -1.135445   -0.982058    -0.996802   \n",
            "3                  -1.135445   -0.982058    -0.996802   \n",
            "4                  -1.135445   -0.982058    -0.996802   \n",
            "5                  -1.135445   -0.982058    -0.996802   \n",
            "6                  -1.135445   -0.982058    -0.996802   \n",
            "7                  -1.135445   -0.982058    -0.996802   \n",
            "8                  -1.135445   -0.982058    -0.996802   \n",
            "9                   0.680432    0.719915    -0.996802   \n",
            "\n",
            "   synfuels-corporation-cutback  education-spending  superfund-right-to-sue  \\\n",
            "0                      2.660850            0.742386                0.678259   \n",
            "1                     -0.753515            0.742386                0.678259   \n",
            "2                      0.953667           -0.856317                0.678259   \n",
            "3                      0.953667           -0.856317                0.678259   \n",
            "4                      0.953667            2.341089                0.678259   \n",
            "5                     -0.753515           -0.856317                0.678259   \n",
            "6                     -0.753515           -0.856317                2.354637   \n",
            "7                     -0.753515           -0.856317                0.678259   \n",
            "8                     -0.753515            0.742386                0.678259   \n",
            "9                     -0.753515           -0.856317               -0.998120   \n",
            "\n",
            "      crime  duty-free-exports  export-administration-act-south-africa  \\\n",
            "0  0.635649          -0.860091                               -0.158242   \n",
            "1  0.635649          -0.860091                                1.480691   \n",
            "2  0.635649          -0.860091                               -1.797174   \n",
            "3 -1.171588          -0.860091                               -0.158242   \n",
            "4  0.635649           0.766603                               -0.158242   \n",
            "5  0.635649           0.766603                               -0.158242   \n",
            "6  0.635649           0.766603                               -0.158242   \n",
            "7  0.635649           2.393297                               -0.158242   \n",
            "8  0.635649          -0.860091                               -0.158242   \n",
            "9 -1.171588           2.393297                                1.480691   \n",
            "\n",
            "   Class-Name  \n",
            "0           0  \n",
            "1           0  \n",
            "2           1  \n",
            "3           1  \n",
            "4           1  \n",
            "5           1  \n",
            "6           1  \n",
            "7           0  \n",
            "8           0  \n",
            "9           1  \n",
            "\n",
            "\n"
          ]
        }
      ]
    },
    {
      "cell_type": "markdown",
      "source": [
        "Salvando a normalização"
      ],
      "metadata": {
        "id": "MVuAtpHjU0Rp"
      }
    },
    {
      "cell_type": "code",
      "source": [
        "# Salva arquivo com o tratamento para dados faltantes\n",
        "normalized1Df.to_csv('/content/house-votes-z-score.data', header=False, index=False) "
      ],
      "metadata": {
        "id": "uqV7Q874NXxa"
      },
      "execution_count": 48,
      "outputs": []
    },
    {
      "cell_type": "markdown",
      "source": [
        "Normalização com Min-Max"
      ],
      "metadata": {
        "id": "f_8yp3GKU5SQ"
      }
    },
    {
      "cell_type": "code",
      "source": [
        "# Mix-Max normalization\n",
        "x_minmax = MinMaxScaler().fit_transform(x)\n",
        "normalized2Df = pd.DataFrame(data = x_minmax, columns = features)\n",
        "normalized2Df = pd.concat([normalized2Df, df[[target]]], axis = 1)\n",
        "ShowInformationDataFrame(normalized2Df,\"Dataframe Min-Max Normalized\")"
      ],
      "metadata": {
        "id": "RLu4Xf-KM_93",
        "colab": {
          "base_uri": "https://localhost:8080/"
        },
        "outputId": "f89779e8-28d3-4dc4-e60b-6eefdf4de042"
      },
      "execution_count": 49,
      "outputs": [
        {
          "output_type": "stream",
          "name": "stdout",
          "text": [
            "Dataframe Min-Max Normalized\n",
            "\n",
            "<class 'pandas.core.frame.DataFrame'>\n",
            "RangeIndex: 435 entries, 0 to 434\n",
            "Data columns (total 17 columns):\n",
            " #   Column                                  Non-Null Count  Dtype  \n",
            "---  ------                                  --------------  -----  \n",
            " 0   handicapped-infants                     435 non-null    float64\n",
            " 1   water-project-cost-sharing              435 non-null    float64\n",
            " 2   adoption-of-the-budget-resolution       435 non-null    float64\n",
            " 3   physician-fee-freeze                    435 non-null    float64\n",
            " 4   el-salvador-aid                         435 non-null    float64\n",
            " 5   religious-groups-in-schools             435 non-null    float64\n",
            " 6   anti-satellite-test-ban                 435 non-null    float64\n",
            " 7   aid-to-nicaraguan-contras               435 non-null    float64\n",
            " 8   mx-missile                              435 non-null    float64\n",
            " 9   immigration                             435 non-null    float64\n",
            " 10  synfuels-corporation-cutback            435 non-null    float64\n",
            " 11  education-spending                      435 non-null    float64\n",
            " 12  superfund-right-to-sue                  435 non-null    float64\n",
            " 13  crime                                   435 non-null    float64\n",
            " 14  duty-free-exports                       435 non-null    float64\n",
            " 15  export-administration-act-south-africa  435 non-null    float64\n",
            " 16  Class-Name                              435 non-null    int64  \n",
            "dtypes: float64(16), int64(1)\n",
            "memory usage: 57.9 KB\n",
            "None\n",
            "       handicapped-infants  water-project-cost-sharing  \\\n",
            "count           435.000000                  435.000000   \n",
            "mean              0.242529                    0.334483   \n",
            "std               0.276429                    0.332851   \n",
            "min               0.000000                    0.000000   \n",
            "25%               0.000000                    0.000000   \n",
            "50%               0.000000                    0.500000   \n",
            "75%               0.500000                    0.500000   \n",
            "max               1.000000                    1.000000   \n",
            "\n",
            "       adoption-of-the-budget-resolution  physician-fee-freeze  \\\n",
            "count                         435.000000            435.000000   \n",
            "mean                            0.316092              0.228736   \n",
            "std                             0.266343              0.273612   \n",
            "min                             0.000000              0.000000   \n",
            "25%                             0.000000              0.000000   \n",
            "50%                             0.500000              0.000000   \n",
            "75%                             0.500000              0.500000   \n",
            "max                             1.000000              1.000000   \n",
            "\n",
            "       el-salvador-aid  religious-groups-in-schools  anti-satellite-test-ban  \\\n",
            "count       435.000000                   435.000000               435.000000   \n",
            "mean          0.278161                     0.337931                 0.306897   \n",
            "std           0.281301                     0.259937                 0.274824   \n",
            "min           0.000000                     0.000000                 0.000000   \n",
            "25%           0.000000                     0.000000                 0.000000   \n",
            "50%           0.500000                     0.500000                 0.500000   \n",
            "75%           0.500000                     0.500000                 0.500000   \n",
            "max           1.000000                     1.000000                 1.000000   \n",
            "\n",
            "       aid-to-nicaraguan-contras  mx-missile  immigration  \\\n",
            "count                 435.000000  435.000000   435.000000   \n",
            "mean                    0.312644    0.288506     0.264368   \n",
            "std                     0.275666    0.294115     0.265521   \n",
            "min                     0.000000    0.000000     0.000000   \n",
            "25%                     0.000000    0.000000     0.000000   \n",
            "50%                     0.500000    0.500000     0.500000   \n",
            "75%                     0.500000    0.500000     0.500000   \n",
            "max                     1.000000    1.000000     1.000000   \n",
            "\n",
            "       synfuels-corporation-cutback  education-spending  \\\n",
            "count                    435.000000          435.000000   \n",
            "mean                       0.220690            0.267816   \n",
            "std                        0.293217            0.313114   \n",
            "min                        0.000000            0.000000   \n",
            "25%                        0.000000            0.000000   \n",
            "50%                        0.000000            0.000000   \n",
            "75%                        0.500000            0.500000   \n",
            "max                        1.000000            1.000000   \n",
            "\n",
            "       superfund-right-to-sue       crime  duty-free-exports  \\\n",
            "count              435.000000  435.000000         435.000000   \n",
            "mean                 0.297701    0.324138           0.264368   \n",
            "std                  0.298605    0.276984           0.307726   \n",
            "min                  0.000000    0.000000           0.000000   \n",
            "25%                  0.000000    0.000000           0.000000   \n",
            "50%                  0.500000    0.500000           0.000000   \n",
            "75%                  0.500000    0.500000           0.500000   \n",
            "max                  1.000000    1.000000           1.000000   \n",
            "\n",
            "       export-administration-act-south-africa  Class-Name  \n",
            "count                              435.000000  435.000000  \n",
            "mean                                 0.548276    0.613793  \n",
            "std                                  0.305428    0.487440  \n",
            "min                                  0.000000    0.000000  \n",
            "25%                                  0.500000    0.000000  \n",
            "50%                                  0.500000    1.000000  \n",
            "75%                                  0.500000    1.000000  \n",
            "max                                  1.000000    1.000000  \n",
            "   handicapped-infants  water-project-cost-sharing  \\\n",
            "0                  0.0                         0.5   \n",
            "1                  0.0                         0.5   \n",
            "2                  1.0                         0.5   \n",
            "3                  0.0                         0.5   \n",
            "4                  0.5                         0.5   \n",
            "5                  0.0                         0.5   \n",
            "6                  0.0                         0.5   \n",
            "7                  0.0                         0.5   \n",
            "8                  0.0                         0.5   \n",
            "9                  0.5                         0.5   \n",
            "\n",
            "   adoption-of-the-budget-resolution  physician-fee-freeze  el-salvador-aid  \\\n",
            "0                                0.0                   0.5              0.5   \n",
            "1                                0.0                   0.5              0.5   \n",
            "2                                0.5                   1.0              0.5   \n",
            "3                                0.5                   0.0              1.0   \n",
            "4                                0.5                   0.0              0.5   \n",
            "5                                0.5                   0.0              0.5   \n",
            "6                                0.0                   0.5              0.5   \n",
            "7                                0.0                   0.5              0.5   \n",
            "8                                0.0                   0.5              0.5   \n",
            "9                                0.5                   0.0              0.0   \n",
            "\n",
            "   religious-groups-in-schools  anti-satellite-test-ban  \\\n",
            "0                          0.5                      0.0   \n",
            "1                          0.5                      0.0   \n",
            "2                          0.5                      0.0   \n",
            "3                          0.5                      0.0   \n",
            "4                          0.5                      0.0   \n",
            "5                          0.5                      0.0   \n",
            "6                          0.5                      0.0   \n",
            "7                          0.5                      0.0   \n",
            "8                          0.5                      0.0   \n",
            "9                          0.0                      0.5   \n",
            "\n",
            "   aid-to-nicaraguan-contras  mx-missile  immigration  \\\n",
            "0                        0.0         0.0          0.5   \n",
            "1                        0.0         0.0          0.0   \n",
            "2                        0.0         0.0          0.0   \n",
            "3                        0.0         0.0          0.0   \n",
            "4                        0.0         0.0          0.0   \n",
            "5                        0.0         0.0          0.0   \n",
            "6                        0.0         0.0          0.0   \n",
            "7                        0.0         0.0          0.0   \n",
            "8                        0.0         0.0          0.0   \n",
            "9                        0.5         0.5          0.0   \n",
            "\n",
            "   synfuels-corporation-cutback  education-spending  superfund-right-to-sue  \\\n",
            "0                           1.0                 0.5                     0.5   \n",
            "1                           0.0                 0.5                     0.5   \n",
            "2                           0.5                 0.0                     0.5   \n",
            "3                           0.5                 0.0                     0.5   \n",
            "4                           0.5                 1.0                     0.5   \n",
            "5                           0.0                 0.0                     0.5   \n",
            "6                           0.0                 0.0                     1.0   \n",
            "7                           0.0                 0.0                     0.5   \n",
            "8                           0.0                 0.5                     0.5   \n",
            "9                           0.0                 0.0                     0.0   \n",
            "\n",
            "   crime  duty-free-exports  export-administration-act-south-africa  \\\n",
            "0    0.5                0.0                                     0.5   \n",
            "1    0.5                0.0                                     1.0   \n",
            "2    0.5                0.0                                     0.0   \n",
            "3    0.0                0.0                                     0.5   \n",
            "4    0.5                0.5                                     0.5   \n",
            "5    0.5                0.5                                     0.5   \n",
            "6    0.5                0.5                                     0.5   \n",
            "7    0.5                1.0                                     0.5   \n",
            "8    0.5                0.0                                     0.5   \n",
            "9    0.0                1.0                                     1.0   \n",
            "\n",
            "   Class-Name  \n",
            "0           0  \n",
            "1           0  \n",
            "2           1  \n",
            "3           1  \n",
            "4           1  \n",
            "5           1  \n",
            "6           1  \n",
            "7           0  \n",
            "8           0  \n",
            "9           1  \n",
            "\n",
            "\n"
          ]
        }
      ]
    },
    {
      "cell_type": "markdown",
      "source": [
        "Salvando a normalização"
      ],
      "metadata": {
        "id": "OUsovI5aU9h4"
      }
    },
    {
      "cell_type": "code",
      "source": [
        "# Salva arquivo com o tratamento para dados faltantes\n",
        "normalized2Df.to_csv('/content/house-votes-min-max.data', header=False, index=False) "
      ],
      "metadata": {
        "id": "Eqyn6qdhNZ9a"
      },
      "execution_count": 50,
      "outputs": []
    },
    {
      "cell_type": "markdown",
      "source": [
        "##Redução de dados e PCA\n"
      ],
      "metadata": {
        "id": "UaANp7WxTzUI"
      }
    },
    {
      "cell_type": "markdown",
      "source": [
        "###Código"
      ],
      "metadata": {
        "id": "elS7Zm3ZT5eh"
      }
    },
    {
      "cell_type": "markdown",
      "source": [
        "Imports\n"
      ],
      "metadata": {
        "id": "oLcRCfrET8mB"
      }
    },
    {
      "cell_type": "code",
      "source": [
        "from sklearn.decomposition import PCA\n",
        "from sklearn.preprocessing import StandardScaler\n",
        "import matplotlib.pyplot as plt"
      ],
      "metadata": {
        "id": "YFlzkixNS7Y5"
      },
      "execution_count": 51,
      "outputs": []
    },
    {
      "cell_type": "markdown",
      "source": [
        "Para sem normalização"
      ],
      "metadata": {
        "id": "rztfcQF4WcOf"
      }
    },
    {
      "cell_type": "markdown",
      "source": [
        "Lendo os arquivos\n"
      ],
      "metadata": {
        "id": "V9nHaUH_UHx2"
      }
    },
    {
      "cell_type": "code",
      "source": [
        "input_file = '/content/house-votes-84-abstencao.data'\n",
        "names = ['Class-Name','handicapped-infants','water-project-cost-sharing','adoption-of-the-budget-resolution','physician-fee-freeze','el-salvador-aid',\n",
        "          'religious-groups-in-schools','anti-satellite-test-ban','aid-to-nicaraguan-contras','mx-missile','immigration','synfuels-corporation-cutback','education-spending',\n",
        "          'superfund-right-to-sue','crime','duty-free-exports','export-administration-act-south-africa']\n",
        "features = ['handicapped-infants','water-project-cost-sharing','adoption-of-the-budget-resolution','physician-fee-freeze','el-salvador-aid',\n",
        "          'religious-groups-in-schools','anti-satellite-test-ban','aid-to-nicaraguan-contras','mx-missile','immigration','synfuels-corporation-cutback','education-spending',\n",
        "          'superfund-right-to-sue','crime','duty-free-exports','export-administration-act-south-africa']\n",
        "target = 'Class-Name'\n",
        "df = pd.read_csv(input_file,    # Nome do arquivo com dados\n",
        "                 names = names) # Nome das colunas"
      ],
      "metadata": {
        "id": "L4mtyp0PWRnE"
      },
      "execution_count": 52,
      "outputs": []
    },
    {
      "cell_type": "code",
      "source": [
        "x = df.loc[:, features].values\n",
        "y = df.loc[:,[target]].values"
      ],
      "metadata": {
        "id": "yNuhvuoCWXT0"
      },
      "execution_count": 53,
      "outputs": []
    },
    {
      "cell_type": "code",
      "source": [
        "# Standardizing the features\n",
        "x = StandardScaler().fit_transform(x)\n",
        "normalizedDf = pd.DataFrame(data = x, columns = features)\n",
        "normalizedDf = pd.concat([normalizedDf, df[[target]]], axis = 1)\n",
        "ShowInformationDataFrame(normalizedDf,\"Dataframe Normalized\")\n",
        "\n",
        "\n",
        "def VisualizePcaProjection(finalDf, targetColumn):\n",
        "  fig = plt.figure(figsize = (8,8))\n",
        "  ax = fig.add_subplot(1,1,1) \n",
        "  ax.set_xlabel('Principal Component 1', fontsize = 15)\n",
        "  ax.set_ylabel('Principal Component 2', fontsize = 15)\n",
        "  ax.set_title('2 component PCA', fontsize = 20)\n",
        "  targets = [0, 1, ]\n",
        "  colors = ['r', 'g']\n",
        "  for target, color in zip(targets,colors):\n",
        "    indicesToKeep = finalDf[targetColumn] == target\n",
        "    ax.scatter(finalDf.loc[indicesToKeep, 'principal component 1'],\n",
        "                finalDf.loc[indicesToKeep, 'principal component 2'],\n",
        "                c = color, s = 50)\n",
        "  ax.legend(targets)\n",
        "  ax.grid()\n",
        "  plt.show()\n",
        "\n",
        "\n",
        "# PCA projection\n",
        "pca = PCA()    \n",
        "principalComponents = pca.fit_transform(x)\n",
        "print(\"Explained variance per component:\")\n",
        "print(pca.explained_variance_ratio_.tolist())\n",
        "print(\"\\n\\n\")\n",
        "\n",
        "principalDf = pd.DataFrame(data = principalComponents[:,0:2], \n",
        "                            columns = ['principal component 1', \n",
        "                                      'principal component 2'])\n",
        "finalDf = pd.concat([principalDf, df[[target]]], axis = 1)    \n",
        "ShowInformationDataFrame(finalDf,\"Dataframe PCA\")\n",
        "\n",
        "VisualizePcaProjection(finalDf, target)\n",
        "\n"
      ],
      "metadata": {
        "id": "8A3IJTUlWZF1",
        "colab": {
          "base_uri": "https://localhost:8080/",
          "height": 1000
        },
        "outputId": "06e47ad2-e774-4814-8c5c-f07380a7707e"
      },
      "execution_count": 54,
      "outputs": [
        {
          "output_type": "stream",
          "name": "stdout",
          "text": [
            "Dataframe Normalized\n",
            "\n",
            "<class 'pandas.core.frame.DataFrame'>\n",
            "RangeIndex: 435 entries, 0 to 434\n",
            "Data columns (total 17 columns):\n",
            " #   Column                                  Non-Null Count  Dtype  \n",
            "---  ------                                  --------------  -----  \n",
            " 0   handicapped-infants                     435 non-null    float64\n",
            " 1   water-project-cost-sharing              435 non-null    float64\n",
            " 2   adoption-of-the-budget-resolution       435 non-null    float64\n",
            " 3   physician-fee-freeze                    435 non-null    float64\n",
            " 4   el-salvador-aid                         435 non-null    float64\n",
            " 5   religious-groups-in-schools             435 non-null    float64\n",
            " 6   anti-satellite-test-ban                 435 non-null    float64\n",
            " 7   aid-to-nicaraguan-contras               435 non-null    float64\n",
            " 8   mx-missile                              435 non-null    float64\n",
            " 9   immigration                             435 non-null    float64\n",
            " 10  synfuels-corporation-cutback            435 non-null    float64\n",
            " 11  education-spending                      435 non-null    float64\n",
            " 12  superfund-right-to-sue                  435 non-null    float64\n",
            " 13  crime                                   435 non-null    float64\n",
            " 14  duty-free-exports                       435 non-null    float64\n",
            " 15  export-administration-act-south-africa  435 non-null    float64\n",
            " 16  Class-Name                              435 non-null    int64  \n",
            "dtypes: float64(16), int64(1)\n",
            "memory usage: 57.9 KB\n",
            "None\n",
            "       handicapped-infants  water-project-cost-sharing  \\\n",
            "count         4.350000e+02                4.350000e+02   \n",
            "mean          7.095218e-17                4.058057e-17   \n",
            "std           1.001151e+00                1.001151e+00   \n",
            "min          -8.783740e-01               -1.006060e+00   \n",
            "25%          -8.783740e-01               -1.006060e+00   \n",
            "50%          -8.783740e-01                4.978439e-01   \n",
            "75%           9.324919e-01                4.978439e-01   \n",
            "max           2.743358e+00                2.001747e+00   \n",
            "\n",
            "       adoption-of-the-budget-resolution  physician-fee-freeze  \\\n",
            "count                       4.350000e+02          4.350000e+02   \n",
            "mean                       -1.092357e-16          1.995849e-16   \n",
            "std                         1.001151e+00          1.001151e+00   \n",
            "min                        -1.188152e+00         -8.369475e-01   \n",
            "25%                        -1.188152e+00         -8.369475e-01   \n",
            "50%                         6.912882e-01         -8.369475e-01   \n",
            "75%                         6.912882e-01          9.925609e-01   \n",
            "max                         2.570728e+00          2.822069e+00   \n",
            "\n",
            "       el-salvador-aid  religious-groups-in-schools  anti-satellite-test-ban  \\\n",
            "count     4.350000e+02                 4.350000e+02             4.350000e+02   \n",
            "mean      2.348058e-16                -5.563876e-17            -7.860889e-17   \n",
            "std       1.001151e+00                 1.001151e+00             1.001151e+00   \n",
            "min      -9.899759e-01                -1.301548e+00            -1.117987e+00   \n",
            "25%      -9.899759e-01                -1.301548e+00            -1.117987e+00   \n",
            "50%       7.895262e-01                 6.242116e-01             7.034525e-01   \n",
            "75%       7.895262e-01                 6.242116e-01             7.034525e-01   \n",
            "max       2.569028e+00                 2.549971e+00             2.524892e+00   \n",
            "\n",
            "       aid-to-nicaraguan-contras    mx-missile   immigration  \\\n",
            "count               4.350000e+02  4.350000e+02  4.350000e+02   \n",
            "mean               -1.306745e-16  9.443276e-18  6.635816e-18   \n",
            "std                 1.001151e+00  1.001151e+00  1.001151e+00   \n",
            "min                -1.135445e+00 -9.820584e-01 -9.968018e-01   \n",
            "25%                -1.135445e+00 -9.820584e-01 -9.968018e-01   \n",
            "50%                 6.804318e-01  7.199154e-01  8.884538e-01   \n",
            "75%                 6.804318e-01  7.199154e-01  8.884538e-01   \n",
            "max                 2.496308e+00  2.421889e+00  2.773709e+00   \n",
            "\n",
            "       synfuels-corporation-cutback  education-spending  \\\n",
            "count                  4.350000e+02        4.350000e+02   \n",
            "mean                  -6.380592e-17       -4.134624e-17   \n",
            "std                    1.001151e+00        1.001151e+00   \n",
            "min                   -7.535150e-01       -8.563168e-01   \n",
            "25%                   -7.535150e-01       -8.563168e-01   \n",
            "50%                   -7.535150e-01       -8.563168e-01   \n",
            "75%                    9.536674e-01        7.423862e-01   \n",
            "max                    2.660850e+00        2.341089e+00   \n",
            "\n",
            "       superfund-right-to-sue         crime  duty-free-exports  \\\n",
            "count            4.350000e+02  4.350000e+02       4.350000e+02   \n",
            "mean             8.218203e-17  8.218203e-17       6.125368e-17   \n",
            "std              1.001151e+00  1.001151e+00       1.001151e+00   \n",
            "min             -9.981195e-01 -1.171588e+00      -8.600911e-01   \n",
            "25%             -9.981195e-01 -1.171588e+00      -8.600911e-01   \n",
            "50%              6.782588e-01  6.356487e-01      -8.600911e-01   \n",
            "75%              6.782588e-01  6.356487e-01       7.666029e-01   \n",
            "max              2.354637e+00  2.442885e+00       2.393297e+00   \n",
            "\n",
            "       export-administration-act-south-africa  Class-Name  \n",
            "count                            4.350000e+02  435.000000  \n",
            "mean                             6.125368e-17    0.613793  \n",
            "std                              1.001151e+00    0.487440  \n",
            "min                             -1.797174e+00    0.000000  \n",
            "25%                             -1.582418e-01    0.000000  \n",
            "50%                             -1.582418e-01    1.000000  \n",
            "75%                             -1.582418e-01    1.000000  \n",
            "max                              1.480691e+00    1.000000  \n",
            "   handicapped-infants  water-project-cost-sharing  \\\n",
            "0            -0.878374                    0.497844   \n",
            "1            -0.878374                    0.497844   \n",
            "2             2.743358                    0.497844   \n",
            "3            -0.878374                    0.497844   \n",
            "4             0.932492                    0.497844   \n",
            "5            -0.878374                    0.497844   \n",
            "6            -0.878374                    0.497844   \n",
            "7            -0.878374                    0.497844   \n",
            "8            -0.878374                    0.497844   \n",
            "9             0.932492                    0.497844   \n",
            "\n",
            "   adoption-of-the-budget-resolution  physician-fee-freeze  el-salvador-aid  \\\n",
            "0                          -1.188152              0.992561         0.789526   \n",
            "1                          -1.188152              0.992561         0.789526   \n",
            "2                           0.691288              2.822069         0.789526   \n",
            "3                           0.691288             -0.836948         2.569028   \n",
            "4                           0.691288             -0.836948         0.789526   \n",
            "5                           0.691288             -0.836948         0.789526   \n",
            "6                          -1.188152              0.992561         0.789526   \n",
            "7                          -1.188152              0.992561         0.789526   \n",
            "8                          -1.188152              0.992561         0.789526   \n",
            "9                           0.691288             -0.836948        -0.989976   \n",
            "\n",
            "   religious-groups-in-schools  anti-satellite-test-ban  \\\n",
            "0                     0.624212                -1.117987   \n",
            "1                     0.624212                -1.117987   \n",
            "2                     0.624212                -1.117987   \n",
            "3                     0.624212                -1.117987   \n",
            "4                     0.624212                -1.117987   \n",
            "5                     0.624212                -1.117987   \n",
            "6                     0.624212                -1.117987   \n",
            "7                     0.624212                -1.117987   \n",
            "8                     0.624212                -1.117987   \n",
            "9                    -1.301548                 0.703452   \n",
            "\n",
            "   aid-to-nicaraguan-contras  mx-missile  immigration  \\\n",
            "0                  -1.135445   -0.982058     0.888454   \n",
            "1                  -1.135445   -0.982058    -0.996802   \n",
            "2                  -1.135445   -0.982058    -0.996802   \n",
            "3                  -1.135445   -0.982058    -0.996802   \n",
            "4                  -1.135445   -0.982058    -0.996802   \n",
            "5                  -1.135445   -0.982058    -0.996802   \n",
            "6                  -1.135445   -0.982058    -0.996802   \n",
            "7                  -1.135445   -0.982058    -0.996802   \n",
            "8                  -1.135445   -0.982058    -0.996802   \n",
            "9                   0.680432    0.719915    -0.996802   \n",
            "\n",
            "   synfuels-corporation-cutback  education-spending  superfund-right-to-sue  \\\n",
            "0                      2.660850            0.742386                0.678259   \n",
            "1                     -0.753515            0.742386                0.678259   \n",
            "2                      0.953667           -0.856317                0.678259   \n",
            "3                      0.953667           -0.856317                0.678259   \n",
            "4                      0.953667            2.341089                0.678259   \n",
            "5                     -0.753515           -0.856317                0.678259   \n",
            "6                     -0.753515           -0.856317                2.354637   \n",
            "7                     -0.753515           -0.856317                0.678259   \n",
            "8                     -0.753515            0.742386                0.678259   \n",
            "9                     -0.753515           -0.856317               -0.998120   \n",
            "\n",
            "      crime  duty-free-exports  export-administration-act-south-africa  \\\n",
            "0  0.635649          -0.860091                               -0.158242   \n",
            "1  0.635649          -0.860091                                1.480691   \n",
            "2  0.635649          -0.860091                               -1.797174   \n",
            "3 -1.171588          -0.860091                               -0.158242   \n",
            "4  0.635649           0.766603                               -0.158242   \n",
            "5  0.635649           0.766603                               -0.158242   \n",
            "6  0.635649           0.766603                               -0.158242   \n",
            "7  0.635649           2.393297                               -0.158242   \n",
            "8  0.635649          -0.860091                               -0.158242   \n",
            "9 -1.171588           2.393297                                1.480691   \n",
            "\n",
            "   Class-Name  \n",
            "0           0  \n",
            "1           0  \n",
            "2           1  \n",
            "3           1  \n",
            "4           1  \n",
            "5           1  \n",
            "6           1  \n",
            "7           0  \n",
            "8           0  \n",
            "9           1  \n",
            "\n",
            "\n",
            "Explained variance per component:\n",
            "[0.35643630675778243, 0.10893091332919673, 0.0743430400223939, 0.05703759988210052, 0.05540122980727719, 0.05044278613083294, 0.046399283093841975, 0.03885728422725841, 0.03591809447379622, 0.033502535131968735, 0.03083521019592322, 0.027409204210219144, 0.023767675410887444, 0.021520755871874034, 0.02095064554300978, 0.01824743591163735]\n",
            "\n",
            "\n",
            "\n",
            "Dataframe PCA\n",
            "\n",
            "<class 'pandas.core.frame.DataFrame'>\n",
            "RangeIndex: 435 entries, 0 to 434\n",
            "Data columns (total 3 columns):\n",
            " #   Column                 Non-Null Count  Dtype  \n",
            "---  ------                 --------------  -----  \n",
            " 0   principal component 1  435 non-null    float64\n",
            " 1   principal component 2  435 non-null    float64\n",
            " 2   Class-Name             435 non-null    int64  \n",
            "dtypes: float64(2), int64(1)\n",
            "memory usage: 10.3 KB\n",
            "None\n",
            "       principal component 1  principal component 2  Class-Name\n",
            "count           4.350000e+02           4.350000e+02  435.000000\n",
            "mean            1.347581e-16           3.737432e-17    0.613793\n",
            "std             2.390841e+00           1.321707e+00    0.487440\n",
            "min            -4.009078e+00          -2.738510e+00    0.000000\n",
            "25%            -2.507803e+00          -7.866790e-01    0.000000\n",
            "50%             2.748720e-01          -2.203226e-01    1.000000\n",
            "75%             2.377036e+00           5.028350e-01    1.000000\n",
            "max             4.038426e+00           9.098139e+00    1.000000\n",
            "   principal component 1  principal component 2  Class-Name\n",
            "0              -2.918378               1.222478           0\n",
            "1              -2.772248              -0.088066           0\n",
            "2              -2.189854               0.629272           1\n",
            "3              -1.530818              -0.108316           1\n",
            "4              -1.535844               1.285629           1\n",
            "5              -1.189431              -0.384032           1\n",
            "6              -2.761679              -0.057980           1\n",
            "7              -1.961830              -0.211361           0\n",
            "8              -3.093520              -0.594292           0\n",
            "9               3.559092              -0.131562           1\n",
            "\n",
            "\n"
          ]
        },
        {
          "output_type": "display_data",
          "data": {
            "text/plain": [
              "<Figure size 576x576 with 1 Axes>"
            ],
            "image/png": "[encoded data removed]"
          },
          "metadata": {
            "needs_background": "light"
          }
        }
      ]
    },
    {
      "cell_type": "markdown",
      "source": [
        "Para normalização com min-max"
      ],
      "metadata": {
        "id": "0JfSMwnrWgJW"
      }
    },
    {
      "cell_type": "code",
      "source": [
        "input_file = '/content/house-votes-min-max.data'\n",
        "names = ['handicapped-infants','water-project-cost-sharing','adoption-of-the-budget-resolution','physician-fee-freeze','el-salvador-aid',\n",
        "          'religious-groups-in-schools','anti-satellite-test-ban','aid-to-nicaraguan-contras','mx-missile','immigration','synfuels-corporation-cutback','education-spending',\n",
        "          'superfund-right-to-sue','crime','duty-free-exports','export-administration-act-south-africa','Class-Name']\n",
        "features = ['handicapped-infants','water-project-cost-sharing','adoption-of-the-budget-resolution','physician-fee-freeze','el-salvador-aid',\n",
        "          'religious-groups-in-schools','anti-satellite-test-ban','aid-to-nicaraguan-contras','mx-missile','immigration','synfuels-corporation-cutback','education-spending',\n",
        "          'superfund-right-to-sue','crime','duty-free-exports','export-administration-act-south-africa']\n",
        "target = 'Class-Name'\n",
        "df = pd.read_csv(input_file,    # Nome do arquivo com dados\n",
        "                 names = names) # Nome das colunas"
      ],
      "metadata": {
        "id": "jtZ6PmFvUMK1"
      },
      "execution_count": 55,
      "outputs": []
    },
    {
      "cell_type": "code",
      "source": [
        "x = df.loc[:, features].values\n",
        "y = df.loc[:,[target]].values"
      ],
      "metadata": {
        "id": "7dzwODO3WDJh"
      },
      "execution_count": 56,
      "outputs": []
    },
    {
      "cell_type": "code",
      "source": [
        "# Standardizing the features\n",
        "x = StandardScaler().fit_transform(x)\n",
        "normalizedDf = pd.DataFrame(data = x, columns = features)\n",
        "normalizedDf = pd.concat([normalizedDf, df[[target]]], axis = 1)\n",
        "ShowInformationDataFrame(normalizedDf,\"Dataframe Normalized\")\n",
        "\n",
        "\n",
        "def VisualizePcaProjection(finalDf, targetColumn):\n",
        "  fig = plt.figure(figsize = (8,8))\n",
        "  ax = fig.add_subplot(1,1,1) \n",
        "  ax.set_xlabel('Principal Component 1', fontsize = 15)\n",
        "  ax.set_ylabel('Principal Component 2', fontsize = 15)\n",
        "  ax.set_title('2 component PCA', fontsize = 20)\n",
        "  targets = [0, 1, ]\n",
        "  colors = ['r', 'g']\n",
        "  for target, color in zip(targets,colors):\n",
        "    indicesToKeep = finalDf[targetColumn] == target\n",
        "    ax.scatter(finalDf.loc[indicesToKeep, 'principal component 1'],\n",
        "                finalDf.loc[indicesToKeep, 'principal component 2'],\n",
        "                c = color, s = 50)\n",
        "  ax.legend(targets)\n",
        "  ax.grid()\n",
        "  plt.show()\n",
        "\n",
        "\n",
        "# PCA projection\n",
        "pca = PCA()    \n",
        "principalComponents = pca.fit_transform(x)\n",
        "print(\"Explained variance per component:\")\n",
        "print(pca.explained_variance_ratio_.tolist())\n",
        "print(\"\\n\\n\")\n",
        "\n",
        "principalDf = pd.DataFrame(data = principalComponents[:,0:2], \n",
        "                            columns = ['principal component 1', \n",
        "                                      'principal component 2'])\n",
        "finalDf = pd.concat([principalDf, df[[target]]], axis = 1)    \n",
        "ShowInformationDataFrame(finalDf,\"Dataframe PCA\")\n",
        "\n",
        "VisualizePcaProjection(finalDf, target)\n",
        "\n"
      ],
      "metadata": {
        "id": "Nmb_q-oeSlcZ",
        "colab": {
          "base_uri": "https://localhost:8080/",
          "height": 1000
        },
        "outputId": "d3ff1667-0cfe-4eb0-aa95-516c0b327827"
      },
      "execution_count": 57,
      "outputs": [
        {
          "output_type": "stream",
          "name": "stdout",
          "text": [
            "Dataframe Normalized\n",
            "\n",
            "<class 'pandas.core.frame.DataFrame'>\n",
            "RangeIndex: 435 entries, 0 to 434\n",
            "Data columns (total 17 columns):\n",
            " #   Column                                  Non-Null Count  Dtype  \n",
            "---  ------                                  --------------  -----  \n",
            " 0   handicapped-infants                     435 non-null    float64\n",
            " 1   water-project-cost-sharing              435 non-null    float64\n",
            " 2   adoption-of-the-budget-resolution       435 non-null    float64\n",
            " 3   physician-fee-freeze                    435 non-null    float64\n",
            " 4   el-salvador-aid                         435 non-null    float64\n",
            " 5   religious-groups-in-schools             435 non-null    float64\n",
            " 6   anti-satellite-test-ban                 435 non-null    float64\n",
            " 7   aid-to-nicaraguan-contras               435 non-null    float64\n",
            " 8   mx-missile                              435 non-null    float64\n",
            " 9   immigration                             435 non-null    float64\n",
            " 10  synfuels-corporation-cutback            435 non-null    float64\n",
            " 11  education-spending                      435 non-null    float64\n",
            " 12  superfund-right-to-sue                  435 non-null    float64\n",
            " 13  crime                                   435 non-null    float64\n",
            " 14  duty-free-exports                       435 non-null    float64\n",
            " 15  export-administration-act-south-africa  435 non-null    float64\n",
            " 16  Class-Name                              435 non-null    int64  \n",
            "dtypes: float64(16), int64(1)\n",
            "memory usage: 57.9 KB\n",
            "None\n",
            "       handicapped-infants  water-project-cost-sharing  \\\n",
            "count         4.350000e+02                4.350000e+02   \n",
            "mean          7.095218e-17                4.058057e-17   \n",
            "std           1.001151e+00                1.001151e+00   \n",
            "min          -8.783740e-01               -1.006060e+00   \n",
            "25%          -8.783740e-01               -1.006060e+00   \n",
            "50%          -8.783740e-01                4.978439e-01   \n",
            "75%           9.324919e-01                4.978439e-01   \n",
            "max           2.743358e+00                2.001747e+00   \n",
            "\n",
            "       adoption-of-the-budget-resolution  physician-fee-freeze  \\\n",
            "count                       4.350000e+02          4.350000e+02   \n",
            "mean                       -1.092357e-16          1.995849e-16   \n",
            "std                         1.001151e+00          1.001151e+00   \n",
            "min                        -1.188152e+00         -8.369475e-01   \n",
            "25%                        -1.188152e+00         -8.369475e-01   \n",
            "50%                         6.912882e-01         -8.369475e-01   \n",
            "75%                         6.912882e-01          9.925609e-01   \n",
            "max                         2.570728e+00          2.822069e+00   \n",
            "\n",
            "       el-salvador-aid  religious-groups-in-schools  anti-satellite-test-ban  \\\n",
            "count     4.350000e+02                 4.350000e+02             4.350000e+02   \n",
            "mean      2.348058e-16                -5.563876e-17            -7.860889e-17   \n",
            "std       1.001151e+00                 1.001151e+00             1.001151e+00   \n",
            "min      -9.899759e-01                -1.301548e+00            -1.117987e+00   \n",
            "25%      -9.899759e-01                -1.301548e+00            -1.117987e+00   \n",
            "50%       7.895262e-01                 6.242116e-01             7.034525e-01   \n",
            "75%       7.895262e-01                 6.242116e-01             7.034525e-01   \n",
            "max       2.569028e+00                 2.549971e+00             2.524892e+00   \n",
            "\n",
            "       aid-to-nicaraguan-contras    mx-missile   immigration  \\\n",
            "count               4.350000e+02  4.350000e+02  4.350000e+02   \n",
            "mean               -1.306745e-16  9.443276e-18  6.635816e-18   \n",
            "std                 1.001151e+00  1.001151e+00  1.001151e+00   \n",
            "min                -1.135445e+00 -9.820584e-01 -9.968018e-01   \n",
            "25%                -1.135445e+00 -9.820584e-01 -9.968018e-01   \n",
            "50%                 6.804318e-01  7.199154e-01  8.884538e-01   \n",
            "75%                 6.804318e-01  7.199154e-01  8.884538e-01   \n",
            "max                 2.496308e+00  2.421889e+00  2.773709e+00   \n",
            "\n",
            "       synfuels-corporation-cutback  education-spending  \\\n",
            "count                  4.350000e+02        4.350000e+02   \n",
            "mean                  -6.380592e-17       -4.134624e-17   \n",
            "std                    1.001151e+00        1.001151e+00   \n",
            "min                   -7.535150e-01       -8.563168e-01   \n",
            "25%                   -7.535150e-01       -8.563168e-01   \n",
            "50%                   -7.535150e-01       -8.563168e-01   \n",
            "75%                    9.536674e-01        7.423862e-01   \n",
            "max                    2.660850e+00        2.341089e+00   \n",
            "\n",
            "       superfund-right-to-sue         crime  duty-free-exports  \\\n",
            "count            4.350000e+02  4.350000e+02       4.350000e+02   \n",
            "mean             8.218203e-17  8.218203e-17       6.125368e-17   \n",
            "std              1.001151e+00  1.001151e+00       1.001151e+00   \n",
            "min             -9.981195e-01 -1.171588e+00      -8.600911e-01   \n",
            "25%             -9.981195e-01 -1.171588e+00      -8.600911e-01   \n",
            "50%              6.782588e-01  6.356487e-01      -8.600911e-01   \n",
            "75%              6.782588e-01  6.356487e-01       7.666029e-01   \n",
            "max              2.354637e+00  2.442885e+00       2.393297e+00   \n",
            "\n",
            "       export-administration-act-south-africa  Class-Name  \n",
            "count                            4.350000e+02  435.000000  \n",
            "mean                             6.125368e-17    0.613793  \n",
            "std                              1.001151e+00    0.487440  \n",
            "min                             -1.797174e+00    0.000000  \n",
            "25%                             -1.582418e-01    0.000000  \n",
            "50%                             -1.582418e-01    1.000000  \n",
            "75%                             -1.582418e-01    1.000000  \n",
            "max                              1.480691e+00    1.000000  \n",
            "   handicapped-infants  water-project-cost-sharing  \\\n",
            "0            -0.878374                    0.497844   \n",
            "1            -0.878374                    0.497844   \n",
            "2             2.743358                    0.497844   \n",
            "3            -0.878374                    0.497844   \n",
            "4             0.932492                    0.497844   \n",
            "5            -0.878374                    0.497844   \n",
            "6            -0.878374                    0.497844   \n",
            "7            -0.878374                    0.497844   \n",
            "8            -0.878374                    0.497844   \n",
            "9             0.932492                    0.497844   \n",
            "\n",
            "   adoption-of-the-budget-resolution  physician-fee-freeze  el-salvador-aid  \\\n",
            "0                          -1.188152              0.992561         0.789526   \n",
            "1                          -1.188152              0.992561         0.789526   \n",
            "2                           0.691288              2.822069         0.789526   \n",
            "3                           0.691288             -0.836948         2.569028   \n",
            "4                           0.691288             -0.836948         0.789526   \n",
            "5                           0.691288             -0.836948         0.789526   \n",
            "6                          -1.188152              0.992561         0.789526   \n",
            "7                          -1.188152              0.992561         0.789526   \n",
            "8                          -1.188152              0.992561         0.789526   \n",
            "9                           0.691288             -0.836948        -0.989976   \n",
            "\n",
            "   religious-groups-in-schools  anti-satellite-test-ban  \\\n",
            "0                     0.624212                -1.117987   \n",
            "1                     0.624212                -1.117987   \n",
            "2                     0.624212                -1.117987   \n",
            "3                     0.624212                -1.117987   \n",
            "4                     0.624212                -1.117987   \n",
            "5                     0.624212                -1.117987   \n",
            "6                     0.624212                -1.117987   \n",
            "7                     0.624212                -1.117987   \n",
            "8                     0.624212                -1.117987   \n",
            "9                    -1.301548                 0.703452   \n",
            "\n",
            "   aid-to-nicaraguan-contras  mx-missile  immigration  \\\n",
            "0                  -1.135445   -0.982058     0.888454   \n",
            "1                  -1.135445   -0.982058    -0.996802   \n",
            "2                  -1.135445   -0.982058    -0.996802   \n",
            "3                  -1.135445   -0.982058    -0.996802   \n",
            "4                  -1.135445   -0.982058    -0.996802   \n",
            "5                  -1.135445   -0.982058    -0.996802   \n",
            "6                  -1.135445   -0.982058    -0.996802   \n",
            "7                  -1.135445   -0.982058    -0.996802   \n",
            "8                  -1.135445   -0.982058    -0.996802   \n",
            "9                   0.680432    0.719915    -0.996802   \n",
            "\n",
            "   synfuels-corporation-cutback  education-spending  superfund-right-to-sue  \\\n",
            "0                      2.660850            0.742386                0.678259   \n",
            "1                     -0.753515            0.742386                0.678259   \n",
            "2                      0.953667           -0.856317                0.678259   \n",
            "3                      0.953667           -0.856317                0.678259   \n",
            "4                      0.953667            2.341089                0.678259   \n",
            "5                     -0.753515           -0.856317                0.678259   \n",
            "6                     -0.753515           -0.856317                2.354637   \n",
            "7                     -0.753515           -0.856317                0.678259   \n",
            "8                     -0.753515            0.742386                0.678259   \n",
            "9                     -0.753515           -0.856317               -0.998120   \n",
            "\n",
            "      crime  duty-free-exports  export-administration-act-south-africa  \\\n",
            "0  0.635649          -0.860091                               -0.158242   \n",
            "1  0.635649          -0.860091                                1.480691   \n",
            "2  0.635649          -0.860091                               -1.797174   \n",
            "3 -1.171588          -0.860091                               -0.158242   \n",
            "4  0.635649           0.766603                               -0.158242   \n",
            "5  0.635649           0.766603                               -0.158242   \n",
            "6  0.635649           0.766603                               -0.158242   \n",
            "7  0.635649           2.393297                               -0.158242   \n",
            "8  0.635649          -0.860091                               -0.158242   \n",
            "9 -1.171588           2.393297                                1.480691   \n",
            "\n",
            "   Class-Name  \n",
            "0           0  \n",
            "1           0  \n",
            "2           1  \n",
            "3           1  \n",
            "4           1  \n",
            "5           1  \n",
            "6           1  \n",
            "7           0  \n",
            "8           0  \n",
            "9           1  \n",
            "\n",
            "\n",
            "Explained variance per component:\n",
            "[0.35643630675778243, 0.10893091332919673, 0.0743430400223939, 0.05703759988210052, 0.05540122980727719, 0.05044278613083294, 0.046399283093841975, 0.03885728422725841, 0.03591809447379622, 0.033502535131968735, 0.03083521019592322, 0.027409204210219144, 0.023767675410887444, 0.021520755871874034, 0.02095064554300978, 0.01824743591163735]\n",
            "\n",
            "\n",
            "\n",
            "Dataframe PCA\n",
            "\n",
            "<class 'pandas.core.frame.DataFrame'>\n",
            "RangeIndex: 435 entries, 0 to 434\n",
            "Data columns (total 3 columns):\n",
            " #   Column                 Non-Null Count  Dtype  \n",
            "---  ------                 --------------  -----  \n",
            " 0   principal component 1  435 non-null    float64\n",
            " 1   principal component 2  435 non-null    float64\n",
            " 2   Class-Name             435 non-null    int64  \n",
            "dtypes: float64(2), int64(1)\n",
            "memory usage: 10.3 KB\n",
            "None\n",
            "       principal component 1  principal component 2  Class-Name\n",
            "count           4.350000e+02           4.350000e+02  435.000000\n",
            "mean            1.347581e-16           3.737432e-17    0.613793\n",
            "std             2.390841e+00           1.321707e+00    0.487440\n",
            "min            -4.009078e+00          -2.738510e+00    0.000000\n",
            "25%            -2.507803e+00          -7.866790e-01    0.000000\n",
            "50%             2.748720e-01          -2.203226e-01    1.000000\n",
            "75%             2.377036e+00           5.028350e-01    1.000000\n",
            "max             4.038426e+00           9.098139e+00    1.000000\n",
            "   principal component 1  principal component 2  Class-Name\n",
            "0              -2.918378               1.222478           0\n",
            "1              -2.772248              -0.088066           0\n",
            "2              -2.189854               0.629272           1\n",
            "3              -1.530818              -0.108316           1\n",
            "4              -1.535844               1.285629           1\n",
            "5              -1.189431              -0.384032           1\n",
            "6              -2.761679              -0.057980           1\n",
            "7              -1.961830              -0.211361           0\n",
            "8              -3.093520              -0.594292           0\n",
            "9               3.559092              -0.131562           1\n",
            "\n",
            "\n"
          ]
        },
        {
          "output_type": "display_data",
          "data": {
            "text/plain": [
              "<Figure size 576x576 with 1 Axes>"
            ],
            "image/png": "[encoded data removed]"
          },
          "metadata": {
            "needs_background": "light"
          }
        }
      ]
    },
    {
      "cell_type": "markdown",
      "source": [
        "Para normalização com z-score"
      ],
      "metadata": {
        "id": "RoetuOadWjpn"
      }
    },
    {
      "cell_type": "code",
      "source": [
        "input_file = '/content/house-votes-z-score.data'\n",
        "names = ['handicapped-infants','water-project-cost-sharing','adoption-of-the-budget-resolution','physician-fee-freeze','el-salvador-aid',\n",
        "          'religious-groups-in-schools','anti-satellite-test-ban','aid-to-nicaraguan-contras','mx-missile','immigration','synfuels-corporation-cutback','education-spending',\n",
        "          'superfund-right-to-sue','crime','duty-free-exports','export-administration-act-south-africa','Class-Name']\n",
        "features = ['handicapped-infants','water-project-cost-sharing','adoption-of-the-budget-resolution','physician-fee-freeze','el-salvador-aid',\n",
        "          'religious-groups-in-schools','anti-satellite-test-ban','aid-to-nicaraguan-contras','mx-missile','immigration','synfuels-corporation-cutback','education-spending',\n",
        "          'superfund-right-to-sue','crime','duty-free-exports','export-administration-act-south-africa']\n",
        "target = 'Class-Name'\n",
        "df = pd.read_csv(input_file,    # Nome do arquivo com dados\n",
        "                 names = names) # Nome das colunas"
      ],
      "metadata": {
        "id": "peSXkAyFV7UT"
      },
      "execution_count": 58,
      "outputs": []
    },
    {
      "cell_type": "code",
      "source": [
        "x = df.loc[:, features].values\n",
        "y = df.loc[:,[target]].values"
      ],
      "metadata": {
        "id": "wUbu82zvWMxm"
      },
      "execution_count": 59,
      "outputs": []
    },
    {
      "cell_type": "code",
      "source": [
        "# Standardizing the features\n",
        "x = StandardScaler().fit_transform(x)\n",
        "normalizedDf = pd.DataFrame(data = x, columns = features)\n",
        "normalizedDf = pd.concat([normalizedDf, df[[target]]], axis = 1)\n",
        "ShowInformationDataFrame(normalizedDf,\"Dataframe Normalized\")\n",
        "\n",
        "\n",
        "def VisualizePcaProjection(finalDf, targetColumn):\n",
        "  fig = plt.figure(figsize = (8,8))\n",
        "  ax = fig.add_subplot(1,1,1) \n",
        "  ax.set_xlabel('Principal Component 1', fontsize = 15)\n",
        "  ax.set_ylabel('Principal Component 2', fontsize = 15)\n",
        "  ax.set_title('2 component PCA', fontsize = 20)\n",
        "  targets = [0, 1, ]\n",
        "  colors = ['r', 'g']\n",
        "  for target, color in zip(targets,colors):\n",
        "    indicesToKeep = finalDf[targetColumn] == target\n",
        "    ax.scatter(finalDf.loc[indicesToKeep, 'principal component 1'],\n",
        "                finalDf.loc[indicesToKeep, 'principal component 2'],\n",
        "                c = color, s = 50)\n",
        "  ax.legend(targets)\n",
        "  ax.grid()\n",
        "  plt.show()\n",
        "\n",
        "\n",
        "# PCA projection\n",
        "pca = PCA()    \n",
        "principalComponents = pca.fit_transform(x)\n",
        "print(\"Explained variance per component:\")\n",
        "print(pca.explained_variance_ratio_.tolist())\n",
        "print(\"\\n\\n\")\n",
        "\n",
        "principalDf = pd.DataFrame(data = principalComponents[:,0:2], \n",
        "                            columns = ['principal component 1', \n",
        "                                      'principal component 2'])\n",
        "finalDf = pd.concat([principalDf, df[[target]]], axis = 1)    \n",
        "ShowInformationDataFrame(finalDf,\"Dataframe PCA\")\n",
        "\n",
        "VisualizePcaProjection(finalDf, target)\n",
        "\n"
      ],
      "metadata": {
        "id": "PeR9N0BsWKyx",
        "outputId": "f4162a06-b8eb-4915-9643-e8e624752a9e",
        "colab": {
          "base_uri": "https://localhost:8080/",
          "height": 1000
        }
      },
      "execution_count": 60,
      "outputs": [
        {
          "output_type": "stream",
          "name": "stdout",
          "text": [
            "Dataframe Normalized\n",
            "\n",
            "<class 'pandas.core.frame.DataFrame'>\n",
            "RangeIndex: 435 entries, 0 to 434\n",
            "Data columns (total 17 columns):\n",
            " #   Column                                  Non-Null Count  Dtype  \n",
            "---  ------                                  --------------  -----  \n",
            " 0   handicapped-infants                     435 non-null    float64\n",
            " 1   water-project-cost-sharing              435 non-null    float64\n",
            " 2   adoption-of-the-budget-resolution       435 non-null    float64\n",
            " 3   physician-fee-freeze                    435 non-null    float64\n",
            " 4   el-salvador-aid                         435 non-null    float64\n",
            " 5   religious-groups-in-schools             435 non-null    float64\n",
            " 6   anti-satellite-test-ban                 435 non-null    float64\n",
            " 7   aid-to-nicaraguan-contras               435 non-null    float64\n",
            " 8   mx-missile                              435 non-null    float64\n",
            " 9   immigration                             435 non-null    float64\n",
            " 10  synfuels-corporation-cutback            435 non-null    float64\n",
            " 11  education-spending                      435 non-null    float64\n",
            " 12  superfund-right-to-sue                  435 non-null    float64\n",
            " 13  crime                                   435 non-null    float64\n",
            " 14  duty-free-exports                       435 non-null    float64\n",
            " 15  export-administration-act-south-africa  435 non-null    float64\n",
            " 16  Class-Name                              435 non-null    int64  \n",
            "dtypes: float64(16), int64(1)\n",
            "memory usage: 57.9 KB\n",
            "None\n",
            "       handicapped-infants  water-project-cost-sharing  \\\n",
            "count         4.350000e+02                4.350000e+02   \n",
            "mean          1.107671e-16                4.058057e-17   \n",
            "std           1.001151e+00                1.001151e+00   \n",
            "min          -8.783740e-01               -1.006060e+00   \n",
            "25%          -8.783740e-01               -1.006060e+00   \n",
            "50%          -8.783740e-01                4.978439e-01   \n",
            "75%           9.324919e-01                4.978439e-01   \n",
            "max           2.743358e+00                2.001747e+00   \n",
            "\n",
            "       adoption-of-the-budget-resolution  physician-fee-freeze  \\\n",
            "count                       4.350000e+02          4.350000e+02   \n",
            "mean                       -6.839995e-17          1.995849e-16   \n",
            "std                         1.001151e+00          1.001151e+00   \n",
            "min                        -1.188152e+00         -8.369475e-01   \n",
            "25%                        -1.188152e+00         -8.369475e-01   \n",
            "50%                         6.912882e-01         -8.369475e-01   \n",
            "75%                         6.912882e-01          9.925609e-01   \n",
            "max                         2.570728e+00          2.822069e+00   \n",
            "\n",
            "       el-salvador-aid  religious-groups-in-schools  anti-satellite-test-ban  \\\n",
            "count     4.350000e+02                 4.350000e+02             4.350000e+02   \n",
            "mean      2.159192e-16                -5.768055e-17            -7.860889e-17   \n",
            "std       1.001151e+00                 1.001151e+00             1.001151e+00   \n",
            "min      -9.899759e-01                -1.301548e+00            -1.117987e+00   \n",
            "25%      -9.899759e-01                -1.301548e+00            -1.117987e+00   \n",
            "50%       7.895262e-01                 6.242116e-01             7.034525e-01   \n",
            "75%       7.895262e-01                 6.242116e-01             7.034525e-01   \n",
            "max       2.569028e+00                 2.549971e+00             2.524892e+00   \n",
            "\n",
            "       aid-to-nicaraguan-contras    mx-missile   immigration  \\\n",
            "count               4.350000e+02  4.350000e+02  4.350000e+02   \n",
            "mean               -1.306745e-16 -1.174029e-17  2.544580e-16   \n",
            "std                 1.001151e+00  1.001151e+00  1.001151e+00   \n",
            "min                -1.135445e+00 -9.820584e-01 -9.968018e-01   \n",
            "25%                -1.135445e+00 -9.820584e-01 -9.968018e-01   \n",
            "50%                 6.804318e-01  7.199154e-01  8.884538e-01   \n",
            "75%                 6.804318e-01  7.199154e-01  8.884538e-01   \n",
            "max                 2.496308e+00  2.421889e+00  2.773709e+00   \n",
            "\n",
            "       synfuels-corporation-cutback  education-spending  \\\n",
            "count                  4.350000e+02        4.350000e+02   \n",
            "mean                  -7.401487e-17       -4.134624e-17   \n",
            "std                    1.001151e+00        1.001151e+00   \n",
            "min                   -7.535150e-01       -8.563168e-01   \n",
            "25%                   -7.535150e-01       -8.563168e-01   \n",
            "50%                   -7.535150e-01       -8.563168e-01   \n",
            "75%                    9.536674e-01        7.423862e-01   \n",
            "max                    2.660850e+00        2.341089e+00   \n",
            "\n",
            "       superfund-right-to-sue         crime  duty-free-exports  \\\n",
            "count            4.350000e+02  4.350000e+02       4.350000e+02   \n",
            "mean             6.074324e-17 -2.041789e-18       7.860889e-17   \n",
            "std              1.001151e+00  1.001151e+00       1.001151e+00   \n",
            "min             -9.981195e-01 -1.171588e+00      -8.600911e-01   \n",
            "25%             -9.981195e-01 -1.171588e+00      -8.600911e-01   \n",
            "50%              6.782588e-01  6.356487e-01      -8.600911e-01   \n",
            "75%              6.782588e-01  6.356487e-01       7.666029e-01   \n",
            "max              2.354637e+00  2.442885e+00       2.393297e+00   \n",
            "\n",
            "       export-administration-act-south-africa  Class-Name  \n",
            "count                            4.350000e+02  435.000000  \n",
            "mean                             1.720208e-16    0.613793  \n",
            "std                              1.001151e+00    0.487440  \n",
            "min                             -1.797174e+00    0.000000  \n",
            "25%                             -1.582418e-01    0.000000  \n",
            "50%                             -1.582418e-01    1.000000  \n",
            "75%                             -1.582418e-01    1.000000  \n",
            "max                              1.480691e+00    1.000000  \n",
            "   handicapped-infants  water-project-cost-sharing  \\\n",
            "0            -0.878374                    0.497844   \n",
            "1            -0.878374                    0.497844   \n",
            "2             2.743358                    0.497844   \n",
            "3            -0.878374                    0.497844   \n",
            "4             0.932492                    0.497844   \n",
            "5            -0.878374                    0.497844   \n",
            "6            -0.878374                    0.497844   \n",
            "7            -0.878374                    0.497844   \n",
            "8            -0.878374                    0.497844   \n",
            "9             0.932492                    0.497844   \n",
            "\n",
            "   adoption-of-the-budget-resolution  physician-fee-freeze  el-salvador-aid  \\\n",
            "0                          -1.188152              0.992561         0.789526   \n",
            "1                          -1.188152              0.992561         0.789526   \n",
            "2                           0.691288              2.822069         0.789526   \n",
            "3                           0.691288             -0.836948         2.569028   \n",
            "4                           0.691288             -0.836948         0.789526   \n",
            "5                           0.691288             -0.836948         0.789526   \n",
            "6                          -1.188152              0.992561         0.789526   \n",
            "7                          -1.188152              0.992561         0.789526   \n",
            "8                          -1.188152              0.992561         0.789526   \n",
            "9                           0.691288             -0.836948        -0.989976   \n",
            "\n",
            "   religious-groups-in-schools  anti-satellite-test-ban  \\\n",
            "0                     0.624212                -1.117987   \n",
            "1                     0.624212                -1.117987   \n",
            "2                     0.624212                -1.117987   \n",
            "3                     0.624212                -1.117987   \n",
            "4                     0.624212                -1.117987   \n",
            "5                     0.624212                -1.117987   \n",
            "6                     0.624212                -1.117987   \n",
            "7                     0.624212                -1.117987   \n",
            "8                     0.624212                -1.117987   \n",
            "9                    -1.301548                 0.703452   \n",
            "\n",
            "   aid-to-nicaraguan-contras  mx-missile  immigration  \\\n",
            "0                  -1.135445   -0.982058     0.888454   \n",
            "1                  -1.135445   -0.982058    -0.996802   \n",
            "2                  -1.135445   -0.982058    -0.996802   \n",
            "3                  -1.135445   -0.982058    -0.996802   \n",
            "4                  -1.135445   -0.982058    -0.996802   \n",
            "5                  -1.135445   -0.982058    -0.996802   \n",
            "6                  -1.135445   -0.982058    -0.996802   \n",
            "7                  -1.135445   -0.982058    -0.996802   \n",
            "8                  -1.135445   -0.982058    -0.996802   \n",
            "9                   0.680432    0.719915    -0.996802   \n",
            "\n",
            "   synfuels-corporation-cutback  education-spending  superfund-right-to-sue  \\\n",
            "0                      2.660850            0.742386                0.678259   \n",
            "1                     -0.753515            0.742386                0.678259   \n",
            "2                      0.953667           -0.856317                0.678259   \n",
            "3                      0.953667           -0.856317                0.678259   \n",
            "4                      0.953667            2.341089                0.678259   \n",
            "5                     -0.753515           -0.856317                0.678259   \n",
            "6                     -0.753515           -0.856317                2.354637   \n",
            "7                     -0.753515           -0.856317                0.678259   \n",
            "8                     -0.753515            0.742386                0.678259   \n",
            "9                     -0.753515           -0.856317               -0.998120   \n",
            "\n",
            "      crime  duty-free-exports  export-administration-act-south-africa  \\\n",
            "0  0.635649          -0.860091                               -0.158242   \n",
            "1  0.635649          -0.860091                                1.480691   \n",
            "2  0.635649          -0.860091                               -1.797174   \n",
            "3 -1.171588          -0.860091                               -0.158242   \n",
            "4  0.635649           0.766603                               -0.158242   \n",
            "5  0.635649           0.766603                               -0.158242   \n",
            "6  0.635649           0.766603                               -0.158242   \n",
            "7  0.635649           2.393297                               -0.158242   \n",
            "8  0.635649          -0.860091                               -0.158242   \n",
            "9 -1.171588           2.393297                                1.480691   \n",
            "\n",
            "   Class-Name  \n",
            "0           0  \n",
            "1           0  \n",
            "2           1  \n",
            "3           1  \n",
            "4           1  \n",
            "5           1  \n",
            "6           1  \n",
            "7           0  \n",
            "8           0  \n",
            "9           1  \n",
            "\n",
            "\n",
            "Explained variance per component:\n",
            "[0.3564363067577825, 0.10893091332919666, 0.07434304002239396, 0.057037599882100526, 0.05540122980727712, 0.05044278613083291, 0.046399283093842, 0.038857284227258426, 0.03591809447379625, 0.03350253513196873, 0.03083521019592327, 0.027409204210219126, 0.023767675410887482, 0.021520755871874023, 0.020950645543009787, 0.01824743591163736]\n",
            "\n",
            "\n",
            "\n",
            "Dataframe PCA\n",
            "\n",
            "<class 'pandas.core.frame.DataFrame'>\n",
            "RangeIndex: 435 entries, 0 to 434\n",
            "Data columns (total 3 columns):\n",
            " #   Column                 Non-Null Count  Dtype  \n",
            "---  ------                 --------------  -----  \n",
            " 0   principal component 1  435 non-null    float64\n",
            " 1   principal component 2  435 non-null    float64\n",
            " 2   Class-Name             435 non-null    int64  \n",
            "dtypes: float64(2), int64(1)\n",
            "memory usage: 10.3 KB\n",
            "None\n",
            "       principal component 1  principal component 2  Class-Name\n",
            "count           4.350000e+02           4.350000e+02  435.000000\n",
            "mean            1.429253e-16          -8.787670e-17    0.613793\n",
            "std             2.390841e+00           1.321707e+00    0.487440\n",
            "min            -4.009078e+00          -2.738510e+00    0.000000\n",
            "25%            -2.507803e+00          -7.866790e-01    0.000000\n",
            "50%             2.748720e-01          -2.203226e-01    1.000000\n",
            "75%             2.377036e+00           5.028350e-01    1.000000\n",
            "max             4.038426e+00           9.098139e+00    1.000000\n",
            "   principal component 1  principal component 2  Class-Name\n",
            "0              -2.918378               1.222478           0\n",
            "1              -2.772248              -0.088066           0\n",
            "2              -2.189854               0.629272           1\n",
            "3              -1.530818              -0.108316           1\n",
            "4              -1.535844               1.285629           1\n",
            "5              -1.189431              -0.384032           1\n",
            "6              -2.761679              -0.057980           1\n",
            "7              -1.961830              -0.211361           0\n",
            "8              -3.093520              -0.594292           0\n",
            "9               3.559092              -0.131562           1\n",
            "\n",
            "\n"
          ]
        },
        {
          "output_type": "display_data",
          "data": {
            "text/plain": [
              "<Figure size 576x576 with 1 Axes>"
            ],
            "image/png": "[encoded data removed]"
          },
          "metadata": {
            "needs_background": "light"
          }
        }
      ]
    },
    {
      "cell_type": "markdown",
      "source": [
        "Observando o PCA dos 3 casos, podemos notar que são idênticos, devido ao fato da base de dados já estar normalizada, por se tratar de 3 valores inteiros (0 -contra, 1- a favor e 2- absteve).\n",
        "\n",
        "Também é possível notar uma separação entre 0 (vermelho/republicanos) e 1 (verde/ democratas) a partir do componente 1, sendo a maioria dos vermelhos com valores negativos e a maioria dos verdes com valores positivos."
      ],
      "metadata": {
        "id": "BYI1db1ct8x2"
      }
    },
    {
      "cell_type": "markdown",
      "source": [
        "#Atividade 3 - Análise Descritiva - Visualização dos Dados\n"
      ],
      "metadata": {
        "id": "9o_qjj3rWwRR"
      }
    },
    {
      "cell_type": "markdown",
      "source": [
        "O gráfico que melhor representa o conjunto de dados é o Gráfico de Setores. \n",
        "Foram construídos 3 gráficos (total de votos dos democratas, total de votos dos republicanos e total de votos no geral) para cada atributo (pauta)."
      ],
      "metadata": {
        "id": "nyROSoC_bG5v"
      }
    },
    {
      "cell_type": "markdown",
      "source": [
        "### Código"
      ],
      "metadata": {
        "id": "CNcKjDdDb1LH"
      }
    },
    {
      "cell_type": "code",
      "source": [
        "import matplotlib.pyplot as plt"
      ],
      "metadata": {
        "id": "X8XbE7aDcV33"
      },
      "execution_count": 61,
      "outputs": []
    },
    {
      "cell_type": "code",
      "source": [
        "input_file = '/content/house-votes-84-abstencao.data'\n",
        "names = ['Class-Name','handicapped-infants','water-project-cost-sharing','adoption-of-the-budget-resolution','physician-fee-freeze','el-salvador-aid',\n",
        "          'religious-groups-in-schools','anti-satellite-test-ban','aid-to-nicaraguan-contras','mx-missile','immigration','synfuels-corporation-cutback','education-spending',\n",
        "          'superfund-right-to-sue','crime','duty-free-exports','export-administration-act-south-africa']\n",
        "features = ['handicapped-infants','water-project-cost-sharing','adoption-of-the-budget-resolution','physician-fee-freeze','el-salvador-aid',\n",
        "          'religious-groups-in-schools','anti-satellite-test-ban','aid-to-nicaraguan-contras','mx-missile','immigration','synfuels-corporation-cutback','education-spending',\n",
        "          'superfund-right-to-sue','crime','duty-free-exports','export-administration-act-south-africa']\n",
        "target = 'Class-Name'\n",
        "df = pd.read_csv(input_file,    # Nome do arquivo com dados\n",
        "                 names = names) # Nome das colunas"
      ],
      "metadata": {
        "id": "0NwnQ0ocCsQP"
      },
      "execution_count": 62,
      "outputs": []
    },
    {
      "cell_type": "markdown",
      "source": [
        "Mostrando o número de republicanos e de democratas"
      ],
      "metadata": {
        "id": "qXDFQrphAkeC"
      }
    },
    {
      "cell_type": "code",
      "source": [
        "label = ['republicanos','democratas']\n",
        "cores = ['r','b']\n",
        "republicanos = df['Class-Name'].value_counts()[0]\n",
        "democratas = df['Class-Name'].value_counts()[1]\n",
        "total = republicanos + democratas\n",
        "y = np.array([republicanos, democratas])\n",
        "plt.pie(y , labels=label, colors=cores, autopct= lambda x: '{:.0f}'.format(x*y.sum()/100, startangle=90))\n",
        "plt.title('Total de Senadores')\n",
        "plt.show() \n",
        "print(\"Total: {}\\n\".format(total) )\n",
        "print(\"Republicanos: {:.2f}%\\n\".format((republicanos*100)/total))\n",
        "print(\"Democratas: {:.2f}\\n\".format((democratas*100)/total))\n"
      ],
      "metadata": {
        "colab": {
          "base_uri": "https://localhost:8080/",
          "height": 368
        },
        "id": "ov-yeuJj8qFu",
        "outputId": "0e6061e2-f06d-4169-af23-00fd82821b50"
      },
      "execution_count": 90,
      "outputs": [
        {
          "output_type": "display_data",
          "data": {
            "text/plain": [
              "<Figure size 432x288 with 1 Axes>"
            ],
            "image/png": "[encoded data removed]"
          },
          "metadata": {}
        },
        {
          "output_type": "stream",
          "name": "stdout",
          "text": [
            "Total: 435\n",
            "\n",
            "Republicanos: 38.62%\n",
            "\n",
            "Democratas: 61.38\n",
            "\n"
          ]
        }
      ]
    },
    {
      "cell_type": "markdown",
      "source": [
        "Mostrando os votos a favor, contra e abstenção no geral para o atributo definido em 'atributo'"
      ],
      "metadata": {
        "id": "nb43BCSmBJII"
      }
    },
    {
      "cell_type": "code",
      "source": [
        "atributo = 'export-administration-act-south-africa'\n",
        "\n",
        "#'handicapped-infants','water-project-cost-sharing','adoption-of-the-budget-resolution','physician-fee-freeze','el-salvador-aid',\n",
        "#'religious-groups-in-schools','anti-satellite-test-ban','aid-to-nicaraguan-contras','mx-missile','immigration','synfuels-corporation-cutback','education-spending',\n",
        "#'superfund-right-to-sue','crime','duty-free-exports','export-administration-act-south-africa'"
      ],
      "metadata": {
        "id": "tkjAU4AwGpoV"
      },
      "execution_count": 148,
      "outputs": []
    },
    {
      "cell_type": "code",
      "source": [
        "label = ['A favor','Contra','Abstenção']\n",
        "cores = ['green', 'red', 'yellow']\n",
        "favor = df[atributo].value_counts()[1]\n",
        "contra = df[atributo].value_counts()[0]\n",
        "abstencao = df[atributo].value_counts()[2]\n",
        "total = favor+contra+abstencao\n",
        "y = np.array([favor,contra,abstencao])\n",
        "plt.pie(y, labels=label, colors=cores, autopct= lambda x: '{:.0f}'.format(x*y.sum()/100, startangle=90))\n",
        "plt.title('Votos totais do {}'.format(atributo))\n",
        "plt.show() \n",
        "print(\"Total: {}\".format(total) )\n",
        "print(\"A favor: {:.2f}%\".format((favor*100)/total))\n",
        "print(\"Contra: {:.2f}%\".format((contra*100)/total))\n",
        "print(\"Abstenção: {:.2f}%\".format((abstencao*100)/total))"
      ],
      "metadata": {
        "id": "TEJYUHULcCt3",
        "colab": {
          "base_uri": "https://localhost:8080/",
          "height": 333
        },
        "outputId": "092367dc-c951-4500-d6db-1a0a6dc4ef8c"
      },
      "execution_count": 149,
      "outputs": [
        {
          "output_type": "display_data",
          "data": {
            "text/plain": [
              "<Figure size 432x288 with 1 Axes>"
            ],
            "image/png": "[encoded data removed]"
          },
          "metadata": {}
        },
        {
          "output_type": "stream",
          "name": "stdout",
          "text": [
            "Total: 435\n",
            "A favor: 61.84%\n",
            "Contra: 14.25%\n",
            "Abstenção: 23.91%\n"
          ]
        }
      ]
    },
    {
      "cell_type": "markdown",
      "source": [
        "Mostrando os votos a favor, contra e abstenção entre os republicanos"
      ],
      "metadata": {
        "id": "_z9zBjb5HFBu"
      }
    },
    {
      "cell_type": "code",
      "source": [
        "label = ['A favor','Contra','Abstenção']\n",
        "cores = ['green', 'red', 'yellow']\n",
        "favor = ((df['Class-Name'] == 0) & ((df[atributo]) == 1)).sum()\n",
        "contra = ((df['Class-Name'] == 0) & ((df[atributo]) == 0)).sum()\n",
        "abstencao = ((df['Class-Name'] == 0) & ((df[atributo]) == 2)).sum()\n",
        "total = favor+contra+abstencao\n",
        "y = np.array([favor,contra,abstencao])\n",
        "plt.pie(y, labels=label, colors=cores, autopct= lambda x: '{:.0f}'.format(x*y.sum()/100, startangle=90))\n",
        "plt.title('Votos Republicanos do {}'.format(atributo))\n",
        "plt.show() \n",
        "print(\"Total: {}\".format(total) )\n",
        "print(\"A favor: {:.2f}%\".format((favor*100)/total))\n",
        "print(\"Contra: {:.2f}%\".format((contra*100)/total))\n",
        "print(\"Abstenção: {:.2f}%\".format((abstencao*100)/total))"
      ],
      "metadata": {
        "colab": {
          "base_uri": "https://localhost:8080/",
          "height": 333
        },
        "outputId": "2d32db8f-9114-4d3f-9240-39f1270ba30c",
        "id": "TUeOm7F1HQQJ"
      },
      "execution_count": 150,
      "outputs": [
        {
          "output_type": "display_data",
          "data": {
            "text/plain": [
              "<Figure size 432x288 with 1 Axes>"
            ],
            "image/png": "[encoded data removed]"
          },
          "metadata": {}
        },
        {
          "output_type": "stream",
          "name": "stdout",
          "text": [
            "Total: 168\n",
            "A favor: 57.14%\n",
            "Contra: 29.76%\n",
            "Abstenção: 13.10%\n"
          ]
        }
      ]
    },
    {
      "cell_type": "markdown",
      "source": [
        "Mostrando os votos a favor, contra e abstenção entre os democratas"
      ],
      "metadata": {
        "id": "l7gwHZMwLrLC"
      }
    },
    {
      "cell_type": "code",
      "source": [
        "label = ['A favor','Contra','Abstenção']\n",
        "cores = ['green', 'red', 'yellow']\n",
        "favor = ((df['Class-Name'] == 1) & ((df[atributo]) == 1)).sum()\n",
        "contra = ((df['Class-Name'] == 1) & ((df[atributo]) == 0)).sum()\n",
        "abstencao = ((df['Class-Name'] == 1) & ((df[atributo]) == 2)).sum()\n",
        "total = favor+contra+abstencao\n",
        "y = np.array([favor,contra,abstencao])\n",
        "plt.pie(y, labels=label, colors=cores, autopct= lambda x: '{:.0f}'.format(x*y.sum()/100, startangle=90))\n",
        "plt.title('Votos Democratas do {}'.format(atributo))\n",
        "plt.show() \n",
        "print(\"Total: {}\".format(total) )\n",
        "print(\"A favor: {:.2f}%\".format((favor*100)/total))\n",
        "print(\"Contra: {:.2f}%\".format((contra*100)/total))\n",
        "print(\"Abstenção: {:.2f}%\".format((abstencao*100)/total))"
      ],
      "metadata": {
        "colab": {
          "base_uri": "https://localhost:8080/",
          "height": 333
        },
        "outputId": "5a720654-be1f-450b-c03c-b2b0c40f18c9",
        "id": "vQwP4YS2MpIi"
      },
      "execution_count": 151,
      "outputs": [
        {
          "output_type": "display_data",
          "data": {
            "text/plain": [
              "<Figure size 432x288 with 1 Axes>"
            ],
            "image/png": "[encoded data removed]"
          },
          "metadata": {}
        },
        {
          "output_type": "stream",
          "name": "stdout",
          "text": [
            "Total: 267\n",
            "A favor: 64.79%\n",
            "Contra: 4.49%\n",
            "Abstenção: 30.71%\n"
          ]
        }
      ]
    },
    {
      "cell_type": "markdown",
      "source": [
        "Analisando os gráficos, percebe-se que para:\n",
        "\n",
        "//podemos padronizar por porcentagem exemplo 45-55%(dividido) 56-65% (maioria 1) 66-75% (maioria 2) 76-85% (maioria 3) +85% (maioria 4) \n",
        "\n",
        "**handicapped-infants:**\n",
        "\n",
        "    Republicanos: maioria 3 - contra\n",
        "    Democratas: maioria 1 - a favor\n",
        "    Total: dividido \n",
        "\n",
        "**water-project-cost-sharing:**\n",
        "\n",
        "    Republicanos: dividido\n",
        "    Democratas: dividido\n",
        "    Total: dividido \n",
        "\n",
        "**adoption-of-the-budget-resolution:**\n",
        "\n",
        "    Republicanos: maioria 3 - contra\n",
        "    Democratas: maioria 4 - a favor\n",
        "    Total: maioria 1 - a favor\n",
        "\n",
        "**physician-fee-freeze:**\n",
        "\n",
        "    Republicanos: maioria 4 - a favor\n",
        "    Democratas: maioria 4 - contra\n",
        "    Total: maioria 1 - a favor\n",
        "\n",
        "\n",
        "**el-salvador-aid:**\n",
        "\n",
        "    Republicanos: maioria 4 - a favor\n",
        "    Democratas: maioria 2 - contra\n",
        "    Total: dividido\n",
        "\n",
        "**religious-groups-in-schools:**\n",
        "\n",
        "    Republicanos: maioria 4 - a favor\n",
        "    Democratas: dividido\n",
        "    Total: maioria 1 - a favor\n",
        "\n",
        "**anti-satellite-test-ban:**\n",
        "\n",
        "    Republicanos: maioria 2 - contra\n",
        "    Democratas: maioria 2 - a favor\n",
        "    Total: dividido \n",
        "\n",
        "**aid-to-nicaraguan-contras:**\n",
        "\n",
        "    Republicanos: maioria 3 - contra\n",
        "    Democratas: maioria 3 - a favor\n",
        "    Total: dividido \n",
        "\n",
        "**mx-missile:**\n",
        "\n",
        "    Republicanos: maioria 4 - contra\n",
        "    Democratas: maioria 2 - a favor\n",
        "    Total: dividido \n",
        "\n",
        "**'immigration:**\n",
        "\n",
        "    Republicanos: dividido\n",
        "    Democratas: dividido\n",
        "    Total: dividido \n",
        "\n",
        "**synfuels-corporation-cutback:**\n",
        "\n",
        "    Republicanos: maioria 3 - contra\n",
        "    Democratas: dividido\n",
        "    Total: maioria 1 - contra\n",
        "\n",
        "**education-spending:**\n",
        "\n",
        "    Republicanos: maioria 3 - a favor\n",
        "    Democratas: maioria 3 - contra\n",
        "    Total: dividido \n",
        "\n",
        "**superfund-right-to-sue:**\n",
        "\n",
        "    Republicanos: maioria 3 - a favor\n",
        "    Democratas: maioria 2 - contra\n",
        "    Total: dividido \n",
        "\n",
        "**crime:**\n",
        "\n",
        "    Republicanos: maioria 4 - a favor\n",
        "    Democratas: maioria 1 - contra\n",
        "    Total: maioria 1 - a favor \n",
        "\n",
        "**duty-free-exports:**\n",
        "\n",
        "    Republicanos: maioria 3 - contra\n",
        "    Democratas: maioria 1 - a favor\n",
        "    Total: dividido \n",
        "\n",
        "**export-administration-act-south-africa:**\n",
        "\n",
        "    Republicanos: maioria 1 - a favor\n",
        "    Democratas: maioria 1 - a favor\n",
        "    Total: maioria 1 - a favor\n",
        "    obs: muita abstenção \n",
        "\n",
        "\n",
        "\n"
      ],
      "metadata": {
        "id": "P6hlfSXINPAE"
      }
    },
    {
      "cell_type": "markdown",
      "source": [
        "#Atividade 4 - Análise Descritiva - Medidas de Resumo"
      ],
      "metadata": {
        "id": "nStlLrf9GXFt"
      }
    },
    {
      "cell_type": "markdown",
      "source": [
        "Aqui faremos medidas de resumo, como:\n",
        "- Medidas de tendencia central;\n",
        "- Medidas de dispersão;\n",
        "- Medidas de posição relativa;\n",
        "- Medidas de associação."
      ],
      "metadata": {
        "id": "h5y_0xp3HDR8"
      }
    },
    {
      "cell_type": "markdown",
      "source": [
        "##Código"
      ],
      "metadata": {
        "id": "2oMFVWkhHRoc"
      }
    },
    {
      "cell_type": "markdown",
      "source": [
        "Lendo a Base de Dados"
      ],
      "metadata": {
        "id": "hm70TvnWHU6c"
      }
    },
    {
      "cell_type": "code",
      "source": [
        "input_file = '/content/house-votes-84-abstencao.data'\n",
        "names = ['Class-Name','handicapped-infants','water-project-cost-sharing','adoption-of-the-budget-resolution','physician-fee-freeze','el-salvador-aid',\n",
        "          'religious-groups-in-schools','anti-satellite-test-ban','aid-to-nicaraguan-contras','mx-missile','immigration','synfuels-corporation-cutback','education-spending',\n",
        "          'superfund-right-to-sue','crime','duty-free-exports','export-administration-act-south-africa']\n",
        "features = ['handicapped-infants','water-project-cost-sharing','adoption-of-the-budget-resolution','physician-fee-freeze','el-salvador-aid',\n",
        "          'religious-groups-in-schools','anti-satellite-test-ban','aid-to-nicaraguan-contras','mx-missile','immigration','synfuels-corporation-cutback','education-spending',\n",
        "          'superfund-right-to-sue','crime','duty-free-exports','export-administration-act-south-africa']\n",
        "target = 'Class-Name'\n",
        "df = pd.read_csv(input_file,    # Nome do arquivo com dados\n",
        "                 names = names) # Nome das colunas"
      ],
      "metadata": {
        "id": "UB3fGj_8Hrh7"
      },
      "execution_count": 152,
      "outputs": []
    },
    {
      "cell_type": "markdown",
      "source": [
        "Escolhendo o atributo"
      ],
      "metadata": {
        "id": "B3u8kboBIFxl"
      }
    },
    {
      "cell_type": "code",
      "source": [
        "atributo = 'physician-fee-freeze'\n",
        "\n",
        "# 'Class-Name', 'handicapped-infants','water-project-cost-sharing','adoption-of-the-budget-resolution','physician-fee-freeze','el-salvador-aid',\n",
        "#'religious-groups-in-schools','anti-satellite-test-ban','aid-to-nicaraguan-contras','mx-missile','immigration','synfuels-corporation-cutback','education-spending',\n",
        "#'superfund-right-to-sue','crime','duty-free-exports','export-administration-act-south-africa'"
      ],
      "metadata": {
        "id": "WkJa5rr2IMky"
      },
      "execution_count": 183,
      "outputs": []
    },
    {
      "cell_type": "markdown",
      "source": [
        "Medidas de Tendência Central"
      ],
      "metadata": {
        "id": "c8c0EmlcIShs"
      }
    },
    {
      "cell_type": "code",
      "source": [
        "print(\"Medidas de Tendência Central\\n\")\n",
        "print('Média: {:.2f}'.format(df[atributo].mean())) # Média\n",
        "print('Mediana: {:.1f}'.format(df[atributo].median())) # Mediana\n",
        "print('Ponto Médio: {:.0f}'.format((df[atributo].max() + df[atributo].min())/2)) # Ponto Médio\n",
        "print('Moda: {:.0f}'.format(float(df[atributo].mode()))) # Moda"
      ],
      "metadata": {
        "colab": {
          "base_uri": "https://localhost:8080/"
        },
        "id": "QPjnISExIE9M",
        "outputId": "18698817-2c01-4107-8b0d-30631a1ca737"
      },
      "execution_count": 160,
      "outputs": [
        {
          "output_type": "stream",
          "name": "stdout",
          "text": [
            "Medidas de Tendência Central\n",
            "\n",
            "Média: 0.44\n",
            "Mediana: 0.0\n",
            "Ponto Médio: 1\n",
            "Moda: 0\n"
          ]
        }
      ]
    },
    {
      "cell_type": "markdown",
      "source": [
        "Medidas de Dispersão"
      ],
      "metadata": {
        "id": "4yELKMmEJ7cM"
      }
    },
    {
      "cell_type": "code",
      "source": [
        "print(\"Medidas de Dispersão\\n\")\n",
        "print('Amplitude: {:.0f}'.format(df[atributo].max() - df[atributo].min()))  # Amplitude\n",
        "print('Desvio padrão: {:.4f}'.format(df[atributo].std())) # Desvio padrão\n",
        "print('Variância: {:.4f}'.format(df[atributo].var())) # Variância\n",
        "print('Coeficiente de variação: {:.4f}'.format(df[atributo].std()/df[atributo].mean())) # Coeficiente de Variação"
      ],
      "metadata": {
        "colab": {
          "base_uri": "https://localhost:8080/"
        },
        "id": "qy-HwtWGKE28",
        "outputId": "342f59a7-39d8-43fa-9dc4-6279ecd84026"
      },
      "execution_count": 162,
      "outputs": [
        {
          "output_type": "stream",
          "name": "stdout",
          "text": [
            "Medidas de Dispersão\n",
            "\n",
            "Amplitude: 2\n",
            "Desvio padrão: 0.5864\n",
            "Variância: 0.3439\n",
            "Coeficiente de variação: 1.3286\n"
          ]
        }
      ]
    },
    {
      "cell_type": "markdown",
      "source": [
        "Medidas de Posição Relativa"
      ],
      "metadata": {
        "id": "AzOKXPXsK1pt"
      }
    },
    {
      "cell_type": "code",
      "source": [
        "print(\"\\nMedidas de Posição Relativa\\n\")\n",
        "print('Z Score:\\n{}\\n'.format((df[atributo] - df[atributo].mean())/df[atributo].std())) # Z Score\n",
        "print('Quantil (25%): {}'.format(df[atributo].quantile(q=0.25))) # Quantil 25%\n",
        "print('Quantil (50%): {}'.format(df[atributo].quantile(q=0.50))) # Quantil 50%\n",
        "print('Quantil (75%): {}'.format(df[atributo].quantile(q=0.75))) # Quantil 75%"
      ],
      "metadata": {
        "colab": {
          "base_uri": "https://localhost:8080/"
        },
        "id": "B4Vmu6-OLAag",
        "outputId": "60ecafee-6377-4653-847e-5b2941bcefff"
      },
      "execution_count": 165,
      "outputs": [
        {
          "output_type": "stream",
          "name": "stdout",
          "text": [
            "\n",
            "Medidas de Posição Relativa\n",
            "\n",
            "Z Score:\n",
            "0      2.657790\n",
            "1     -0.752648\n",
            "2      0.952571\n",
            "3      0.952571\n",
            "4      0.952571\n",
            "         ...   \n",
            "430   -0.752648\n",
            "431   -0.752648\n",
            "432    0.952571\n",
            "433   -0.752648\n",
            "434   -0.752648\n",
            "Name: synfuels-corporation-cutback, Length: 435, dtype: float64\n",
            "\n",
            "Quantil (25%): 0.0\n",
            "Quantil (50%): 0.0\n",
            "Quantil (75%): 1.0\n"
          ]
        }
      ]
    },
    {
      "cell_type": "markdown",
      "source": [
        "Medidas de Associação"
      ],
      "metadata": {
        "id": "WgZimJfZL3NG"
      }
    },
    {
      "cell_type": "code",
      "source": [
        "print(\"\\nMedidas de Associação\\n\")\n",
        "print('Covariância: \\n{}\\n'.format(df.cov())) # Covariância\n",
        "print('\\nCorrelação: \\n{}'.format(df.corr())) # Correlação"
      ],
      "metadata": {
        "id": "EoXE2Ta3L_vE"
      },
      "execution_count": null,
      "outputs": []
    },
    {
      "cell_type": "markdown",
      "source": [
        "Matriz de Correlação"
      ],
      "metadata": {
        "id": "GFA-D27GNNV1"
      }
    },
    {
      "cell_type": "code",
      "source": [
        "corr = df.corr()\n",
        "corr.style.background_gradient(cmap='coolwarm')"
      ],
      "metadata": {
        "id": "8vjnL3qVNP3M"
      },
      "execution_count": null,
      "outputs": []
    },
    {
      "cell_type": "markdown",
      "source": [
        "Para Class-Name, desconsiderando sua relação com si mesma: \n",
        "- quanto mais próximo de 1, mais democrata a pauta é\n",
        "- quanto mais próximo de -1, mais repubicana a pauta é,\n",
        "- quanto mais próximo de 0, mais neutra ela é \n",
        "                  \n",
        "Para o resto das relações, desconsiderando as mesmas relações:\n",
        "- quanto mais próximo de 1, mais elas se parecem\n",
        "- quanto mais próximo de -1, mais ela se parecem inversamente \n",
        "- quanto mais próximo de 0, menos elas se parecem"
      ],
      "metadata": {
        "id": "5cclHSTRU_Y2"
      }
    },
    {
      "cell_type": "markdown",
      "source": [
        "Gráfico de dispersão"
      ],
      "metadata": {
        "id": "X081q7XWWNX9"
      }
    },
    {
      "cell_type": "code",
      "source": [
        "atributo = 'el-salvador-aid'\n",
        "\n",
        "# 'Class-Name', 'handicapped-infants','water-project-cost-sharing','adoption-of-the-budget-resolution','physician-fee-freeze','el-salvador-aid',\n",
        "#'religious-groups-in-schools','anti-satellite-test-ban','aid-to-nicaraguan-contras','mx-missile','immigration','synfuels-corporation-cutback','education-spending',\n",
        "#'superfund-right-to-sue','crime','duty-free-exports','export-administration-act-south-africa'"
      ],
      "metadata": {
        "id": "lwfnPqUmYpqD"
      },
      "execution_count": 185,
      "outputs": []
    },
    {
      "cell_type": "code",
      "source": [
        "import seaborn as sns\n",
        "\n",
        "df_dispersao =df[['Class-Name', atributo]]\n",
        "df_dispersao = df_dispersao.groupby(['Class-Name',atributo]).size().reset_index(name=\"tamanho\")\n",
        "fig = plt.figure()\n",
        "ax = fig.add_axes([0,0,1.5,1.5])\n",
        "\n",
        "ax = sns.scatterplot(data=df_dispersao, x='Class-Name', y = atributo, size=\"tamanho\", legend=False, sizes=(1000,10000))\n",
        "plt.show()"
      ],
      "metadata": {
        "colab": {
          "base_uri": "https://localhost:8080/",
          "height": 494
        },
        "id": "LjYrzmLeTtae",
        "outputId": "9861f2df-ba2f-4615-d945-4d1c5061d6f0"
      },
      "execution_count": 186,
      "outputs": [
        {
          "output_type": "display_data",
          "data": {
            "text/plain": [
              "<Figure size 432x288 with 1 Axes>"
            ],
            "image/png": "[encoded data removed]"
          },
          "metadata": {
            "needs_background": "light"
          }
        }
      ]
    },
    {
      "cell_type": "markdown",
      "source": [
        "Lembrete: \n",
        "\n",
        "\n",
        "Class-Name: 0- Republicano e 1- Democrata\n",
        "\n",
        "Atributos: 0-contra, 1- a favor, 2 - abstenção\n"
      ],
      "metadata": {
        "id": "bBuZJvQEYIcF"
      }
    }
  ]
}