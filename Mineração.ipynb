{
  "nbformat": 4,
  "nbformat_minor": 0,
  "metadata": {
    "colab": {
      "name": "Mineração.ipynb",
      "provenance": [],
      "collapsed_sections": [],
      "include_colab_link": true
    },
    "kernelspec": {
      "name": "python3",
      "display_name": "Python 3"
    },
    "language_info": {
      "name": "python"
    }
  },
  "cells": [
    {
      "cell_type": "markdown",
      "metadata": {
        "id": "view-in-github",
        "colab_type": "text"
      },
      "source": [
        "<a href=\"https://colab.research.google.com/github/Vihimuro/MDAEL8/blob/main/Minera%C3%A7%C3%A3o.ipynb\" target=\"_parent\"><img src=\"https://colab.research.google.com/assets/colab-badge.svg\" alt=\"Open In Colab\"/></a>"
      ]
    },
    {
      "cell_type": "markdown",
      "source": [
        "ATENÇÃO! Caso esteja no GitHub, clique acima em Open in Colab para um experiência interativa e completa!"
      ],
      "metadata": {
        "id": "vOQuFRgnUNo2"
      }
    },
    {
      "cell_type": "markdown",
      "source": [
        "![miner.jpg](data:image/jpeg;base64,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)\n",
        "\n",
        "# Mineração de Dados\n"
      ],
      "metadata": {
        "id": "TGNlfRHwsRuy"
      }
    },
    {
      "cell_type": "markdown",
      "source": [
        "Alunos: Tiago Júnio Tegon Nascimento e Vinícius Himuro Augusto\n",
        "\n",
        "Githubs: https://github.com/TiagoTegon/MDAEL8.git e https://github.com/Vihimuro/MDAEL8"
      ],
      "metadata": {
        "id": "t6o6hGhruGdZ"
      }
    },
    {
      "cell_type": "markdown",
      "source": [
        "Database escolhida: Congressional Voting Records Data Set\n",
        "\n",
        "link: https://archive.ics.uci.edu/ml/datasets/Congressional+Voting+Records"
      ],
      "metadata": {
        "id": "zvpaknhHtrdQ"
      }
    },
    {
      "cell_type": "markdown",
      "source": [
        " # Atividade 1 - Pré-processamento de dados"
      ],
      "metadata": {
        "id": "aGXoIAZ0t9rg"
      }
    },
    {
      "cell_type": "markdown",
      "source": [
        "## Avaliação das características\n",
        "\n",
        "### Problema a ser investigado\n",
        "\n",
        "A base de dados possui o posicionamento (a favor ou contra) de senadores sobre alguns assuntos politicos (atributos) e, a partir deles, identificar se uma pessoa analisada integra o partido republicano ou democrata.\n",
        "\n",
        "Avalie as características da base de dados: problema a ser\n",
        "investigado, número de amostras, número de atributos, tipos de\n",
        "atributos, possui valores ausentes?\n",
        "\n",
        "### Número de amostras\n",
        "\n",
        "435 amostras, dos quais 267 são democratas e 168 republicanos.\n",
        "\n",
        "### Atributos\n",
        "\n",
        "São ao todo 17 atributos booleanos, sendo eles: \n",
        "\n",
        "\n",
        "   1. Class Name: 2 (democrat, republican)\n",
        "   2. handicapped-infants: 2 (y,n)\n",
        "   3. water-project-cost-sharing: 2 (y,n)\n",
        "   4. adoption-of-the-budget-resolution: 2 (y,n)\n",
        "   5. physician-fee-freeze: 2 (y,n)\n",
        "   6. el-salvador-aid: 2 (y,n)\n",
        "   7. religious-groups-in-schools: 2 (y,n)\n",
        "   8. anti-satellite-test-ban: 2 (y,n)\n",
        "   9. aid-to-nicaraguan-contras: 2 (y,n)\n",
        "   10. mx-missile: 2 (y,n)\n",
        "   11. immigration: 2 (y,n)\n",
        "   12. synfuels-corporation-cutback: 2 (y,n)\n",
        "   13. education-spending: 2 (y,n)\n",
        "   14. superfund-right-to-sue: 2 (y,n)\n",
        "   15. crime: 2 (y,n)\n",
        "   16. duty-free-exports: 2 (y,n)\n",
        "   17. export-administration-act-south-africa: 2 (y,n)\n",
        "\n",
        "### Sobre valores ausentes\n",
        "\n",
        "\n",
        "Analisando a base de dados, temos 288 dados definidos como '?', porém não são valores ausentes, e sim um posicionamento neutro sobre o atributo. Diante disso, foram cogitados 2 métodos para o tratamento desses valores: \n",
        "\n",
        "1- Criar uma terceira classificação denominada abstenção para cada atributo, além de sim e não.\n",
        "\n",
        "2- Substituir esses valores a partir da moda da classe que a pessoa faz parte (republicano e democrata)."
      ],
      "metadata": {
        "id": "zdOTlzkLAIuR"
      }
    },
    {
      "cell_type": "markdown",
      "source": [
        "## Código"
      ],
      "metadata": {
        "id": "c3yzHHXRD6k7"
      }
    },
    {
      "cell_type": "markdown",
      "source": [
        "É necessário fazer o upload da base de dados. Para tal, realize os seguintes passos:\n",
        "\n",
        "1- acesse https://archive.ics.uci.edu/ml/datasets/Congressional+Voting+Records\n",
        "\n",
        "2- clique em data folder\n",
        "\n",
        "3- clique em house-votes-84.data e baixe o arquivo\n",
        "\n",
        "4- No notebook, clique em Arquivos na barra da esquerda\n",
        "\n",
        "5- Em seguida, em Fazer upload para o armazenamento da função (1º ícone da esquerda para a direita)\n",
        "\n",
        "6- Carregue o arquivo baixado \n",
        "\n",
        "Pronto! Podemos começar! \n",
        "\n"
      ],
      "metadata": {
        "id": "p4cKSOFeqJHt"
      }
    },
    {
      "cell_type": "markdown",
      "source": [
        "Começando o código.\n",
        "\n",
        "Github de referência: https://github.com/murilovarges/DataMiningSamples/blob/master/1-Preprocessing/DataCleaning.py"
      ],
      "metadata": {
        "id": "Rq15PGvFuvfx"
      }
    },
    {
      "cell_type": "markdown",
      "source": [
        "Fazendo os imports "
      ],
      "metadata": {
        "id": "bb_SzJ-duTpP"
      }
    },
    {
      "cell_type": "code",
      "execution_count": 1,
      "metadata": {
        "id": "ehGs5bVTpWwT"
      },
      "outputs": [],
      "source": [
        "import pandas as pd\n",
        "import numpy as np"
      ]
    },
    {
      "cell_type": "markdown",
      "source": [
        "Faz a leitura do arquivo"
      ],
      "metadata": {
        "id": "mCmO3LrDErnK"
      }
    },
    {
      "cell_type": "code",
      "source": [
        "names = ['Class-Name','handicapped-infants','water-project-cost-sharing','adoption-of-the-budget-resolution','physician-fee-freeze','el-salvador-aid',\n",
        "          'religious-groups-in-schools','anti-satellite-test-ban','aid-to-nicaraguan-contras','mx-missile','immigration','synfuels-corporation-cutback','education-spending',\n",
        "          'superfund-right-to-sue','crime','duty-free-exports','export-administration-act-south-africa'] \n",
        "features = ['Class-Name','handicapped-infants','water-project-cost-sharing','adoption-of-the-budget-resolution','physician-fee-freeze','el-salvador-aid',\n",
        "          'religious-groups-in-schools','anti-satellite-test-ban','aid-to-nicaraguan-contras','mx-missile','immigration','synfuels-corporation-cutback','education-spending',\n",
        "          'superfund-right-to-sue','crime','duty-free-exports','export-administration-act-south-africa'] \n",
        "output_file_abstencao = '/content/house-votes-84-abstencao.data'\n",
        "output_file_moda = '/content/house-votes-84-moda.data'\n",
        "input_file = '/content/house-votes-84.data' \n",
        "df = pd.read_csv(input_file,         # Nome do arquivo com dados\n",
        "                  names = names,      # Nome das colunas \n",
        "                  usecols = features, # Define as colunas que serão  utilizadas\n",
        "                  na_values='?')      # Define que ? será considerado valores ausentes\n",
        "  "
      ],
      "metadata": {
        "id": "kCaVTx8wEOGh"
      },
      "execution_count": 2,
      "outputs": []
    },
    {
      "cell_type": "markdown",
      "source": [
        "Mostrando os dados"
      ],
      "metadata": {
        "id": "JnxnuD6zGYi7"
      }
    },
    {
      "cell_type": "code",
      "source": [
        "df_original = df.copy()\n",
        "# Imprime as 15 primeiras linhas do arquivo\n",
        "print(\"PRIMEIRAS 15 LINHAS\\n\")\n",
        "print(df.head(15))\n",
        "print(\"\\n\") "
      ],
      "metadata": {
        "id": "X1wOb7S1GVwy",
        "colab": {
          "base_uri": "https://localhost:8080/"
        },
        "outputId": "544551a4-6ff0-4876-8163-c010638cf3b3"
      },
      "execution_count": 3,
      "outputs": [
        {
          "output_type": "stream",
          "name": "stdout",
          "text": [
            "PRIMEIRAS 15 LINHAS\n",
            "\n",
            "    Class-Name handicapped-infants water-project-cost-sharing  \\\n",
            "0   republican                   n                          y   \n",
            "1   republican                   n                          y   \n",
            "2     democrat                 NaN                          y   \n",
            "3     democrat                   n                          y   \n",
            "4     democrat                   y                          y   \n",
            "5     democrat                   n                          y   \n",
            "6     democrat                   n                          y   \n",
            "7   republican                   n                          y   \n",
            "8   republican                   n                          y   \n",
            "9     democrat                   y                          y   \n",
            "10  republican                   n                          y   \n",
            "11  republican                   n                          y   \n",
            "12    democrat                   n                          y   \n",
            "13    democrat                   y                          y   \n",
            "14  republican                   n                          y   \n",
            "\n",
            "   adoption-of-the-budget-resolution physician-fee-freeze el-salvador-aid  \\\n",
            "0                                  n                    y               y   \n",
            "1                                  n                    y               y   \n",
            "2                                  y                  NaN               y   \n",
            "3                                  y                    n             NaN   \n",
            "4                                  y                    n               y   \n",
            "5                                  y                    n               y   \n",
            "6                                  n                    y               y   \n",
            "7                                  n                    y               y   \n",
            "8                                  n                    y               y   \n",
            "9                                  y                    n               n   \n",
            "10                                 n                    y               y   \n",
            "11                                 n                    y               y   \n",
            "12                                 y                    n               n   \n",
            "13                                 y                    n               n   \n",
            "14                                 n                    y               y   \n",
            "\n",
            "   religious-groups-in-schools anti-satellite-test-ban  \\\n",
            "0                            y                       n   \n",
            "1                            y                       n   \n",
            "2                            y                       n   \n",
            "3                            y                       n   \n",
            "4                            y                       n   \n",
            "5                            y                       n   \n",
            "6                            y                       n   \n",
            "7                            y                       n   \n",
            "8                            y                       n   \n",
            "9                            n                       y   \n",
            "10                           n                       n   \n",
            "11                           y                       n   \n",
            "12                           n                       y   \n",
            "13                           y                       y   \n",
            "14                           y                       n   \n",
            "\n",
            "   aid-to-nicaraguan-contras mx-missile immigration  \\\n",
            "0                          n          n           y   \n",
            "1                          n          n           n   \n",
            "2                          n          n           n   \n",
            "3                          n          n           n   \n",
            "4                          n          n           n   \n",
            "5                          n          n           n   \n",
            "6                          n          n           n   \n",
            "7                          n          n           n   \n",
            "8                          n          n           n   \n",
            "9                          y          y           n   \n",
            "10                         n          n           n   \n",
            "11                         n          n           n   \n",
            "12                         y          y           n   \n",
            "13                         y        NaN           y   \n",
            "14                         n          n           n   \n",
            "\n",
            "   synfuels-corporation-cutback education-spending superfund-right-to-sue  \\\n",
            "0                           NaN                  y                      y   \n",
            "1                             n                  y                      y   \n",
            "2                             y                  n                      y   \n",
            "3                             y                  n                      y   \n",
            "4                             y                NaN                      y   \n",
            "5                             n                  n                      y   \n",
            "6                             n                  n                    NaN   \n",
            "7                             n                  n                      y   \n",
            "8                             n                  y                      y   \n",
            "9                             n                  n                      n   \n",
            "10                          NaN                NaN                      y   \n",
            "11                            y                NaN                      y   \n",
            "12                            n                  n                      y   \n",
            "13                            y                NaN                      n   \n",
            "14                            n                  y                    NaN   \n",
            "\n",
            "   crime duty-free-exports export-administration-act-south-africa  \n",
            "0      y                 n                                      y  \n",
            "1      y                 n                                    NaN  \n",
            "2      y                 n                                      n  \n",
            "3      n                 n                                      y  \n",
            "4      y                 y                                      y  \n",
            "5      y                 y                                      y  \n",
            "6      y                 y                                      y  \n",
            "7      y               NaN                                      y  \n",
            "8      y                 n                                      y  \n",
            "9      n               NaN                                    NaN  \n",
            "10     y                 n                                      n  \n",
            "11     y               NaN                                    NaN  \n",
            "12     n               NaN                                    NaN  \n",
            "13     n                 y                                    NaN  \n",
            "14   NaN                 n                                    NaN  \n",
            "\n",
            "\n"
          ]
        }
      ]
    },
    {
      "cell_type": "markdown",
      "source": [
        "Alterando os dados dos atributos para valores numéricos"
      ],
      "metadata": {
        "id": "1hE_WYJfEyKS"
      }
    },
    {
      "cell_type": "code",
      "source": [
        "# republican => 0\n",
        "df['Class-Name'] = df['Class-Name'].replace(['republican'],0)\n",
        "\n",
        "# democrat => 1\n",
        "df['Class-Name'] = df['Class-Name'].replace(['democrat'],1)\n",
        "\n",
        "# n-> 0\n",
        "df = df.replace(['n'],int(0))\n",
        "\n",
        "# y-> 1\n",
        "df = df.replace(['y'],int(1))"
      ],
      "metadata": {
        "id": "8fr0euBbE9Cq"
      },
      "execution_count": 4,
      "outputs": []
    },
    {
      "cell_type": "markdown",
      "source": [
        "Para ver a mudança: "
      ],
      "metadata": {
        "id": "Fw5s5RpVGr27"
      }
    },
    {
      "cell_type": "code",
      "source": [
        "df_original = df.copy()\n",
        "# Imprime as 15 primeiras linhas do arquivo\n",
        "print(\"PRIMEIRAS 15 LINHAS\\n\")\n",
        "print(df.head(15))\n",
        "print(\"\\n\") "
      ],
      "metadata": {
        "id": "FhskInlmGuuh",
        "colab": {
          "base_uri": "https://localhost:8080/"
        },
        "outputId": "49275568-8546-429a-86f6-704ad2a3ad76"
      },
      "execution_count": 5,
      "outputs": [
        {
          "output_type": "stream",
          "name": "stdout",
          "text": [
            "PRIMEIRAS 15 LINHAS\n",
            "\n",
            "    Class-Name  handicapped-infants  water-project-cost-sharing  \\\n",
            "0            0                  0.0                         1.0   \n",
            "1            0                  0.0                         1.0   \n",
            "2            1                  NaN                         1.0   \n",
            "3            1                  0.0                         1.0   \n",
            "4            1                  1.0                         1.0   \n",
            "5            1                  0.0                         1.0   \n",
            "6            1                  0.0                         1.0   \n",
            "7            0                  0.0                         1.0   \n",
            "8            0                  0.0                         1.0   \n",
            "9            1                  1.0                         1.0   \n",
            "10           0                  0.0                         1.0   \n",
            "11           0                  0.0                         1.0   \n",
            "12           1                  0.0                         1.0   \n",
            "13           1                  1.0                         1.0   \n",
            "14           0                  0.0                         1.0   \n",
            "\n",
            "    adoption-of-the-budget-resolution  physician-fee-freeze  el-salvador-aid  \\\n",
            "0                                 0.0                   1.0              1.0   \n",
            "1                                 0.0                   1.0              1.0   \n",
            "2                                 1.0                   NaN              1.0   \n",
            "3                                 1.0                   0.0              NaN   \n",
            "4                                 1.0                   0.0              1.0   \n",
            "5                                 1.0                   0.0              1.0   \n",
            "6                                 0.0                   1.0              1.0   \n",
            "7                                 0.0                   1.0              1.0   \n",
            "8                                 0.0                   1.0              1.0   \n",
            "9                                 1.0                   0.0              0.0   \n",
            "10                                0.0                   1.0              1.0   \n",
            "11                                0.0                   1.0              1.0   \n",
            "12                                1.0                   0.0              0.0   \n",
            "13                                1.0                   0.0              0.0   \n",
            "14                                0.0                   1.0              1.0   \n",
            "\n",
            "    religious-groups-in-schools  anti-satellite-test-ban  \\\n",
            "0                           1.0                      0.0   \n",
            "1                           1.0                      0.0   \n",
            "2                           1.0                      0.0   \n",
            "3                           1.0                      0.0   \n",
            "4                           1.0                      0.0   \n",
            "5                           1.0                      0.0   \n",
            "6                           1.0                      0.0   \n",
            "7                           1.0                      0.0   \n",
            "8                           1.0                      0.0   \n",
            "9                           0.0                      1.0   \n",
            "10                          0.0                      0.0   \n",
            "11                          1.0                      0.0   \n",
            "12                          0.0                      1.0   \n",
            "13                          1.0                      1.0   \n",
            "14                          1.0                      0.0   \n",
            "\n",
            "    aid-to-nicaraguan-contras  mx-missile  immigration  \\\n",
            "0                         0.0         0.0          1.0   \n",
            "1                         0.0         0.0          0.0   \n",
            "2                         0.0         0.0          0.0   \n",
            "3                         0.0         0.0          0.0   \n",
            "4                         0.0         0.0          0.0   \n",
            "5                         0.0         0.0          0.0   \n",
            "6                         0.0         0.0          0.0   \n",
            "7                         0.0         0.0          0.0   \n",
            "8                         0.0         0.0          0.0   \n",
            "9                         1.0         1.0          0.0   \n",
            "10                        0.0         0.0          0.0   \n",
            "11                        0.0         0.0          0.0   \n",
            "12                        1.0         1.0          0.0   \n",
            "13                        1.0         NaN          1.0   \n",
            "14                        0.0         0.0          0.0   \n",
            "\n",
            "    synfuels-corporation-cutback  education-spending  superfund-right-to-sue  \\\n",
            "0                            NaN                 1.0                     1.0   \n",
            "1                            0.0                 1.0                     1.0   \n",
            "2                            1.0                 0.0                     1.0   \n",
            "3                            1.0                 0.0                     1.0   \n",
            "4                            1.0                 NaN                     1.0   \n",
            "5                            0.0                 0.0                     1.0   \n",
            "6                            0.0                 0.0                     NaN   \n",
            "7                            0.0                 0.0                     1.0   \n",
            "8                            0.0                 1.0                     1.0   \n",
            "9                            0.0                 0.0                     0.0   \n",
            "10                           NaN                 NaN                     1.0   \n",
            "11                           1.0                 NaN                     1.0   \n",
            "12                           0.0                 0.0                     1.0   \n",
            "13                           1.0                 NaN                     0.0   \n",
            "14                           0.0                 1.0                     NaN   \n",
            "\n",
            "    crime  duty-free-exports  export-administration-act-south-africa  \n",
            "0     1.0                0.0                                     1.0  \n",
            "1     1.0                0.0                                     NaN  \n",
            "2     1.0                0.0                                     0.0  \n",
            "3     0.0                0.0                                     1.0  \n",
            "4     1.0                1.0                                     1.0  \n",
            "5     1.0                1.0                                     1.0  \n",
            "6     1.0                1.0                                     1.0  \n",
            "7     1.0                NaN                                     1.0  \n",
            "8     1.0                0.0                                     1.0  \n",
            "9     0.0                NaN                                     NaN  \n",
            "10    1.0                0.0                                     0.0  \n",
            "11    1.0                NaN                                     NaN  \n",
            "12    0.0                NaN                                     NaN  \n",
            "13    0.0                1.0                                     NaN  \n",
            "14    NaN                0.0                                     NaN  \n",
            "\n",
            "\n"
          ]
        }
      ]
    },
    {
      "cell_type": "markdown",
      "source": [
        "Imprimindo informações sobre os dados"
      ],
      "metadata": {
        "id": "BIuAOqfrFMt6"
      }
    },
    {
      "cell_type": "code",
      "source": [
        "# Imprime informações sobre dos dados\n",
        "print(\"INFORMAÇÕES GERAIS DOS DADOS\\n\")\n",
        "print(df.info())\n",
        "print(\"\\n\")"
      ],
      "metadata": {
        "id": "mac7flRxFXjy",
        "colab": {
          "base_uri": "https://localhost:8080/"
        },
        "outputId": "16df32b3-7348-41c0-d15c-862c6cd61fa0"
      },
      "execution_count": 6,
      "outputs": [
        {
          "output_type": "stream",
          "name": "stdout",
          "text": [
            "INFORMAÇÕES GERAIS DOS DADOS\n",
            "\n",
            "<class 'pandas.core.frame.DataFrame'>\n",
            "RangeIndex: 435 entries, 0 to 434\n",
            "Data columns (total 17 columns):\n",
            " #   Column                                  Non-Null Count  Dtype  \n",
            "---  ------                                  --------------  -----  \n",
            " 0   Class-Name                              435 non-null    int64  \n",
            " 1   handicapped-infants                     423 non-null    float64\n",
            " 2   water-project-cost-sharing              387 non-null    float64\n",
            " 3   adoption-of-the-budget-resolution       424 non-null    float64\n",
            " 4   physician-fee-freeze                    424 non-null    float64\n",
            " 5   el-salvador-aid                         420 non-null    float64\n",
            " 6   religious-groups-in-schools             424 non-null    float64\n",
            " 7   anti-satellite-test-ban                 421 non-null    float64\n",
            " 8   aid-to-nicaraguan-contras               420 non-null    float64\n",
            " 9   mx-missile                              413 non-null    float64\n",
            " 10  immigration                             428 non-null    float64\n",
            " 11  synfuels-corporation-cutback            414 non-null    float64\n",
            " 12  education-spending                      404 non-null    float64\n",
            " 13  superfund-right-to-sue                  410 non-null    float64\n",
            " 14  crime                                   418 non-null    float64\n",
            " 15  duty-free-exports                       407 non-null    float64\n",
            " 16  export-administration-act-south-africa  331 non-null    float64\n",
            "dtypes: float64(16), int64(1)\n",
            "memory usage: 57.9 KB\n",
            "None\n",
            "\n",
            "\n"
          ]
        }
      ]
    },
    {
      "cell_type": "code",
      "source": [
        "# Imprime uma analise descritiva sobre dos dados\n",
        "print(\"DESCRIÇÃO DOS DADOS\\n\")\n",
        "print(df.describe())\n",
        "print(\"\\n\")"
      ],
      "metadata": {
        "id": "QEWwbFNAHTVB",
        "colab": {
          "base_uri": "https://localhost:8080/"
        },
        "outputId": "69a67270-cf46-4f2e-a33a-2bab18ede3cc"
      },
      "execution_count": 7,
      "outputs": [
        {
          "output_type": "stream",
          "name": "stdout",
          "text": [
            "DESCRIÇÃO DOS DADOS\n",
            "\n",
            "       Class-Name  handicapped-infants  water-project-cost-sharing  \\\n",
            "count  435.000000           423.000000                  387.000000   \n",
            "mean     0.613793             0.442080                    0.503876   \n",
            "std      0.487440             0.497222                    0.500632   \n",
            "min      0.000000             0.000000                    0.000000   \n",
            "25%      0.000000             0.000000                    0.000000   \n",
            "50%      1.000000             0.000000                    1.000000   \n",
            "75%      1.000000             1.000000                    1.000000   \n",
            "max      1.000000             1.000000                    1.000000   \n",
            "\n",
            "       adoption-of-the-budget-resolution  physician-fee-freeze  \\\n",
            "count                         424.000000            424.000000   \n",
            "mean                            0.596698              0.417453   \n",
            "std                             0.491140              0.493721   \n",
            "min                             0.000000              0.000000   \n",
            "25%                             0.000000              0.000000   \n",
            "50%                             1.000000              0.000000   \n",
            "75%                             1.000000              1.000000   \n",
            "max                             1.000000              1.000000   \n",
            "\n",
            "       el-salvador-aid  religious-groups-in-schools  anti-satellite-test-ban  \\\n",
            "count       420.000000                   424.000000               421.000000   \n",
            "mean          0.504762                     0.641509                 0.567696   \n",
            "std           0.500574                     0.480124                 0.495985   \n",
            "min           0.000000                     0.000000                 0.000000   \n",
            "25%           0.000000                     0.000000                 0.000000   \n",
            "50%           1.000000                     1.000000                 1.000000   \n",
            "75%           1.000000                     1.000000                 1.000000   \n",
            "max           1.000000                     1.000000                 1.000000   \n",
            "\n",
            "       aid-to-nicaraguan-contras  mx-missile  immigration  \\\n",
            "count                  420.00000  413.000000   428.000000   \n",
            "mean                     0.57619    0.501211     0.504673   \n",
            "std                      0.49475    0.500605     0.500563   \n",
            "min                      0.00000    0.000000     0.000000   \n",
            "25%                      0.00000    0.000000     0.000000   \n",
            "50%                      1.00000    1.000000     1.000000   \n",
            "75%                      1.00000    1.000000     1.000000   \n",
            "max                      1.00000    1.000000     1.000000   \n",
            "\n",
            "       synfuels-corporation-cutback  education-spending  \\\n",
            "count                    414.000000          404.000000   \n",
            "mean                       0.362319            0.423267   \n",
            "std                        0.481252            0.494690   \n",
            "min                        0.000000            0.000000   \n",
            "25%                        0.000000            0.000000   \n",
            "50%                        0.000000            0.000000   \n",
            "75%                        1.000000            1.000000   \n",
            "max                        1.000000            1.000000   \n",
            "\n",
            "       superfund-right-to-sue       crime  duty-free-exports  \\\n",
            "count              410.000000  418.000000         407.000000   \n",
            "mean                 0.509756    0.593301           0.427518   \n",
            "std                  0.500516    0.491806           0.495327   \n",
            "min                  0.000000    0.000000           0.000000   \n",
            "25%                  0.000000    0.000000           0.000000   \n",
            "50%                  1.000000    1.000000           0.000000   \n",
            "75%                  1.000000    1.000000           1.000000   \n",
            "max                  1.000000    1.000000           1.000000   \n",
            "\n",
            "       export-administration-act-south-africa  \n",
            "count                              331.000000  \n",
            "mean                                 0.812689  \n",
            "std                                  0.390752  \n",
            "min                                  0.000000  \n",
            "25%                                  1.000000  \n",
            "50%                                  1.000000  \n",
            "75%                                  1.000000  \n",
            "max                                  1.000000  \n",
            "\n",
            "\n"
          ]
        }
      ]
    },
    {
      "cell_type": "code",
      "source": [
        "# Imprime a quantidade de valores faltantes por coluna\n",
        "print(\"VALORES FALTANTES\\n\")\n",
        "print(df.isnull().sum())\n",
        "print(\"\\n\")"
      ],
      "metadata": {
        "id": "MyqxBnAgHWOZ",
        "colab": {
          "base_uri": "https://localhost:8080/"
        },
        "outputId": "5f3d2ce7-7ff5-43e9-8b12-1884a0951d4d"
      },
      "execution_count": 8,
      "outputs": [
        {
          "output_type": "stream",
          "name": "stdout",
          "text": [
            "VALORES FALTANTES\n",
            "\n",
            "Class-Name                                  0\n",
            "handicapped-infants                        12\n",
            "water-project-cost-sharing                 48\n",
            "adoption-of-the-budget-resolution          11\n",
            "physician-fee-freeze                       11\n",
            "el-salvador-aid                            15\n",
            "religious-groups-in-schools                11\n",
            "anti-satellite-test-ban                    14\n",
            "aid-to-nicaraguan-contras                  15\n",
            "mx-missile                                 22\n",
            "immigration                                 7\n",
            "synfuels-corporation-cutback               21\n",
            "education-spending                         31\n",
            "superfund-right-to-sue                     25\n",
            "crime                                      17\n",
            "duty-free-exports                          28\n",
            "export-administration-act-south-africa    104\n",
            "dtype: int64\n",
            "\n",
            "\n"
          ]
        }
      ]
    },
    {
      "cell_type": "markdown",
      "source": [
        "Imprimindo colunas com valores ausentes"
      ],
      "metadata": {
        "id": "RqJIks_DF1Kq"
      }
    },
    {
      "cell_type": "code",
      "source": [
        "columns_missing_value = df.columns[df.isnull().any()]\n",
        "print(columns_missing_value)\n",
        "method = 'number' # number or median or mean or mode"
      ],
      "metadata": {
        "id": "U3j1hpK2F4Aa",
        "colab": {
          "base_uri": "https://localhost:8080/"
        },
        "outputId": "2e1b7682-8d03-4185-f741-c95027e984d4"
      },
      "execution_count": 9,
      "outputs": [
        {
          "output_type": "stream",
          "name": "stdout",
          "text": [
            "Index(['handicapped-infants', 'water-project-cost-sharing',\n",
            "       'adoption-of-the-budget-resolution', 'physician-fee-freeze',\n",
            "       'el-salvador-aid', 'religious-groups-in-schools',\n",
            "       'anti-satellite-test-ban', 'aid-to-nicaraguan-contras', 'mx-missile',\n",
            "       'immigration', 'synfuels-corporation-cutback', 'education-spending',\n",
            "       'superfund-right-to-sue', 'crime', 'duty-free-exports',\n",
            "       'export-administration-act-south-africa'],\n",
            "      dtype='object')\n"
          ]
        }
      ]
    },
    {
      "cell_type": "markdown",
      "source": [
        "Função para atualizar os valores ausentes para 2, usando o método de número\n"
      ],
      "metadata": {
        "id": "z5Zx0ZAWwtAq"
      }
    },
    {
      "cell_type": "code",
      "source": [
        "def UpdateMissingValues(df, column, method=\"number\", number=2):\n",
        "    if method == 'number':\n",
        "        # Substituindo valores ausentes por um número\n",
        "        df[column].fillna(number, inplace=True)\n",
        "    elif method == 'median':\n",
        "        # Substituindo valores ausentes pela mediana \n",
        "        median = df['Density'].median()\n",
        "        df[column].fillna(median, inplace=True)\n",
        "    elif method == 'mean':\n",
        "        # Substituindo valores ausentes pela média\n",
        "        mean = df[column].mean()\n",
        "        df[column].fillna(mean, inplace=True)\n",
        "    elif method == 'mode':\n",
        "        # Substituindo valores ausentes pela moda\n",
        "        mode = df[column].mode()[0]\n",
        "        df[column].fillna(mode, inplace=True)"
      ],
      "metadata": {
        "id": "ubQhfT-eH78C"
      },
      "execution_count": 10,
      "outputs": []
    },
    {
      "cell_type": "markdown",
      "source": [
        "Salvando um novo arquivo com a substituição para os dados faltantes. para visualizá-lo, atualize a parte de arquivos.\n"
      ],
      "metadata": {
        "id": "olfgzJvFs8EZ"
      }
    },
    {
      "cell_type": "code",
      "source": [
        "method = 'number' # number or median or mean or mode\n",
        "    \n",
        "for c in columns_missing_value:\n",
        "    UpdateMissingValues(df, c, method, 2)  \n",
        "\n",
        "# Salva arquivo com o tratamento para dados faltantes\n",
        "df.to_csv(output_file_abstencao, header=False, index=False)  "
      ],
      "metadata": {
        "id": "rt5MNwGpJrey"
      },
      "execution_count": 11,
      "outputs": []
    },
    {
      "cell_type": "markdown",
      "source": [
        "# Atividade 2 - Redução e Transformação\n",
        "\n",
        "\n"
      ],
      "metadata": {
        "id": "TVJTNe3AGuF7"
      }
    },
    {
      "cell_type": "markdown",
      "source": [
        "- Utilize alguma técnica de normalização de dados;\n",
        "\n",
        "- Utilize a técnica PCA e plot os dois principais componentes."
      ],
      "metadata": {
        "id": "AeLloB83HPeK"
      }
    },
    {
      "cell_type": "markdown",
      "source": [
        "## Normalização de dados"
      ],
      "metadata": {
        "id": "RtFFQ0hKHijo"
      }
    },
    {
      "cell_type": "markdown",
      "source": [
        "###Código"
      ],
      "metadata": {
        "id": "DAX-lXK-IAVr"
      }
    },
    {
      "cell_type": "markdown",
      "source": [
        "Imports necessários"
      ],
      "metadata": {
        "id": "Uzjsn5v7H6SD"
      }
    },
    {
      "cell_type": "code",
      "source": [
        "from sklearn.preprocessing import StandardScaler\n",
        "from sklearn.preprocessing import MinMaxScaler"
      ],
      "metadata": {
        "id": "E-pUzFxP8e3d"
      },
      "execution_count": 12,
      "outputs": []
    },
    {
      "cell_type": "markdown",
      "source": [
        "Lendo o arquivo\n"
      ],
      "metadata": {
        "id": "8Z3TJ-DtLNEq"
      }
    },
    {
      "cell_type": "code",
      "source": [
        "input_file = '/content/house-votes-84-abstencao.data'\n",
        "names = ['Class-Name','handicapped-infants','water-project-cost-sharing','adoption-of-the-budget-resolution','physician-fee-freeze','el-salvador-aid',\n",
        "          'religious-groups-in-schools','anti-satellite-test-ban','aid-to-nicaraguan-contras','mx-missile','immigration','synfuels-corporation-cutback','education-spending',\n",
        "          'superfund-right-to-sue','crime','duty-free-exports','export-administration-act-south-africa']\n",
        "features = ['handicapped-infants','water-project-cost-sharing','adoption-of-the-budget-resolution','physician-fee-freeze','el-salvador-aid',\n",
        "          'religious-groups-in-schools','anti-satellite-test-ban','aid-to-nicaraguan-contras','mx-missile','immigration','synfuels-corporation-cutback','education-spending',\n",
        "          'superfund-right-to-sue','crime','duty-free-exports','export-administration-act-south-africa']\n",
        "target = 'Class-Name'\n",
        "df = pd.read_csv(input_file,    # Nome do arquivo com dados\n",
        "                 names = names) # Nome das colunas"
      ],
      "metadata": {
        "id": "T8Pnf_rRLQTi"
      },
      "execution_count": 13,
      "outputs": []
    },
    {
      "cell_type": "markdown",
      "source": [
        "Separando as características do alvo"
      ],
      "metadata": {
        "id": "ITKTzQJHUZGP"
      }
    },
    {
      "cell_type": "code",
      "source": [
        "x = df.loc[:, features].values\n",
        "y = df.loc[:,[target]].values"
      ],
      "metadata": {
        "id": "uvDdYr6eMqbK"
      },
      "execution_count": 14,
      "outputs": []
    },
    {
      "cell_type": "markdown",
      "source": [
        "Função para mostrar o dataframe"
      ],
      "metadata": {
        "id": "hdh8M30IUk4A"
      }
    },
    {
      "cell_type": "code",
      "source": [
        "def ShowInformationDataFrame(df, message=\"\"):\n",
        "    print(message+\"\\n\")\n",
        "    print(df.info())\n",
        "    print(df.describe())\n",
        "    print(df.head(10))\n",
        "    print(\"\\n\") "
      ],
      "metadata": {
        "id": "nzgp7cgaL_XC"
      },
      "execution_count": 15,
      "outputs": []
    },
    {
      "cell_type": "markdown",
      "source": [
        "Mostrando o dataframe"
      ],
      "metadata": {
        "id": "7qwl1S2FUp8p"
      }
    },
    {
      "cell_type": "code",
      "source": [
        "ShowInformationDataFrame(df,\"Dataframe original\")"
      ],
      "metadata": {
        "id": "JpQFb9bvMH9C",
        "colab": {
          "base_uri": "https://localhost:8080/"
        },
        "outputId": "7928d0f0-6da9-4199-bd0f-64d4d83ce363"
      },
      "execution_count": 16,
      "outputs": [
        {
          "output_type": "stream",
          "name": "stdout",
          "text": [
            "Dataframe original\n",
            "\n",
            "<class 'pandas.core.frame.DataFrame'>\n",
            "RangeIndex: 435 entries, 0 to 434\n",
            "Data columns (total 17 columns):\n",
            " #   Column                                  Non-Null Count  Dtype  \n",
            "---  ------                                  --------------  -----  \n",
            " 0   Class-Name                              435 non-null    int64  \n",
            " 1   handicapped-infants                     435 non-null    float64\n",
            " 2   water-project-cost-sharing              435 non-null    float64\n",
            " 3   adoption-of-the-budget-resolution       435 non-null    float64\n",
            " 4   physician-fee-freeze                    435 non-null    float64\n",
            " 5   el-salvador-aid                         435 non-null    float64\n",
            " 6   religious-groups-in-schools             435 non-null    float64\n",
            " 7   anti-satellite-test-ban                 435 non-null    float64\n",
            " 8   aid-to-nicaraguan-contras               435 non-null    float64\n",
            " 9   mx-missile                              435 non-null    float64\n",
            " 10  immigration                             435 non-null    float64\n",
            " 11  synfuels-corporation-cutback            435 non-null    float64\n",
            " 12  education-spending                      435 non-null    float64\n",
            " 13  superfund-right-to-sue                  435 non-null    float64\n",
            " 14  crime                                   435 non-null    float64\n",
            " 15  duty-free-exports                       435 non-null    float64\n",
            " 16  export-administration-act-south-africa  435 non-null    float64\n",
            "dtypes: float64(16), int64(1)\n",
            "memory usage: 57.9 KB\n",
            "None\n",
            "       Class-Name  handicapped-infants  water-project-cost-sharing  \\\n",
            "count  435.000000           435.000000                  435.000000   \n",
            "mean     0.613793             0.485057                    0.668966   \n",
            "std      0.487440             0.552858                    0.665702   \n",
            "min      0.000000             0.000000                    0.000000   \n",
            "25%      0.000000             0.000000                    0.000000   \n",
            "50%      1.000000             0.000000                    1.000000   \n",
            "75%      1.000000             1.000000                    1.000000   \n",
            "max      1.000000             2.000000                    2.000000   \n",
            "\n",
            "       adoption-of-the-budget-resolution  physician-fee-freeze  \\\n",
            "count                         435.000000            435.000000   \n",
            "mean                            0.632184              0.457471   \n",
            "std                             0.532686              0.547224   \n",
            "min                             0.000000              0.000000   \n",
            "25%                             0.000000              0.000000   \n",
            "50%                             1.000000              0.000000   \n",
            "75%                             1.000000              1.000000   \n",
            "max                             2.000000              2.000000   \n",
            "\n",
            "       el-salvador-aid  religious-groups-in-schools  anti-satellite-test-ban  \\\n",
            "count       435.000000                   435.000000               435.000000   \n",
            "mean          0.556322                     0.675862                 0.613793   \n",
            "std           0.562602                     0.519874                 0.549648   \n",
            "min           0.000000                     0.000000                 0.000000   \n",
            "25%           0.000000                     0.000000                 0.000000   \n",
            "50%           1.000000                     1.000000                 1.000000   \n",
            "75%           1.000000                     1.000000                 1.000000   \n",
            "max           2.000000                     2.000000                 2.000000   \n",
            "\n",
            "       aid-to-nicaraguan-contras  mx-missile  immigration  \\\n",
            "count                 435.000000  435.000000   435.000000   \n",
            "mean                    0.625287    0.577011     0.528736   \n",
            "std                     0.551332    0.588230     0.531043   \n",
            "min                     0.000000    0.000000     0.000000   \n",
            "25%                     0.000000    0.000000     0.000000   \n",
            "50%                     1.000000    1.000000     1.000000   \n",
            "75%                     1.000000    1.000000     1.000000   \n",
            "max                     2.000000    2.000000     2.000000   \n",
            "\n",
            "       synfuels-corporation-cutback  education-spending  \\\n",
            "count                    435.000000          435.000000   \n",
            "mean                       0.441379            0.535632   \n",
            "std                        0.586435            0.626227   \n",
            "min                        0.000000            0.000000   \n",
            "25%                        0.000000            0.000000   \n",
            "50%                        0.000000            0.000000   \n",
            "75%                        1.000000            1.000000   \n",
            "max                        2.000000            2.000000   \n",
            "\n",
            "       superfund-right-to-sue       crime  duty-free-exports  \\\n",
            "count              435.000000  435.000000         435.000000   \n",
            "mean                 0.595402    0.648276           0.528736   \n",
            "std                  0.597211    0.553968           0.615452   \n",
            "min                  0.000000    0.000000           0.000000   \n",
            "25%                  0.000000    0.000000           0.000000   \n",
            "50%                  1.000000    1.000000           0.000000   \n",
            "75%                  1.000000    1.000000           1.000000   \n",
            "max                  2.000000    2.000000           2.000000   \n",
            "\n",
            "       export-administration-act-south-africa  \n",
            "count                              435.000000  \n",
            "mean                                 1.096552  \n",
            "std                                  0.610856  \n",
            "min                                  0.000000  \n",
            "25%                                  1.000000  \n",
            "50%                                  1.000000  \n",
            "75%                                  1.000000  \n",
            "max                                  2.000000  \n",
            "   Class-Name  handicapped-infants  water-project-cost-sharing  \\\n",
            "0           0                  0.0                         1.0   \n",
            "1           0                  0.0                         1.0   \n",
            "2           1                  2.0                         1.0   \n",
            "3           1                  0.0                         1.0   \n",
            "4           1                  1.0                         1.0   \n",
            "5           1                  0.0                         1.0   \n",
            "6           1                  0.0                         1.0   \n",
            "7           0                  0.0                         1.0   \n",
            "8           0                  0.0                         1.0   \n",
            "9           1                  1.0                         1.0   \n",
            "\n",
            "   adoption-of-the-budget-resolution  physician-fee-freeze  el-salvador-aid  \\\n",
            "0                                0.0                   1.0              1.0   \n",
            "1                                0.0                   1.0              1.0   \n",
            "2                                1.0                   2.0              1.0   \n",
            "3                                1.0                   0.0              2.0   \n",
            "4                                1.0                   0.0              1.0   \n",
            "5                                1.0                   0.0              1.0   \n",
            "6                                0.0                   1.0              1.0   \n",
            "7                                0.0                   1.0              1.0   \n",
            "8                                0.0                   1.0              1.0   \n",
            "9                                1.0                   0.0              0.0   \n",
            "\n",
            "   religious-groups-in-schools  anti-satellite-test-ban  \\\n",
            "0                          1.0                      0.0   \n",
            "1                          1.0                      0.0   \n",
            "2                          1.0                      0.0   \n",
            "3                          1.0                      0.0   \n",
            "4                          1.0                      0.0   \n",
            "5                          1.0                      0.0   \n",
            "6                          1.0                      0.0   \n",
            "7                          1.0                      0.0   \n",
            "8                          1.0                      0.0   \n",
            "9                          0.0                      1.0   \n",
            "\n",
            "   aid-to-nicaraguan-contras  mx-missile  immigration  \\\n",
            "0                        0.0         0.0          1.0   \n",
            "1                        0.0         0.0          0.0   \n",
            "2                        0.0         0.0          0.0   \n",
            "3                        0.0         0.0          0.0   \n",
            "4                        0.0         0.0          0.0   \n",
            "5                        0.0         0.0          0.0   \n",
            "6                        0.0         0.0          0.0   \n",
            "7                        0.0         0.0          0.0   \n",
            "8                        0.0         0.0          0.0   \n",
            "9                        1.0         1.0          0.0   \n",
            "\n",
            "   synfuels-corporation-cutback  education-spending  superfund-right-to-sue  \\\n",
            "0                           2.0                 1.0                     1.0   \n",
            "1                           0.0                 1.0                     1.0   \n",
            "2                           1.0                 0.0                     1.0   \n",
            "3                           1.0                 0.0                     1.0   \n",
            "4                           1.0                 2.0                     1.0   \n",
            "5                           0.0                 0.0                     1.0   \n",
            "6                           0.0                 0.0                     2.0   \n",
            "7                           0.0                 0.0                     1.0   \n",
            "8                           0.0                 1.0                     1.0   \n",
            "9                           0.0                 0.0                     0.0   \n",
            "\n",
            "   crime  duty-free-exports  export-administration-act-south-africa  \n",
            "0    1.0                0.0                                     1.0  \n",
            "1    1.0                0.0                                     2.0  \n",
            "2    1.0                0.0                                     0.0  \n",
            "3    0.0                0.0                                     1.0  \n",
            "4    1.0                1.0                                     1.0  \n",
            "5    1.0                1.0                                     1.0  \n",
            "6    1.0                1.0                                     1.0  \n",
            "7    1.0                2.0                                     1.0  \n",
            "8    1.0                0.0                                     1.0  \n",
            "9    0.0                2.0                                     2.0  \n",
            "\n",
            "\n"
          ]
        }
      ]
    },
    {
      "cell_type": "markdown",
      "source": [
        "Normalização com Z-score"
      ],
      "metadata": {
        "id": "fNDcgxIQUttq"
      }
    },
    {
      "cell_type": "code",
      "source": [
        "# Z-score normalization\n",
        "x_zcore = StandardScaler().fit_transform(x)\n",
        "normalized1Df = pd.DataFrame(data = x_zcore, columns = features)\n",
        "normalized1Df = pd.concat([normalized1Df, df[[target]]], axis = 1)\n",
        "ShowInformationDataFrame(normalized1Df,\"Dataframe Z-Score Normalized\")"
      ],
      "metadata": {
        "id": "-TXtmlY8Mxl7",
        "colab": {
          "base_uri": "https://localhost:8080/"
        },
        "outputId": "0b08d3cb-1aef-4a1f-bdcb-5fcbaf42d5b2"
      },
      "execution_count": 17,
      "outputs": [
        {
          "output_type": "stream",
          "name": "stdout",
          "text": [
            "Dataframe Z-Score Normalized\n",
            "\n",
            "<class 'pandas.core.frame.DataFrame'>\n",
            "RangeIndex: 435 entries, 0 to 434\n",
            "Data columns (total 17 columns):\n",
            " #   Column                                  Non-Null Count  Dtype  \n",
            "---  ------                                  --------------  -----  \n",
            " 0   handicapped-infants                     435 non-null    float64\n",
            " 1   water-project-cost-sharing              435 non-null    float64\n",
            " 2   adoption-of-the-budget-resolution       435 non-null    float64\n",
            " 3   physician-fee-freeze                    435 non-null    float64\n",
            " 4   el-salvador-aid                         435 non-null    float64\n",
            " 5   religious-groups-in-schools             435 non-null    float64\n",
            " 6   anti-satellite-test-ban                 435 non-null    float64\n",
            " 7   aid-to-nicaraguan-contras               435 non-null    float64\n",
            " 8   mx-missile                              435 non-null    float64\n",
            " 9   immigration                             435 non-null    float64\n",
            " 10  synfuels-corporation-cutback            435 non-null    float64\n",
            " 11  education-spending                      435 non-null    float64\n",
            " 12  superfund-right-to-sue                  435 non-null    float64\n",
            " 13  crime                                   435 non-null    float64\n",
            " 14  duty-free-exports                       435 non-null    float64\n",
            " 15  export-administration-act-south-africa  435 non-null    float64\n",
            " 16  Class-Name                              435 non-null    int64  \n",
            "dtypes: float64(16), int64(1)\n",
            "memory usage: 57.9 KB\n",
            "None\n",
            "       handicapped-infants  water-project-cost-sharing  \\\n",
            "count         4.350000e+02                4.350000e+02   \n",
            "mean          7.095218e-17                4.058057e-17   \n",
            "std           1.001151e+00                1.001151e+00   \n",
            "min          -8.783740e-01               -1.006060e+00   \n",
            "25%          -8.783740e-01               -1.006060e+00   \n",
            "50%          -8.783740e-01                4.978439e-01   \n",
            "75%           9.324919e-01                4.978439e-01   \n",
            "max           2.743358e+00                2.001747e+00   \n",
            "\n",
            "       adoption-of-the-budget-resolution  physician-fee-freeze  \\\n",
            "count                       4.350000e+02          4.350000e+02   \n",
            "mean                       -1.092357e-16          1.995849e-16   \n",
            "std                         1.001151e+00          1.001151e+00   \n",
            "min                        -1.188152e+00         -8.369475e-01   \n",
            "25%                        -1.188152e+00         -8.369475e-01   \n",
            "50%                         6.912882e-01         -8.369475e-01   \n",
            "75%                         6.912882e-01          9.925609e-01   \n",
            "max                         2.570728e+00          2.822069e+00   \n",
            "\n",
            "       el-salvador-aid  religious-groups-in-schools  anti-satellite-test-ban  \\\n",
            "count     4.350000e+02                 4.350000e+02             4.350000e+02   \n",
            "mean      2.348058e-16                -5.563876e-17            -7.860889e-17   \n",
            "std       1.001151e+00                 1.001151e+00             1.001151e+00   \n",
            "min      -9.899759e-01                -1.301548e+00            -1.117987e+00   \n",
            "25%      -9.899759e-01                -1.301548e+00            -1.117987e+00   \n",
            "50%       7.895262e-01                 6.242116e-01             7.034525e-01   \n",
            "75%       7.895262e-01                 6.242116e-01             7.034525e-01   \n",
            "max       2.569028e+00                 2.549971e+00             2.524892e+00   \n",
            "\n",
            "       aid-to-nicaraguan-contras    mx-missile   immigration  \\\n",
            "count               4.350000e+02  4.350000e+02  4.350000e+02   \n",
            "mean               -1.306745e-16  9.443276e-18  6.635816e-18   \n",
            "std                 1.001151e+00  1.001151e+00  1.001151e+00   \n",
            "min                -1.135445e+00 -9.820584e-01 -9.968018e-01   \n",
            "25%                -1.135445e+00 -9.820584e-01 -9.968018e-01   \n",
            "50%                 6.804318e-01  7.199154e-01  8.884538e-01   \n",
            "75%                 6.804318e-01  7.199154e-01  8.884538e-01   \n",
            "max                 2.496308e+00  2.421889e+00  2.773709e+00   \n",
            "\n",
            "       synfuels-corporation-cutback  education-spending  \\\n",
            "count                  4.350000e+02        4.350000e+02   \n",
            "mean                  -6.380592e-17       -4.134624e-17   \n",
            "std                    1.001151e+00        1.001151e+00   \n",
            "min                   -7.535150e-01       -8.563168e-01   \n",
            "25%                   -7.535150e-01       -8.563168e-01   \n",
            "50%                   -7.535150e-01       -8.563168e-01   \n",
            "75%                    9.536674e-01        7.423862e-01   \n",
            "max                    2.660850e+00        2.341089e+00   \n",
            "\n",
            "       superfund-right-to-sue         crime  duty-free-exports  \\\n",
            "count            4.350000e+02  4.350000e+02       4.350000e+02   \n",
            "mean             8.218203e-17  8.218203e-17       6.125368e-17   \n",
            "std              1.001151e+00  1.001151e+00       1.001151e+00   \n",
            "min             -9.981195e-01 -1.171588e+00      -8.600911e-01   \n",
            "25%             -9.981195e-01 -1.171588e+00      -8.600911e-01   \n",
            "50%              6.782588e-01  6.356487e-01      -8.600911e-01   \n",
            "75%              6.782588e-01  6.356487e-01       7.666029e-01   \n",
            "max              2.354637e+00  2.442885e+00       2.393297e+00   \n",
            "\n",
            "       export-administration-act-south-africa  Class-Name  \n",
            "count                            4.350000e+02  435.000000  \n",
            "mean                             6.125368e-17    0.613793  \n",
            "std                              1.001151e+00    0.487440  \n",
            "min                             -1.797174e+00    0.000000  \n",
            "25%                             -1.582418e-01    0.000000  \n",
            "50%                             -1.582418e-01    1.000000  \n",
            "75%                             -1.582418e-01    1.000000  \n",
            "max                              1.480691e+00    1.000000  \n",
            "   handicapped-infants  water-project-cost-sharing  \\\n",
            "0            -0.878374                    0.497844   \n",
            "1            -0.878374                    0.497844   \n",
            "2             2.743358                    0.497844   \n",
            "3            -0.878374                    0.497844   \n",
            "4             0.932492                    0.497844   \n",
            "5            -0.878374                    0.497844   \n",
            "6            -0.878374                    0.497844   \n",
            "7            -0.878374                    0.497844   \n",
            "8            -0.878374                    0.497844   \n",
            "9             0.932492                    0.497844   \n",
            "\n",
            "   adoption-of-the-budget-resolution  physician-fee-freeze  el-salvador-aid  \\\n",
            "0                          -1.188152              0.992561         0.789526   \n",
            "1                          -1.188152              0.992561         0.789526   \n",
            "2                           0.691288              2.822069         0.789526   \n",
            "3                           0.691288             -0.836948         2.569028   \n",
            "4                           0.691288             -0.836948         0.789526   \n",
            "5                           0.691288             -0.836948         0.789526   \n",
            "6                          -1.188152              0.992561         0.789526   \n",
            "7                          -1.188152              0.992561         0.789526   \n",
            "8                          -1.188152              0.992561         0.789526   \n",
            "9                           0.691288             -0.836948        -0.989976   \n",
            "\n",
            "   religious-groups-in-schools  anti-satellite-test-ban  \\\n",
            "0                     0.624212                -1.117987   \n",
            "1                     0.624212                -1.117987   \n",
            "2                     0.624212                -1.117987   \n",
            "3                     0.624212                -1.117987   \n",
            "4                     0.624212                -1.117987   \n",
            "5                     0.624212                -1.117987   \n",
            "6                     0.624212                -1.117987   \n",
            "7                     0.624212                -1.117987   \n",
            "8                     0.624212                -1.117987   \n",
            "9                    -1.301548                 0.703452   \n",
            "\n",
            "   aid-to-nicaraguan-contras  mx-missile  immigration  \\\n",
            "0                  -1.135445   -0.982058     0.888454   \n",
            "1                  -1.135445   -0.982058    -0.996802   \n",
            "2                  -1.135445   -0.982058    -0.996802   \n",
            "3                  -1.135445   -0.982058    -0.996802   \n",
            "4                  -1.135445   -0.982058    -0.996802   \n",
            "5                  -1.135445   -0.982058    -0.996802   \n",
            "6                  -1.135445   -0.982058    -0.996802   \n",
            "7                  -1.135445   -0.982058    -0.996802   \n",
            "8                  -1.135445   -0.982058    -0.996802   \n",
            "9                   0.680432    0.719915    -0.996802   \n",
            "\n",
            "   synfuels-corporation-cutback  education-spending  superfund-right-to-sue  \\\n",
            "0                      2.660850            0.742386                0.678259   \n",
            "1                     -0.753515            0.742386                0.678259   \n",
            "2                      0.953667           -0.856317                0.678259   \n",
            "3                      0.953667           -0.856317                0.678259   \n",
            "4                      0.953667            2.341089                0.678259   \n",
            "5                     -0.753515           -0.856317                0.678259   \n",
            "6                     -0.753515           -0.856317                2.354637   \n",
            "7                     -0.753515           -0.856317                0.678259   \n",
            "8                     -0.753515            0.742386                0.678259   \n",
            "9                     -0.753515           -0.856317               -0.998120   \n",
            "\n",
            "      crime  duty-free-exports  export-administration-act-south-africa  \\\n",
            "0  0.635649          -0.860091                               -0.158242   \n",
            "1  0.635649          -0.860091                                1.480691   \n",
            "2  0.635649          -0.860091                               -1.797174   \n",
            "3 -1.171588          -0.860091                               -0.158242   \n",
            "4  0.635649           0.766603                               -0.158242   \n",
            "5  0.635649           0.766603                               -0.158242   \n",
            "6  0.635649           0.766603                               -0.158242   \n",
            "7  0.635649           2.393297                               -0.158242   \n",
            "8  0.635649          -0.860091                               -0.158242   \n",
            "9 -1.171588           2.393297                                1.480691   \n",
            "\n",
            "   Class-Name  \n",
            "0           0  \n",
            "1           0  \n",
            "2           1  \n",
            "3           1  \n",
            "4           1  \n",
            "5           1  \n",
            "6           1  \n",
            "7           0  \n",
            "8           0  \n",
            "9           1  \n",
            "\n",
            "\n"
          ]
        }
      ]
    },
    {
      "cell_type": "markdown",
      "source": [
        "Salvando a normalização"
      ],
      "metadata": {
        "id": "MVuAtpHjU0Rp"
      }
    },
    {
      "cell_type": "code",
      "source": [
        "# Salva arquivo com o tratamento para dados faltantes\n",
        "normalized1Df.to_csv('/content/house-votes-z-score.data', header=False, index=False) "
      ],
      "metadata": {
        "id": "uqV7Q874NXxa"
      },
      "execution_count": 18,
      "outputs": []
    },
    {
      "cell_type": "markdown",
      "source": [
        "Normalização com Min-Max"
      ],
      "metadata": {
        "id": "f_8yp3GKU5SQ"
      }
    },
    {
      "cell_type": "code",
      "source": [
        "# Mix-Max normalization\n",
        "x_minmax = MinMaxScaler().fit_transform(x)\n",
        "normalized2Df = pd.DataFrame(data = x_minmax, columns = features)\n",
        "normalized2Df = pd.concat([normalized2Df, df[[target]]], axis = 1)\n",
        "ShowInformationDataFrame(normalized2Df,\"Dataframe Min-Max Normalized\")"
      ],
      "metadata": {
        "id": "RLu4Xf-KM_93",
        "colab": {
          "base_uri": "https://localhost:8080/"
        },
        "outputId": "028c50e9-9a92-469b-fa7d-062465485807"
      },
      "execution_count": 19,
      "outputs": [
        {
          "output_type": "stream",
          "name": "stdout",
          "text": [
            "Dataframe Min-Max Normalized\n",
            "\n",
            "<class 'pandas.core.frame.DataFrame'>\n",
            "RangeIndex: 435 entries, 0 to 434\n",
            "Data columns (total 17 columns):\n",
            " #   Column                                  Non-Null Count  Dtype  \n",
            "---  ------                                  --------------  -----  \n",
            " 0   handicapped-infants                     435 non-null    float64\n",
            " 1   water-project-cost-sharing              435 non-null    float64\n",
            " 2   adoption-of-the-budget-resolution       435 non-null    float64\n",
            " 3   physician-fee-freeze                    435 non-null    float64\n",
            " 4   el-salvador-aid                         435 non-null    float64\n",
            " 5   religious-groups-in-schools             435 non-null    float64\n",
            " 6   anti-satellite-test-ban                 435 non-null    float64\n",
            " 7   aid-to-nicaraguan-contras               435 non-null    float64\n",
            " 8   mx-missile                              435 non-null    float64\n",
            " 9   immigration                             435 non-null    float64\n",
            " 10  synfuels-corporation-cutback            435 non-null    float64\n",
            " 11  education-spending                      435 non-null    float64\n",
            " 12  superfund-right-to-sue                  435 non-null    float64\n",
            " 13  crime                                   435 non-null    float64\n",
            " 14  duty-free-exports                       435 non-null    float64\n",
            " 15  export-administration-act-south-africa  435 non-null    float64\n",
            " 16  Class-Name                              435 non-null    int64  \n",
            "dtypes: float64(16), int64(1)\n",
            "memory usage: 57.9 KB\n",
            "None\n",
            "       handicapped-infants  water-project-cost-sharing  \\\n",
            "count           435.000000                  435.000000   \n",
            "mean              0.242529                    0.334483   \n",
            "std               0.276429                    0.332851   \n",
            "min               0.000000                    0.000000   \n",
            "25%               0.000000                    0.000000   \n",
            "50%               0.000000                    0.500000   \n",
            "75%               0.500000                    0.500000   \n",
            "max               1.000000                    1.000000   \n",
            "\n",
            "       adoption-of-the-budget-resolution  physician-fee-freeze  \\\n",
            "count                         435.000000            435.000000   \n",
            "mean                            0.316092              0.228736   \n",
            "std                             0.266343              0.273612   \n",
            "min                             0.000000              0.000000   \n",
            "25%                             0.000000              0.000000   \n",
            "50%                             0.500000              0.000000   \n",
            "75%                             0.500000              0.500000   \n",
            "max                             1.000000              1.000000   \n",
            "\n",
            "       el-salvador-aid  religious-groups-in-schools  anti-satellite-test-ban  \\\n",
            "count       435.000000                   435.000000               435.000000   \n",
            "mean          0.278161                     0.337931                 0.306897   \n",
            "std           0.281301                     0.259937                 0.274824   \n",
            "min           0.000000                     0.000000                 0.000000   \n",
            "25%           0.000000                     0.000000                 0.000000   \n",
            "50%           0.500000                     0.500000                 0.500000   \n",
            "75%           0.500000                     0.500000                 0.500000   \n",
            "max           1.000000                     1.000000                 1.000000   \n",
            "\n",
            "       aid-to-nicaraguan-contras  mx-missile  immigration  \\\n",
            "count                 435.000000  435.000000   435.000000   \n",
            "mean                    0.312644    0.288506     0.264368   \n",
            "std                     0.275666    0.294115     0.265521   \n",
            "min                     0.000000    0.000000     0.000000   \n",
            "25%                     0.000000    0.000000     0.000000   \n",
            "50%                     0.500000    0.500000     0.500000   \n",
            "75%                     0.500000    0.500000     0.500000   \n",
            "max                     1.000000    1.000000     1.000000   \n",
            "\n",
            "       synfuels-corporation-cutback  education-spending  \\\n",
            "count                    435.000000          435.000000   \n",
            "mean                       0.220690            0.267816   \n",
            "std                        0.293217            0.313114   \n",
            "min                        0.000000            0.000000   \n",
            "25%                        0.000000            0.000000   \n",
            "50%                        0.000000            0.000000   \n",
            "75%                        0.500000            0.500000   \n",
            "max                        1.000000            1.000000   \n",
            "\n",
            "       superfund-right-to-sue       crime  duty-free-exports  \\\n",
            "count              435.000000  435.000000         435.000000   \n",
            "mean                 0.297701    0.324138           0.264368   \n",
            "std                  0.298605    0.276984           0.307726   \n",
            "min                  0.000000    0.000000           0.000000   \n",
            "25%                  0.000000    0.000000           0.000000   \n",
            "50%                  0.500000    0.500000           0.000000   \n",
            "75%                  0.500000    0.500000           0.500000   \n",
            "max                  1.000000    1.000000           1.000000   \n",
            "\n",
            "       export-administration-act-south-africa  Class-Name  \n",
            "count                              435.000000  435.000000  \n",
            "mean                                 0.548276    0.613793  \n",
            "std                                  0.305428    0.487440  \n",
            "min                                  0.000000    0.000000  \n",
            "25%                                  0.500000    0.000000  \n",
            "50%                                  0.500000    1.000000  \n",
            "75%                                  0.500000    1.000000  \n",
            "max                                  1.000000    1.000000  \n",
            "   handicapped-infants  water-project-cost-sharing  \\\n",
            "0                  0.0                         0.5   \n",
            "1                  0.0                         0.5   \n",
            "2                  1.0                         0.5   \n",
            "3                  0.0                         0.5   \n",
            "4                  0.5                         0.5   \n",
            "5                  0.0                         0.5   \n",
            "6                  0.0                         0.5   \n",
            "7                  0.0                         0.5   \n",
            "8                  0.0                         0.5   \n",
            "9                  0.5                         0.5   \n",
            "\n",
            "   adoption-of-the-budget-resolution  physician-fee-freeze  el-salvador-aid  \\\n",
            "0                                0.0                   0.5              0.5   \n",
            "1                                0.0                   0.5              0.5   \n",
            "2                                0.5                   1.0              0.5   \n",
            "3                                0.5                   0.0              1.0   \n",
            "4                                0.5                   0.0              0.5   \n",
            "5                                0.5                   0.0              0.5   \n",
            "6                                0.0                   0.5              0.5   \n",
            "7                                0.0                   0.5              0.5   \n",
            "8                                0.0                   0.5              0.5   \n",
            "9                                0.5                   0.0              0.0   \n",
            "\n",
            "   religious-groups-in-schools  anti-satellite-test-ban  \\\n",
            "0                          0.5                      0.0   \n",
            "1                          0.5                      0.0   \n",
            "2                          0.5                      0.0   \n",
            "3                          0.5                      0.0   \n",
            "4                          0.5                      0.0   \n",
            "5                          0.5                      0.0   \n",
            "6                          0.5                      0.0   \n",
            "7                          0.5                      0.0   \n",
            "8                          0.5                      0.0   \n",
            "9                          0.0                      0.5   \n",
            "\n",
            "   aid-to-nicaraguan-contras  mx-missile  immigration  \\\n",
            "0                        0.0         0.0          0.5   \n",
            "1                        0.0         0.0          0.0   \n",
            "2                        0.0         0.0          0.0   \n",
            "3                        0.0         0.0          0.0   \n",
            "4                        0.0         0.0          0.0   \n",
            "5                        0.0         0.0          0.0   \n",
            "6                        0.0         0.0          0.0   \n",
            "7                        0.0         0.0          0.0   \n",
            "8                        0.0         0.0          0.0   \n",
            "9                        0.5         0.5          0.0   \n",
            "\n",
            "   synfuels-corporation-cutback  education-spending  superfund-right-to-sue  \\\n",
            "0                           1.0                 0.5                     0.5   \n",
            "1                           0.0                 0.5                     0.5   \n",
            "2                           0.5                 0.0                     0.5   \n",
            "3                           0.5                 0.0                     0.5   \n",
            "4                           0.5                 1.0                     0.5   \n",
            "5                           0.0                 0.0                     0.5   \n",
            "6                           0.0                 0.0                     1.0   \n",
            "7                           0.0                 0.0                     0.5   \n",
            "8                           0.0                 0.5                     0.5   \n",
            "9                           0.0                 0.0                     0.0   \n",
            "\n",
            "   crime  duty-free-exports  export-administration-act-south-africa  \\\n",
            "0    0.5                0.0                                     0.5   \n",
            "1    0.5                0.0                                     1.0   \n",
            "2    0.5                0.0                                     0.0   \n",
            "3    0.0                0.0                                     0.5   \n",
            "4    0.5                0.5                                     0.5   \n",
            "5    0.5                0.5                                     0.5   \n",
            "6    0.5                0.5                                     0.5   \n",
            "7    0.5                1.0                                     0.5   \n",
            "8    0.5                0.0                                     0.5   \n",
            "9    0.0                1.0                                     1.0   \n",
            "\n",
            "   Class-Name  \n",
            "0           0  \n",
            "1           0  \n",
            "2           1  \n",
            "3           1  \n",
            "4           1  \n",
            "5           1  \n",
            "6           1  \n",
            "7           0  \n",
            "8           0  \n",
            "9           1  \n",
            "\n",
            "\n"
          ]
        }
      ]
    },
    {
      "cell_type": "markdown",
      "source": [
        "Salvando a normalização"
      ],
      "metadata": {
        "id": "OUsovI5aU9h4"
      }
    },
    {
      "cell_type": "code",
      "source": [
        "# Salva arquivo com o tratamento para dados faltantes\n",
        "normalized2Df.to_csv('/content/house-votes-min-max.data', header=False, index=False) "
      ],
      "metadata": {
        "id": "Eqyn6qdhNZ9a"
      },
      "execution_count": 20,
      "outputs": []
    },
    {
      "cell_type": "markdown",
      "source": [
        "##Redução de dados e PCA\n"
      ],
      "metadata": {
        "id": "UaANp7WxTzUI"
      }
    },
    {
      "cell_type": "markdown",
      "source": [
        "###Código"
      ],
      "metadata": {
        "id": "elS7Zm3ZT5eh"
      }
    },
    {
      "cell_type": "markdown",
      "source": [
        "Imports\n"
      ],
      "metadata": {
        "id": "oLcRCfrET8mB"
      }
    },
    {
      "cell_type": "code",
      "source": [
        "from sklearn.decomposition import PCA\n",
        "from sklearn.preprocessing import StandardScaler\n",
        "import matplotlib.pyplot as plt"
      ],
      "metadata": {
        "id": "YFlzkixNS7Y5"
      },
      "execution_count": 21,
      "outputs": []
    },
    {
      "cell_type": "markdown",
      "source": [
        "Para sem normalização"
      ],
      "metadata": {
        "id": "rztfcQF4WcOf"
      }
    },
    {
      "cell_type": "markdown",
      "source": [
        "Lendo os arquivos\n"
      ],
      "metadata": {
        "id": "V9nHaUH_UHx2"
      }
    },
    {
      "cell_type": "code",
      "source": [
        "input_file = '/content/house-votes-84-abstencao.data'\n",
        "names = ['Class-Name','handicapped-infants','water-project-cost-sharing','adoption-of-the-budget-resolution','physician-fee-freeze','el-salvador-aid',\n",
        "          'religious-groups-in-schools','anti-satellite-test-ban','aid-to-nicaraguan-contras','mx-missile','immigration','synfuels-corporation-cutback','education-spending',\n",
        "          'superfund-right-to-sue','crime','duty-free-exports','export-administration-act-south-africa']\n",
        "features = ['handicapped-infants','water-project-cost-sharing','adoption-of-the-budget-resolution','physician-fee-freeze','el-salvador-aid',\n",
        "          'religious-groups-in-schools','anti-satellite-test-ban','aid-to-nicaraguan-contras','mx-missile','immigration','synfuels-corporation-cutback','education-spending',\n",
        "          'superfund-right-to-sue','crime','duty-free-exports','export-administration-act-south-africa']\n",
        "target = 'Class-Name'\n",
        "df = pd.read_csv(input_file,    # Nome do arquivo com dados\n",
        "                 names = names) # Nome das colunas"
      ],
      "metadata": {
        "id": "L4mtyp0PWRnE"
      },
      "execution_count": 22,
      "outputs": []
    },
    {
      "cell_type": "code",
      "source": [
        "x = df.loc[:, features].values\n",
        "y = df.loc[:,[target]].values"
      ],
      "metadata": {
        "id": "yNuhvuoCWXT0"
      },
      "execution_count": 23,
      "outputs": []
    },
    {
      "cell_type": "code",
      "source": [
        "# Standardizing the features\n",
        "x = StandardScaler().fit_transform(x)\n",
        "normalizedDf = pd.DataFrame(data = x, columns = features)\n",
        "normalizedDf = pd.concat([normalizedDf, df[[target]]], axis = 1)\n",
        "ShowInformationDataFrame(normalizedDf,\"Dataframe Normalized\")\n",
        "\n",
        "\n",
        "def VisualizePcaProjection(finalDf, targetColumn):\n",
        "  fig = plt.figure(figsize = (8,8))\n",
        "  ax = fig.add_subplot(1,1,1) \n",
        "  ax.set_xlabel('Principal Component 1', fontsize = 15)\n",
        "  ax.set_ylabel('Principal Component 2', fontsize = 15)\n",
        "  ax.set_title('2 component PCA', fontsize = 20)\n",
        "  targets = [0, 1, ]\n",
        "  colors = ['r', 'g']\n",
        "  for target, color in zip(targets,colors):\n",
        "    indicesToKeep = finalDf[targetColumn] == target\n",
        "    ax.scatter(finalDf.loc[indicesToKeep, 'principal component 1'],\n",
        "                finalDf.loc[indicesToKeep, 'principal component 2'],\n",
        "                c = color, s = 50)\n",
        "  ax.legend(targets)\n",
        "  ax.grid()\n",
        "  plt.show()\n",
        "\n",
        "\n",
        "# PCA projection\n",
        "pca = PCA()    \n",
        "principalComponents = pca.fit_transform(x)\n",
        "print(\"Explained variance per component:\")\n",
        "print(pca.explained_variance_ratio_.tolist())\n",
        "print(\"\\n\\n\")\n",
        "\n",
        "principalDf = pd.DataFrame(data = principalComponents[:,0:2], \n",
        "                            columns = ['principal component 1', \n",
        "                                      'principal component 2'])\n",
        "finalDf = pd.concat([principalDf, df[[target]]], axis = 1)    \n",
        "ShowInformationDataFrame(finalDf,\"Dataframe PCA\")\n",
        "\n",
        "VisualizePcaProjection(finalDf, target)\n",
        "\n"
      ],
      "metadata": {
        "id": "8A3IJTUlWZF1",
        "colab": {
          "base_uri": "https://localhost:8080/",
          "height": 1000
        },
        "outputId": "c431de4b-c7b9-407d-f0c1-b273a2c3faca"
      },
      "execution_count": 24,
      "outputs": [
        {
          "output_type": "stream",
          "name": "stdout",
          "text": [
            "Dataframe Normalized\n",
            "\n",
            "<class 'pandas.core.frame.DataFrame'>\n",
            "RangeIndex: 435 entries, 0 to 434\n",
            "Data columns (total 17 columns):\n",
            " #   Column                                  Non-Null Count  Dtype  \n",
            "---  ------                                  --------------  -----  \n",
            " 0   handicapped-infants                     435 non-null    float64\n",
            " 1   water-project-cost-sharing              435 non-null    float64\n",
            " 2   adoption-of-the-budget-resolution       435 non-null    float64\n",
            " 3   physician-fee-freeze                    435 non-null    float64\n",
            " 4   el-salvador-aid                         435 non-null    float64\n",
            " 5   religious-groups-in-schools             435 non-null    float64\n",
            " 6   anti-satellite-test-ban                 435 non-null    float64\n",
            " 7   aid-to-nicaraguan-contras               435 non-null    float64\n",
            " 8   mx-missile                              435 non-null    float64\n",
            " 9   immigration                             435 non-null    float64\n",
            " 10  synfuels-corporation-cutback            435 non-null    float64\n",
            " 11  education-spending                      435 non-null    float64\n",
            " 12  superfund-right-to-sue                  435 non-null    float64\n",
            " 13  crime                                   435 non-null    float64\n",
            " 14  duty-free-exports                       435 non-null    float64\n",
            " 15  export-administration-act-south-africa  435 non-null    float64\n",
            " 16  Class-Name                              435 non-null    int64  \n",
            "dtypes: float64(16), int64(1)\n",
            "memory usage: 57.9 KB\n",
            "None\n",
            "       handicapped-infants  water-project-cost-sharing  \\\n",
            "count         4.350000e+02                4.350000e+02   \n",
            "mean          7.095218e-17                4.058057e-17   \n",
            "std           1.001151e+00                1.001151e+00   \n",
            "min          -8.783740e-01               -1.006060e+00   \n",
            "25%          -8.783740e-01               -1.006060e+00   \n",
            "50%          -8.783740e-01                4.978439e-01   \n",
            "75%           9.324919e-01                4.978439e-01   \n",
            "max           2.743358e+00                2.001747e+00   \n",
            "\n",
            "       adoption-of-the-budget-resolution  physician-fee-freeze  \\\n",
            "count                       4.350000e+02          4.350000e+02   \n",
            "mean                       -1.092357e-16          1.995849e-16   \n",
            "std                         1.001151e+00          1.001151e+00   \n",
            "min                        -1.188152e+00         -8.369475e-01   \n",
            "25%                        -1.188152e+00         -8.369475e-01   \n",
            "50%                         6.912882e-01         -8.369475e-01   \n",
            "75%                         6.912882e-01          9.925609e-01   \n",
            "max                         2.570728e+00          2.822069e+00   \n",
            "\n",
            "       el-salvador-aid  religious-groups-in-schools  anti-satellite-test-ban  \\\n",
            "count     4.350000e+02                 4.350000e+02             4.350000e+02   \n",
            "mean      2.348058e-16                -5.563876e-17            -7.860889e-17   \n",
            "std       1.001151e+00                 1.001151e+00             1.001151e+00   \n",
            "min      -9.899759e-01                -1.301548e+00            -1.117987e+00   \n",
            "25%      -9.899759e-01                -1.301548e+00            -1.117987e+00   \n",
            "50%       7.895262e-01                 6.242116e-01             7.034525e-01   \n",
            "75%       7.895262e-01                 6.242116e-01             7.034525e-01   \n",
            "max       2.569028e+00                 2.549971e+00             2.524892e+00   \n",
            "\n",
            "       aid-to-nicaraguan-contras    mx-missile   immigration  \\\n",
            "count               4.350000e+02  4.350000e+02  4.350000e+02   \n",
            "mean               -1.306745e-16  9.443276e-18  6.635816e-18   \n",
            "std                 1.001151e+00  1.001151e+00  1.001151e+00   \n",
            "min                -1.135445e+00 -9.820584e-01 -9.968018e-01   \n",
            "25%                -1.135445e+00 -9.820584e-01 -9.968018e-01   \n",
            "50%                 6.804318e-01  7.199154e-01  8.884538e-01   \n",
            "75%                 6.804318e-01  7.199154e-01  8.884538e-01   \n",
            "max                 2.496308e+00  2.421889e+00  2.773709e+00   \n",
            "\n",
            "       synfuels-corporation-cutback  education-spending  \\\n",
            "count                  4.350000e+02        4.350000e+02   \n",
            "mean                  -6.380592e-17       -4.134624e-17   \n",
            "std                    1.001151e+00        1.001151e+00   \n",
            "min                   -7.535150e-01       -8.563168e-01   \n",
            "25%                   -7.535150e-01       -8.563168e-01   \n",
            "50%                   -7.535150e-01       -8.563168e-01   \n",
            "75%                    9.536674e-01        7.423862e-01   \n",
            "max                    2.660850e+00        2.341089e+00   \n",
            "\n",
            "       superfund-right-to-sue         crime  duty-free-exports  \\\n",
            "count            4.350000e+02  4.350000e+02       4.350000e+02   \n",
            "mean             8.218203e-17  8.218203e-17       6.125368e-17   \n",
            "std              1.001151e+00  1.001151e+00       1.001151e+00   \n",
            "min             -9.981195e-01 -1.171588e+00      -8.600911e-01   \n",
            "25%             -9.981195e-01 -1.171588e+00      -8.600911e-01   \n",
            "50%              6.782588e-01  6.356487e-01      -8.600911e-01   \n",
            "75%              6.782588e-01  6.356487e-01       7.666029e-01   \n",
            "max              2.354637e+00  2.442885e+00       2.393297e+00   \n",
            "\n",
            "       export-administration-act-south-africa  Class-Name  \n",
            "count                            4.350000e+02  435.000000  \n",
            "mean                             6.125368e-17    0.613793  \n",
            "std                              1.001151e+00    0.487440  \n",
            "min                             -1.797174e+00    0.000000  \n",
            "25%                             -1.582418e-01    0.000000  \n",
            "50%                             -1.582418e-01    1.000000  \n",
            "75%                             -1.582418e-01    1.000000  \n",
            "max                              1.480691e+00    1.000000  \n",
            "   handicapped-infants  water-project-cost-sharing  \\\n",
            "0            -0.878374                    0.497844   \n",
            "1            -0.878374                    0.497844   \n",
            "2             2.743358                    0.497844   \n",
            "3            -0.878374                    0.497844   \n",
            "4             0.932492                    0.497844   \n",
            "5            -0.878374                    0.497844   \n",
            "6            -0.878374                    0.497844   \n",
            "7            -0.878374                    0.497844   \n",
            "8            -0.878374                    0.497844   \n",
            "9             0.932492                    0.497844   \n",
            "\n",
            "   adoption-of-the-budget-resolution  physician-fee-freeze  el-salvador-aid  \\\n",
            "0                          -1.188152              0.992561         0.789526   \n",
            "1                          -1.188152              0.992561         0.789526   \n",
            "2                           0.691288              2.822069         0.789526   \n",
            "3                           0.691288             -0.836948         2.569028   \n",
            "4                           0.691288             -0.836948         0.789526   \n",
            "5                           0.691288             -0.836948         0.789526   \n",
            "6                          -1.188152              0.992561         0.789526   \n",
            "7                          -1.188152              0.992561         0.789526   \n",
            "8                          -1.188152              0.992561         0.789526   \n",
            "9                           0.691288             -0.836948        -0.989976   \n",
            "\n",
            "   religious-groups-in-schools  anti-satellite-test-ban  \\\n",
            "0                     0.624212                -1.117987   \n",
            "1                     0.624212                -1.117987   \n",
            "2                     0.624212                -1.117987   \n",
            "3                     0.624212                -1.117987   \n",
            "4                     0.624212                -1.117987   \n",
            "5                     0.624212                -1.117987   \n",
            "6                     0.624212                -1.117987   \n",
            "7                     0.624212                -1.117987   \n",
            "8                     0.624212                -1.117987   \n",
            "9                    -1.301548                 0.703452   \n",
            "\n",
            "   aid-to-nicaraguan-contras  mx-missile  immigration  \\\n",
            "0                  -1.135445   -0.982058     0.888454   \n",
            "1                  -1.135445   -0.982058    -0.996802   \n",
            "2                  -1.135445   -0.982058    -0.996802   \n",
            "3                  -1.135445   -0.982058    -0.996802   \n",
            "4                  -1.135445   -0.982058    -0.996802   \n",
            "5                  -1.135445   -0.982058    -0.996802   \n",
            "6                  -1.135445   -0.982058    -0.996802   \n",
            "7                  -1.135445   -0.982058    -0.996802   \n",
            "8                  -1.135445   -0.982058    -0.996802   \n",
            "9                   0.680432    0.719915    -0.996802   \n",
            "\n",
            "   synfuels-corporation-cutback  education-spending  superfund-right-to-sue  \\\n",
            "0                      2.660850            0.742386                0.678259   \n",
            "1                     -0.753515            0.742386                0.678259   \n",
            "2                      0.953667           -0.856317                0.678259   \n",
            "3                      0.953667           -0.856317                0.678259   \n",
            "4                      0.953667            2.341089                0.678259   \n",
            "5                     -0.753515           -0.856317                0.678259   \n",
            "6                     -0.753515           -0.856317                2.354637   \n",
            "7                     -0.753515           -0.856317                0.678259   \n",
            "8                     -0.753515            0.742386                0.678259   \n",
            "9                     -0.753515           -0.856317               -0.998120   \n",
            "\n",
            "      crime  duty-free-exports  export-administration-act-south-africa  \\\n",
            "0  0.635649          -0.860091                               -0.158242   \n",
            "1  0.635649          -0.860091                                1.480691   \n",
            "2  0.635649          -0.860091                               -1.797174   \n",
            "3 -1.171588          -0.860091                               -0.158242   \n",
            "4  0.635649           0.766603                               -0.158242   \n",
            "5  0.635649           0.766603                               -0.158242   \n",
            "6  0.635649           0.766603                               -0.158242   \n",
            "7  0.635649           2.393297                               -0.158242   \n",
            "8  0.635649          -0.860091                               -0.158242   \n",
            "9 -1.171588           2.393297                                1.480691   \n",
            "\n",
            "   Class-Name  \n",
            "0           0  \n",
            "1           0  \n",
            "2           1  \n",
            "3           1  \n",
            "4           1  \n",
            "5           1  \n",
            "6           1  \n",
            "7           0  \n",
            "8           0  \n",
            "9           1  \n",
            "\n",
            "\n",
            "Explained variance per component:\n",
            "[0.35643630675778243, 0.10893091332919673, 0.0743430400223939, 0.05703759988210052, 0.05540122980727719, 0.05044278613083294, 0.046399283093841975, 0.03885728422725841, 0.03591809447379622, 0.033502535131968735, 0.03083521019592322, 0.027409204210219144, 0.023767675410887444, 0.021520755871874034, 0.02095064554300978, 0.01824743591163735]\n",
            "\n",
            "\n",
            "\n",
            "Dataframe PCA\n",
            "\n",
            "<class 'pandas.core.frame.DataFrame'>\n",
            "RangeIndex: 435 entries, 0 to 434\n",
            "Data columns (total 3 columns):\n",
            " #   Column                 Non-Null Count  Dtype  \n",
            "---  ------                 --------------  -----  \n",
            " 0   principal component 1  435 non-null    float64\n",
            " 1   principal component 2  435 non-null    float64\n",
            " 2   Class-Name             435 non-null    int64  \n",
            "dtypes: float64(2), int64(1)\n",
            "memory usage: 10.3 KB\n",
            "None\n",
            "       principal component 1  principal component 2  Class-Name\n",
            "count           4.350000e+02           4.350000e+02  435.000000\n",
            "mean            1.347581e-16           3.737432e-17    0.613793\n",
            "std             2.390841e+00           1.321707e+00    0.487440\n",
            "min            -4.009078e+00          -2.738510e+00    0.000000\n",
            "25%            -2.507803e+00          -7.866790e-01    0.000000\n",
            "50%             2.748720e-01          -2.203226e-01    1.000000\n",
            "75%             2.377036e+00           5.028350e-01    1.000000\n",
            "max             4.038426e+00           9.098139e+00    1.000000\n",
            "   principal component 1  principal component 2  Class-Name\n",
            "0              -2.918378               1.222478           0\n",
            "1              -2.772248              -0.088066           0\n",
            "2              -2.189854               0.629272           1\n",
            "3              -1.530818              -0.108316           1\n",
            "4              -1.535844               1.285629           1\n",
            "5              -1.189431              -0.384032           1\n",
            "6              -2.761679              -0.057980           1\n",
            "7              -1.961830              -0.211361           0\n",
            "8              -3.093520              -0.594292           0\n",
            "9               3.559092              -0.131562           1\n",
            "\n",
            "\n"
          ]
        },
        {
          "output_type": "display_data",
          "data": {
            "text/plain": [
              "<Figure size 576x576 with 1 Axes>"
            ],
            "image/png": "[encoded data removed]"
          },
          "metadata": {
            "needs_background": "light"
          }
        }
      ]
    },
    {
      "cell_type": "markdown",
      "source": [
        "Para normalização com min-max"
      ],
      "metadata": {
        "id": "0JfSMwnrWgJW"
      }
    },
    {
      "cell_type": "code",
      "source": [
        "input_file = '/content/house-votes-min-max.data'\n",
        "names = ['handicapped-infants','water-project-cost-sharing','adoption-of-the-budget-resolution','physician-fee-freeze','el-salvador-aid',\n",
        "          'religious-groups-in-schools','anti-satellite-test-ban','aid-to-nicaraguan-contras','mx-missile','immigration','synfuels-corporation-cutback','education-spending',\n",
        "          'superfund-right-to-sue','crime','duty-free-exports','export-administration-act-south-africa','Class-Name']\n",
        "features = ['handicapped-infants','water-project-cost-sharing','adoption-of-the-budget-resolution','physician-fee-freeze','el-salvador-aid',\n",
        "          'religious-groups-in-schools','anti-satellite-test-ban','aid-to-nicaraguan-contras','mx-missile','immigration','synfuels-corporation-cutback','education-spending',\n",
        "          'superfund-right-to-sue','crime','duty-free-exports','export-administration-act-south-africa']\n",
        "target = 'Class-Name'\n",
        "df = pd.read_csv(input_file,    # Nome do arquivo com dados\n",
        "                 names = names) # Nome das colunas"
      ],
      "metadata": {
        "id": "jtZ6PmFvUMK1"
      },
      "execution_count": 25,
      "outputs": []
    },
    {
      "cell_type": "code",
      "source": [
        "x = df.loc[:, features].values\n",
        "y = df.loc[:,[target]].values"
      ],
      "metadata": {
        "id": "7dzwODO3WDJh"
      },
      "execution_count": 26,
      "outputs": []
    },
    {
      "cell_type": "code",
      "source": [
        "# Standardizing the features\n",
        "x = StandardScaler().fit_transform(x)\n",
        "normalizedDf = pd.DataFrame(data = x, columns = features)\n",
        "normalizedDf = pd.concat([normalizedDf, df[[target]]], axis = 1)\n",
        "ShowInformationDataFrame(normalizedDf,\"Dataframe Normalized\")\n",
        "\n",
        "\n",
        "def VisualizePcaProjection(finalDf, targetColumn):\n",
        "  fig = plt.figure(figsize = (8,8))\n",
        "  ax = fig.add_subplot(1,1,1) \n",
        "  ax.set_xlabel('Principal Component 1', fontsize = 15)\n",
        "  ax.set_ylabel('Principal Component 2', fontsize = 15)\n",
        "  ax.set_title('2 component PCA', fontsize = 20)\n",
        "  targets = [0, 1, ]\n",
        "  colors = ['r', 'g']\n",
        "  for target, color in zip(targets,colors):\n",
        "    indicesToKeep = finalDf[targetColumn] == target\n",
        "    ax.scatter(finalDf.loc[indicesToKeep, 'principal component 1'],\n",
        "                finalDf.loc[indicesToKeep, 'principal component 2'],\n",
        "                c = color, s = 50)\n",
        "  ax.legend(targets)\n",
        "  ax.grid()\n",
        "  plt.show()\n",
        "\n",
        "\n",
        "# PCA projection\n",
        "pca = PCA()    \n",
        "principalComponents = pca.fit_transform(x)\n",
        "print(\"Explained variance per component:\")\n",
        "print(pca.explained_variance_ratio_.tolist())\n",
        "print(\"\\n\\n\")\n",
        "\n",
        "principalDf = pd.DataFrame(data = principalComponents[:,0:2], \n",
        "                            columns = ['principal component 1', \n",
        "                                      'principal component 2'])\n",
        "finalDf = pd.concat([principalDf, df[[target]]], axis = 1)    \n",
        "ShowInformationDataFrame(finalDf,\"Dataframe PCA\")\n",
        "\n",
        "VisualizePcaProjection(finalDf, target)\n",
        "\n"
      ],
      "metadata": {
        "id": "Nmb_q-oeSlcZ",
        "colab": {
          "base_uri": "https://localhost:8080/",
          "height": 1000
        },
        "outputId": "2ccb58f3-8292-4531-96c7-f7bb7f75ffde"
      },
      "execution_count": 27,
      "outputs": [
        {
          "output_type": "stream",
          "name": "stdout",
          "text": [
            "Dataframe Normalized\n",
            "\n",
            "<class 'pandas.core.frame.DataFrame'>\n",
            "RangeIndex: 435 entries, 0 to 434\n",
            "Data columns (total 17 columns):\n",
            " #   Column                                  Non-Null Count  Dtype  \n",
            "---  ------                                  --------------  -----  \n",
            " 0   handicapped-infants                     435 non-null    float64\n",
            " 1   water-project-cost-sharing              435 non-null    float64\n",
            " 2   adoption-of-the-budget-resolution       435 non-null    float64\n",
            " 3   physician-fee-freeze                    435 non-null    float64\n",
            " 4   el-salvador-aid                         435 non-null    float64\n",
            " 5   religious-groups-in-schools             435 non-null    float64\n",
            " 6   anti-satellite-test-ban                 435 non-null    float64\n",
            " 7   aid-to-nicaraguan-contras               435 non-null    float64\n",
            " 8   mx-missile                              435 non-null    float64\n",
            " 9   immigration                             435 non-null    float64\n",
            " 10  synfuels-corporation-cutback            435 non-null    float64\n",
            " 11  education-spending                      435 non-null    float64\n",
            " 12  superfund-right-to-sue                  435 non-null    float64\n",
            " 13  crime                                   435 non-null    float64\n",
            " 14  duty-free-exports                       435 non-null    float64\n",
            " 15  export-administration-act-south-africa  435 non-null    float64\n",
            " 16  Class-Name                              435 non-null    int64  \n",
            "dtypes: float64(16), int64(1)\n",
            "memory usage: 57.9 KB\n",
            "None\n",
            "       handicapped-infants  water-project-cost-sharing  \\\n",
            "count         4.350000e+02                4.350000e+02   \n",
            "mean          7.095218e-17                4.058057e-17   \n",
            "std           1.001151e+00                1.001151e+00   \n",
            "min          -8.783740e-01               -1.006060e+00   \n",
            "25%          -8.783740e-01               -1.006060e+00   \n",
            "50%          -8.783740e-01                4.978439e-01   \n",
            "75%           9.324919e-01                4.978439e-01   \n",
            "max           2.743358e+00                2.001747e+00   \n",
            "\n",
            "       adoption-of-the-budget-resolution  physician-fee-freeze  \\\n",
            "count                       4.350000e+02          4.350000e+02   \n",
            "mean                       -1.092357e-16          1.995849e-16   \n",
            "std                         1.001151e+00          1.001151e+00   \n",
            "min                        -1.188152e+00         -8.369475e-01   \n",
            "25%                        -1.188152e+00         -8.369475e-01   \n",
            "50%                         6.912882e-01         -8.369475e-01   \n",
            "75%                         6.912882e-01          9.925609e-01   \n",
            "max                         2.570728e+00          2.822069e+00   \n",
            "\n",
            "       el-salvador-aid  religious-groups-in-schools  anti-satellite-test-ban  \\\n",
            "count     4.350000e+02                 4.350000e+02             4.350000e+02   \n",
            "mean      2.348058e-16                -5.563876e-17            -7.860889e-17   \n",
            "std       1.001151e+00                 1.001151e+00             1.001151e+00   \n",
            "min      -9.899759e-01                -1.301548e+00            -1.117987e+00   \n",
            "25%      -9.899759e-01                -1.301548e+00            -1.117987e+00   \n",
            "50%       7.895262e-01                 6.242116e-01             7.034525e-01   \n",
            "75%       7.895262e-01                 6.242116e-01             7.034525e-01   \n",
            "max       2.569028e+00                 2.549971e+00             2.524892e+00   \n",
            "\n",
            "       aid-to-nicaraguan-contras    mx-missile   immigration  \\\n",
            "count               4.350000e+02  4.350000e+02  4.350000e+02   \n",
            "mean               -1.306745e-16  9.443276e-18  6.635816e-18   \n",
            "std                 1.001151e+00  1.001151e+00  1.001151e+00   \n",
            "min                -1.135445e+00 -9.820584e-01 -9.968018e-01   \n",
            "25%                -1.135445e+00 -9.820584e-01 -9.968018e-01   \n",
            "50%                 6.804318e-01  7.199154e-01  8.884538e-01   \n",
            "75%                 6.804318e-01  7.199154e-01  8.884538e-01   \n",
            "max                 2.496308e+00  2.421889e+00  2.773709e+00   \n",
            "\n",
            "       synfuels-corporation-cutback  education-spending  \\\n",
            "count                  4.350000e+02        4.350000e+02   \n",
            "mean                  -6.380592e-17       -4.134624e-17   \n",
            "std                    1.001151e+00        1.001151e+00   \n",
            "min                   -7.535150e-01       -8.563168e-01   \n",
            "25%                   -7.535150e-01       -8.563168e-01   \n",
            "50%                   -7.535150e-01       -8.563168e-01   \n",
            "75%                    9.536674e-01        7.423862e-01   \n",
            "max                    2.660850e+00        2.341089e+00   \n",
            "\n",
            "       superfund-right-to-sue         crime  duty-free-exports  \\\n",
            "count            4.350000e+02  4.350000e+02       4.350000e+02   \n",
            "mean             8.218203e-17  8.218203e-17       6.125368e-17   \n",
            "std              1.001151e+00  1.001151e+00       1.001151e+00   \n",
            "min             -9.981195e-01 -1.171588e+00      -8.600911e-01   \n",
            "25%             -9.981195e-01 -1.171588e+00      -8.600911e-01   \n",
            "50%              6.782588e-01  6.356487e-01      -8.600911e-01   \n",
            "75%              6.782588e-01  6.356487e-01       7.666029e-01   \n",
            "max              2.354637e+00  2.442885e+00       2.393297e+00   \n",
            "\n",
            "       export-administration-act-south-africa  Class-Name  \n",
            "count                            4.350000e+02  435.000000  \n",
            "mean                             6.125368e-17    0.613793  \n",
            "std                              1.001151e+00    0.487440  \n",
            "min                             -1.797174e+00    0.000000  \n",
            "25%                             -1.582418e-01    0.000000  \n",
            "50%                             -1.582418e-01    1.000000  \n",
            "75%                             -1.582418e-01    1.000000  \n",
            "max                              1.480691e+00    1.000000  \n",
            "   handicapped-infants  water-project-cost-sharing  \\\n",
            "0            -0.878374                    0.497844   \n",
            "1            -0.878374                    0.497844   \n",
            "2             2.743358                    0.497844   \n",
            "3            -0.878374                    0.497844   \n",
            "4             0.932492                    0.497844   \n",
            "5            -0.878374                    0.497844   \n",
            "6            -0.878374                    0.497844   \n",
            "7            -0.878374                    0.497844   \n",
            "8            -0.878374                    0.497844   \n",
            "9             0.932492                    0.497844   \n",
            "\n",
            "   adoption-of-the-budget-resolution  physician-fee-freeze  el-salvador-aid  \\\n",
            "0                          -1.188152              0.992561         0.789526   \n",
            "1                          -1.188152              0.992561         0.789526   \n",
            "2                           0.691288              2.822069         0.789526   \n",
            "3                           0.691288             -0.836948         2.569028   \n",
            "4                           0.691288             -0.836948         0.789526   \n",
            "5                           0.691288             -0.836948         0.789526   \n",
            "6                          -1.188152              0.992561         0.789526   \n",
            "7                          -1.188152              0.992561         0.789526   \n",
            "8                          -1.188152              0.992561         0.789526   \n",
            "9                           0.691288             -0.836948        -0.989976   \n",
            "\n",
            "   religious-groups-in-schools  anti-satellite-test-ban  \\\n",
            "0                     0.624212                -1.117987   \n",
            "1                     0.624212                -1.117987   \n",
            "2                     0.624212                -1.117987   \n",
            "3                     0.624212                -1.117987   \n",
            "4                     0.624212                -1.117987   \n",
            "5                     0.624212                -1.117987   \n",
            "6                     0.624212                -1.117987   \n",
            "7                     0.624212                -1.117987   \n",
            "8                     0.624212                -1.117987   \n",
            "9                    -1.301548                 0.703452   \n",
            "\n",
            "   aid-to-nicaraguan-contras  mx-missile  immigration  \\\n",
            "0                  -1.135445   -0.982058     0.888454   \n",
            "1                  -1.135445   -0.982058    -0.996802   \n",
            "2                  -1.135445   -0.982058    -0.996802   \n",
            "3                  -1.135445   -0.982058    -0.996802   \n",
            "4                  -1.135445   -0.982058    -0.996802   \n",
            "5                  -1.135445   -0.982058    -0.996802   \n",
            "6                  -1.135445   -0.982058    -0.996802   \n",
            "7                  -1.135445   -0.982058    -0.996802   \n",
            "8                  -1.135445   -0.982058    -0.996802   \n",
            "9                   0.680432    0.719915    -0.996802   \n",
            "\n",
            "   synfuels-corporation-cutback  education-spending  superfund-right-to-sue  \\\n",
            "0                      2.660850            0.742386                0.678259   \n",
            "1                     -0.753515            0.742386                0.678259   \n",
            "2                      0.953667           -0.856317                0.678259   \n",
            "3                      0.953667           -0.856317                0.678259   \n",
            "4                      0.953667            2.341089                0.678259   \n",
            "5                     -0.753515           -0.856317                0.678259   \n",
            "6                     -0.753515           -0.856317                2.354637   \n",
            "7                     -0.753515           -0.856317                0.678259   \n",
            "8                     -0.753515            0.742386                0.678259   \n",
            "9                     -0.753515           -0.856317               -0.998120   \n",
            "\n",
            "      crime  duty-free-exports  export-administration-act-south-africa  \\\n",
            "0  0.635649          -0.860091                               -0.158242   \n",
            "1  0.635649          -0.860091                                1.480691   \n",
            "2  0.635649          -0.860091                               -1.797174   \n",
            "3 -1.171588          -0.860091                               -0.158242   \n",
            "4  0.635649           0.766603                               -0.158242   \n",
            "5  0.635649           0.766603                               -0.158242   \n",
            "6  0.635649           0.766603                               -0.158242   \n",
            "7  0.635649           2.393297                               -0.158242   \n",
            "8  0.635649          -0.860091                               -0.158242   \n",
            "9 -1.171588           2.393297                                1.480691   \n",
            "\n",
            "   Class-Name  \n",
            "0           0  \n",
            "1           0  \n",
            "2           1  \n",
            "3           1  \n",
            "4           1  \n",
            "5           1  \n",
            "6           1  \n",
            "7           0  \n",
            "8           0  \n",
            "9           1  \n",
            "\n",
            "\n",
            "Explained variance per component:\n",
            "[0.35643630675778243, 0.10893091332919673, 0.0743430400223939, 0.05703759988210052, 0.05540122980727719, 0.05044278613083294, 0.046399283093841975, 0.03885728422725841, 0.03591809447379622, 0.033502535131968735, 0.03083521019592322, 0.027409204210219144, 0.023767675410887444, 0.021520755871874034, 0.02095064554300978, 0.01824743591163735]\n",
            "\n",
            "\n",
            "\n",
            "Dataframe PCA\n",
            "\n",
            "<class 'pandas.core.frame.DataFrame'>\n",
            "RangeIndex: 435 entries, 0 to 434\n",
            "Data columns (total 3 columns):\n",
            " #   Column                 Non-Null Count  Dtype  \n",
            "---  ------                 --------------  -----  \n",
            " 0   principal component 1  435 non-null    float64\n",
            " 1   principal component 2  435 non-null    float64\n",
            " 2   Class-Name             435 non-null    int64  \n",
            "dtypes: float64(2), int64(1)\n",
            "memory usage: 10.3 KB\n",
            "None\n",
            "       principal component 1  principal component 2  Class-Name\n",
            "count           4.350000e+02           4.350000e+02  435.000000\n",
            "mean            1.347581e-16           3.737432e-17    0.613793\n",
            "std             2.390841e+00           1.321707e+00    0.487440\n",
            "min            -4.009078e+00          -2.738510e+00    0.000000\n",
            "25%            -2.507803e+00          -7.866790e-01    0.000000\n",
            "50%             2.748720e-01          -2.203226e-01    1.000000\n",
            "75%             2.377036e+00           5.028350e-01    1.000000\n",
            "max             4.038426e+00           9.098139e+00    1.000000\n",
            "   principal component 1  principal component 2  Class-Name\n",
            "0              -2.918378               1.222478           0\n",
            "1              -2.772248              -0.088066           0\n",
            "2              -2.189854               0.629272           1\n",
            "3              -1.530818              -0.108316           1\n",
            "4              -1.535844               1.285629           1\n",
            "5              -1.189431              -0.384032           1\n",
            "6              -2.761679              -0.057980           1\n",
            "7              -1.961830              -0.211361           0\n",
            "8              -3.093520              -0.594292           0\n",
            "9               3.559092              -0.131562           1\n",
            "\n",
            "\n"
          ]
        },
        {
          "output_type": "display_data",
          "data": {
            "text/plain": [
              "<Figure size 576x576 with 1 Axes>"
            ],
            "image/png": "[encoded data removed]"
          },
          "metadata": {
            "needs_background": "light"
          }
        }
      ]
    },
    {
      "cell_type": "markdown",
      "source": [
        "Para normalização com z-score"
      ],
      "metadata": {
        "id": "RoetuOadWjpn"
      }
    },
    {
      "cell_type": "code",
      "source": [
        "input_file = '/content/house-votes-z-score.data'\n",
        "names = ['handicapped-infants','water-project-cost-sharing','adoption-of-the-budget-resolution','physician-fee-freeze','el-salvador-aid',\n",
        "          'religious-groups-in-schools','anti-satellite-test-ban','aid-to-nicaraguan-contras','mx-missile','immigration','synfuels-corporation-cutback','education-spending',\n",
        "          'superfund-right-to-sue','crime','duty-free-exports','export-administration-act-south-africa','Class-Name']\n",
        "features = ['handicapped-infants','water-project-cost-sharing','adoption-of-the-budget-resolution','physician-fee-freeze','el-salvador-aid',\n",
        "          'religious-groups-in-schools','anti-satellite-test-ban','aid-to-nicaraguan-contras','mx-missile','immigration','synfuels-corporation-cutback','education-spending',\n",
        "          'superfund-right-to-sue','crime','duty-free-exports','export-administration-act-south-africa']\n",
        "target = 'Class-Name'\n",
        "df = pd.read_csv(input_file,    # Nome do arquivo com dados\n",
        "                 names = names) # Nome das colunas"
      ],
      "metadata": {
        "id": "peSXkAyFV7UT"
      },
      "execution_count": 28,
      "outputs": []
    },
    {
      "cell_type": "code",
      "source": [
        "x = df.loc[:, features].values\n",
        "y = df.loc[:,[target]].values"
      ],
      "metadata": {
        "id": "wUbu82zvWMxm"
      },
      "execution_count": 29,
      "outputs": []
    },
    {
      "cell_type": "code",
      "source": [
        "# Standardizing the features\n",
        "x = StandardScaler().fit_transform(x)\n",
        "normalizedDf = pd.DataFrame(data = x, columns = features)\n",
        "normalizedDf = pd.concat([normalizedDf, df[[target]]], axis = 1)\n",
        "ShowInformationDataFrame(normalizedDf,\"Dataframe Normalized\")\n",
        "\n",
        "\n",
        "def VisualizePcaProjection(finalDf, targetColumn):\n",
        "  fig = plt.figure(figsize = (8,8))\n",
        "  ax = fig.add_subplot(1,1,1) \n",
        "  ax.set_xlabel('Principal Component 1', fontsize = 15)\n",
        "  ax.set_ylabel('Principal Component 2', fontsize = 15)\n",
        "  ax.set_title('2 component PCA', fontsize = 20)\n",
        "  targets = [0, 1, ]\n",
        "  colors = ['r', 'g']\n",
        "  for target, color in zip(targets,colors):\n",
        "    indicesToKeep = finalDf[targetColumn] == target\n",
        "    ax.scatter(finalDf.loc[indicesToKeep, 'principal component 1'],\n",
        "                finalDf.loc[indicesToKeep, 'principal component 2'],\n",
        "                c = color, s = 50)\n",
        "  ax.legend(targets)\n",
        "  ax.grid()\n",
        "  plt.show()\n",
        "\n",
        "\n",
        "# PCA projection\n",
        "pca = PCA()    \n",
        "principalComponents = pca.fit_transform(x)\n",
        "print(\"Explained variance per component:\")\n",
        "print(pca.explained_variance_ratio_.tolist())\n",
        "print(\"\\n\\n\")\n",
        "\n",
        "principalDf = pd.DataFrame(data = principalComponents[:,0:2], \n",
        "                            columns = ['principal component 1', \n",
        "                                      'principal component 2'])\n",
        "finalDf = pd.concat([principalDf, df[[target]]], axis = 1)    \n",
        "ShowInformationDataFrame(finalDf,\"Dataframe PCA\")\n",
        "\n",
        "VisualizePcaProjection(finalDf, target)\n",
        "\n"
      ],
      "metadata": {
        "id": "PeR9N0BsWKyx",
        "outputId": "bd26618c-358b-43bc-c5d3-914786684bdc",
        "colab": {
          "base_uri": "https://localhost:8080/",
          "height": 1000
        }
      },
      "execution_count": 30,
      "outputs": [
        {
          "output_type": "stream",
          "name": "stdout",
          "text": [
            "Dataframe Normalized\n",
            "\n",
            "<class 'pandas.core.frame.DataFrame'>\n",
            "RangeIndex: 435 entries, 0 to 434\n",
            "Data columns (total 17 columns):\n",
            " #   Column                                  Non-Null Count  Dtype  \n",
            "---  ------                                  --------------  -----  \n",
            " 0   handicapped-infants                     435 non-null    float64\n",
            " 1   water-project-cost-sharing              435 non-null    float64\n",
            " 2   adoption-of-the-budget-resolution       435 non-null    float64\n",
            " 3   physician-fee-freeze                    435 non-null    float64\n",
            " 4   el-salvador-aid                         435 non-null    float64\n",
            " 5   religious-groups-in-schools             435 non-null    float64\n",
            " 6   anti-satellite-test-ban                 435 non-null    float64\n",
            " 7   aid-to-nicaraguan-contras               435 non-null    float64\n",
            " 8   mx-missile                              435 non-null    float64\n",
            " 9   immigration                             435 non-null    float64\n",
            " 10  synfuels-corporation-cutback            435 non-null    float64\n",
            " 11  education-spending                      435 non-null    float64\n",
            " 12  superfund-right-to-sue                  435 non-null    float64\n",
            " 13  crime                                   435 non-null    float64\n",
            " 14  duty-free-exports                       435 non-null    float64\n",
            " 15  export-administration-act-south-africa  435 non-null    float64\n",
            " 16  Class-Name                              435 non-null    int64  \n",
            "dtypes: float64(16), int64(1)\n",
            "memory usage: 57.9 KB\n",
            "None\n",
            "       handicapped-infants  water-project-cost-sharing  \\\n",
            "count         4.350000e+02                4.350000e+02   \n",
            "mean          1.107671e-16                4.058057e-17   \n",
            "std           1.001151e+00                1.001151e+00   \n",
            "min          -8.783740e-01               -1.006060e+00   \n",
            "25%          -8.783740e-01               -1.006060e+00   \n",
            "50%          -8.783740e-01                4.978439e-01   \n",
            "75%           9.324919e-01                4.978439e-01   \n",
            "max           2.743358e+00                2.001747e+00   \n",
            "\n",
            "       adoption-of-the-budget-resolution  physician-fee-freeze  \\\n",
            "count                       4.350000e+02          4.350000e+02   \n",
            "mean                       -6.839995e-17          1.995849e-16   \n",
            "std                         1.001151e+00          1.001151e+00   \n",
            "min                        -1.188152e+00         -8.369475e-01   \n",
            "25%                        -1.188152e+00         -8.369475e-01   \n",
            "50%                         6.912882e-01         -8.369475e-01   \n",
            "75%                         6.912882e-01          9.925609e-01   \n",
            "max                         2.570728e+00          2.822069e+00   \n",
            "\n",
            "       el-salvador-aid  religious-groups-in-schools  anti-satellite-test-ban  \\\n",
            "count     4.350000e+02                 4.350000e+02             4.350000e+02   \n",
            "mean      2.159192e-16                -5.768055e-17            -7.860889e-17   \n",
            "std       1.001151e+00                 1.001151e+00             1.001151e+00   \n",
            "min      -9.899759e-01                -1.301548e+00            -1.117987e+00   \n",
            "25%      -9.899759e-01                -1.301548e+00            -1.117987e+00   \n",
            "50%       7.895262e-01                 6.242116e-01             7.034525e-01   \n",
            "75%       7.895262e-01                 6.242116e-01             7.034525e-01   \n",
            "max       2.569028e+00                 2.549971e+00             2.524892e+00   \n",
            "\n",
            "       aid-to-nicaraguan-contras    mx-missile   immigration  \\\n",
            "count               4.350000e+02  4.350000e+02  4.350000e+02   \n",
            "mean               -1.306745e-16 -1.174029e-17  2.544580e-16   \n",
            "std                 1.001151e+00  1.001151e+00  1.001151e+00   \n",
            "min                -1.135445e+00 -9.820584e-01 -9.968018e-01   \n",
            "25%                -1.135445e+00 -9.820584e-01 -9.968018e-01   \n",
            "50%                 6.804318e-01  7.199154e-01  8.884538e-01   \n",
            "75%                 6.804318e-01  7.199154e-01  8.884538e-01   \n",
            "max                 2.496308e+00  2.421889e+00  2.773709e+00   \n",
            "\n",
            "       synfuels-corporation-cutback  education-spending  \\\n",
            "count                  4.350000e+02        4.350000e+02   \n",
            "mean                  -7.401487e-17       -4.134624e-17   \n",
            "std                    1.001151e+00        1.001151e+00   \n",
            "min                   -7.535150e-01       -8.563168e-01   \n",
            "25%                   -7.535150e-01       -8.563168e-01   \n",
            "50%                   -7.535150e-01       -8.563168e-01   \n",
            "75%                    9.536674e-01        7.423862e-01   \n",
            "max                    2.660850e+00        2.341089e+00   \n",
            "\n",
            "       superfund-right-to-sue         crime  duty-free-exports  \\\n",
            "count            4.350000e+02  4.350000e+02       4.350000e+02   \n",
            "mean             6.074324e-17 -2.041789e-18       7.860889e-17   \n",
            "std              1.001151e+00  1.001151e+00       1.001151e+00   \n",
            "min             -9.981195e-01 -1.171588e+00      -8.600911e-01   \n",
            "25%             -9.981195e-01 -1.171588e+00      -8.600911e-01   \n",
            "50%              6.782588e-01  6.356487e-01      -8.600911e-01   \n",
            "75%              6.782588e-01  6.356487e-01       7.666029e-01   \n",
            "max              2.354637e+00  2.442885e+00       2.393297e+00   \n",
            "\n",
            "       export-administration-act-south-africa  Class-Name  \n",
            "count                            4.350000e+02  435.000000  \n",
            "mean                             1.720208e-16    0.613793  \n",
            "std                              1.001151e+00    0.487440  \n",
            "min                             -1.797174e+00    0.000000  \n",
            "25%                             -1.582418e-01    0.000000  \n",
            "50%                             -1.582418e-01    1.000000  \n",
            "75%                             -1.582418e-01    1.000000  \n",
            "max                              1.480691e+00    1.000000  \n",
            "   handicapped-infants  water-project-cost-sharing  \\\n",
            "0            -0.878374                    0.497844   \n",
            "1            -0.878374                    0.497844   \n",
            "2             2.743358                    0.497844   \n",
            "3            -0.878374                    0.497844   \n",
            "4             0.932492                    0.497844   \n",
            "5            -0.878374                    0.497844   \n",
            "6            -0.878374                    0.497844   \n",
            "7            -0.878374                    0.497844   \n",
            "8            -0.878374                    0.497844   \n",
            "9             0.932492                    0.497844   \n",
            "\n",
            "   adoption-of-the-budget-resolution  physician-fee-freeze  el-salvador-aid  \\\n",
            "0                          -1.188152              0.992561         0.789526   \n",
            "1                          -1.188152              0.992561         0.789526   \n",
            "2                           0.691288              2.822069         0.789526   \n",
            "3                           0.691288             -0.836948         2.569028   \n",
            "4                           0.691288             -0.836948         0.789526   \n",
            "5                           0.691288             -0.836948         0.789526   \n",
            "6                          -1.188152              0.992561         0.789526   \n",
            "7                          -1.188152              0.992561         0.789526   \n",
            "8                          -1.188152              0.992561         0.789526   \n",
            "9                           0.691288             -0.836948        -0.989976   \n",
            "\n",
            "   religious-groups-in-schools  anti-satellite-test-ban  \\\n",
            "0                     0.624212                -1.117987   \n",
            "1                     0.624212                -1.117987   \n",
            "2                     0.624212                -1.117987   \n",
            "3                     0.624212                -1.117987   \n",
            "4                     0.624212                -1.117987   \n",
            "5                     0.624212                -1.117987   \n",
            "6                     0.624212                -1.117987   \n",
            "7                     0.624212                -1.117987   \n",
            "8                     0.624212                -1.117987   \n",
            "9                    -1.301548                 0.703452   \n",
            "\n",
            "   aid-to-nicaraguan-contras  mx-missile  immigration  \\\n",
            "0                  -1.135445   -0.982058     0.888454   \n",
            "1                  -1.135445   -0.982058    -0.996802   \n",
            "2                  -1.135445   -0.982058    -0.996802   \n",
            "3                  -1.135445   -0.982058    -0.996802   \n",
            "4                  -1.135445   -0.982058    -0.996802   \n",
            "5                  -1.135445   -0.982058    -0.996802   \n",
            "6                  -1.135445   -0.982058    -0.996802   \n",
            "7                  -1.135445   -0.982058    -0.996802   \n",
            "8                  -1.135445   -0.982058    -0.996802   \n",
            "9                   0.680432    0.719915    -0.996802   \n",
            "\n",
            "   synfuels-corporation-cutback  education-spending  superfund-right-to-sue  \\\n",
            "0                      2.660850            0.742386                0.678259   \n",
            "1                     -0.753515            0.742386                0.678259   \n",
            "2                      0.953667           -0.856317                0.678259   \n",
            "3                      0.953667           -0.856317                0.678259   \n",
            "4                      0.953667            2.341089                0.678259   \n",
            "5                     -0.753515           -0.856317                0.678259   \n",
            "6                     -0.753515           -0.856317                2.354637   \n",
            "7                     -0.753515           -0.856317                0.678259   \n",
            "8                     -0.753515            0.742386                0.678259   \n",
            "9                     -0.753515           -0.856317               -0.998120   \n",
            "\n",
            "      crime  duty-free-exports  export-administration-act-south-africa  \\\n",
            "0  0.635649          -0.860091                               -0.158242   \n",
            "1  0.635649          -0.860091                                1.480691   \n",
            "2  0.635649          -0.860091                               -1.797174   \n",
            "3 -1.171588          -0.860091                               -0.158242   \n",
            "4  0.635649           0.766603                               -0.158242   \n",
            "5  0.635649           0.766603                               -0.158242   \n",
            "6  0.635649           0.766603                               -0.158242   \n",
            "7  0.635649           2.393297                               -0.158242   \n",
            "8  0.635649          -0.860091                               -0.158242   \n",
            "9 -1.171588           2.393297                                1.480691   \n",
            "\n",
            "   Class-Name  \n",
            "0           0  \n",
            "1           0  \n",
            "2           1  \n",
            "3           1  \n",
            "4           1  \n",
            "5           1  \n",
            "6           1  \n",
            "7           0  \n",
            "8           0  \n",
            "9           1  \n",
            "\n",
            "\n",
            "Explained variance per component:\n",
            "[0.3564363067577825, 0.10893091332919666, 0.07434304002239396, 0.057037599882100526, 0.05540122980727712, 0.05044278613083291, 0.046399283093842, 0.038857284227258426, 0.03591809447379625, 0.03350253513196873, 0.03083521019592327, 0.027409204210219126, 0.023767675410887482, 0.021520755871874023, 0.020950645543009787, 0.01824743591163736]\n",
            "\n",
            "\n",
            "\n",
            "Dataframe PCA\n",
            "\n",
            "<class 'pandas.core.frame.DataFrame'>\n",
            "RangeIndex: 435 entries, 0 to 434\n",
            "Data columns (total 3 columns):\n",
            " #   Column                 Non-Null Count  Dtype  \n",
            "---  ------                 --------------  -----  \n",
            " 0   principal component 1  435 non-null    float64\n",
            " 1   principal component 2  435 non-null    float64\n",
            " 2   Class-Name             435 non-null    int64  \n",
            "dtypes: float64(2), int64(1)\n",
            "memory usage: 10.3 KB\n",
            "None\n",
            "       principal component 1  principal component 2  Class-Name\n",
            "count           4.350000e+02           4.350000e+02  435.000000\n",
            "mean            1.429253e-16          -8.787670e-17    0.613793\n",
            "std             2.390841e+00           1.321707e+00    0.487440\n",
            "min            -4.009078e+00          -2.738510e+00    0.000000\n",
            "25%            -2.507803e+00          -7.866790e-01    0.000000\n",
            "50%             2.748720e-01          -2.203226e-01    1.000000\n",
            "75%             2.377036e+00           5.028350e-01    1.000000\n",
            "max             4.038426e+00           9.098139e+00    1.000000\n",
            "   principal component 1  principal component 2  Class-Name\n",
            "0              -2.918378               1.222478           0\n",
            "1              -2.772248              -0.088066           0\n",
            "2              -2.189854               0.629272           1\n",
            "3              -1.530818              -0.108316           1\n",
            "4              -1.535844               1.285629           1\n",
            "5              -1.189431              -0.384032           1\n",
            "6              -2.761679              -0.057980           1\n",
            "7              -1.961830              -0.211361           0\n",
            "8              -3.093520              -0.594292           0\n",
            "9               3.559092              -0.131562           1\n",
            "\n",
            "\n"
          ]
        },
        {
          "output_type": "display_data",
          "data": {
            "text/plain": [
              "<Figure size 576x576 with 1 Axes>"
            ],
            "image/png": "[encoded data removed]"
          },
          "metadata": {
            "needs_background": "light"
          }
        }
      ]
    },
    {
      "cell_type": "markdown",
      "source": [
        "Observando o PCA dos 3 casos, podemos notar que são idênticos, devido ao fato da base de dados já estar normalizada, por se tratar de 3 valores inteiros (0 -contra, 1- a favor e 2- absteve).\n",
        "\n",
        "Também é possível notar uma separação entre 0 (vermelho/republicanos) e 1 (verde/ democratas) a partir do componente 1, sendo a maioria dos vermelhos com valores negativos e a maioria dos verdes com valores positivos."
      ],
      "metadata": {
        "id": "BYI1db1ct8x2"
      }
    },
    {
      "cell_type": "markdown",
      "source": [
        "#Atividade 3 - Análise Descritiva - Visualização dos Dados\n"
      ],
      "metadata": {
        "id": "9o_qjj3rWwRR"
      }
    },
    {
      "cell_type": "markdown",
      "source": [
        "O gráfico que melhor representa o conjunto de dados é o Gráfico de Setores. \n",
        "Foram construídos 3 gráficos (total de votos dos democratas, total de votos dos republicanos e total de votos no geral) para cada atributo (pauta)."
      ],
      "metadata": {
        "id": "nyROSoC_bG5v"
      }
    },
    {
      "cell_type": "markdown",
      "source": [
        "### Código"
      ],
      "metadata": {
        "id": "CNcKjDdDb1LH"
      }
    },
    {
      "cell_type": "code",
      "source": [
        "import matplotlib.pyplot as plt"
      ],
      "metadata": {
        "id": "X8XbE7aDcV33"
      },
      "execution_count": 31,
      "outputs": []
    },
    {
      "cell_type": "code",
      "source": [
        "input_file = '/content/house-votes-84-abstencao.data'\n",
        "names = ['Class-Name','handicapped-infants','water-project-cost-sharing','adoption-of-the-budget-resolution','physician-fee-freeze','el-salvador-aid',\n",
        "          'religious-groups-in-schools','anti-satellite-test-ban','aid-to-nicaraguan-contras','mx-missile','immigration','synfuels-corporation-cutback','education-spending',\n",
        "          'superfund-right-to-sue','crime','duty-free-exports','export-administration-act-south-africa']\n",
        "features = ['handicapped-infants','water-project-cost-sharing','adoption-of-the-budget-resolution','physician-fee-freeze','el-salvador-aid',\n",
        "          'religious-groups-in-schools','anti-satellite-test-ban','aid-to-nicaraguan-contras','mx-missile','immigration','synfuels-corporation-cutback','education-spending',\n",
        "          'superfund-right-to-sue','crime','duty-free-exports','export-administration-act-south-africa']\n",
        "target = 'Class-Name'\n",
        "df = pd.read_csv(input_file,    # Nome do arquivo com dados\n",
        "                 names = names) # Nome das colunas"
      ],
      "metadata": {
        "id": "0NwnQ0ocCsQP"
      },
      "execution_count": 32,
      "outputs": []
    },
    {
      "cell_type": "markdown",
      "source": [
        "Mostrando o número de republicanos e de democratas"
      ],
      "metadata": {
        "id": "qXDFQrphAkeC"
      }
    },
    {
      "cell_type": "code",
      "source": [
        "label = ['republicanos','democratas']\n",
        "cores = ['r','b']\n",
        "republicanos = df['Class-Name'].value_counts()[0]\n",
        "democratas = df['Class-Name'].value_counts()[1]\n",
        "total = republicanos + democratas\n",
        "y = np.array([republicanos, democratas])\n",
        "plt.pie(y , labels=label, colors=cores, autopct= lambda x: '{:.0f}'.format(x*y.sum()/100, startangle=90))\n",
        "plt.title('Total de Senadores')\n",
        "plt.show() \n",
        "print(\"Total: {}\\n\".format(total) )\n",
        "print(\"Republicanos: {:.2f}%\\n\".format((republicanos*100)/total))\n",
        "print(\"Democratas: {:.2f}\\n\".format((democratas*100)/total))\n"
      ],
      "metadata": {
        "colab": {
          "base_uri": "https://localhost:8080/",
          "height": 368
        },
        "id": "ov-yeuJj8qFu",
        "outputId": "8ca3bbd7-8e38-45a0-abbe-55acbda2f8da"
      },
      "execution_count": 33,
      "outputs": [
        {
          "output_type": "display_data",
          "data": {
            "text/plain": [
              "<Figure size 432x288 with 1 Axes>"
            ],
            "image/png": "[encoded data removed]"
          },
          "metadata": {}
        },
        {
          "output_type": "stream",
          "name": "stdout",
          "text": [
            "Total: 435\n",
            "\n",
            "Republicanos: 38.62%\n",
            "\n",
            "Democratas: 61.38\n",
            "\n"
          ]
        }
      ]
    },
    {
      "cell_type": "markdown",
      "source": [
        "Mostrando os votos a favor, contra e abstenção no geral para o atributo definido em 'atributo'"
      ],
      "metadata": {
        "id": "nb43BCSmBJII"
      }
    },
    {
      "cell_type": "code",
      "source": [
        "atributo = 'export-administration-act-south-africa'\n",
        "\n",
        "#'handicapped-infants','water-project-cost-sharing','adoption-of-the-budget-resolution','physician-fee-freeze','el-salvador-aid',\n",
        "#'religious-groups-in-schools','anti-satellite-test-ban','aid-to-nicaraguan-contras','mx-missile','immigration','synfuels-corporation-cutback','education-spending',\n",
        "#'superfund-right-to-sue','crime','duty-free-exports','export-administration-act-south-africa'"
      ],
      "metadata": {
        "id": "tkjAU4AwGpoV"
      },
      "execution_count": 34,
      "outputs": []
    },
    {
      "cell_type": "code",
      "source": [
        "label = ['A favor','Contra','Abstenção']\n",
        "cores = ['green', 'red', 'yellow']\n",
        "favor = df[atributo].value_counts()[1]\n",
        "contra = df[atributo].value_counts()[0]\n",
        "abstencao = df[atributo].value_counts()[2]\n",
        "total = favor+contra+abstencao\n",
        "y = np.array([favor,contra,abstencao])\n",
        "plt.pie(y, labels=label, colors=cores, autopct= lambda x: '{:.0f}'.format(x*y.sum()/100, startangle=90))\n",
        "plt.title('Votos totais do {}'.format(atributo))\n",
        "plt.show() \n",
        "print(\"Total: {}\".format(total) )\n",
        "print(\"A favor: {:.2f}%\".format((favor*100)/total))\n",
        "print(\"Contra: {:.2f}%\".format((contra*100)/total))\n",
        "print(\"Abstenção: {:.2f}%\".format((abstencao*100)/total))"
      ],
      "metadata": {
        "id": "TEJYUHULcCt3",
        "colab": {
          "base_uri": "https://localhost:8080/",
          "height": 333
        },
        "outputId": "98716951-3fc8-417e-9e2f-02582d1ecfc1"
      },
      "execution_count": 35,
      "outputs": [
        {
          "output_type": "display_data",
          "data": {
            "text/plain": [
              "<Figure size 432x288 with 1 Axes>"
            ],
            "image/png": "[encoded data removed]"
          },
          "metadata": {}
        },
        {
          "output_type": "stream",
          "name": "stdout",
          "text": [
            "Total: 435\n",
            "A favor: 61.84%\n",
            "Contra: 14.25%\n",
            "Abstenção: 23.91%\n"
          ]
        }
      ]
    },
    {
      "cell_type": "markdown",
      "source": [
        "Mostrando os votos a favor, contra e abstenção entre os republicanos"
      ],
      "metadata": {
        "id": "_z9zBjb5HFBu"
      }
    },
    {
      "cell_type": "code",
      "source": [
        "label = ['A favor','Contra','Abstenção']\n",
        "cores = ['green', 'red', 'yellow']\n",
        "favor = ((df['Class-Name'] == 0) & ((df[atributo]) == 1)).sum()\n",
        "contra = ((df['Class-Name'] == 0) & ((df[atributo]) == 0)).sum()\n",
        "abstencao = ((df['Class-Name'] == 0) & ((df[atributo]) == 2)).sum()\n",
        "total = favor+contra+abstencao\n",
        "y = np.array([favor,contra,abstencao])\n",
        "plt.pie(y, labels=label, colors=cores, autopct= lambda x: '{:.0f}'.format(x*y.sum()/100, startangle=90))\n",
        "plt.title('Votos Republicanos do {}'.format(atributo))\n",
        "plt.show() \n",
        "print(\"Total: {}\".format(total) )\n",
        "print(\"A favor: {:.2f}%\".format((favor*100)/total))\n",
        "print(\"Contra: {:.2f}%\".format((contra*100)/total))\n",
        "print(\"Abstenção: {:.2f}%\".format((abstencao*100)/total))"
      ],
      "metadata": {
        "colab": {
          "base_uri": "https://localhost:8080/",
          "height": 333
        },
        "outputId": "9affe25d-e2cd-4232-87ea-bce379d6c281",
        "id": "TUeOm7F1HQQJ"
      },
      "execution_count": 36,
      "outputs": [
        {
          "output_type": "display_data",
          "data": {
            "text/plain": [
              "<Figure size 432x288 with 1 Axes>"
            ],
            "image/png": "[encoded data removed]"
          },
          "metadata": {}
        },
        {
          "output_type": "stream",
          "name": "stdout",
          "text": [
            "Total: 168\n",
            "A favor: 57.14%\n",
            "Contra: 29.76%\n",
            "Abstenção: 13.10%\n"
          ]
        }
      ]
    },
    {
      "cell_type": "markdown",
      "source": [
        "Mostrando os votos a favor, contra e abstenção entre os democratas"
      ],
      "metadata": {
        "id": "l7gwHZMwLrLC"
      }
    },
    {
      "cell_type": "code",
      "source": [
        "label = ['A favor','Contra','Abstenção']\n",
        "cores = ['green', 'red', 'yellow']\n",
        "favor = ((df['Class-Name'] == 1) & ((df[atributo]) == 1)).sum()\n",
        "contra = ((df['Class-Name'] == 1) & ((df[atributo]) == 0)).sum()\n",
        "abstencao = ((df['Class-Name'] == 1) & ((df[atributo]) == 2)).sum()\n",
        "total = favor+contra+abstencao\n",
        "y = np.array([favor,contra,abstencao])\n",
        "plt.pie(y, labels=label, colors=cores, autopct= lambda x: '{:.0f}'.format(x*y.sum()/100, startangle=90))\n",
        "plt.title('Votos Democratas do {}'.format(atributo))\n",
        "plt.show() \n",
        "print(\"Total: {}\".format(total) )\n",
        "print(\"A favor: {:.2f}%\".format((favor*100)/total))\n",
        "print(\"Contra: {:.2f}%\".format((contra*100)/total))\n",
        "print(\"Abstenção: {:.2f}%\".format((abstencao*100)/total))"
      ],
      "metadata": {
        "colab": {
          "base_uri": "https://localhost:8080/",
          "height": 333
        },
        "outputId": "0355dbb5-3c94-48bc-adf3-dc3d0fd22d3b",
        "id": "vQwP4YS2MpIi"
      },
      "execution_count": 37,
      "outputs": [
        {
          "output_type": "display_data",
          "data": {
            "text/plain": [
              "<Figure size 432x288 with 1 Axes>"
            ],
            "image/png": "[encoded data removed]"
          },
          "metadata": {}
        },
        {
          "output_type": "stream",
          "name": "stdout",
          "text": [
            "Total: 267\n",
            "A favor: 64.79%\n",
            "Contra: 4.49%\n",
            "Abstenção: 30.71%\n"
          ]
        }
      ]
    },
    {
      "cell_type": "markdown",
      "source": [
        "Analisando os gráficos, percebe-se que para:\n",
        "\n",
        "//podemos padronizar por porcentagem exemplo 45-55%(dividido) 56-65% (maioria 1) 66-75% (maioria 2) 76-85% (maioria 3) +85% (maioria 4) \n",
        "\n",
        "**handicapped-infants:**\n",
        "\n",
        "    Republicanos: maioria 3 - contra\n",
        "    Democratas: maioria 1 - a favor\n",
        "    Total: dividido \n",
        "\n",
        "**water-project-cost-sharing:**\n",
        "\n",
        "    Republicanos: dividido\n",
        "    Democratas: dividido\n",
        "    Total: dividido \n",
        "\n",
        "**adoption-of-the-budget-resolution:**\n",
        "\n",
        "    Republicanos: maioria 3 - contra\n",
        "    Democratas: maioria 4 - a favor\n",
        "    Total: maioria 1 - a favor\n",
        "\n",
        "**physician-fee-freeze:**\n",
        "\n",
        "    Republicanos: maioria 4 - a favor\n",
        "    Democratas: maioria 4 - contra\n",
        "    Total: maioria 1 - a favor\n",
        "\n",
        "\n",
        "**el-salvador-aid:**\n",
        "\n",
        "    Republicanos: maioria 4 - a favor\n",
        "    Democratas: maioria 2 - contra\n",
        "    Total: dividido\n",
        "\n",
        "**religious-groups-in-schools:**\n",
        "\n",
        "    Republicanos: maioria 4 - a favor\n",
        "    Democratas: dividido\n",
        "    Total: maioria 1 - a favor\n",
        "\n",
        "**anti-satellite-test-ban:**\n",
        "\n",
        "    Republicanos: maioria 2 - contra\n",
        "    Democratas: maioria 2 - a favor\n",
        "    Total: dividido \n",
        "\n",
        "**aid-to-nicaraguan-contras:**\n",
        "\n",
        "    Republicanos: maioria 3 - contra\n",
        "    Democratas: maioria 3 - a favor\n",
        "    Total: dividido \n",
        "\n",
        "**mx-missile:**\n",
        "\n",
        "    Republicanos: maioria 4 - contra\n",
        "    Democratas: maioria 2 - a favor\n",
        "    Total: dividido \n",
        "\n",
        "**'immigration:**\n",
        "\n",
        "    Republicanos: dividido\n",
        "    Democratas: dividido\n",
        "    Total: dividido \n",
        "\n",
        "**synfuels-corporation-cutback:**\n",
        "\n",
        "    Republicanos: maioria 3 - contra\n",
        "    Democratas: dividido\n",
        "    Total: maioria 1 - contra\n",
        "\n",
        "**education-spending:**\n",
        "\n",
        "    Republicanos: maioria 3 - a favor\n",
        "    Democratas: maioria 3 - contra\n",
        "    Total: dividido \n",
        "\n",
        "**superfund-right-to-sue:**\n",
        "\n",
        "    Republicanos: maioria 3 - a favor\n",
        "    Democratas: maioria 2 - contra\n",
        "    Total: dividido \n",
        "\n",
        "**crime:**\n",
        "\n",
        "    Republicanos: maioria 4 - a favor\n",
        "    Democratas: maioria 1 - contra\n",
        "    Total: maioria 1 - a favor \n",
        "\n",
        "**duty-free-exports:**\n",
        "\n",
        "    Republicanos: maioria 3 - contra\n",
        "    Democratas: maioria 1 - a favor\n",
        "    Total: dividido \n",
        "\n",
        "**export-administration-act-south-africa:**\n",
        "\n",
        "    Republicanos: maioria 1 - a favor\n",
        "    Democratas: maioria 1 - a favor\n",
        "    Total: maioria 1 - a favor\n",
        "    obs: muita abstenção \n",
        "\n",
        "\n",
        "\n"
      ],
      "metadata": {
        "id": "P6hlfSXINPAE"
      }
    },
    {
      "cell_type": "markdown",
      "source": [
        "#Atividade 4 - Análise Descritiva - Medidas de Resumo"
      ],
      "metadata": {
        "id": "nStlLrf9GXFt"
      }
    },
    {
      "cell_type": "markdown",
      "source": [
        "Aqui faremos medidas de resumo, como:\n",
        "- Medidas de tendencia central;\n",
        "- Medidas de dispersão;\n",
        "- Medidas de posição relativa;\n",
        "- Medidas de associação."
      ],
      "metadata": {
        "id": "h5y_0xp3HDR8"
      }
    },
    {
      "cell_type": "markdown",
      "source": [
        "##Código"
      ],
      "metadata": {
        "id": "2oMFVWkhHRoc"
      }
    },
    {
      "cell_type": "markdown",
      "source": [
        "Lendo a Base de Dados"
      ],
      "metadata": {
        "id": "hm70TvnWHU6c"
      }
    },
    {
      "cell_type": "code",
      "source": [
        "input_file = '/content/house-votes-84-abstencao.data'\n",
        "names = ['Class-Name','handicapped-infants','water-project-cost-sharing','adoption-of-the-budget-resolution','physician-fee-freeze','el-salvador-aid',\n",
        "          'religious-groups-in-schools','anti-satellite-test-ban','aid-to-nicaraguan-contras','mx-missile','immigration','synfuels-corporation-cutback','education-spending',\n",
        "          'superfund-right-to-sue','crime','duty-free-exports','export-administration-act-south-africa']\n",
        "features = ['handicapped-infants','water-project-cost-sharing','adoption-of-the-budget-resolution','physician-fee-freeze','el-salvador-aid',\n",
        "          'religious-groups-in-schools','anti-satellite-test-ban','aid-to-nicaraguan-contras','mx-missile','immigration','synfuels-corporation-cutback','education-spending',\n",
        "          'superfund-right-to-sue','crime','duty-free-exports','export-administration-act-south-africa']\n",
        "target = 'Class-Name'\n",
        "df = pd.read_csv(input_file,    # Nome do arquivo com dados\n",
        "                 names = names) # Nome das colunas"
      ],
      "metadata": {
        "id": "UB3fGj_8Hrh7"
      },
      "execution_count": 38,
      "outputs": []
    },
    {
      "cell_type": "markdown",
      "source": [
        "Escolhendo o atributo"
      ],
      "metadata": {
        "id": "B3u8kboBIFxl"
      }
    },
    {
      "cell_type": "code",
      "source": [
        "atributo = 'physician-fee-freeze'\n",
        "\n",
        "# 'Class-Name', 'handicapped-infants','water-project-cost-sharing','adoption-of-the-budget-resolution','physician-fee-freeze','el-salvador-aid',\n",
        "#'religious-groups-in-schools','anti-satellite-test-ban','aid-to-nicaraguan-contras','mx-missile','immigration','synfuels-corporation-cutback','education-spending',\n",
        "#'superfund-right-to-sue','crime','duty-free-exports','export-administration-act-south-africa'"
      ],
      "metadata": {
        "id": "WkJa5rr2IMky"
      },
      "execution_count": 39,
      "outputs": []
    },
    {
      "cell_type": "markdown",
      "source": [
        "Medidas de Tendência Central"
      ],
      "metadata": {
        "id": "c8c0EmlcIShs"
      }
    },
    {
      "cell_type": "code",
      "source": [
        "print(\"Medidas de Tendência Central\\n\")\n",
        "print('Média: {:.2f}'.format(df[atributo].mean())) # Média\n",
        "print('Mediana: {:.1f}'.format(df[atributo].median())) # Mediana\n",
        "print('Ponto Médio: {:.0f}'.format((df[atributo].max() + df[atributo].min())/2)) # Ponto Médio\n",
        "print('Moda: {:.0f}'.format(float(df[atributo].mode()))) # Moda"
      ],
      "metadata": {
        "colab": {
          "base_uri": "https://localhost:8080/"
        },
        "id": "QPjnISExIE9M",
        "outputId": "06bf3506-f0ca-4a38-a25f-b8266da7fcba"
      },
      "execution_count": 40,
      "outputs": [
        {
          "output_type": "stream",
          "name": "stdout",
          "text": [
            "Medidas de Tendência Central\n",
            "\n",
            "Média: 0.46\n",
            "Mediana: 0.0\n",
            "Ponto Médio: 1\n",
            "Moda: 0\n"
          ]
        }
      ]
    },
    {
      "cell_type": "markdown",
      "source": [
        "Medidas de Dispersão"
      ],
      "metadata": {
        "id": "4yELKMmEJ7cM"
      }
    },
    {
      "cell_type": "code",
      "source": [
        "print(\"Medidas de Dispersão\\n\")\n",
        "print('Amplitude: {:.0f}'.format(df[atributo].max() - df[atributo].min()))  # Amplitude\n",
        "print('Desvio padrão: {:.4f}'.format(df[atributo].std())) # Desvio padrão\n",
        "print('Variância: {:.4f}'.format(df[atributo].var())) # Variância\n",
        "print('Coeficiente de variação: {:.4f}'.format(df[atributo].std()/df[atributo].mean())) # Coeficiente de Variação"
      ],
      "metadata": {
        "colab": {
          "base_uri": "https://localhost:8080/"
        },
        "id": "qy-HwtWGKE28",
        "outputId": "8a54fa14-76b9-4d9a-9a3b-04c08df0407a"
      },
      "execution_count": 41,
      "outputs": [
        {
          "output_type": "stream",
          "name": "stdout",
          "text": [
            "Medidas de Dispersão\n",
            "\n",
            "Amplitude: 2\n",
            "Desvio padrão: 0.5472\n",
            "Variância: 0.2995\n",
            "Coeficiente de variação: 1.1962\n"
          ]
        }
      ]
    },
    {
      "cell_type": "markdown",
      "source": [
        "Medidas de Posição Relativa"
      ],
      "metadata": {
        "id": "AzOKXPXsK1pt"
      }
    },
    {
      "cell_type": "code",
      "source": [
        "print(\"\\nMedidas de Posição Relativa\\n\")\n",
        "print('Z Score:\\n{}\\n'.format((df[atributo] - df[atributo].mean())/df[atributo].std())) # Z Score\n",
        "print('Quantil (25%): {}'.format(df[atributo].quantile(q=0.25))) # Quantil 25%\n",
        "print('Quantil (50%): {}'.format(df[atributo].quantile(q=0.50))) # Quantil 50%\n",
        "print('Quantil (75%): {}'.format(df[atributo].quantile(q=0.75))) # Quantil 75%"
      ],
      "metadata": {
        "colab": {
          "base_uri": "https://localhost:8080/"
        },
        "id": "B4Vmu6-OLAag",
        "outputId": "a08657fd-932a-43fc-9096-da272c0052cf"
      },
      "execution_count": 42,
      "outputs": [
        {
          "output_type": "stream",
          "name": "stdout",
          "text": [
            "\n",
            "Medidas de Posição Relativa\n",
            "\n",
            "Z Score:\n",
            "0      0.991419\n",
            "1      0.991419\n",
            "2      2.818824\n",
            "3     -0.835985\n",
            "4     -0.835985\n",
            "         ...   \n",
            "430    0.991419\n",
            "431   -0.835985\n",
            "432    0.991419\n",
            "433    0.991419\n",
            "434    0.991419\n",
            "Name: physician-fee-freeze, Length: 435, dtype: float64\n",
            "\n",
            "Quantil (25%): 0.0\n",
            "Quantil (50%): 0.0\n",
            "Quantil (75%): 1.0\n"
          ]
        }
      ]
    },
    {
      "cell_type": "markdown",
      "source": [
        "Medidas de Associação"
      ],
      "metadata": {
        "id": "WgZimJfZL3NG"
      }
    },
    {
      "cell_type": "code",
      "source": [
        "print(\"\\nMedidas de Associação\\n\")\n",
        "print('Covariância: \\n{}\\n'.format(df.cov())) # Covariância\n",
        "print('\\nCorrelação: \\n{}'.format(df.corr())) # Correlação"
      ],
      "metadata": {
        "id": "EoXE2Ta3L_vE",
        "outputId": "1c16dfb5-c9be-4950-8c89-76f20d9e356e",
        "colab": {
          "base_uri": "https://localhost:8080/"
        }
      },
      "execution_count": 43,
      "outputs": [
        {
          "output_type": "stream",
          "name": "stdout",
          "text": [
            "\n",
            "Medidas de Associação\n",
            "\n",
            "Covariância: \n",
            "                                        Class-Name  handicapped-infants  \\\n",
            "Class-Name                                0.237597             0.102511   \n",
            "handicapped-infants                       0.102511             0.305652   \n",
            "water-project-cost-sharing               -0.006023             0.038821   \n",
            "adoption-of-the-budget-resolution         0.175592             0.118915   \n",
            "physician-fee-freeze                     -0.212315            -0.079554   \n",
            "el-salvador-aid                          -0.160226            -0.081530   \n",
            "religious-groups-in-schools              -0.090911            -0.086652   \n",
            "anti-satellite-test-ban                   0.120086             0.107119   \n",
            "aid-to-nicaraguan-contras                 0.136056             0.101531   \n",
            "mx-missile                                0.165756             0.113481   \n",
            "immigration                              -0.021135            -0.003602   \n",
            "synfuels-corporation-cutback              0.080995             0.048085   \n",
            "education-spending                       -0.163626            -0.076079   \n",
            "superfund-right-to-sue                   -0.128969            -0.075184   \n",
            "crime                                    -0.145368            -0.080153   \n",
            "duty-free-exports                         0.117114             0.051698   \n",
            "export-administration-act-south-africa    0.101891             0.089004   \n",
            "\n",
            "                                        water-project-cost-sharing  \\\n",
            "Class-Name                                               -0.006023   \n",
            "handicapped-infants                                       0.038821   \n",
            "water-project-cost-sharing                                0.443159   \n",
            "adoption-of-the-budget-resolution                         0.013904   \n",
            "physician-fee-freeze                                      0.050405   \n",
            "el-salvador-aid                                           0.050945   \n",
            "religious-groups-in-schools                               0.056046   \n",
            "anti-satellite-test-ban                                  -0.031368   \n",
            "aid-to-nicaraguan-contras                                 0.000095   \n",
            "mx-missile                                               -0.034356   \n",
            "immigration                                              -0.025028   \n",
            "synfuels-corporation-cutback                              0.056587   \n",
            "education-spending                                        0.018735   \n",
            "superfund-right-to-sue                                    0.080041   \n",
            "crime                                                     0.007723   \n",
            "duty-free-exports                                         0.009534   \n",
            "export-administration-act-south-africa                    0.048165   \n",
            "\n",
            "                                        adoption-of-the-budget-resolution  \\\n",
            "Class-Name                                                       0.175592   \n",
            "handicapped-infants                                              0.118915   \n",
            "water-project-cost-sharing                                       0.013904   \n",
            "adoption-of-the-budget-resolution                                0.283754   \n",
            "physician-fee-freeze                                            -0.135494   \n",
            "el-salvador-aid                                                 -0.131310   \n",
            "religious-groups-in-schools                                     -0.073415   \n",
            "anti-satellite-test-ban                                          0.138726   \n",
            "aid-to-nicaraguan-contras                                        0.163700   \n",
            "mx-missile                                                       0.168944   \n",
            "immigration                                                      0.017506   \n",
            "synfuels-corporation-cutback                                     0.072859   \n",
            "education-spending                                              -0.129721   \n",
            "superfund-right-to-sue                                          -0.096165   \n",
            "crime                                                           -0.127364   \n",
            "duty-free-exports                                                0.123497   \n",
            "export-administration-act-south-africa                           0.123153   \n",
            "\n",
            "                                        physician-fee-freeze  el-salvador-aid  \\\n",
            "Class-Name                                         -0.212315        -0.160226   \n",
            "handicapped-infants                                -0.079554        -0.081530   \n",
            "water-project-cost-sharing                          0.050405         0.050945   \n",
            "adoption-of-the-budget-resolution                  -0.135494        -0.131310   \n",
            "physician-fee-freeze                                0.299454         0.182700   \n",
            "el-salvador-aid                                     0.182700         0.316521   \n",
            "religious-groups-in-schools                         0.118672         0.169220   \n",
            "anti-satellite-test-ban                            -0.131670        -0.141792   \n",
            "aid-to-nicaraguan-contras                          -0.132332        -0.166635   \n",
            "mx-missile                                         -0.167800        -0.190407   \n",
            "immigration                                         0.020234         0.016235   \n",
            "synfuels-corporation-cutback                       -0.027268        -0.001875   \n",
            "education-spending                                  0.171450         0.169071   \n",
            "superfund-right-to-sue                              0.171693         0.161089   \n",
            "crime                                               0.163579         0.177689   \n",
            "duty-free-exports                                  -0.101886        -0.119710   \n",
            "export-administration-act-south-africa             -0.097267        -0.076879   \n",
            "\n",
            "                                        religious-groups-in-schools  \\\n",
            "Class-Name                                                -0.090911   \n",
            "handicapped-infants                                       -0.086652   \n",
            "water-project-cost-sharing                                 0.056046   \n",
            "adoption-of-the-budget-resolution                         -0.073415   \n",
            "physician-fee-freeze                                       0.118672   \n",
            "el-salvador-aid                                            0.169220   \n",
            "religious-groups-in-schools                                0.270269   \n",
            "anti-satellite-test-ban                                   -0.095519   \n",
            "aid-to-nicaraguan-contras                                 -0.096393   \n",
            "mx-missile                                                -0.123598   \n",
            "immigration                                                0.028921   \n",
            "synfuels-corporation-cutback                               0.035102   \n",
            "education-spending                                         0.127936   \n",
            "superfund-right-to-sue                                     0.145050   \n",
            "crime                                                      0.141491   \n",
            "duty-free-exports                                         -0.077070   \n",
            "export-administration-act-south-africa                    -0.042365   \n",
            "\n",
            "                                        anti-satellite-test-ban  \\\n",
            "Class-Name                                             0.120086   \n",
            "handicapped-infants                                    0.107119   \n",
            "water-project-cost-sharing                            -0.031368   \n",
            "adoption-of-the-budget-resolution                      0.138726   \n",
            "physician-fee-freeze                                  -0.131670   \n",
            "el-salvador-aid                                       -0.141792   \n",
            "religious-groups-in-schools                           -0.095519   \n",
            "anti-satellite-test-ban                                0.302113   \n",
            "aid-to-nicaraguan-contras                              0.191355   \n",
            "mx-missile                                             0.184189   \n",
            "immigration                                            0.029557   \n",
            "synfuels-corporation-cutback                           0.030304   \n",
            "education-spending                                    -0.099110   \n",
            "superfund-right-to-sue                                -0.119752   \n",
            "crime                                                 -0.096981   \n",
            "duty-free-exports                                      0.147068   \n",
            "export-administration-act-south-africa                 0.122628   \n",
            "\n",
            "                                        aid-to-nicaraguan-contras  mx-missile  \\\n",
            "Class-Name                                               0.136056    0.165756   \n",
            "handicapped-infants                                      0.101531    0.113481   \n",
            "water-project-cost-sharing                               0.000095   -0.034356   \n",
            "adoption-of-the-budget-resolution                        0.163700    0.168944   \n",
            "physician-fee-freeze                                    -0.132332   -0.167800   \n",
            "el-salvador-aid                                         -0.166635   -0.190407   \n",
            "religious-groups-in-schools                             -0.096393   -0.123598   \n",
            "anti-satellite-test-ban                                  0.191355    0.184189   \n",
            "aid-to-nicaraguan-contras                                0.303967    0.195974   \n",
            "mx-missile                                               0.195974    0.346014   \n",
            "immigration                                              0.021161    0.026008   \n",
            "synfuels-corporation-cutback                             0.062085    0.028142   \n",
            "education-spending                                      -0.107585   -0.125446   \n",
            "superfund-right-to-sue                                  -0.094354   -0.118539   \n",
            "crime                                                   -0.106754   -0.128381   \n",
            "duty-free-exports                                        0.154802    0.141215   \n",
            "export-administration-act-south-africa                   0.137645    0.116971   \n",
            "\n",
            "                                        immigration  \\\n",
            "Class-Name                                -0.021135   \n",
            "handicapped-infants                       -0.003602   \n",
            "water-project-cost-sharing                -0.025028   \n",
            "adoption-of-the-budget-resolution          0.017506   \n",
            "physician-fee-freeze                       0.020234   \n",
            "el-salvador-aid                            0.016235   \n",
            "religious-groups-in-schools                0.028921   \n",
            "anti-satellite-test-ban                    0.029557   \n",
            "aid-to-nicaraguan-contras                  0.021161   \n",
            "mx-missile                                 0.026008   \n",
            "immigration                                0.282006   \n",
            "synfuels-corporation-cutback               0.010329   \n",
            "education-spending                         0.013375   \n",
            "superfund-right-to-sue                     0.020870   \n",
            "crime                                      0.027411   \n",
            "duty-free-exports                         -0.006012   \n",
            "export-administration-act-south-africa     0.004132   \n",
            "\n",
            "                                        synfuels-corporation-cutback  \\\n",
            "Class-Name                                                  0.080995   \n",
            "handicapped-infants                                         0.048085   \n",
            "water-project-cost-sharing                                  0.056587   \n",
            "adoption-of-the-budget-resolution                           0.072859   \n",
            "physician-fee-freeze                                       -0.027268   \n",
            "el-salvador-aid                                            -0.001875   \n",
            "religious-groups-in-schools                                 0.035102   \n",
            "anti-satellite-test-ban                                     0.030304   \n",
            "aid-to-nicaraguan-contras                                   0.062085   \n",
            "mx-missile                                                  0.028142   \n",
            "immigration                                                 0.010329   \n",
            "synfuels-corporation-cutback                                0.343906   \n",
            "education-spending                                          0.014190   \n",
            "superfund-right-to-sue                                      0.006181   \n",
            "crime                                                      -0.003385   \n",
            "duty-free-exports                                           0.056412   \n",
            "export-administration-act-south-africa                      0.044843   \n",
            "\n",
            "                                        education-spending  \\\n",
            "Class-Name                                       -0.163626   \n",
            "handicapped-infants                              -0.076079   \n",
            "water-project-cost-sharing                        0.018735   \n",
            "adoption-of-the-budget-resolution                -0.129721   \n",
            "physician-fee-freeze                              0.171450   \n",
            "el-salvador-aid                                   0.169071   \n",
            "religious-groups-in-schools                       0.127936   \n",
            "anti-satellite-test-ban                          -0.099110   \n",
            "aid-to-nicaraguan-contras                        -0.107585   \n",
            "mx-missile                                       -0.125446   \n",
            "immigration                                       0.013375   \n",
            "synfuels-corporation-cutback                      0.014190   \n",
            "education-spending                                0.392161   \n",
            "superfund-right-to-sue                            0.148090   \n",
            "crime                                             0.158875   \n",
            "duty-free-exports                                -0.081095   \n",
            "export-administration-act-south-africa           -0.081789   \n",
            "\n",
            "                                        superfund-right-to-sue     crime  \\\n",
            "Class-Name                                           -0.128969 -0.145368   \n",
            "handicapped-infants                                  -0.075184 -0.080153   \n",
            "water-project-cost-sharing                            0.080041  0.007723   \n",
            "adoption-of-the-budget-resolution                    -0.096165 -0.127364   \n",
            "physician-fee-freeze                                  0.171693  0.163579   \n",
            "el-salvador-aid                                       0.161089  0.177689   \n",
            "religious-groups-in-schools                           0.145050  0.141491   \n",
            "anti-satellite-test-ban                              -0.119752 -0.096981   \n",
            "aid-to-nicaraguan-contras                            -0.094354 -0.106754   \n",
            "mx-missile                                           -0.118539 -0.128381   \n",
            "immigration                                           0.020870  0.027411   \n",
            "synfuels-corporation-cutback                          0.006181 -0.003385   \n",
            "education-spending                                    0.148090  0.158875   \n",
            "superfund-right-to-sue                                0.356661  0.173034   \n",
            "crime                                                 0.173034  0.306881   \n",
            "duty-free-exports                                    -0.075904 -0.080884   \n",
            "export-administration-act-south-africa               -0.064532 -0.058128   \n",
            "\n",
            "                                        duty-free-exports  \\\n",
            "Class-Name                                       0.117114   \n",
            "handicapped-infants                              0.051698   \n",
            "water-project-cost-sharing                       0.009534   \n",
            "adoption-of-the-budget-resolution                0.123497   \n",
            "physician-fee-freeze                            -0.101886   \n",
            "el-salvador-aid                                 -0.119710   \n",
            "religious-groups-in-schools                     -0.077070   \n",
            "anti-satellite-test-ban                          0.147068   \n",
            "aid-to-nicaraguan-contras                        0.154802   \n",
            "mx-missile                                       0.141215   \n",
            "immigration                                     -0.006012   \n",
            "synfuels-corporation-cutback                     0.056412   \n",
            "education-spending                              -0.081095   \n",
            "superfund-right-to-sue                          -0.075904   \n",
            "crime                                           -0.080884   \n",
            "duty-free-exports                                0.378781   \n",
            "export-administration-act-south-africa           0.107818   \n",
            "\n",
            "                                        export-administration-act-south-africa  \n",
            "Class-Name                                                            0.101891  \n",
            "handicapped-infants                                                   0.089004  \n",
            "water-project-cost-sharing                                            0.048165  \n",
            "adoption-of-the-budget-resolution                                     0.123153  \n",
            "physician-fee-freeze                                                 -0.097267  \n",
            "el-salvador-aid                                                      -0.076879  \n",
            "religious-groups-in-schools                                          -0.042365  \n",
            "anti-satellite-test-ban                                               0.122628  \n",
            "aid-to-nicaraguan-contras                                             0.137645  \n",
            "mx-missile                                                            0.116971  \n",
            "immigration                                                           0.004132  \n",
            "synfuels-corporation-cutback                                          0.044843  \n",
            "education-spending                                                   -0.081789  \n",
            "superfund-right-to-sue                                               -0.064532  \n",
            "crime                                                                -0.058128  \n",
            "duty-free-exports                                                     0.107818  \n",
            "export-administration-act-south-africa                                0.373145  \n",
            "\n",
            "\n",
            "Correlação: \n",
            "                                        Class-Name  handicapped-infants  \\\n",
            "Class-Name                                1.000000             0.380395   \n",
            "handicapped-infants                       0.380395             1.000000   \n",
            "water-project-cost-sharing               -0.018560             0.105481   \n",
            "adoption-of-the-budget-resolution         0.676258             0.403787   \n",
            "physician-fee-freeze                     -0.795967            -0.262956   \n",
            "el-salvador-aid                          -0.584265            -0.262121   \n",
            "religious-groups-in-schools              -0.358753            -0.301486   \n",
            "anti-satellite-test-ban                   0.448214             0.352507   \n",
            "aid-to-nicaraguan-contras                 0.506271             0.333097   \n",
            "mx-missile                                0.578097             0.348948   \n",
            "immigration                              -0.081648            -0.012268   \n",
            "synfuels-corporation-cutback              0.283345             0.148313   \n",
            "education-spending                       -0.536044            -0.219746   \n",
            "superfund-right-to-sue                   -0.443033            -0.227711   \n",
            "crime                                    -0.538348            -0.261709   \n",
            "duty-free-exports                         0.390387             0.151937   \n",
            "export-administration-act-south-africa    0.342197             0.263546   \n",
            "\n",
            "                                        water-project-cost-sharing  \\\n",
            "Class-Name                                               -0.018560   \n",
            "handicapped-infants                                       0.105481   \n",
            "water-project-cost-sharing                                1.000000   \n",
            "adoption-of-the-budget-resolution                         0.039210   \n",
            "physician-fee-freeze                                      0.138366   \n",
            "el-salvador-aid                                           0.136027   \n",
            "religious-groups-in-schools                               0.161946   \n",
            "anti-satellite-test-ban                                  -0.085728   \n",
            "aid-to-nicaraguan-contras                                 0.000260   \n",
            "mx-missile                                               -0.087735   \n",
            "immigration                                              -0.070797   \n",
            "synfuels-corporation-cutback                              0.144949   \n",
            "education-spending                                        0.044941   \n",
            "superfund-right-to-sue                                    0.201329   \n",
            "crime                                                     0.020942   \n",
            "duty-free-exports                                         0.023271   \n",
            "export-administration-act-south-africa                    0.118443   \n",
            "\n",
            "                                        adoption-of-the-budget-resolution  \\\n",
            "Class-Name                                                       0.676258   \n",
            "handicapped-infants                                              0.403787   \n",
            "water-project-cost-sharing                                       0.039210   \n",
            "adoption-of-the-budget-resolution                                1.000000   \n",
            "physician-fee-freeze                                            -0.464820   \n",
            "el-salvador-aid                                                 -0.438152   \n",
            "religious-groups-in-schools                                     -0.265103   \n",
            "anti-satellite-test-ban                                          0.473806   \n",
            "aid-to-nicaraguan-contras                                        0.557397   \n",
            "mx-missile                                                       0.539170   \n",
            "immigration                                                      0.061886   \n",
            "synfuels-corporation-cutback                                     0.233233   \n",
            "education-spending                                              -0.388872   \n",
            "superfund-right-to-sue                                          -0.302286   \n",
            "crime                                                           -0.431608   \n",
            "duty-free-exports                                                0.376696   \n",
            "export-administration-act-south-africa                           0.378472   \n",
            "\n",
            "                                        physician-fee-freeze  el-salvador-aid  \\\n",
            "Class-Name                                         -0.795967        -0.584265   \n",
            "handicapped-infants                                -0.262956        -0.262121   \n",
            "water-project-cost-sharing                          0.138366         0.136027   \n",
            "adoption-of-the-budget-resolution                  -0.464820        -0.438152   \n",
            "physician-fee-freeze                                1.000000         0.593434   \n",
            "el-salvador-aid                                     0.593434         1.000000   \n",
            "religious-groups-in-schools                         0.417142         0.578565   \n",
            "anti-satellite-test-ban                            -0.437761        -0.458529   \n",
            "aid-to-nicaraguan-contras                          -0.438618        -0.537219   \n",
            "mx-missile                                         -0.521291        -0.575354   \n",
            "immigration                                         0.069629         0.054340   \n",
            "synfuels-corporation-cutback                       -0.084972        -0.005683   \n",
            "education-spending                                  0.500310         0.479885   \n",
            "superfund-right-to-sue                              0.525364         0.479443   \n",
            "crime                                               0.539605         0.570132   \n",
            "duty-free-exports                                  -0.302520        -0.345728   \n",
            "export-administration-act-south-africa             -0.290978        -0.223701   \n",
            "\n",
            "                                        religious-groups-in-schools  \\\n",
            "Class-Name                                                -0.358753   \n",
            "handicapped-infants                                       -0.301486   \n",
            "water-project-cost-sharing                                 0.161946   \n",
            "adoption-of-the-budget-resolution                         -0.265103   \n",
            "physician-fee-freeze                                       0.417142   \n",
            "el-salvador-aid                                            0.578565   \n",
            "religious-groups-in-schools                                1.000000   \n",
            "anti-satellite-test-ban                                   -0.334277   \n",
            "aid-to-nicaraguan-contras                                 -0.336305   \n",
            "mx-missile                                                -0.404171   \n",
            "immigration                                                0.104758   \n",
            "synfuels-corporation-cutback                               0.115138   \n",
            "education-spending                                         0.392973   \n",
            "superfund-right-to-sue                                     0.467189   \n",
            "crime                                                      0.491298   \n",
            "duty-free-exports                                         -0.240875   \n",
            "export-administration-act-south-africa                    -0.133403   \n",
            "\n",
            "                                        anti-satellite-test-ban  \\\n",
            "Class-Name                                             0.448214   \n",
            "handicapped-infants                                    0.352507   \n",
            "water-project-cost-sharing                            -0.085728   \n",
            "adoption-of-the-budget-resolution                      0.473806   \n",
            "physician-fee-freeze                                  -0.437761   \n",
            "el-salvador-aid                                       -0.458529   \n",
            "religious-groups-in-schools                           -0.334277   \n",
            "anti-satellite-test-ban                                1.000000   \n",
            "aid-to-nicaraguan-contras                              0.631455   \n",
            "mx-missile                                             0.569680   \n",
            "immigration                                            0.101261   \n",
            "synfuels-corporation-cutback                           0.094013   \n",
            "education-spending                                    -0.287939   \n",
            "superfund-right-to-sue                                -0.364813   \n",
            "crime                                                 -0.318505   \n",
            "duty-free-exports                                      0.434750   \n",
            "export-administration-act-south-africa                 0.365231   \n",
            "\n",
            "                                        aid-to-nicaraguan-contras  mx-missile  \\\n",
            "Class-Name                                               0.506271    0.578097   \n",
            "handicapped-infants                                      0.333097    0.348948   \n",
            "water-project-cost-sharing                               0.000260   -0.087735   \n",
            "adoption-of-the-budget-resolution                        0.557397    0.539170   \n",
            "physician-fee-freeze                                    -0.438618   -0.521291   \n",
            "el-salvador-aid                                         -0.537219   -0.575354   \n",
            "religious-groups-in-schools                             -0.336305   -0.404171   \n",
            "anti-satellite-test-ban                                  0.631455    0.569680   \n",
            "aid-to-nicaraguan-contras                                1.000000    0.604281   \n",
            "mx-missile                                               0.604281    1.000000   \n",
            "immigration                                              0.072276    0.083258   \n",
            "synfuels-corporation-cutback                             0.192023    0.081582   \n",
            "education-spending                                      -0.311607   -0.340548   \n",
            "superfund-right-to-sue                                  -0.286561   -0.337433   \n",
            "crime                                                   -0.349530   -0.393975   \n",
            "duty-free-exports                                        0.456214    0.390068   \n",
            "export-administration-act-south-africa                   0.408703    0.325532   \n",
            "\n",
            "                                        immigration  \\\n",
            "Class-Name                                -0.081648   \n",
            "handicapped-infants                       -0.012268   \n",
            "water-project-cost-sharing                -0.070797   \n",
            "adoption-of-the-budget-resolution          0.061886   \n",
            "physician-fee-freeze                       0.069629   \n",
            "el-salvador-aid                            0.054340   \n",
            "religious-groups-in-schools                0.104758   \n",
            "anti-satellite-test-ban                    0.101261   \n",
            "aid-to-nicaraguan-contras                  0.072276   \n",
            "mx-missile                                 0.083258   \n",
            "immigration                                1.000000   \n",
            "synfuels-corporation-cutback               0.033167   \n",
            "education-spending                         0.040218   \n",
            "superfund-right-to-sue                     0.065805   \n",
            "crime                                      0.093179   \n",
            "duty-free-exports                         -0.018395   \n",
            "export-administration-act-south-africa     0.012736   \n",
            "\n",
            "                                        synfuels-corporation-cutback  \\\n",
            "Class-Name                                                  0.283345   \n",
            "handicapped-infants                                         0.148313   \n",
            "water-project-cost-sharing                                  0.144949   \n",
            "adoption-of-the-budget-resolution                           0.233233   \n",
            "physician-fee-freeze                                       -0.084972   \n",
            "el-salvador-aid                                            -0.005683   \n",
            "religious-groups-in-schools                                 0.115138   \n",
            "anti-satellite-test-ban                                     0.094013   \n",
            "aid-to-nicaraguan-contras                                   0.192023   \n",
            "mx-missile                                                  0.081582   \n",
            "immigration                                                 0.033167   \n",
            "synfuels-corporation-cutback                                1.000000   \n",
            "education-spending                                          0.038640   \n",
            "superfund-right-to-sue                                      0.017650   \n",
            "crime                                                      -0.010419   \n",
            "duty-free-exports                                           0.156299   \n",
            "export-administration-act-south-africa                      0.125182   \n",
            "\n",
            "                                        education-spending  \\\n",
            "Class-Name                                       -0.536044   \n",
            "handicapped-infants                              -0.219746   \n",
            "water-project-cost-sharing                        0.044941   \n",
            "adoption-of-the-budget-resolution                -0.388872   \n",
            "physician-fee-freeze                              0.500310   \n",
            "el-salvador-aid                                   0.479885   \n",
            "religious-groups-in-schools                       0.392973   \n",
            "anti-satellite-test-ban                          -0.287939   \n",
            "aid-to-nicaraguan-contras                        -0.311607   \n",
            "mx-missile                                       -0.340548   \n",
            "immigration                                       0.040218   \n",
            "synfuels-corporation-cutback                      0.038640   \n",
            "education-spending                                1.000000   \n",
            "superfund-right-to-sue                            0.395975   \n",
            "crime                                             0.457972   \n",
            "duty-free-exports                                -0.210412   \n",
            "export-administration-act-south-africa           -0.213809   \n",
            "\n",
            "                                        superfund-right-to-sue     crime  \\\n",
            "Class-Name                                           -0.443033 -0.538348   \n",
            "handicapped-infants                                  -0.227711 -0.261709   \n",
            "water-project-cost-sharing                            0.201329  0.020942   \n",
            "adoption-of-the-budget-resolution                    -0.302286 -0.431608   \n",
            "physician-fee-freeze                                  0.525364  0.539605   \n",
            "el-salvador-aid                                       0.479443  0.570132   \n",
            "religious-groups-in-schools                           0.467189  0.491298   \n",
            "anti-satellite-test-ban                              -0.364813 -0.318505   \n",
            "aid-to-nicaraguan-contras                            -0.286561 -0.349530   \n",
            "mx-missile                                           -0.337433 -0.393975   \n",
            "immigration                                           0.065805  0.093179   \n",
            "synfuels-corporation-cutback                          0.017650 -0.010419   \n",
            "education-spending                                    0.395975  0.457972   \n",
            "superfund-right-to-sue                                1.000000  0.523019   \n",
            "crime                                                 0.523019  1.000000   \n",
            "duty-free-exports                                    -0.206512 -0.237236   \n",
            "export-administration-act-south-africa               -0.176892 -0.171776   \n",
            "\n",
            "                                        duty-free-exports  \\\n",
            "Class-Name                                       0.390387   \n",
            "handicapped-infants                              0.151937   \n",
            "water-project-cost-sharing                       0.023271   \n",
            "adoption-of-the-budget-resolution                0.376696   \n",
            "physician-fee-freeze                            -0.302520   \n",
            "el-salvador-aid                                 -0.345728   \n",
            "religious-groups-in-schools                     -0.240875   \n",
            "anti-satellite-test-ban                          0.434750   \n",
            "aid-to-nicaraguan-contras                        0.456214   \n",
            "mx-missile                                       0.390068   \n",
            "immigration                                     -0.018395   \n",
            "synfuels-corporation-cutback                     0.156299   \n",
            "education-spending                              -0.210412   \n",
            "superfund-right-to-sue                          -0.206512   \n",
            "crime                                           -0.237236   \n",
            "duty-free-exports                                1.000000   \n",
            "export-administration-act-south-africa           0.286787   \n",
            "\n",
            "                                        export-administration-act-south-africa  \n",
            "Class-Name                                                            0.342197  \n",
            "handicapped-infants                                                   0.263546  \n",
            "water-project-cost-sharing                                            0.118443  \n",
            "adoption-of-the-budget-resolution                                     0.378472  \n",
            "physician-fee-freeze                                                 -0.290978  \n",
            "el-salvador-aid                                                      -0.223701  \n",
            "religious-groups-in-schools                                          -0.133403  \n",
            "anti-satellite-test-ban                                               0.365231  \n",
            "aid-to-nicaraguan-contras                                             0.408703  \n",
            "mx-missile                                                            0.325532  \n",
            "immigration                                                           0.012736  \n",
            "synfuels-corporation-cutback                                          0.125182  \n",
            "education-spending                                                   -0.213809  \n",
            "superfund-right-to-sue                                               -0.176892  \n",
            "crime                                                                -0.171776  \n",
            "duty-free-exports                                                     0.286787  \n",
            "export-administration-act-south-africa                                1.000000  \n"
          ]
        }
      ]
    },
    {
      "cell_type": "markdown",
      "source": [
        "Matriz de Correlação"
      ],
      "metadata": {
        "id": "GFA-D27GNNV1"
      }
    },
    {
      "cell_type": "code",
      "source": [
        "corr = df.corr()\n",
        "corr.style.background_gradient(cmap='coolwarm')"
      ],
      "metadata": {
        "id": "8vjnL3qVNP3M",
        "outputId": "f46455cf-7d13-400f-ee19-eb93120e6aff",
        "colab": {
          "base_uri": "https://localhost:8080/",
          "height": 967
        }
      },
      "execution_count": 44,
      "outputs": [
        {
          "output_type": "execute_result",
          "data": {
            "text/plain": [
              "<pandas.io.formats.style.Styler at 0x7f6a189b4f10>"
            ],
            "text/html": [
              "<style type=\"text/css\">\n",
              "#T_49ea6_row0_col0, #T_49ea6_row1_col1, #T_49ea6_row2_col2, #T_49ea6_row3_col3, #T_49ea6_row4_col4, #T_49ea6_row5_col5, #T_49ea6_row6_col6, #T_49ea6_row7_col7, #T_49ea6_row8_col8, #T_49ea6_row9_col9, #T_49ea6_row10_col10, #T_49ea6_row11_col11, #T_49ea6_row12_col12, #T_49ea6_row13_col13, #T_49ea6_row14_col14, #T_49ea6_row15_col15, #T_49ea6_row16_col16 {\n",
              "  background-color: #b40426;\n",
              "  color: #f1f1f1;\n",
              "}\n",
              "#T_49ea6_row0_col1 {\n",
              "  background-color: #e3d9d3;\n",
              "  color: #000000;\n",
              "}\n",
              "#T_49ea6_row0_col2, #T_49ea6_row1_col10, #T_49ea6_row4_col8, #T_49ea6_row12_col1, #T_49ea6_row13_col7 {\n",
              "  background-color: #4e68d8;\n",
              "  color: #f1f1f1;\n",
              "}\n",
              "#T_49ea6_row0_col3 {\n",
              "  background-color: #f18d6f;\n",
              "  color: #f1f1f1;\n",
              "}\n",
              "#T_49ea6_row0_col4, #T_49ea6_row0_col5, #T_49ea6_row0_col10, #T_49ea6_row0_col12, #T_49ea6_row0_col13, #T_49ea6_row0_col14, #T_49ea6_row4_col0, #T_49ea6_row4_col3, #T_49ea6_row4_col11, #T_49ea6_row4_col16, #T_49ea6_row5_col7, #T_49ea6_row5_col8, #T_49ea6_row5_col9, #T_49ea6_row5_col15, #T_49ea6_row6_col1, #T_49ea6_row7_col2, #T_49ea6_row9_col2, #T_49ea6_row9_col6 {\n",
              "  background-color: #3b4cc0;\n",
              "  color: #f1f1f1;\n",
              "}\n",
              "#T_49ea6_row0_col6, #T_49ea6_row4_col9, #T_49ea6_row4_col15 {\n",
              "  background-color: #445acc;\n",
              "  color: #f1f1f1;\n",
              "}\n",
              "#T_49ea6_row0_col7 {\n",
              "  background-color: #f4c5ad;\n",
              "  color: #000000;\n",
              "}\n",
              "#T_49ea6_row0_col8 {\n",
              "  background-color: #f7b497;\n",
              "  color: #000000;\n",
              "}\n",
              "#T_49ea6_row0_col9, #T_49ea6_row6_col5 {\n",
              "  background-color: #f5a081;\n",
              "  color: #000000;\n",
              "}\n",
              "#T_49ea6_row0_col11 {\n",
              "  background-color: #abc8fd;\n",
              "  color: #000000;\n",
              "}\n",
              "#T_49ea6_row0_col15 {\n",
              "  background-color: #e9d5cb;\n",
              "  color: #000000;\n",
              "}\n",
              "#T_49ea6_row0_col16 {\n",
              "  background-color: #dadce0;\n",
              "  color: #000000;\n",
              "}\n",
              "#T_49ea6_row1_col0 {\n",
              "  background-color: #f7bca1;\n",
              "  color: #000000;\n",
              "}\n",
              "#T_49ea6_row1_col2 {\n",
              "  background-color: #7396f5;\n",
              "  color: #f1f1f1;\n",
              "}\n",
              "#T_49ea6_row1_col3 {\n",
              "  background-color: #f1cdba;\n",
              "  color: #000000;\n",
              "}\n",
              "#T_49ea6_row1_col4, #T_49ea6_row3_col11 {\n",
              "  background-color: #9dbdff;\n",
              "  color: #000000;\n",
              "}\n",
              "#T_49ea6_row1_col5, #T_49ea6_row1_col12, #T_49ea6_row5_col2 {\n",
              "  background-color: #7da0f9;\n",
              "  color: #f1f1f1;\n",
              "}\n",
              "#T_49ea6_row1_col6, #T_49ea6_row5_col11, #T_49ea6_row9_col13 {\n",
              "  background-color: #506bda;\n",
              "  color: #f1f1f1;\n",
              "}\n",
              "#T_49ea6_row1_col7 {\n",
              "  background-color: #ead4c8;\n",
              "  color: #000000;\n",
              "}\n",
              "#T_49ea6_row1_col8, #T_49ea6_row16_col7 {\n",
              "  background-color: #ecd3c5;\n",
              "  color: #000000;\n",
              "}\n",
              "#T_49ea6_row1_col9 {\n",
              "  background-color: #f0cdbb;\n",
              "  color: #000000;\n",
              "}\n",
              "#T_49ea6_row1_col11 {\n",
              "  background-color: #81a4fb;\n",
              "  color: #f1f1f1;\n",
              "}\n",
              "#T_49ea6_row1_col13, #T_49ea6_row12_col9, #T_49ea6_row13_col9, #T_49ea6_row15_col5 {\n",
              "  background-color: #6a8bef;\n",
              "  color: #f1f1f1;\n",
              "}\n",
              "#T_49ea6_row1_col14 {\n",
              "  background-color: #7597f6;\n",
              "  color: #f1f1f1;\n",
              "}\n",
              "#T_49ea6_row1_col15, #T_49ea6_row11_col6 {\n",
              "  background-color: #b6cefa;\n",
              "  color: #000000;\n",
              "}\n",
              "#T_49ea6_row1_col16 {\n",
              "  background-color: #c9d7f0;\n",
              "  color: #000000;\n",
              "}\n",
              "#T_49ea6_row2_col0 {\n",
              "  background-color: #cad8ef;\n",
              "  color: #000000;\n",
              "}\n",
              "#T_49ea6_row2_col1 {\n",
              "  background-color: #a3c2fe;\n",
              "  color: #000000;\n",
              "}\n",
              "#T_49ea6_row2_col3, #T_49ea6_row11_col1 {\n",
              "  background-color: #aec9fc;\n",
              "  color: #000000;\n",
              "}\n",
              "#T_49ea6_row2_col4 {\n",
              "  background-color: #e2dad5;\n",
              "  color: #000000;\n",
              "}\n",
              "#T_49ea6_row2_col5 {\n",
              "  background-color: #d1dae9;\n",
              "  color: #000000;\n",
              "}\n",
              "#T_49ea6_row2_col6, #T_49ea6_row10_col5 {\n",
              "  background-color: #c1d4f4;\n",
              "  color: #000000;\n",
              "}\n",
              "#T_49ea6_row2_col7, #T_49ea6_row8_col11 {\n",
              "  background-color: #8fb1fe;\n",
              "  color: #000000;\n",
              "}\n",
              "#T_49ea6_row2_col8, #T_49ea6_row15_col1 {\n",
              "  background-color: #afcafc;\n",
              "  color: #000000;\n",
              "}\n",
              "#T_49ea6_row2_col9 {\n",
              "  background-color: #a2c1ff;\n",
              "  color: #000000;\n",
              "}\n",
              "#T_49ea6_row2_col10 {\n",
              "  background-color: #3d50c3;\n",
              "  color: #f1f1f1;\n",
              "}\n",
              "#T_49ea6_row2_col11, #T_49ea6_row11_col2, #T_49ea6_row15_col12 {\n",
              "  background-color: #80a3fa;\n",
              "  color: #f1f1f1;\n",
              "}\n",
              "#T_49ea6_row2_col12, #T_49ea6_row10_col12, #T_49ea6_row11_col7 {\n",
              "  background-color: #b9d0f9;\n",
              "  color: #000000;\n",
              "}\n",
              "#T_49ea6_row2_col13, #T_49ea6_row15_col16 {\n",
              "  background-color: #cedaeb;\n",
              "  color: #000000;\n",
              "}\n",
              "#T_49ea6_row2_col14, #T_49ea6_row11_col5 {\n",
              "  background-color: #b5cdfa;\n",
              "  color: #000000;\n",
              "}\n",
              "#T_49ea6_row2_col15, #T_49ea6_row15_col4 {\n",
              "  background-color: #96b7ff;\n",
              "  color: #000000;\n",
              "}\n",
              "#T_49ea6_row2_col16, #T_49ea6_row11_col13 {\n",
              "  background-color: #a5c3fe;\n",
              "  color: #000000;\n",
              "}\n",
              "#T_49ea6_row3_col0 {\n",
              "  background-color: #ea7b60;\n",
              "  color: #f1f1f1;\n",
              "}\n",
              "#T_49ea6_row3_col1, #T_49ea6_row8_col16 {\n",
              "  background-color: #e7d7ce;\n",
              "  color: #000000;\n",
              "}\n",
              "#T_49ea6_row3_col2, #T_49ea6_row12_col7, #T_49ea6_row12_col11, #T_49ea6_row14_col9, #T_49ea6_row15_col6 {\n",
              "  background-color: #5e7de7;\n",
              "  color: #f1f1f1;\n",
              "}\n",
              "#T_49ea6_row3_col4, #T_49ea6_row6_col11, #T_49ea6_row16_col13 {\n",
              "  background-color: #7699f6;\n",
              "  color: #f1f1f1;\n",
              "}\n",
              "#T_49ea6_row3_col5, #T_49ea6_row14_col16 {\n",
              "  background-color: #5673e0;\n",
              "  color: #f1f1f1;\n",
              "}\n",
              "#T_49ea6_row3_col6, #T_49ea6_row12_col15, #T_49ea6_row14_col2 {\n",
              "  background-color: #5977e3;\n",
              "  color: #f1f1f1;\n",
              "}\n",
              "#T_49ea6_row3_col7, #T_49ea6_row5_col13, #T_49ea6_row14_col6 {\n",
              "  background-color: #f5c0a7;\n",
              "  color: #000000;\n",
              "}\n",
              "#T_49ea6_row3_col8 {\n",
              "  background-color: #f7a889;\n",
              "  color: #000000;\n",
              "}\n",
              "#T_49ea6_row3_col9 {\n",
              "  background-color: #f7a98b;\n",
              "  color: #000000;\n",
              "}\n",
              "#T_49ea6_row3_col10, #T_49ea6_row6_col8 {\n",
              "  background-color: #6384eb;\n",
              "  color: #f1f1f1;\n",
              "}\n",
              "#T_49ea6_row3_col12, #T_49ea6_row3_col13, #T_49ea6_row9_col14, #T_49ea6_row13_col11, #T_49ea6_row14_col7 {\n",
              "  background-color: #5875e1;\n",
              "  color: #f1f1f1;\n",
              "}\n",
              "#T_49ea6_row3_col14, #T_49ea6_row14_col11 {\n",
              "  background-color: #4f69d9;\n",
              "  color: #f1f1f1;\n",
              "}\n",
              "#T_49ea6_row3_col15 {\n",
              "  background-color: #e6d7cf;\n",
              "  color: #000000;\n",
              "}\n",
              "#T_49ea6_row3_col16 {\n",
              "  background-color: #e1dad6;\n",
              "  color: #000000;\n",
              "}\n",
              "#T_49ea6_row4_col1, #T_49ea6_row5_col1, #T_49ea6_row8_col5, #T_49ea6_row14_col1 {\n",
              "  background-color: #4358cb;\n",
              "  color: #f1f1f1;\n",
              "}\n",
              "#T_49ea6_row4_col2, #T_49ea6_row16_col12 {\n",
              "  background-color: #7ea1fa;\n",
              "  color: #f1f1f1;\n",
              "}\n",
              "#T_49ea6_row4_col5, #T_49ea6_row9_col8, #T_49ea6_row14_col4 {\n",
              "  background-color: #f59c7d;\n",
              "  color: #000000;\n",
              "}\n",
              "#T_49ea6_row4_col6 {\n",
              "  background-color: #efcebd;\n",
              "  color: #000000;\n",
              "}\n",
              "#T_49ea6_row4_col7, #T_49ea6_row10_col2 {\n",
              "  background-color: #3e51c5;\n",
              "  color: #f1f1f1;\n",
              "}\n",
              "#T_49ea6_row4_col10 {\n",
              "  background-color: #6687ed;\n",
              "  color: #f1f1f1;\n",
              "}\n",
              "#T_49ea6_row4_col12, #T_49ea6_row6_col4 {\n",
              "  background-color: #f7b599;\n",
              "  color: #000000;\n",
              "}\n",
              "#T_49ea6_row4_col13, #T_49ea6_row6_col14, #T_49ea6_row12_col5, #T_49ea6_row13_col5, #T_49ea6_row14_col13 {\n",
              "  background-color: #f7b79b;\n",
              "  color: #000000;\n",
              "}\n",
              "#T_49ea6_row4_col14, #T_49ea6_row5_col6 {\n",
              "  background-color: #f7ac8e;\n",
              "  color: #000000;\n",
              "}\n",
              "#T_49ea6_row5_col0 {\n",
              "  background-color: #5f7fe8;\n",
              "  color: #f1f1f1;\n",
              "}\n",
              "#T_49ea6_row5_col3 {\n",
              "  background-color: #3f53c6;\n",
              "  color: #f1f1f1;\n",
              "}\n",
              "#T_49ea6_row5_col4 {\n",
              "  background-color: #f18f71;\n",
              "  color: #f1f1f1;\n",
              "}\n",
              "#T_49ea6_row5_col10, #T_49ea6_row9_col12 {\n",
              "  background-color: #6282ea;\n",
              "  color: #f1f1f1;\n",
              "}\n",
              "#T_49ea6_row5_col12, #T_49ea6_row15_col0 {\n",
              "  background-color: #f7b99e;\n",
              "  color: #000000;\n",
              "}\n",
              "#T_49ea6_row5_col14, #T_49ea6_row12_col4 {\n",
              "  background-color: #f6a586;\n",
              "  color: #000000;\n",
              "}\n",
              "#T_49ea6_row5_col16, #T_49ea6_row7_col13, #T_49ea6_row12_col3 {\n",
              "  background-color: #4a63d3;\n",
              "  color: #f1f1f1;\n",
              "}\n",
              "#T_49ea6_row6_col0, #T_49ea6_row10_col15 {\n",
              "  background-color: #8badfd;\n",
              "  color: #000000;\n",
              "}\n",
              "#T_49ea6_row6_col2, #T_49ea6_row16_col5 {\n",
              "  background-color: #85a8fc;\n",
              "  color: #f1f1f1;\n",
              "}\n",
              "#T_49ea6_row6_col3, #T_49ea6_row13_col10 {\n",
              "  background-color: #6485ec;\n",
              "  color: #f1f1f1;\n",
              "}\n",
              "#T_49ea6_row6_col7 {\n",
              "  background-color: #5470de;\n",
              "  color: #f1f1f1;\n",
              "}\n",
              "#T_49ea6_row6_col9, #T_49ea6_row8_col13, #T_49ea6_row10_col11, #T_49ea6_row11_col10 {\n",
              "  background-color: #5b7ae5;\n",
              "  color: #f1f1f1;\n",
              "}\n",
              "#T_49ea6_row6_col10 {\n",
              "  background-color: #7295f4;\n",
              "  color: #f1f1f1;\n",
              "}\n",
              "#T_49ea6_row6_col12 {\n",
              "  background-color: #f2cab5;\n",
              "  color: #000000;\n",
              "}\n",
              "#T_49ea6_row6_col13 {\n",
              "  background-color: #f5c2aa;\n",
              "  color: #000000;\n",
              "}\n",
              "#T_49ea6_row6_col15 {\n",
              "  background-color: #516ddb;\n",
              "  color: #f1f1f1;\n",
              "}\n",
              "#T_49ea6_row6_col16, #T_49ea6_row8_col14, #T_49ea6_row12_col2, #T_49ea6_row14_col8 {\n",
              "  background-color: #6180e9;\n",
              "  color: #f1f1f1;\n",
              "}\n",
              "#T_49ea6_row7_col0 {\n",
              "  background-color: #f7af91;\n",
              "  color: #000000;\n",
              "}\n",
              "#T_49ea6_row7_col1 {\n",
              "  background-color: #dddcdc;\n",
              "  color: #000000;\n",
              "}\n",
              "#T_49ea6_row7_col3 {\n",
              "  background-color: #f6bfa6;\n",
              "  color: #000000;\n",
              "}\n",
              "#T_49ea6_row7_col4 {\n",
              "  background-color: #7b9ff9;\n",
              "  color: #f1f1f1;\n",
              "}\n",
              "#T_49ea6_row7_col5, #T_49ea6_row8_col2, #T_49ea6_row14_col15 {\n",
              "  background-color: #536edd;\n",
              "  color: #f1f1f1;\n",
              "}\n",
              "#T_49ea6_row7_col6, #T_49ea6_row8_col6 {\n",
              "  background-color: #4961d2;\n",
              "  color: #f1f1f1;\n",
              "}\n",
              "#T_49ea6_row7_col8 {\n",
              "  background-color: #f39577;\n",
              "  color: #000000;\n",
              "}\n",
              "#T_49ea6_row7_col9, #T_49ea6_row14_col5 {\n",
              "  background-color: #f6a283;\n",
              "  color: #000000;\n",
              "}\n",
              "#T_49ea6_row7_col10 {\n",
              "  background-color: #7093f3;\n",
              "  color: #f1f1f1;\n",
              "}\n",
              "#T_49ea6_row7_col11 {\n",
              "  background-color: #6f92f3;\n",
              "  color: #f1f1f1;\n",
              "}\n",
              "#T_49ea6_row7_col12, #T_49ea6_row13_col8, #T_49ea6_row14_col10, #T_49ea6_row15_col13 {\n",
              "  background-color: #6e90f2;\n",
              "  color: #f1f1f1;\n",
              "}\n",
              "#T_49ea6_row7_col14, #T_49ea6_row8_col10, #T_49ea6_row14_col0 {\n",
              "  background-color: #6788ee;\n",
              "  color: #f1f1f1;\n",
              "}\n",
              "#T_49ea6_row7_col15, #T_49ea6_row12_col13 {\n",
              "  background-color: #efcfbf;\n",
              "  color: #000000;\n",
              "}\n",
              "#T_49ea6_row7_col16 {\n",
              "  background-color: #dfdbd9;\n",
              "  color: #000000;\n",
              "}\n",
              "#T_49ea6_row8_col0 {\n",
              "  background-color: #f6a385;\n",
              "  color: #000000;\n",
              "}\n",
              "#T_49ea6_row8_col1 {\n",
              "  background-color: #d9dce1;\n",
              "  color: #000000;\n",
              "}\n",
              "#T_49ea6_row8_col3 {\n",
              "  background-color: #f7ad90;\n",
              "  color: #000000;\n",
              "}\n",
              "#T_49ea6_row8_col4, #T_49ea6_row13_col0, #T_49ea6_row15_col14 {\n",
              "  background-color: #7a9df8;\n",
              "  color: #f1f1f1;\n",
              "}\n",
              "#T_49ea6_row8_col7, #T_49ea6_row8_col9 {\n",
              "  background-color: #f49a7b;\n",
              "  color: #000000;\n",
              "}\n",
              "#T_49ea6_row8_col12, #T_49ea6_row12_col0, #T_49ea6_row12_col8 {\n",
              "  background-color: #688aef;\n",
              "  color: #f1f1f1;\n",
              "}\n",
              "#T_49ea6_row8_col15 {\n",
              "  background-color: #f1ccb8;\n",
              "  color: #000000;\n",
              "}\n",
              "#T_49ea6_row9_col0 {\n",
              "  background-color: #f39475;\n",
              "  color: #000000;\n",
              "}\n",
              "#T_49ea6_row9_col1 {\n",
              "  background-color: #dcdddd;\n",
              "  color: #000000;\n",
              "}\n",
              "#T_49ea6_row9_col3 {\n",
              "  background-color: #f7b194;\n",
              "  color: #000000;\n",
              "}\n",
              "#T_49ea6_row9_col4, #T_49ea6_row9_col10, #T_49ea6_row9_col11 {\n",
              "  background-color: #6b8df0;\n",
              "  color: #f1f1f1;\n",
              "}\n",
              "#T_49ea6_row9_col5 {\n",
              "  background-color: #3c4ec2;\n",
              "  color: #f1f1f1;\n",
              "}\n",
              "#T_49ea6_row9_col7 {\n",
              "  background-color: #f7aa8c;\n",
              "  color: #000000;\n",
              "}\n",
              "#T_49ea6_row9_col15 {\n",
              "  background-color: #e8d6cc;\n",
              "  color: #000000;\n",
              "}\n",
              "#T_49ea6_row9_col16 {\n",
              "  background-color: #d7dce3;\n",
              "  color: #000000;\n",
              "}\n",
              "#T_49ea6_row10_col0, #T_49ea6_row10_col8, #T_49ea6_row11_col4 {\n",
              "  background-color: #bfd3f6;\n",
              "  color: #000000;\n",
              "}\n",
              "#T_49ea6_row10_col1, #T_49ea6_row15_col11 {\n",
              "  background-color: #82a6fb;\n",
              "  color: #f1f1f1;\n",
              "}\n",
              "#T_49ea6_row10_col3, #T_49ea6_row10_col6 {\n",
              "  background-color: #b3cdfb;\n",
              "  color: #000000;\n",
              "}\n",
              "#T_49ea6_row10_col4 {\n",
              "  background-color: #d8dce2;\n",
              "  color: #000000;\n",
              "}\n",
              "#T_49ea6_row10_col7 {\n",
              "  background-color: #bbd1f8;\n",
              "  color: #000000;\n",
              "}\n",
              "#T_49ea6_row10_col9 {\n",
              "  background-color: #c6d6f1;\n",
              "  color: #000000;\n",
              "}\n",
              "#T_49ea6_row10_col13 {\n",
              "  background-color: #b1cbfc;\n",
              "  color: #000000;\n",
              "}\n",
              "#T_49ea6_row10_col14 {\n",
              "  background-color: #c4d5f3;\n",
              "  color: #000000;\n",
              "}\n",
              "#T_49ea6_row10_col16 {\n",
              "  background-color: #88abfd;\n",
              "  color: #000000;\n",
              "}\n",
              "#T_49ea6_row11_col0 {\n",
              "  background-color: #f2cbb7;\n",
              "  color: #000000;\n",
              "}\n",
              "#T_49ea6_row11_col3, #T_49ea6_row11_col8 {\n",
              "  background-color: #d6dce4;\n",
              "  color: #000000;\n",
              "}\n",
              "#T_49ea6_row11_col9 {\n",
              "  background-color: #c5d6f2;\n",
              "  color: #000000;\n",
              "}\n",
              "#T_49ea6_row11_col12, #T_49ea6_row11_col15 {\n",
              "  background-color: #b7cff9;\n",
              "  color: #000000;\n",
              "}\n",
              "#T_49ea6_row11_col14 {\n",
              "  background-color: #adc9fd;\n",
              "  color: #000000;\n",
              "}\n",
              "#T_49ea6_row11_col16 {\n",
              "  background-color: #a6c4fe;\n",
              "  color: #000000;\n",
              "}\n",
              "#T_49ea6_row12_col6 {\n",
              "  background-color: #edd2c3;\n",
              "  color: #000000;\n",
              "}\n",
              "#T_49ea6_row12_col10, #T_49ea6_row13_col3 {\n",
              "  background-color: #5d7ce6;\n",
              "  color: #f1f1f1;\n",
              "}\n",
              "#T_49ea6_row12_col14, #T_49ea6_row14_col12, #T_49ea6_row15_col8 {\n",
              "  background-color: #f6bea4;\n",
              "  color: #000000;\n",
              "}\n",
              "#T_49ea6_row12_col16 {\n",
              "  background-color: #4c66d6;\n",
              "  color: #f1f1f1;\n",
              "}\n",
              "#T_49ea6_row13_col1, #T_49ea6_row15_col10 {\n",
              "  background-color: #4b64d5;\n",
              "  color: #f1f1f1;\n",
              "}\n",
              "#T_49ea6_row13_col2 {\n",
              "  background-color: #93b5fe;\n",
              "  color: #000000;\n",
              "}\n",
              "#T_49ea6_row13_col4 {\n",
              "  background-color: #f59f80;\n",
              "  color: #000000;\n",
              "}\n",
              "#T_49ea6_row13_col6 {\n",
              "  background-color: #f4c6af;\n",
              "  color: #000000;\n",
              "}\n",
              "#T_49ea6_row13_col12 {\n",
              "  background-color: #f2c9b4;\n",
              "  color: #000000;\n",
              "}\n",
              "#T_49ea6_row13_col14 {\n",
              "  background-color: #f7b093;\n",
              "  color: #000000;\n",
              "}\n",
              "#T_49ea6_row13_col15, #T_49ea6_row15_col2 {\n",
              "  background-color: #5a78e4;\n",
              "  color: #f1f1f1;\n",
              "}\n",
              "#T_49ea6_row13_col16, #T_49ea6_row16_col10 {\n",
              "  background-color: #5572df;\n",
              "  color: #f1f1f1;\n",
              "}\n",
              "#T_49ea6_row14_col3 {\n",
              "  background-color: #4055c8;\n",
              "  color: #f1f1f1;\n",
              "}\n",
              "#T_49ea6_row15_col3, #T_49ea6_row16_col3 {\n",
              "  background-color: #eed0c0;\n",
              "  color: #000000;\n",
              "}\n",
              "#T_49ea6_row15_col7, #T_49ea6_row15_col9 {\n",
              "  background-color: #f3c8b2;\n",
              "  color: #000000;\n",
              "}\n",
              "#T_49ea6_row16_col0 {\n",
              "  background-color: #f5c1a9;\n",
              "  color: #000000;\n",
              "}\n",
              "#T_49ea6_row16_col1 {\n",
              "  background-color: #cbd8ee;\n",
              "  color: #000000;\n",
              "}\n",
              "#T_49ea6_row16_col2 {\n",
              "  background-color: #779af7;\n",
              "  color: #f1f1f1;\n",
              "}\n",
              "#T_49ea6_row16_col4 {\n",
              "  background-color: #97b8ff;\n",
              "  color: #000000;\n",
              "}\n",
              "#T_49ea6_row16_col6, #T_49ea6_row16_col11 {\n",
              "  background-color: #799cf8;\n",
              "  color: #f1f1f1;\n",
              "}\n",
              "#T_49ea6_row16_col8 {\n",
              "  background-color: #f3c7b1;\n",
              "  color: #000000;\n",
              "}\n",
              "#T_49ea6_row16_col9 {\n",
              "  background-color: #edd1c2;\n",
              "  color: #000000;\n",
              "}\n",
              "#T_49ea6_row16_col14 {\n",
              "  background-color: #89acfd;\n",
              "  color: #000000;\n",
              "}\n",
              "#T_49ea6_row16_col15 {\n",
              "  background-color: #d5dbe5;\n",
              "  color: #000000;\n",
              "}\n",
              "</style>\n",
              "<table id=\"T_49ea6_\" class=\"dataframe\">\n",
              "  <thead>\n",
              "    <tr>\n",
              "      <th class=\"blank level0\" >&nbsp;</th>\n",
              "      <th class=\"col_heading level0 col0\" >Class-Name</th>\n",
              "      <th class=\"col_heading level0 col1\" >handicapped-infants</th>\n",
              "      <th class=\"col_heading level0 col2\" >water-project-cost-sharing</th>\n",
              "      <th class=\"col_heading level0 col3\" >adoption-of-the-budget-resolution</th>\n",
              "      <th class=\"col_heading level0 col4\" >physician-fee-freeze</th>\n",
              "      <th class=\"col_heading level0 col5\" >el-salvador-aid</th>\n",
              "      <th class=\"col_heading level0 col6\" >religious-groups-in-schools</th>\n",
              "      <th class=\"col_heading level0 col7\" >anti-satellite-test-ban</th>\n",
              "      <th class=\"col_heading level0 col8\" >aid-to-nicaraguan-contras</th>\n",
              "      <th class=\"col_heading level0 col9\" >mx-missile</th>\n",
              "      <th class=\"col_heading level0 col10\" >immigration</th>\n",
              "      <th class=\"col_heading level0 col11\" >synfuels-corporation-cutback</th>\n",
              "      <th class=\"col_heading level0 col12\" >education-spending</th>\n",
              "      <th class=\"col_heading level0 col13\" >superfund-right-to-sue</th>\n",
              "      <th class=\"col_heading level0 col14\" >crime</th>\n",
              "      <th class=\"col_heading level0 col15\" >duty-free-exports</th>\n",
              "      <th class=\"col_heading level0 col16\" >export-administration-act-south-africa</th>\n",
              "    </tr>\n",
              "  </thead>\n",
              "  <tbody>\n",
              "    <tr>\n",
              "      <th id=\"T_49ea6_level0_row0\" class=\"row_heading level0 row0\" >Class-Name</th>\n",
              "      <td id=\"T_49ea6_row0_col0\" class=\"data row0 col0\" >1.000000</td>\n",
              "      <td id=\"T_49ea6_row0_col1\" class=\"data row0 col1\" >0.380395</td>\n",
              "      <td id=\"T_49ea6_row0_col2\" class=\"data row0 col2\" >-0.018560</td>\n",
              "      <td id=\"T_49ea6_row0_col3\" class=\"data row0 col3\" >0.676258</td>\n",
              "      <td id=\"T_49ea6_row0_col4\" class=\"data row0 col4\" >-0.795967</td>\n",
              "      <td id=\"T_49ea6_row0_col5\" class=\"data row0 col5\" >-0.584265</td>\n",
              "      <td id=\"T_49ea6_row0_col6\" class=\"data row0 col6\" >-0.358753</td>\n",
              "      <td id=\"T_49ea6_row0_col7\" class=\"data row0 col7\" >0.448214</td>\n",
              "      <td id=\"T_49ea6_row0_col8\" class=\"data row0 col8\" >0.506271</td>\n",
              "      <td id=\"T_49ea6_row0_col9\" class=\"data row0 col9\" >0.578097</td>\n",
              "      <td id=\"T_49ea6_row0_col10\" class=\"data row0 col10\" >-0.081648</td>\n",
              "      <td id=\"T_49ea6_row0_col11\" class=\"data row0 col11\" >0.283345</td>\n",
              "      <td id=\"T_49ea6_row0_col12\" class=\"data row0 col12\" >-0.536044</td>\n",
              "      <td id=\"T_49ea6_row0_col13\" class=\"data row0 col13\" >-0.443033</td>\n",
              "      <td id=\"T_49ea6_row0_col14\" class=\"data row0 col14\" >-0.538348</td>\n",
              "      <td id=\"T_49ea6_row0_col15\" class=\"data row0 col15\" >0.390387</td>\n",
              "      <td id=\"T_49ea6_row0_col16\" class=\"data row0 col16\" >0.342197</td>\n",
              "    </tr>\n",
              "    <tr>\n",
              "      <th id=\"T_49ea6_level0_row1\" class=\"row_heading level0 row1\" >handicapped-infants</th>\n",
              "      <td id=\"T_49ea6_row1_col0\" class=\"data row1 col0\" >0.380395</td>\n",
              "      <td id=\"T_49ea6_row1_col1\" class=\"data row1 col1\" >1.000000</td>\n",
              "      <td id=\"T_49ea6_row1_col2\" class=\"data row1 col2\" >0.105481</td>\n",
              "      <td id=\"T_49ea6_row1_col3\" class=\"data row1 col3\" >0.403787</td>\n",
              "      <td id=\"T_49ea6_row1_col4\" class=\"data row1 col4\" >-0.262956</td>\n",
              "      <td id=\"T_49ea6_row1_col5\" class=\"data row1 col5\" >-0.262121</td>\n",
              "      <td id=\"T_49ea6_row1_col6\" class=\"data row1 col6\" >-0.301486</td>\n",
              "      <td id=\"T_49ea6_row1_col7\" class=\"data row1 col7\" >0.352507</td>\n",
              "      <td id=\"T_49ea6_row1_col8\" class=\"data row1 col8\" >0.333097</td>\n",
              "      <td id=\"T_49ea6_row1_col9\" class=\"data row1 col9\" >0.348948</td>\n",
              "      <td id=\"T_49ea6_row1_col10\" class=\"data row1 col10\" >-0.012268</td>\n",
              "      <td id=\"T_49ea6_row1_col11\" class=\"data row1 col11\" >0.148313</td>\n",
              "      <td id=\"T_49ea6_row1_col12\" class=\"data row1 col12\" >-0.219746</td>\n",
              "      <td id=\"T_49ea6_row1_col13\" class=\"data row1 col13\" >-0.227711</td>\n",
              "      <td id=\"T_49ea6_row1_col14\" class=\"data row1 col14\" >-0.261709</td>\n",
              "      <td id=\"T_49ea6_row1_col15\" class=\"data row1 col15\" >0.151937</td>\n",
              "      <td id=\"T_49ea6_row1_col16\" class=\"data row1 col16\" >0.263546</td>\n",
              "    </tr>\n",
              "    <tr>\n",
              "      <th id=\"T_49ea6_level0_row2\" class=\"row_heading level0 row2\" >water-project-cost-sharing</th>\n",
              "      <td id=\"T_49ea6_row2_col0\" class=\"data row2 col0\" >-0.018560</td>\n",
              "      <td id=\"T_49ea6_row2_col1\" class=\"data row2 col1\" >0.105481</td>\n",
              "      <td id=\"T_49ea6_row2_col2\" class=\"data row2 col2\" >1.000000</td>\n",
              "      <td id=\"T_49ea6_row2_col3\" class=\"data row2 col3\" >0.039210</td>\n",
              "      <td id=\"T_49ea6_row2_col4\" class=\"data row2 col4\" >0.138366</td>\n",
              "      <td id=\"T_49ea6_row2_col5\" class=\"data row2 col5\" >0.136027</td>\n",
              "      <td id=\"T_49ea6_row2_col6\" class=\"data row2 col6\" >0.161946</td>\n",
              "      <td id=\"T_49ea6_row2_col7\" class=\"data row2 col7\" >-0.085728</td>\n",
              "      <td id=\"T_49ea6_row2_col8\" class=\"data row2 col8\" >0.000260</td>\n",
              "      <td id=\"T_49ea6_row2_col9\" class=\"data row2 col9\" >-0.087735</td>\n",
              "      <td id=\"T_49ea6_row2_col10\" class=\"data row2 col10\" >-0.070797</td>\n",
              "      <td id=\"T_49ea6_row2_col11\" class=\"data row2 col11\" >0.144949</td>\n",
              "      <td id=\"T_49ea6_row2_col12\" class=\"data row2 col12\" >0.044941</td>\n",
              "      <td id=\"T_49ea6_row2_col13\" class=\"data row2 col13\" >0.201329</td>\n",
              "      <td id=\"T_49ea6_row2_col14\" class=\"data row2 col14\" >0.020942</td>\n",
              "      <td id=\"T_49ea6_row2_col15\" class=\"data row2 col15\" >0.023271</td>\n",
              "      <td id=\"T_49ea6_row2_col16\" class=\"data row2 col16\" >0.118443</td>\n",
              "    </tr>\n",
              "    <tr>\n",
              "      <th id=\"T_49ea6_level0_row3\" class=\"row_heading level0 row3\" >adoption-of-the-budget-resolution</th>\n",
              "      <td id=\"T_49ea6_row3_col0\" class=\"data row3 col0\" >0.676258</td>\n",
              "      <td id=\"T_49ea6_row3_col1\" class=\"data row3 col1\" >0.403787</td>\n",
              "      <td id=\"T_49ea6_row3_col2\" class=\"data row3 col2\" >0.039210</td>\n",
              "      <td id=\"T_49ea6_row3_col3\" class=\"data row3 col3\" >1.000000</td>\n",
              "      <td id=\"T_49ea6_row3_col4\" class=\"data row3 col4\" >-0.464820</td>\n",
              "      <td id=\"T_49ea6_row3_col5\" class=\"data row3 col5\" >-0.438152</td>\n",
              "      <td id=\"T_49ea6_row3_col6\" class=\"data row3 col6\" >-0.265103</td>\n",
              "      <td id=\"T_49ea6_row3_col7\" class=\"data row3 col7\" >0.473806</td>\n",
              "      <td id=\"T_49ea6_row3_col8\" class=\"data row3 col8\" >0.557397</td>\n",
              "      <td id=\"T_49ea6_row3_col9\" class=\"data row3 col9\" >0.539170</td>\n",
              "      <td id=\"T_49ea6_row3_col10\" class=\"data row3 col10\" >0.061886</td>\n",
              "      <td id=\"T_49ea6_row3_col11\" class=\"data row3 col11\" >0.233233</td>\n",
              "      <td id=\"T_49ea6_row3_col12\" class=\"data row3 col12\" >-0.388872</td>\n",
              "      <td id=\"T_49ea6_row3_col13\" class=\"data row3 col13\" >-0.302286</td>\n",
              "      <td id=\"T_49ea6_row3_col14\" class=\"data row3 col14\" >-0.431608</td>\n",
              "      <td id=\"T_49ea6_row3_col15\" class=\"data row3 col15\" >0.376696</td>\n",
              "      <td id=\"T_49ea6_row3_col16\" class=\"data row3 col16\" >0.378472</td>\n",
              "    </tr>\n",
              "    <tr>\n",
              "      <th id=\"T_49ea6_level0_row4\" class=\"row_heading level0 row4\" >physician-fee-freeze</th>\n",
              "      <td id=\"T_49ea6_row4_col0\" class=\"data row4 col0\" >-0.795967</td>\n",
              "      <td id=\"T_49ea6_row4_col1\" class=\"data row4 col1\" >-0.262956</td>\n",
              "      <td id=\"T_49ea6_row4_col2\" class=\"data row4 col2\" >0.138366</td>\n",
              "      <td id=\"T_49ea6_row4_col3\" class=\"data row4 col3\" >-0.464820</td>\n",
              "      <td id=\"T_49ea6_row4_col4\" class=\"data row4 col4\" >1.000000</td>\n",
              "      <td id=\"T_49ea6_row4_col5\" class=\"data row4 col5\" >0.593434</td>\n",
              "      <td id=\"T_49ea6_row4_col6\" class=\"data row4 col6\" >0.417142</td>\n",
              "      <td id=\"T_49ea6_row4_col7\" class=\"data row4 col7\" >-0.437761</td>\n",
              "      <td id=\"T_49ea6_row4_col8\" class=\"data row4 col8\" >-0.438618</td>\n",
              "      <td id=\"T_49ea6_row4_col9\" class=\"data row4 col9\" >-0.521291</td>\n",
              "      <td id=\"T_49ea6_row4_col10\" class=\"data row4 col10\" >0.069629</td>\n",
              "      <td id=\"T_49ea6_row4_col11\" class=\"data row4 col11\" >-0.084972</td>\n",
              "      <td id=\"T_49ea6_row4_col12\" class=\"data row4 col12\" >0.500310</td>\n",
              "      <td id=\"T_49ea6_row4_col13\" class=\"data row4 col13\" >0.525364</td>\n",
              "      <td id=\"T_49ea6_row4_col14\" class=\"data row4 col14\" >0.539605</td>\n",
              "      <td id=\"T_49ea6_row4_col15\" class=\"data row4 col15\" >-0.302520</td>\n",
              "      <td id=\"T_49ea6_row4_col16\" class=\"data row4 col16\" >-0.290978</td>\n",
              "    </tr>\n",
              "    <tr>\n",
              "      <th id=\"T_49ea6_level0_row5\" class=\"row_heading level0 row5\" >el-salvador-aid</th>\n",
              "      <td id=\"T_49ea6_row5_col0\" class=\"data row5 col0\" >-0.584265</td>\n",
              "      <td id=\"T_49ea6_row5_col1\" class=\"data row5 col1\" >-0.262121</td>\n",
              "      <td id=\"T_49ea6_row5_col2\" class=\"data row5 col2\" >0.136027</td>\n",
              "      <td id=\"T_49ea6_row5_col3\" class=\"data row5 col3\" >-0.438152</td>\n",
              "      <td id=\"T_49ea6_row5_col4\" class=\"data row5 col4\" >0.593434</td>\n",
              "      <td id=\"T_49ea6_row5_col5\" class=\"data row5 col5\" >1.000000</td>\n",
              "      <td id=\"T_49ea6_row5_col6\" class=\"data row5 col6\" >0.578565</td>\n",
              "      <td id=\"T_49ea6_row5_col7\" class=\"data row5 col7\" >-0.458529</td>\n",
              "      <td id=\"T_49ea6_row5_col8\" class=\"data row5 col8\" >-0.537219</td>\n",
              "      <td id=\"T_49ea6_row5_col9\" class=\"data row5 col9\" >-0.575354</td>\n",
              "      <td id=\"T_49ea6_row5_col10\" class=\"data row5 col10\" >0.054340</td>\n",
              "      <td id=\"T_49ea6_row5_col11\" class=\"data row5 col11\" >-0.005683</td>\n",
              "      <td id=\"T_49ea6_row5_col12\" class=\"data row5 col12\" >0.479885</td>\n",
              "      <td id=\"T_49ea6_row5_col13\" class=\"data row5 col13\" >0.479443</td>\n",
              "      <td id=\"T_49ea6_row5_col14\" class=\"data row5 col14\" >0.570132</td>\n",
              "      <td id=\"T_49ea6_row5_col15\" class=\"data row5 col15\" >-0.345728</td>\n",
              "      <td id=\"T_49ea6_row5_col16\" class=\"data row5 col16\" >-0.223701</td>\n",
              "    </tr>\n",
              "    <tr>\n",
              "      <th id=\"T_49ea6_level0_row6\" class=\"row_heading level0 row6\" >religious-groups-in-schools</th>\n",
              "      <td id=\"T_49ea6_row6_col0\" class=\"data row6 col0\" >-0.358753</td>\n",
              "      <td id=\"T_49ea6_row6_col1\" class=\"data row6 col1\" >-0.301486</td>\n",
              "      <td id=\"T_49ea6_row6_col2\" class=\"data row6 col2\" >0.161946</td>\n",
              "      <td id=\"T_49ea6_row6_col3\" class=\"data row6 col3\" >-0.265103</td>\n",
              "      <td id=\"T_49ea6_row6_col4\" class=\"data row6 col4\" >0.417142</td>\n",
              "      <td id=\"T_49ea6_row6_col5\" class=\"data row6 col5\" >0.578565</td>\n",
              "      <td id=\"T_49ea6_row6_col6\" class=\"data row6 col6\" >1.000000</td>\n",
              "      <td id=\"T_49ea6_row6_col7\" class=\"data row6 col7\" >-0.334277</td>\n",
              "      <td id=\"T_49ea6_row6_col8\" class=\"data row6 col8\" >-0.336305</td>\n",
              "      <td id=\"T_49ea6_row6_col9\" class=\"data row6 col9\" >-0.404171</td>\n",
              "      <td id=\"T_49ea6_row6_col10\" class=\"data row6 col10\" >0.104758</td>\n",
              "      <td id=\"T_49ea6_row6_col11\" class=\"data row6 col11\" >0.115138</td>\n",
              "      <td id=\"T_49ea6_row6_col12\" class=\"data row6 col12\" >0.392973</td>\n",
              "      <td id=\"T_49ea6_row6_col13\" class=\"data row6 col13\" >0.467189</td>\n",
              "      <td id=\"T_49ea6_row6_col14\" class=\"data row6 col14\" >0.491298</td>\n",
              "      <td id=\"T_49ea6_row6_col15\" class=\"data row6 col15\" >-0.240875</td>\n",
              "      <td id=\"T_49ea6_row6_col16\" class=\"data row6 col16\" >-0.133403</td>\n",
              "    </tr>\n",
              "    <tr>\n",
              "      <th id=\"T_49ea6_level0_row7\" class=\"row_heading level0 row7\" >anti-satellite-test-ban</th>\n",
              "      <td id=\"T_49ea6_row7_col0\" class=\"data row7 col0\" >0.448214</td>\n",
              "      <td id=\"T_49ea6_row7_col1\" class=\"data row7 col1\" >0.352507</td>\n",
              "      <td id=\"T_49ea6_row7_col2\" class=\"data row7 col2\" >-0.085728</td>\n",
              "      <td id=\"T_49ea6_row7_col3\" class=\"data row7 col3\" >0.473806</td>\n",
              "      <td id=\"T_49ea6_row7_col4\" class=\"data row7 col4\" >-0.437761</td>\n",
              "      <td id=\"T_49ea6_row7_col5\" class=\"data row7 col5\" >-0.458529</td>\n",
              "      <td id=\"T_49ea6_row7_col6\" class=\"data row7 col6\" >-0.334277</td>\n",
              "      <td id=\"T_49ea6_row7_col7\" class=\"data row7 col7\" >1.000000</td>\n",
              "      <td id=\"T_49ea6_row7_col8\" class=\"data row7 col8\" >0.631455</td>\n",
              "      <td id=\"T_49ea6_row7_col9\" class=\"data row7 col9\" >0.569680</td>\n",
              "      <td id=\"T_49ea6_row7_col10\" class=\"data row7 col10\" >0.101261</td>\n",
              "      <td id=\"T_49ea6_row7_col11\" class=\"data row7 col11\" >0.094013</td>\n",
              "      <td id=\"T_49ea6_row7_col12\" class=\"data row7 col12\" >-0.287939</td>\n",
              "      <td id=\"T_49ea6_row7_col13\" class=\"data row7 col13\" >-0.364813</td>\n",
              "      <td id=\"T_49ea6_row7_col14\" class=\"data row7 col14\" >-0.318505</td>\n",
              "      <td id=\"T_49ea6_row7_col15\" class=\"data row7 col15\" >0.434750</td>\n",
              "      <td id=\"T_49ea6_row7_col16\" class=\"data row7 col16\" >0.365231</td>\n",
              "    </tr>\n",
              "    <tr>\n",
              "      <th id=\"T_49ea6_level0_row8\" class=\"row_heading level0 row8\" >aid-to-nicaraguan-contras</th>\n",
              "      <td id=\"T_49ea6_row8_col0\" class=\"data row8 col0\" >0.506271</td>\n",
              "      <td id=\"T_49ea6_row8_col1\" class=\"data row8 col1\" >0.333097</td>\n",
              "      <td id=\"T_49ea6_row8_col2\" class=\"data row8 col2\" >0.000260</td>\n",
              "      <td id=\"T_49ea6_row8_col3\" class=\"data row8 col3\" >0.557397</td>\n",
              "      <td id=\"T_49ea6_row8_col4\" class=\"data row8 col4\" >-0.438618</td>\n",
              "      <td id=\"T_49ea6_row8_col5\" class=\"data row8 col5\" >-0.537219</td>\n",
              "      <td id=\"T_49ea6_row8_col6\" class=\"data row8 col6\" >-0.336305</td>\n",
              "      <td id=\"T_49ea6_row8_col7\" class=\"data row8 col7\" >0.631455</td>\n",
              "      <td id=\"T_49ea6_row8_col8\" class=\"data row8 col8\" >1.000000</td>\n",
              "      <td id=\"T_49ea6_row8_col9\" class=\"data row8 col9\" >0.604281</td>\n",
              "      <td id=\"T_49ea6_row8_col10\" class=\"data row8 col10\" >0.072276</td>\n",
              "      <td id=\"T_49ea6_row8_col11\" class=\"data row8 col11\" >0.192023</td>\n",
              "      <td id=\"T_49ea6_row8_col12\" class=\"data row8 col12\" >-0.311607</td>\n",
              "      <td id=\"T_49ea6_row8_col13\" class=\"data row8 col13\" >-0.286561</td>\n",
              "      <td id=\"T_49ea6_row8_col14\" class=\"data row8 col14\" >-0.349530</td>\n",
              "      <td id=\"T_49ea6_row8_col15\" class=\"data row8 col15\" >0.456214</td>\n",
              "      <td id=\"T_49ea6_row8_col16\" class=\"data row8 col16\" >0.408703</td>\n",
              "    </tr>\n",
              "    <tr>\n",
              "      <th id=\"T_49ea6_level0_row9\" class=\"row_heading level0 row9\" >mx-missile</th>\n",
              "      <td id=\"T_49ea6_row9_col0\" class=\"data row9 col0\" >0.578097</td>\n",
              "      <td id=\"T_49ea6_row9_col1\" class=\"data row9 col1\" >0.348948</td>\n",
              "      <td id=\"T_49ea6_row9_col2\" class=\"data row9 col2\" >-0.087735</td>\n",
              "      <td id=\"T_49ea6_row9_col3\" class=\"data row9 col3\" >0.539170</td>\n",
              "      <td id=\"T_49ea6_row9_col4\" class=\"data row9 col4\" >-0.521291</td>\n",
              "      <td id=\"T_49ea6_row9_col5\" class=\"data row9 col5\" >-0.575354</td>\n",
              "      <td id=\"T_49ea6_row9_col6\" class=\"data row9 col6\" >-0.404171</td>\n",
              "      <td id=\"T_49ea6_row9_col7\" class=\"data row9 col7\" >0.569680</td>\n",
              "      <td id=\"T_49ea6_row9_col8\" class=\"data row9 col8\" >0.604281</td>\n",
              "      <td id=\"T_49ea6_row9_col9\" class=\"data row9 col9\" >1.000000</td>\n",
              "      <td id=\"T_49ea6_row9_col10\" class=\"data row9 col10\" >0.083258</td>\n",
              "      <td id=\"T_49ea6_row9_col11\" class=\"data row9 col11\" >0.081582</td>\n",
              "      <td id=\"T_49ea6_row9_col12\" class=\"data row9 col12\" >-0.340548</td>\n",
              "      <td id=\"T_49ea6_row9_col13\" class=\"data row9 col13\" >-0.337433</td>\n",
              "      <td id=\"T_49ea6_row9_col14\" class=\"data row9 col14\" >-0.393975</td>\n",
              "      <td id=\"T_49ea6_row9_col15\" class=\"data row9 col15\" >0.390068</td>\n",
              "      <td id=\"T_49ea6_row9_col16\" class=\"data row9 col16\" >0.325532</td>\n",
              "    </tr>\n",
              "    <tr>\n",
              "      <th id=\"T_49ea6_level0_row10\" class=\"row_heading level0 row10\" >immigration</th>\n",
              "      <td id=\"T_49ea6_row10_col0\" class=\"data row10 col0\" >-0.081648</td>\n",
              "      <td id=\"T_49ea6_row10_col1\" class=\"data row10 col1\" >-0.012268</td>\n",
              "      <td id=\"T_49ea6_row10_col2\" class=\"data row10 col2\" >-0.070797</td>\n",
              "      <td id=\"T_49ea6_row10_col3\" class=\"data row10 col3\" >0.061886</td>\n",
              "      <td id=\"T_49ea6_row10_col4\" class=\"data row10 col4\" >0.069629</td>\n",
              "      <td id=\"T_49ea6_row10_col5\" class=\"data row10 col5\" >0.054340</td>\n",
              "      <td id=\"T_49ea6_row10_col6\" class=\"data row10 col6\" >0.104758</td>\n",
              "      <td id=\"T_49ea6_row10_col7\" class=\"data row10 col7\" >0.101261</td>\n",
              "      <td id=\"T_49ea6_row10_col8\" class=\"data row10 col8\" >0.072276</td>\n",
              "      <td id=\"T_49ea6_row10_col9\" class=\"data row10 col9\" >0.083258</td>\n",
              "      <td id=\"T_49ea6_row10_col10\" class=\"data row10 col10\" >1.000000</td>\n",
              "      <td id=\"T_49ea6_row10_col11\" class=\"data row10 col11\" >0.033167</td>\n",
              "      <td id=\"T_49ea6_row10_col12\" class=\"data row10 col12\" >0.040218</td>\n",
              "      <td id=\"T_49ea6_row10_col13\" class=\"data row10 col13\" >0.065805</td>\n",
              "      <td id=\"T_49ea6_row10_col14\" class=\"data row10 col14\" >0.093179</td>\n",
              "      <td id=\"T_49ea6_row10_col15\" class=\"data row10 col15\" >-0.018395</td>\n",
              "      <td id=\"T_49ea6_row10_col16\" class=\"data row10 col16\" >0.012736</td>\n",
              "    </tr>\n",
              "    <tr>\n",
              "      <th id=\"T_49ea6_level0_row11\" class=\"row_heading level0 row11\" >synfuels-corporation-cutback</th>\n",
              "      <td id=\"T_49ea6_row11_col0\" class=\"data row11 col0\" >0.283345</td>\n",
              "      <td id=\"T_49ea6_row11_col1\" class=\"data row11 col1\" >0.148313</td>\n",
              "      <td id=\"T_49ea6_row11_col2\" class=\"data row11 col2\" >0.144949</td>\n",
              "      <td id=\"T_49ea6_row11_col3\" class=\"data row11 col3\" >0.233233</td>\n",
              "      <td id=\"T_49ea6_row11_col4\" class=\"data row11 col4\" >-0.084972</td>\n",
              "      <td id=\"T_49ea6_row11_col5\" class=\"data row11 col5\" >-0.005683</td>\n",
              "      <td id=\"T_49ea6_row11_col6\" class=\"data row11 col6\" >0.115138</td>\n",
              "      <td id=\"T_49ea6_row11_col7\" class=\"data row11 col7\" >0.094013</td>\n",
              "      <td id=\"T_49ea6_row11_col8\" class=\"data row11 col8\" >0.192023</td>\n",
              "      <td id=\"T_49ea6_row11_col9\" class=\"data row11 col9\" >0.081582</td>\n",
              "      <td id=\"T_49ea6_row11_col10\" class=\"data row11 col10\" >0.033167</td>\n",
              "      <td id=\"T_49ea6_row11_col11\" class=\"data row11 col11\" >1.000000</td>\n",
              "      <td id=\"T_49ea6_row11_col12\" class=\"data row11 col12\" >0.038640</td>\n",
              "      <td id=\"T_49ea6_row11_col13\" class=\"data row11 col13\" >0.017650</td>\n",
              "      <td id=\"T_49ea6_row11_col14\" class=\"data row11 col14\" >-0.010419</td>\n",
              "      <td id=\"T_49ea6_row11_col15\" class=\"data row11 col15\" >0.156299</td>\n",
              "      <td id=\"T_49ea6_row11_col16\" class=\"data row11 col16\" >0.125182</td>\n",
              "    </tr>\n",
              "    <tr>\n",
              "      <th id=\"T_49ea6_level0_row12\" class=\"row_heading level0 row12\" >education-spending</th>\n",
              "      <td id=\"T_49ea6_row12_col0\" class=\"data row12 col0\" >-0.536044</td>\n",
              "      <td id=\"T_49ea6_row12_col1\" class=\"data row12 col1\" >-0.219746</td>\n",
              "      <td id=\"T_49ea6_row12_col2\" class=\"data row12 col2\" >0.044941</td>\n",
              "      <td id=\"T_49ea6_row12_col3\" class=\"data row12 col3\" >-0.388872</td>\n",
              "      <td id=\"T_49ea6_row12_col4\" class=\"data row12 col4\" >0.500310</td>\n",
              "      <td id=\"T_49ea6_row12_col5\" class=\"data row12 col5\" >0.479885</td>\n",
              "      <td id=\"T_49ea6_row12_col6\" class=\"data row12 col6\" >0.392973</td>\n",
              "      <td id=\"T_49ea6_row12_col7\" class=\"data row12 col7\" >-0.287939</td>\n",
              "      <td id=\"T_49ea6_row12_col8\" class=\"data row12 col8\" >-0.311607</td>\n",
              "      <td id=\"T_49ea6_row12_col9\" class=\"data row12 col9\" >-0.340548</td>\n",
              "      <td id=\"T_49ea6_row12_col10\" class=\"data row12 col10\" >0.040218</td>\n",
              "      <td id=\"T_49ea6_row12_col11\" class=\"data row12 col11\" >0.038640</td>\n",
              "      <td id=\"T_49ea6_row12_col12\" class=\"data row12 col12\" >1.000000</td>\n",
              "      <td id=\"T_49ea6_row12_col13\" class=\"data row12 col13\" >0.395975</td>\n",
              "      <td id=\"T_49ea6_row12_col14\" class=\"data row12 col14\" >0.457972</td>\n",
              "      <td id=\"T_49ea6_row12_col15\" class=\"data row12 col15\" >-0.210412</td>\n",
              "      <td id=\"T_49ea6_row12_col16\" class=\"data row12 col16\" >-0.213809</td>\n",
              "    </tr>\n",
              "    <tr>\n",
              "      <th id=\"T_49ea6_level0_row13\" class=\"row_heading level0 row13\" >superfund-right-to-sue</th>\n",
              "      <td id=\"T_49ea6_row13_col0\" class=\"data row13 col0\" >-0.443033</td>\n",
              "      <td id=\"T_49ea6_row13_col1\" class=\"data row13 col1\" >-0.227711</td>\n",
              "      <td id=\"T_49ea6_row13_col2\" class=\"data row13 col2\" >0.201329</td>\n",
              "      <td id=\"T_49ea6_row13_col3\" class=\"data row13 col3\" >-0.302286</td>\n",
              "      <td id=\"T_49ea6_row13_col4\" class=\"data row13 col4\" >0.525364</td>\n",
              "      <td id=\"T_49ea6_row13_col5\" class=\"data row13 col5\" >0.479443</td>\n",
              "      <td id=\"T_49ea6_row13_col6\" class=\"data row13 col6\" >0.467189</td>\n",
              "      <td id=\"T_49ea6_row13_col7\" class=\"data row13 col7\" >-0.364813</td>\n",
              "      <td id=\"T_49ea6_row13_col8\" class=\"data row13 col8\" >-0.286561</td>\n",
              "      <td id=\"T_49ea6_row13_col9\" class=\"data row13 col9\" >-0.337433</td>\n",
              "      <td id=\"T_49ea6_row13_col10\" class=\"data row13 col10\" >0.065805</td>\n",
              "      <td id=\"T_49ea6_row13_col11\" class=\"data row13 col11\" >0.017650</td>\n",
              "      <td id=\"T_49ea6_row13_col12\" class=\"data row13 col12\" >0.395975</td>\n",
              "      <td id=\"T_49ea6_row13_col13\" class=\"data row13 col13\" >1.000000</td>\n",
              "      <td id=\"T_49ea6_row13_col14\" class=\"data row13 col14\" >0.523019</td>\n",
              "      <td id=\"T_49ea6_row13_col15\" class=\"data row13 col15\" >-0.206512</td>\n",
              "      <td id=\"T_49ea6_row13_col16\" class=\"data row13 col16\" >-0.176892</td>\n",
              "    </tr>\n",
              "    <tr>\n",
              "      <th id=\"T_49ea6_level0_row14\" class=\"row_heading level0 row14\" >crime</th>\n",
              "      <td id=\"T_49ea6_row14_col0\" class=\"data row14 col0\" >-0.538348</td>\n",
              "      <td id=\"T_49ea6_row14_col1\" class=\"data row14 col1\" >-0.261709</td>\n",
              "      <td id=\"T_49ea6_row14_col2\" class=\"data row14 col2\" >0.020942</td>\n",
              "      <td id=\"T_49ea6_row14_col3\" class=\"data row14 col3\" >-0.431608</td>\n",
              "      <td id=\"T_49ea6_row14_col4\" class=\"data row14 col4\" >0.539605</td>\n",
              "      <td id=\"T_49ea6_row14_col5\" class=\"data row14 col5\" >0.570132</td>\n",
              "      <td id=\"T_49ea6_row14_col6\" class=\"data row14 col6\" >0.491298</td>\n",
              "      <td id=\"T_49ea6_row14_col7\" class=\"data row14 col7\" >-0.318505</td>\n",
              "      <td id=\"T_49ea6_row14_col8\" class=\"data row14 col8\" >-0.349530</td>\n",
              "      <td id=\"T_49ea6_row14_col9\" class=\"data row14 col9\" >-0.393975</td>\n",
              "      <td id=\"T_49ea6_row14_col10\" class=\"data row14 col10\" >0.093179</td>\n",
              "      <td id=\"T_49ea6_row14_col11\" class=\"data row14 col11\" >-0.010419</td>\n",
              "      <td id=\"T_49ea6_row14_col12\" class=\"data row14 col12\" >0.457972</td>\n",
              "      <td id=\"T_49ea6_row14_col13\" class=\"data row14 col13\" >0.523019</td>\n",
              "      <td id=\"T_49ea6_row14_col14\" class=\"data row14 col14\" >1.000000</td>\n",
              "      <td id=\"T_49ea6_row14_col15\" class=\"data row14 col15\" >-0.237236</td>\n",
              "      <td id=\"T_49ea6_row14_col16\" class=\"data row14 col16\" >-0.171776</td>\n",
              "    </tr>\n",
              "    <tr>\n",
              "      <th id=\"T_49ea6_level0_row15\" class=\"row_heading level0 row15\" >duty-free-exports</th>\n",
              "      <td id=\"T_49ea6_row15_col0\" class=\"data row15 col0\" >0.390387</td>\n",
              "      <td id=\"T_49ea6_row15_col1\" class=\"data row15 col1\" >0.151937</td>\n",
              "      <td id=\"T_49ea6_row15_col2\" class=\"data row15 col2\" >0.023271</td>\n",
              "      <td id=\"T_49ea6_row15_col3\" class=\"data row15 col3\" >0.376696</td>\n",
              "      <td id=\"T_49ea6_row15_col4\" class=\"data row15 col4\" >-0.302520</td>\n",
              "      <td id=\"T_49ea6_row15_col5\" class=\"data row15 col5\" >-0.345728</td>\n",
              "      <td id=\"T_49ea6_row15_col6\" class=\"data row15 col6\" >-0.240875</td>\n",
              "      <td id=\"T_49ea6_row15_col7\" class=\"data row15 col7\" >0.434750</td>\n",
              "      <td id=\"T_49ea6_row15_col8\" class=\"data row15 col8\" >0.456214</td>\n",
              "      <td id=\"T_49ea6_row15_col9\" class=\"data row15 col9\" >0.390068</td>\n",
              "      <td id=\"T_49ea6_row15_col10\" class=\"data row15 col10\" >-0.018395</td>\n",
              "      <td id=\"T_49ea6_row15_col11\" class=\"data row15 col11\" >0.156299</td>\n",
              "      <td id=\"T_49ea6_row15_col12\" class=\"data row15 col12\" >-0.210412</td>\n",
              "      <td id=\"T_49ea6_row15_col13\" class=\"data row15 col13\" >-0.206512</td>\n",
              "      <td id=\"T_49ea6_row15_col14\" class=\"data row15 col14\" >-0.237236</td>\n",
              "      <td id=\"T_49ea6_row15_col15\" class=\"data row15 col15\" >1.000000</td>\n",
              "      <td id=\"T_49ea6_row15_col16\" class=\"data row15 col16\" >0.286787</td>\n",
              "    </tr>\n",
              "    <tr>\n",
              "      <th id=\"T_49ea6_level0_row16\" class=\"row_heading level0 row16\" >export-administration-act-south-africa</th>\n",
              "      <td id=\"T_49ea6_row16_col0\" class=\"data row16 col0\" >0.342197</td>\n",
              "      <td id=\"T_49ea6_row16_col1\" class=\"data row16 col1\" >0.263546</td>\n",
              "      <td id=\"T_49ea6_row16_col2\" class=\"data row16 col2\" >0.118443</td>\n",
              "      <td id=\"T_49ea6_row16_col3\" class=\"data row16 col3\" >0.378472</td>\n",
              "      <td id=\"T_49ea6_row16_col4\" class=\"data row16 col4\" >-0.290978</td>\n",
              "      <td id=\"T_49ea6_row16_col5\" class=\"data row16 col5\" >-0.223701</td>\n",
              "      <td id=\"T_49ea6_row16_col6\" class=\"data row16 col6\" >-0.133403</td>\n",
              "      <td id=\"T_49ea6_row16_col7\" class=\"data row16 col7\" >0.365231</td>\n",
              "      <td id=\"T_49ea6_row16_col8\" class=\"data row16 col8\" >0.408703</td>\n",
              "      <td id=\"T_49ea6_row16_col9\" class=\"data row16 col9\" >0.325532</td>\n",
              "      <td id=\"T_49ea6_row16_col10\" class=\"data row16 col10\" >0.012736</td>\n",
              "      <td id=\"T_49ea6_row16_col11\" class=\"data row16 col11\" >0.125182</td>\n",
              "      <td id=\"T_49ea6_row16_col12\" class=\"data row16 col12\" >-0.213809</td>\n",
              "      <td id=\"T_49ea6_row16_col13\" class=\"data row16 col13\" >-0.176892</td>\n",
              "      <td id=\"T_49ea6_row16_col14\" class=\"data row16 col14\" >-0.171776</td>\n",
              "      <td id=\"T_49ea6_row16_col15\" class=\"data row16 col15\" >0.286787</td>\n",
              "      <td id=\"T_49ea6_row16_col16\" class=\"data row16 col16\" >1.000000</td>\n",
              "    </tr>\n",
              "  </tbody>\n",
              "</table>\n"
            ]
          },
          "metadata": {},
          "execution_count": 44
        }
      ]
    },
    {
      "cell_type": "markdown",
      "source": [
        "Para Class-Name, desconsiderando sua relação com si mesma: \n",
        "- quanto mais próximo de 1, mais democrata a pauta é\n",
        "- quanto mais próximo de -1, mais repubicana a pauta é,\n",
        "- quanto mais próximo de 0, mais neutra ela é \n",
        "                  \n",
        "Para o resto das relações, desconsiderando as mesmas relações:\n",
        "- quanto mais próximo de 1, mais elas se parecem\n",
        "- quanto mais próximo de -1, mais ela se parecem inversamente \n",
        "- quanto mais próximo de 0, menos elas se parecem"
      ],
      "metadata": {
        "id": "5cclHSTRU_Y2"
      }
    },
    {
      "cell_type": "markdown",
      "source": [
        "Gráfico de dispersão"
      ],
      "metadata": {
        "id": "X081q7XWWNX9"
      }
    },
    {
      "cell_type": "code",
      "source": [
        "atributo = 'el-salvador-aid'\n",
        "\n",
        "# 'Class-Name', 'handicapped-infants','water-project-cost-sharing','adoption-of-the-budget-resolution','physician-fee-freeze','el-salvador-aid',\n",
        "#'religious-groups-in-schools','anti-satellite-test-ban','aid-to-nicaraguan-contras','mx-missile','immigration','synfuels-corporation-cutback','education-spending',\n",
        "#'superfund-right-to-sue','crime','duty-free-exports','export-administration-act-south-africa'"
      ],
      "metadata": {
        "id": "lwfnPqUmYpqD"
      },
      "execution_count": 45,
      "outputs": []
    },
    {
      "cell_type": "code",
      "source": [
        "import seaborn as sns\n",
        "\n",
        "df_dispersao =df[['Class-Name', atributo]]\n",
        "df_dispersao = df_dispersao.groupby(['Class-Name',atributo]).size().reset_index(name=\"tamanho\")\n",
        "fig = plt.figure()\n",
        "ax = fig.add_axes([0,0,1.5,1.5])\n",
        "\n",
        "ax = sns.scatterplot(data=df_dispersao, x='Class-Name', y = atributo, size=\"tamanho\", legend=False, sizes=(1000,10000))\n",
        "plt.show()"
      ],
      "metadata": {
        "colab": {
          "base_uri": "https://localhost:8080/",
          "height": 494
        },
        "id": "LjYrzmLeTtae",
        "outputId": "1d7eb9d3-7392-4dbb-8ac7-1788ab6ae9a3"
      },
      "execution_count": 46,
      "outputs": [
        {
          "output_type": "display_data",
          "data": {
            "text/plain": [
              "<Figure size 432x288 with 1 Axes>"
            ],
            "image/png": "[encoded data removed]"
          },
          "metadata": {
            "needs_background": "light"
          }
        }
      ]
    },
    {
      "cell_type": "markdown",
      "source": [
        "Lembrete: \n",
        "\n",
        "\n",
        "Class-Name: 0- Republicano e 1- Democrata\n",
        "\n",
        "Atributos: 0-contra, 1- a favor, 2 - abstenção\n"
      ],
      "metadata": {
        "id": "bBuZJvQEYIcF"
      }
    },
    {
      "cell_type": "markdown",
      "source": [
        "#Atividade 5 - Análise de Grupos"
      ],
      "metadata": {
        "id": "aqV2mrqySBDi"
      }
    },
    {
      "cell_type": "markdown",
      "source": [
        "## Aplicando o algoritmo K-means"
      ],
      "metadata": {
        "id": "A0wYKRtRSQQ7"
      }
    },
    {
      "cell_type": "markdown",
      "source": [
        "Importando as bibliotecas necessárias"
      ],
      "metadata": {
        "id": "yLEigYVqSj7K"
      }
    },
    {
      "cell_type": "code",
      "source": [
        "import numpy as np\n",
        "from scipy.spatial.distance import cdist \n",
        "from sklearn.datasets import load_digits\n",
        "from sklearn.decomposition import PCA\n",
        "from sklearn.cluster import KMeans\n",
        "from sklearn.metrics import silhouette_score\n",
        "from sklearn.metrics import silhouette_samples\n",
        "import matplotlib.pyplot as plt"
      ],
      "metadata": {
        "id": "ShOV2Zj0SWlL"
      },
      "execution_count": 47,
      "outputs": []
    },
    {
      "cell_type": "markdown",
      "source": [
        "Definindo a função K-means do zero."
      ],
      "metadata": {
        "id": "tO4w3J49SzUL"
      }
    },
    {
      "cell_type": "code",
      "source": [
        "def KMeans_scratch(x,k, no_of_iterations):\n",
        "    idx = np.random.choice(len(x), k, replace=False)\n",
        "    #Randomly choosing Centroids \n",
        "    centroids = x[idx, :] #Step 1\n",
        "     \n",
        "    #finding the distance between centroids and all the data points\n",
        "    distances = cdist(x, centroids, 'euclidean') #Step 2\n",
        "     \n",
        "    #Centroid with the minimum Distance\n",
        "    points = np.array([np.argmin(i) for i in distances]) #Step 3\n",
        "     \n",
        "    #Repeating the above steps for a defined number of iterations\n",
        "    #Step 4\n",
        "    for _ in range(no_of_iterations): \n",
        "        centroids = []\n",
        "        for idx in range(k):\n",
        "            #Updating Centroids by taking mean of Cluster it belongs to\n",
        "            temp_cent = x[points==idx].mean(axis=0) \n",
        "            centroids.append(temp_cent)\n",
        " \n",
        "        centroids = np.vstack(centroids) #Updated Centroids \n",
        "         \n",
        "        distances = cdist(x, centroids, 'euclidean')\n",
        "        points = np.array([np.argmin(i) for i in distances])\n",
        "         \n",
        "    return points"
      ],
      "metadata": {
        "id": "3a99RdNvSnQ6"
      },
      "execution_count": 48,
      "outputs": []
    },
    {
      "cell_type": "markdown",
      "source": [
        "Plotando os gráficos"
      ],
      "metadata": {
        "id": "QLAEiAEkTC_r"
      }
    },
    {
      "cell_type": "code",
      "source": [
        "\n",
        "def plot_samples(projected, labels, title):    \n",
        "    fig = plt.figure()\n",
        "    u_labels = np.unique(labels)\n",
        "    for i in u_labels:\n",
        "        plt.scatter(projected[labels == i , 0] , projected[labels == i , 1] , label = i,\n",
        "                    edgecolor='none', alpha=0.5, cmap=plt.cm.get_cmap('tab10', 10))\n",
        "    plt.xlabel('component 1')\n",
        "    plt.ylabel('component 2')\n",
        "    plt.legend()\n",
        "    plt.title(title)\n"
      ],
      "metadata": {
        "id": "8b6IQmBhTFDD"
      },
      "execution_count": 49,
      "outputs": []
    },
    {
      "cell_type": "markdown",
      "source": [
        "Função main"
      ],
      "metadata": {
        "id": "Rgehx6lzTGTj"
      }
    },
    {
      "cell_type": "code",
      "source": [
        "input_file = '/content/house-votes-84-abstencao.data'\n",
        "names = ['Class-Name','handicapped-infants','water-project-cost-sharing','adoption-of-the-budget-resolution','physician-fee-freeze','el-salvador-aid',\n",
        "          'religious-groups-in-schools','anti-satellite-test-ban','aid-to-nicaraguan-contras','mx-missile','immigration','synfuels-corporation-cutback','education-spending',\n",
        "          'superfund-right-to-sue','crime','duty-free-exports','export-administration-act-south-africa']\n",
        "features = ['handicapped-infants','water-project-cost-sharing','adoption-of-the-budget-resolution','physician-fee-freeze','el-salvador-aid',\n",
        "          'religious-groups-in-schools','anti-satellite-test-ban','aid-to-nicaraguan-contras','mx-missile','immigration','synfuels-corporation-cutback','education-spending',\n",
        "          'superfund-right-to-sue','crime','duty-free-exports','export-administration-act-south-africa']\n",
        "target = 'Class-Name'\n",
        "df = pd.read_csv(input_file,    # Nome do arquivo com dados\n",
        "                 names = names) # Nome das colunas"
      ],
      "metadata": {
        "id": "8b0yx5-hTf2f"
      },
      "execution_count": 50,
      "outputs": []
    },
    {
      "cell_type": "code",
      "source": [
        "#Load dataset Digits\n",
        "#show_digitsdataset(digits)\n",
        "\n",
        "#Transform the data using PCA\n",
        "pca = PCA(2)\n",
        "projected = pca.fit_transform(df)\n",
        "print(pca.explained_variance_ratio_)\n",
        "#print(df.data.shape)\n",
        "print(projected.shape)    \n",
        "#plot_samples(projected, target, 'Original Labels')\n",
        "\n",
        "#Applying our kmeans function from scratch\n",
        "labels = KMeans_scratch(projected,2,5)\n",
        "\n",
        "#Visualize the results \n",
        "plot_samples(projected, labels, 'Clusters Labels KMeans from scratch')\n",
        "\n",
        "#Applying sklearn kemans function\n",
        "kmeans = KMeans(n_clusters=2).fit(projected)\n",
        "print(kmeans.inertia_)\n",
        "centers = kmeans.cluster_centers_\n",
        "score = silhouette_score(projected, kmeans.labels_)    \n",
        "print(\"For n_clusters = {}, silhouette score is {})\".format(10, score))\n",
        "\n",
        "#Visualize the results sklearn\n",
        "plot_samples(projected, kmeans.labels_, 'Clusters Labels KMeans from sklearn')\n",
        "\n",
        "plt.show()"
      ],
      "metadata": {
        "id": "N5Gr5SP6TJMz",
        "outputId": "ceef4f1c-aec2-4452-c137-6bea889626ba",
        "colab": {
          "base_uri": "https://localhost:8080/",
          "height": 642
        }
      },
      "execution_count": 51,
      "outputs": [
        {
          "output_type": "stream",
          "name": "stdout",
          "text": [
            "[0.35837449 0.11090405]\n",
            "(435, 2)\n",
            "411.1564258698644\n",
            "For n_clusters = 10, silhouette score is 0.5720113555893666)\n"
          ]
        },
        {
          "output_type": "display_data",
          "data": {
            "text/plain": [
              "<Figure size 432x288 with 1 Axes>"
            ],
            "image/png": "[encoded data removed]"
          },
          "metadata": {
            "needs_background": "light"
          }
        },
        {
          "output_type": "display_data",
          "data": {
            "text/plain": [
              "<Figure size 432x288 with 1 Axes>"
            ],
            "image/png": "[encoded data removed]"
          },
          "metadata": {
            "needs_background": "light"
          }
        }
      ]
    },
    {
      "cell_type": "markdown",
      "source": [
        "##Aplicando algoritmo GMM"
      ],
      "metadata": {
        "id": "YTS2Qyl3Wm1L"
      }
    },
    {
      "cell_type": "markdown",
      "source": [
        "Importando as bibliotecas necessárias"
      ],
      "metadata": {
        "id": "xACiYn6nWvhz"
      }
    },
    {
      "cell_type": "code",
      "source": [
        "import numpy as np\n",
        "from scipy.spatial.distance import cdist \n",
        "from sklearn.datasets import load_digits\n",
        "from sklearn.decomposition import PCA\n",
        "from sklearn.mixture import GaussianMixture\n",
        "from sklearn.metrics import silhouette_score\n",
        "from sklearn.metrics import silhouette_samples\n",
        "import matplotlib.pyplot as plt"
      ],
      "metadata": {
        "id": "zbEQ7YUGWrr0"
      },
      "execution_count": 52,
      "outputs": []
    },
    {
      "cell_type": "markdown",
      "source": [
        "Lendo a Base de Dados\n",
        "\n",
        "\n"
      ],
      "metadata": {
        "id": "WbSPVkhlW4Dz"
      }
    },
    {
      "cell_type": "code",
      "source": [
        "input_file = '/content/house-votes-84-abstencao.data'\n",
        "names = ['Class-Name','handicapped-infants','water-project-cost-sharing','adoption-of-the-budget-resolution','physician-fee-freeze','el-salvador-aid',\n",
        "          'religious-groups-in-schools','anti-satellite-test-ban','aid-to-nicaraguan-contras','mx-missile','immigration','synfuels-corporation-cutback','education-spending',\n",
        "          'superfund-right-to-sue','crime','duty-free-exports','export-administration-act-south-africa']\n",
        "features = ['handicapped-infants','water-project-cost-sharing','adoption-of-the-budget-resolution','physician-fee-freeze','el-salvador-aid',\n",
        "          'religious-groups-in-schools','anti-satellite-test-ban','aid-to-nicaraguan-contras','mx-missile','immigration','synfuels-corporation-cutback','education-spending',\n",
        "          'superfund-right-to-sue','crime','duty-free-exports','export-administration-act-south-africa']\n",
        "target = 'Class-Name'\n",
        "df = pd.read_csv(input_file,    # Nome do arquivo com dados\n",
        "                 names = names) # Nome das colunas"
      ],
      "metadata": {
        "id": "gUyhvjkNYw1D"
      },
      "execution_count": 53,
      "outputs": []
    },
    {
      "cell_type": "markdown",
      "source": [
        "Transformando a base de Dados utilizando o PCA"
      ],
      "metadata": {
        "id": "cvV09xySY0z9"
      }
    },
    {
      "cell_type": "code",
      "source": [
        "pca = PCA(2)\n",
        "projected = pca.fit_transform(df)"
      ],
      "metadata": {
        "id": "yFzEy3CDY7Kj"
      },
      "execution_count": 54,
      "outputs": []
    },
    {
      "cell_type": "markdown",
      "source": [
        "Aplicando função sklearn GMM "
      ],
      "metadata": {
        "id": "pHVRwTmxZBxs"
      }
    },
    {
      "cell_type": "code",
      "source": [
        "gm  = GaussianMixture(n_components=2).fit(projected)\n",
        "print(gm.weights_)\n",
        "print(gm.means_)\n",
        "x = gm.predict(projected)"
      ],
      "metadata": {
        "id": "tFdQlJyCZIFr",
        "outputId": "65459e01-e6b4-4127-d08d-87b0af16f4b4",
        "colab": {
          "base_uri": "https://localhost:8080/"
        }
      },
      "execution_count": 55,
      "outputs": [
        {
          "output_type": "stream",
          "name": "stdout",
          "text": [
            "[0.48445551 0.51554449]\n",
            "[[ 1.30165612  0.11407376]\n",
            " [-1.22316208 -0.10719475]]\n"
          ]
        }
      ]
    },
    {
      "cell_type": "markdown",
      "source": [
        "Visualizar o resultado gerado pelo sklearn"
      ],
      "metadata": {
        "id": "JDfvMyn1ZPlL"
      }
    },
    {
      "cell_type": "code",
      "source": [
        "plot_samples(projected, x, 'Clusters Labels GMM')\n",
        "\n",
        "plt.show()"
      ],
      "metadata": {
        "id": "_cat2iMZZT0j",
        "outputId": "25127857-fff7-49d5-ce1b-e9df5755f42f",
        "colab": {
          "base_uri": "https://localhost:8080/",
          "height": 295
        }
      },
      "execution_count": 56,
      "outputs": [
        {
          "output_type": "display_data",
          "data": {
            "text/plain": [
              "<Figure size 432x288 with 1 Axes>"
            ],
            "image/png": "[encoded data removed]"
          },
          "metadata": {
            "needs_background": "light"
          }
        }
      ]
    },
    {
      "cell_type": "markdown",
      "source": [
        "#Atividade 6 - Classificação de Dados\n",
        "\n"
      ],
      "metadata": {
        "id": "FGZrJAdrt_2u"
      }
    },
    {
      "cell_type": "markdown",
      "source": [
        "##Decision Three\n"
      ],
      "metadata": {
        "id": "vIlVJUPL0MUn"
      }
    },
    {
      "cell_type": "markdown",
      "source": [
        "Imports"
      ],
      "metadata": {
        "id": "T5Lt1Yha0QWN"
      }
    },
    {
      "cell_type": "code",
      "source": [
        "from matplotlib import pyplot as plt\n",
        "from sklearn.model_selection import train_test_split\n",
        "from sklearn.tree import DecisionTreeClassifier\n",
        "from sklearn import tree\n",
        "import pandas as pd\n",
        "from sklearn.preprocessing import StandardScaler"
      ],
      "metadata": {
        "id": "QhrKaEr40SZm"
      },
      "execution_count": 57,
      "outputs": []
    },
    {
      "cell_type": "markdown",
      "source": [
        "Importando a base\n"
      ],
      "metadata": {
        "id": "GGFjLvE40aCV"
      }
    },
    {
      "cell_type": "code",
      "source": [
        "names = ['Class-Name','handicapped-infants','water-project-cost-sharing','adoption-of-the-budget-resolution','physician-fee-freeze','el-salvador-aid',\n",
        "          'religious-groups-in-schools','anti-satellite-test-ban','aid-to-nicaraguan-contras','mx-missile','immigration','synfuels-corporation-cutback','education-spending',\n",
        "          'superfund-right-to-sue','crime','duty-free-exports','export-administration-act-south-africa'] \n",
        "features = ['handicapped-infants','water-project-cost-sharing','adoption-of-the-budget-resolution','physician-fee-freeze','el-salvador-aid',\n",
        "          'religious-groups-in-schools','anti-satellite-test-ban','aid-to-nicaraguan-contras','mx-missile','immigration','synfuels-corporation-cutback','education-spending',\n",
        "          'superfund-right-to-sue','crime','duty-free-exports','export-administration-act-south-africa'] \n",
        "target = 'Class-Name'\n",
        "\n",
        "input_file = '/content/house-votes-84-abstencao.data' \n",
        "df = pd.read_csv(input_file,         # Nome do arquivo com dados\n",
        "                  names = names)      # Nome das colunas \n",
        "  "
      ],
      "metadata": {
        "id": "qKHfvk-A0tMK"
      },
      "execution_count": 58,
      "outputs": []
    },
    {
      "cell_type": "markdown",
      "source": [
        "Separando features de targets"
      ],
      "metadata": {
        "id": "xr0KUGj21HHu"
      }
    },
    {
      "cell_type": "code",
      "source": [
        "# Separating out the features\n",
        "X = df.loc[:, features].values\n",
        "\n",
        "# Separating out the target\n",
        "y = df.loc[:,[target]].values"
      ],
      "metadata": {
        "id": "PUNI0QBX1GK2"
      },
      "execution_count": 59,
      "outputs": []
    },
    {
      "cell_type": "markdown",
      "source": [
        "Normalizando"
      ],
      "metadata": {
        "id": "1jSH2gxc1fuN"
      }
    },
    {
      "cell_type": "code",
      "source": [
        " # Standardizing the features\n",
        "X = StandardScaler().fit_transform(X)\n",
        "normalizedDf = pd.DataFrame(data = X, columns = features)\n",
        "normalizedDf = pd.concat([normalizedDf, df[[target]]], axis = 1)"
      ],
      "metadata": {
        "id": "Y2J0ZCql1mVr"
      },
      "execution_count": 60,
      "outputs": []
    },
    {
      "cell_type": "markdown",
      "source": [
        "Dividindo em treino e teste"
      ],
      "metadata": {
        "id": "rrhder8S1qbF"
      }
    },
    {
      "cell_type": "code",
      "source": [
        "X_train, X_test, y_train, y_test = train_test_split(X, y, test_size = 0.25, random_state=0) #test_size=0.3,"
      ],
      "metadata": {
        "id": "WnwlBqKs1xs9"
      },
      "execution_count": 61,
      "outputs": []
    },
    {
      "cell_type": "markdown",
      "source": [
        "Gerando e plotando a decision three"
      ],
      "metadata": {
        "id": "2rWQ6wyl2NzF"
      }
    },
    {
      "cell_type": "code",
      "source": [
        "clf = DecisionTreeClassifier(max_leaf_nodes=5)\n",
        "clf.fit(X_train, y_train)\n",
        "tree.plot_tree(clf)\n",
        "plt.show()"
      ],
      "metadata": {
        "id": "-dug4_if2UD1",
        "outputId": "09688cd3-0bb8-47b3-f141-fc309644251d",
        "colab": {
          "base_uri": "https://localhost:8080/",
          "height": 248
        }
      },
      "execution_count": 62,
      "outputs": [
        {
          "output_type": "display_data",
          "data": {
            "text/plain": [
              "<Figure size 432x288 with 1 Axes>"
            ],
            "image/png": "[encoded data removed]"
          },
          "metadata": {
            "needs_background": "light"
          }
        }
      ]
    },
    {
      "cell_type": "code",
      "source": [
        "predictions = clf.predict(X_test)\n",
        "print(predictions)\n",
        "\n",
        "result = clf.score(X_test, y_test)\n",
        "print('Acuraccy:')\n",
        "print(result)"
      ],
      "metadata": {
        "id": "P1CRUKxf3cUd",
        "outputId": "5d9a9261-1dc2-4d03-a913-f5ab55fcbf13",
        "colab": {
          "base_uri": "https://localhost:8080/"
        }
      },
      "execution_count": 63,
      "outputs": [
        {
          "output_type": "stream",
          "name": "stdout",
          "text": [
            "[1 1 1 0 1 1 1 0 0 0 0 1 1 1 0 0 0 1 1 0 1 1 0 1 1 0 0 1 0 1 0 1 1 1 0 1 0\n",
            " 1 1 1 0 1 1 0 0 0 1 1 0 1 0 1 1 1 0 1 0 1 1 0 1 1 0 1 1 1 0 1 0 0 0 1 0 0\n",
            " 0 0 0 0 1 1 0 0 1 1 1 1 1 1 0 1 1 1 0 0 1 0 0 0 0 1 1 1 1 1 1 0 1 0 0]\n",
            "Acuraccy:\n",
            "0.963302752293578\n"
          ]
        }
      ]
    },
    {
      "cell_type": "markdown",
      "source": [
        "#KNN"
      ],
      "metadata": {
        "id": "hqoYKP9Ptr32"
      }
    },
    {
      "cell_type": "markdown",
      "source": [
        "Imports Necessários\n"
      ],
      "metadata": {
        "id": "MKBBc12qtwuG"
      }
    },
    {
      "cell_type": "code",
      "source": [
        "import itertools\n",
        "import pandas as pd\n",
        "import numpy as np\n",
        "import matplotlib.pyplot as plt\n",
        "from sklearn.model_selection import train_test_split\n",
        "from sklearn.model_selection import cross_val_score\n",
        "from sklearn.preprocessing import StandardScaler\n",
        "from sklearn.metrics import accuracy_score\n",
        "from sklearn.metrics import f1_score\n",
        "from sklearn.metrics import confusion_matrix\n",
        "from sklearn.neighbors import KNeighborsClassifier\n",
        "from sklearn import svm\n",
        "from collections import Counter"
      ],
      "metadata": {
        "id": "rw5zNcbEwEet"
      },
      "execution_count": 169,
      "outputs": []
    },
    {
      "cell_type": "markdown",
      "source": [
        "Funçao para Calcular a Distância entre dois pontos"
      ],
      "metadata": {
        "id": "9VwCIkwYwIP9"
      }
    },
    {
      "cell_type": "code",
      "source": [
        "def minkowski_distance(a, b, p=1):    \n",
        "    # Store the number of dimensions\n",
        "    dim = len(a)    \n",
        "    # Set initial distance to 0\n",
        "    distance = 0\n",
        "    \n",
        "    # Calculate minkowski distance using parameter p\n",
        "    for d in range(dim):\n",
        "        distance += abs(a[d] - b[d])**p\n",
        "        \n",
        "    distance = distance**(1/p)    \n",
        "    return distance"
      ],
      "metadata": {
        "id": "ef57UQTewNP9"
      },
      "execution_count": 170,
      "outputs": []
    },
    {
      "cell_type": "markdown",
      "source": [
        "Predição KNN"
      ],
      "metadata": {
        "id": "nM-vZiqTwYHm"
      }
    },
    {
      "cell_type": "code",
      "source": [
        "def knn_predict(X_train, X_test, y_train, y_test, k, p):    \n",
        "    # Make predictions on the test data\n",
        "    # Need output of 1 prediction per test data point\n",
        "    y_hat_test = []\n",
        "\n",
        "    for test_point in X_test:\n",
        "        distances = []\n",
        "\n",
        "        for train_point in X_train:\n",
        "            distance = minkowski_distance(test_point, train_point, p=p)\n",
        "            distances.append(distance)\n",
        "        \n",
        "        # Store distances in a dataframe\n",
        "        df_dists = pd.DataFrame(data=distances, columns=['dist'], \n",
        "                                index=y_train.index)\n",
        "        \n",
        "        # Sort distances, and only consider the k closest points\n",
        "        df_nn = df_dists.sort_values(by=['dist'], axis=0)[:k]\n",
        "\n",
        "        # Create counter object to track the labels of k closest neighbors\n",
        "        counter = Counter(y_train[df_nn.index])\n",
        "\n",
        "        # Get most common label of all the nearest neighbors\n",
        "        prediction = counter.most_common()[0][0]\n",
        "        \n",
        "        # Append prediction to output list\n",
        "        y_hat_test.append(prediction)\n",
        "        \n",
        "    return y_hat_test"
      ],
      "metadata": {
        "id": "uNIjm4sYwTnN"
      },
      "execution_count": 171,
      "outputs": []
    },
    {
      "cell_type": "markdown",
      "source": [
        "Plotagem da Matriz Confusão"
      ],
      "metadata": {
        "id": "QeJ9vR46wbCt"
      }
    },
    {
      "cell_type": "code",
      "source": [
        "def plot_confusion_matrix(cm, classes,\n",
        "                          normalize=False,\n",
        "                          title='Confusion matrix',\n",
        "                          cmap=plt.cm.Blues):\n",
        "    \"\"\"\n",
        "    This function prints and plots the confusion matrix.\n",
        "    Normalization can be applied by setting `normalize=True`.\n",
        "    \"\"\"\n",
        "    plt.figure()\n",
        "    plt.imshow(cm, interpolation='nearest', cmap=cmap)\n",
        "    plt.title(title)\n",
        "    plt.colorbar()\n",
        "    tick_marks = np.arange(len(classes))\n",
        "    plt.xticks(tick_marks, classes, rotation=45)\n",
        "    plt.yticks(tick_marks, classes)\n",
        "\n",
        "    if normalize:\n",
        "        cm = cm.astype('float') / cm.sum(axis=1)[:, np.newaxis]\n",
        "        print(\"Normalized confusion matrix\")\n",
        "    else:\n",
        "        print('Confusion matrix, without normalization')\n",
        "\n",
        "    print(cm)\n",
        "\n",
        "    thresh = cm.max() / 2.\n",
        "    for i, j in itertools.product(range(cm.shape[0]), range(cm.shape[1])):\n",
        "        plt.text(j, i, cm[i, j],\n",
        "                 horizontalalignment=\"center\",\n",
        "                 color=\"white\" if cm[i, j] > thresh else \"black\")\n",
        "\n",
        "    plt.tight_layout()\n",
        "    plt.ylabel('True label')\n",
        "    plt.xlabel('Predicted label')  "
      ],
      "metadata": {
        "id": "W6VKmuvUwdEn"
      },
      "execution_count": 172,
      "outputs": []
    },
    {
      "cell_type": "markdown",
      "source": [
        "Carregando a Base de Dados"
      ],
      "metadata": {
        "id": "zmHLfmSXwqoG"
      }
    },
    {
      "cell_type": "code",
      "source": [
        "names = ['Class-Name','handicapped-infants','water-project-cost-sharing','adoption-of-the-budget-resolution','physician-fee-freeze','el-salvador-aid',\n",
        "          'religious-groups-in-schools','anti-satellite-test-ban','aid-to-nicaraguan-contras','mx-missile','immigration','synfuels-corporation-cutback','education-spending',\n",
        "          'superfund-right-to-sue','crime','duty-free-exports','export-administration-act-south-africa'] \n",
        "features = ['handicapped-infants','water-project-cost-sharing','adoption-of-the-budget-resolution','physician-fee-freeze','el-salvador-aid',\n",
        "          'religious-groups-in-schools','anti-satellite-test-ban','aid-to-nicaraguan-contras','mx-missile','immigration','synfuels-corporation-cutback','education-spending',\n",
        "          'superfund-right-to-sue','crime','duty-free-exports','export-administration-act-south-africa'] \n",
        "target = 'Class-Name'\n",
        "\n",
        "input_file = '/content/house-votes-84-abstencao.data' \n",
        "df = pd.read_csv(input_file,         # Nome do arquivo com dados\n",
        "                  names = names)      # Nome das colunas \n",
        "  "
      ],
      "metadata": {
        "id": "iDZCYPO5wyj6"
      },
      "execution_count": 173,
      "outputs": []
    },
    {
      "cell_type": "markdown",
      "source": [
        "Separando Atributos do Rótulo"
      ],
      "metadata": {
        "id": "aKheuV22xAkm"
      }
    },
    {
      "cell_type": "code",
      "source": [
        "# Separating out the features\n",
        "X = df.loc[:, features].values\n",
        "\n",
        "df['target'] = target\n",
        "\n",
        "#X = df.drop('target', axis=1)\n",
        "#y = df.target.values\n",
        "\n",
        "# Separating out the target\n",
        "y = df.loc[:,target]\n",
        "\n",
        "print(\"Total samples: {}\".format(X.shape[0]))"
      ],
      "metadata": {
        "id": "LGwjtSlYxKlp",
        "outputId": "9801c73d-dd5d-4b76-cb67-1fae66fd8182",
        "colab": {
          "base_uri": "https://localhost:8080/"
        }
      },
      "execution_count": 189,
      "outputs": [
        {
          "output_type": "stream",
          "name": "stdout",
          "text": [
            "Total samples: 435\n"
          ]
        }
      ]
    },
    {
      "cell_type": "markdown",
      "source": [
        "Separando conjunto de Trienameto e conjunto de Teste"
      ],
      "metadata": {
        "id": "rpxOUZnWxSR2"
      }
    },
    {
      "cell_type": "code",
      "source": [
        "X_train, X_test, y_train, y_test = train_test_split(X, y, test_size=0.25, random_state=0)\n",
        "print(\"Total train samples: {}\".format(X_train.shape[0]))\n",
        "print(\"Total test  samples: {}\".format(X_test.shape[0]))"
      ],
      "metadata": {
        "id": "1Q9-hOiyxcAf",
        "outputId": "36029cf8-b71f-49e5-f882-ccb1450d9d37",
        "colab": {
          "base_uri": "https://localhost:8080/"
        }
      },
      "execution_count": 190,
      "outputs": [
        {
          "output_type": "stream",
          "name": "stdout",
          "text": [
            "Total train samples: 326\n",
            "Total test  samples: 109\n"
          ]
        }
      ]
    },
    {
      "cell_type": "markdown",
      "source": [
        "Normalizando a Base de Dados por meio do Z-Score"
      ],
      "metadata": {
        "id": "NXAPZdxKxkLl"
      }
    },
    {
      "cell_type": "code",
      "source": [
        "scaler = StandardScaler()\n",
        "X_train = scaler.fit_transform(X_train)\n",
        "X_test = scaler.transform(X_test)"
      ],
      "metadata": {
        "id": "OjTagMXqxpk-"
      },
      "execution_count": 191,
      "outputs": []
    },
    {
      "cell_type": "markdown",
      "source": [
        "Realizando a Predição utilizando o Classificador KNN"
      ],
      "metadata": {
        "id": "ypY2c9q5xtPe"
      }
    },
    {
      "cell_type": "code",
      "source": [
        "y_hat_test = knn_predict(X_train, X_test, y_train, y_test, k=5, p=2)"
      ],
      "metadata": {
        "id": "umE7qeLNx0XN"
      },
      "execution_count": 192,
      "outputs": []
    },
    {
      "cell_type": "markdown",
      "source": [
        "Calculando a Acurácia e F1 Score"
      ],
      "metadata": {
        "id": "44ZJ_Yukx4jV"
      }
    },
    {
      "cell_type": "code",
      "source": [
        "accuracy = accuracy_score(y_test, y_hat_test)*100\n",
        "f1 = f1_score(y_test, y_hat_test, average='macro')\n",
        "print(\"Acurracy K-NN from scratch: {:.2f}%\".format(accuracy))\n",
        "print(\"F1 Score K-NN from scratch: {:.2f}%\".format(f1))"
      ],
      "metadata": {
        "id": "vLGq5g64x7Lt",
        "outputId": "d371a4b6-242e-4ad3-b643-fc1fc0a3dd9a",
        "colab": {
          "base_uri": "https://localhost:8080/"
        }
      },
      "execution_count": 193,
      "outputs": [
        {
          "output_type": "stream",
          "name": "stdout",
          "text": [
            "Acurracy K-NN from scratch: 93.58%\n",
            "F1 Score K-NN from scratch: 0.93%\n"
          ]
        }
      ]
    },
    {
      "cell_type": "markdown",
      "source": [
        "Plotando a Matriz Confusão"
      ],
      "metadata": {
        "id": "SeXfD2gcx-It"
      }
    },
    {
      "cell_type": "code",
      "source": [
        "cm = confusion_matrix(y_test, y_hat_test)        \n",
        "plot_confusion_matrix(cm, target_names, False, \"Confusion Matrix - K-NN\")      \n",
        "plot_confusion_matrix(cm, target_names, True, \"Confusion Matrix - K-NN normalized\")  "
      ],
      "metadata": {
        "id": "f2aC-PoByAXN",
        "outputId": "ca9d4f4c-389c-4df9-c940-b35970f54ec9",
        "colab": {
          "base_uri": "https://localhost:8080/",
          "height": 709
        }
      },
      "execution_count": 194,
      "outputs": [
        {
          "output_type": "stream",
          "name": "stdout",
          "text": [
            "Confusion matrix, without normalization\n",
            "[[42  2]\n",
            " [ 5 60]]\n",
            "Normalized confusion matrix\n",
            "[[0.95454545 0.04545455]\n",
            " [0.07692308 0.92307692]]\n"
          ]
        },
        {
          "output_type": "display_data",
          "data": {
            "text/plain": [
              "<Figure size 432x288 with 2 Axes>"
            ],
            "image/png": "[encoded data removed]"
          },
          "metadata": {
            "needs_background": "light"
          }
        },
        {
          "output_type": "display_data",
          "data": {
            "text/plain": [
              "<Figure size 432x288 with 2 Axes>"
            ],
            "image/png": "[encoded data removed]"
          },
          "metadata": {
            "needs_background": "light"
          }
        }
      ]
    },
    {
      "cell_type": "markdown",
      "source": [
        "Utilizando KNN pelo Sklearn"
      ],
      "metadata": {
        "id": "jb4kqNIKyDxl"
      }
    },
    {
      "cell_type": "code",
      "source": [
        "knn = KNeighborsClassifier(n_neighbors=5)\n",
        "knn.fit(X_train, y_train)\n",
        "y_hat_test = knn.predict(X_test)"
      ],
      "metadata": {
        "id": "RZrp2XiByO79"
      },
      "execution_count": 198,
      "outputs": []
    },
    {
      "cell_type": "markdown",
      "source": [
        "Calculando a Acurácia e F1 Score - KNN Sklearn"
      ],
      "metadata": {
        "id": "MuDPqBAoyVTl"
      }
    },
    {
      "cell_type": "code",
      "source": [
        "accuracy = accuracy_score(y_test, y_hat_test)*100\n",
        "f1 = f1_score(y_test, y_hat_test,average='macro')\n",
        "print(\"Acurracy K-NN from sk-learn: {:.2f}%\".format(accuracy))\n",
        "print(\"F1 Score K-NN from sk-learn: {:.2f}%\".format(f1))"
      ],
      "metadata": {
        "id": "8iMwn2qPyaWV",
        "outputId": "7a4cc118-e377-4711-9b6c-a6946fc7a532",
        "colab": {
          "base_uri": "https://localhost:8080/"
        }
      },
      "execution_count": 199,
      "outputs": [
        {
          "output_type": "stream",
          "name": "stdout",
          "text": [
            "Acurracy K-NN from sk-learn: 93.58%\n",
            "F1 Score K-NN from sk-learn: 0.93%\n"
          ]
        }
      ]
    },
    {
      "cell_type": "markdown",
      "source": [
        "Plotando a Matriz Confusão - KNN Sklearn"
      ],
      "metadata": {
        "id": "UHloEE_wyeY1"
      }
    },
    {
      "cell_type": "code",
      "source": [
        "target_names = ['Democrata','Republicano']\n",
        "\n",
        "cm = confusion_matrix(y_test, y_hat_test)        \n",
        "plot_confusion_matrix(cm, target_names, False, \"Confusion Matrix - K-NN sklearn\")      \n",
        "plot_confusion_matrix(cm, target_names, True, \"Confusion Matrix - K-NN sklearn normalized\" )  \n",
        "plt.show()"
      ],
      "metadata": {
        "id": "eaIVeEKuyh6V",
        "outputId": "6a2540c8-e2f6-488a-e84a-f6d6d0cb158d",
        "colab": {
          "base_uri": "https://localhost:8080/",
          "height": 709
        }
      },
      "execution_count": 200,
      "outputs": [
        {
          "output_type": "stream",
          "name": "stdout",
          "text": [
            "Confusion matrix, without normalization\n",
            "[[42  2]\n",
            " [ 5 60]]\n",
            "Normalized confusion matrix\n",
            "[[0.95454545 0.04545455]\n",
            " [0.07692308 0.92307692]]\n"
          ]
        },
        {
          "output_type": "display_data",
          "data": {
            "text/plain": [
              "<Figure size 432x288 with 2 Axes>"
            ],
            "image/png": "[encoded data removed]"
          },
          "metadata": {
            "needs_background": "light"
          }
        },
        {
          "output_type": "display_data",
          "data": {
            "text/plain": [
              "<Figure size 432x288 with 2 Axes>"
            ],
            "image/png": "[encoded data removed]"
          },
          "metadata": {
            "needs_background": "light"
          }
        }
      ]
    },
    {
      "cell_type": "markdown",
      "source": [
        "Utilizando a Validação Cruzada"
      ],
      "metadata": {
        "id": "u_sS43Q77ihU"
      }
    },
    {
      "cell_type": "code",
      "source": [
        "clf = svm.SVC(kernel='linear', C=1, random_state=42)\n",
        "scores = cross_val_score(clf, X, y, cv=10)\n",
        "print(scores)"
      ],
      "metadata": {
        "id": "E8RNMIiT6jH8",
        "outputId": "67b86d09-4dd6-4bbb-c76f-317417b46b20",
        "colab": {
          "base_uri": "https://localhost:8080/"
        }
      },
      "execution_count": 201,
      "outputs": [
        {
          "output_type": "stream",
          "name": "stdout",
          "text": [
            "[0.93181818 0.93181818 0.95454545 0.95454545 0.97727273 0.95348837\n",
            " 1.         0.95348837 0.86046512 0.88372093]\n"
          ]
        }
      ]
    }
  ]
}