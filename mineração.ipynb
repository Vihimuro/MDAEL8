{
  "nbformat": 4,
  "nbformat_minor": 0,
  "metadata": {
    "colab": {
      "name": "mineração.ipynb",
      "provenance": [],
      "collapsed_sections": [],
      "include_colab_link": true
    },
    "kernelspec": {
      "name": "python3",
      "display_name": "Python 3"
    },
    "language_info": {
      "name": "python"
    }
  },
  "cells": [
    {
      "cell_type": "markdown",
      "metadata": {
        "id": "view-in-github",
        "colab_type": "text"
      },
      "source": [
        "<a href=\"https://colab.research.google.com/github/Vihimuro/MDAEL8/blob/main/minera%C3%A7%C3%A3o.ipynb\" target=\"_parent\"><img src=\"https://colab.research.google.com/assets/colab-badge.svg\" alt=\"Open In Colab\"/></a>"
      ]
    },
    {
      "cell_type": "markdown",
      "source": [
        "![miner.jpg](data:image/jpeg;base64,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)\n",
        "\n",
        "# Mineração de Dados\n"
      ],
      "metadata": {
        "id": "TGNlfRHwsRuy"
      }
    },
    {
      "cell_type": "markdown",
      "source": [
        "Alunos: Tiago Júnio Tegon Nascimento e Vinícius Himuro Augusto\n",
        "\n",
        "Githubs: https://github.com/TiagoTegon/MDAEL8.git e https://github.com/Vihimuro/MDAEL8"
      ],
      "metadata": {
        "id": "t6o6hGhruGdZ"
      }
    },
    {
      "cell_type": "markdown",
      "source": [
        "Database escolhida: Congressional Voting Records Data Set\n",
        "\n",
        "link: https://archive.ics.uci.edu/ml/datasets/Congressional+Voting+Records"
      ],
      "metadata": {
        "id": "zvpaknhHtrdQ"
      }
    },
    {
      "cell_type": "markdown",
      "source": [
        " # Atividade 1 - Pré-processamento de dados"
      ],
      "metadata": {
        "id": "aGXoIAZ0t9rg"
      }
    },
    {
      "cell_type": "markdown",
      "source": [
        "## Avaliação das características\n",
        "\n",
        "### Problema a ser investigado\n",
        "\n",
        "A base de dados possui o posicionamento (a favor ou contra) de senadores sobre alguns assuntos politicos (atributos) e, a partir deles, identificar se uma pessoa analisada integra o partido republicano ou democrata.\n",
        "\n",
        "Avalie as características da base de dados: problema a ser\n",
        "investigado, número de amostras, número de atributos, tipos de\n",
        "atributos, possui valores ausentes?\n",
        "\n",
        "### Número de amostras\n",
        "\n",
        "435 amostras, dos quais 267 são democratas e 168 republicanos.\n",
        "\n",
        "### Atributos\n",
        "\n",
        "São ao todo 17 atributos booleanos, sendo eles: \n",
        "\n",
        "\n",
        "   1. Class Name: 2 (democrat, republican)\n",
        "   2. handicapped-infants: 2 (y,n)\n",
        "   3. water-project-cost-sharing: 2 (y,n)\n",
        "   4. adoption-of-the-budget-resolution: 2 (y,n)\n",
        "   5. physician-fee-freeze: 2 (y,n)\n",
        "   6. el-salvador-aid: 2 (y,n)\n",
        "   7. religious-groups-in-schools: 2 (y,n)\n",
        "   8. anti-satellite-test-ban: 2 (y,n)\n",
        "   9. aid-to-nicaraguan-contras: 2 (y,n)\n",
        "   10. mx-missile: 2 (y,n)\n",
        "   11. immigration: 2 (y,n)\n",
        "   12. synfuels-corporation-cutback: 2 (y,n)\n",
        "   13. education-spending: 2 (y,n)\n",
        "   14. superfund-right-to-sue: 2 (y,n)\n",
        "   15. crime: 2 (y,n)\n",
        "   16. duty-free-exports: 2 (y,n)\n",
        "   17. export-administration-act-south-africa: 2 (y,n)\n",
        "\n",
        "### Sobre valores ausentes\n",
        "\n",
        "\n",
        "Analisando a base de dados, temos 288 dados definidos como '?', porém não são valores ausentes, e sim um posicionamento neutro sobre o atributo. Diante disso, foram cogitados 2 métodos para o tratamento desses valores: \n",
        "\n",
        "1- Criar uma terceira classificação denominada abstenção para cada atributo, além de sim e não.\n",
        "\n",
        "2- Substituir esses valores a partir da moda da classe que a pessoa faz parte (republicano e democrata)."
      ],
      "metadata": {
        "id": "zdOTlzkLAIuR"
      }
    },
    {
      "cell_type": "markdown",
      "source": [
        "## Código"
      ],
      "metadata": {
        "id": "c3yzHHXRD6k7"
      }
    },
    {
      "cell_type": "markdown",
      "source": [
        "Github de referência: https://github.com/murilovarges/DataMiningSamples/blob/master/1-Preprocessing/DataCleaning.py"
      ],
      "metadata": {
        "id": "Rq15PGvFuvfx"
      }
    },
    {
      "cell_type": "markdown",
      "source": [
        "Fazendo os imports "
      ],
      "metadata": {
        "id": "bb_SzJ-duTpP"
      }
    },
    {
      "cell_type": "code",
      "execution_count": null,
      "metadata": {
        "id": "ehGs5bVTpWwT"
      },
      "outputs": [],
      "source": [
        "import pandas as pd\n",
        "import numpy as np"
      ]
    },
    {
      "cell_type": "markdown",
      "source": [
        "Faz a leitura do arquivo"
      ],
      "metadata": {
        "id": "mCmO3LrDErnK"
      }
    },
    {
      "cell_type": "code",
      "source": [
        "names = ['Class-Name','handicapped-infants','water-project-cost-sharing','adoption-of-the-budget-resolution','physician-fee-freeze','el-salvador-aid',\n",
        "          'religious-groups-in-schools','anti-satellite-test-ban','aid-to-nicaraguan-contras','mx-missile','immigration','synfuels-corporation-cutback','education-spending',\n",
        "          'superfund-right-to-sue','crime','duty-free-exports','export-administration-act-south-africa'] \n",
        "features = names\n",
        "output_file_abstencao = '/content/house-votes-84-abstencao.data'\n",
        "output_file_moda = '/content/house-votes-84-moda.data'\n",
        "input_file = '/content/house-votes-84.data' \n",
        "df = pd.read_csv(input_file,         # Nome do arquivo com dados\n",
        "                  names = names,      # Nome das colunas \n",
        "                  usecols = features, # Define as colunas que serão  utilizadas\n",
        "                  na_values='?')      # Define que ? será considerado valores ausentes\n",
        "  "
      ],
      "metadata": {
        "id": "kCaVTx8wEOGh"
      },
      "execution_count": null,
      "outputs": []
    },
    {
      "cell_type": "markdown",
      "source": [
        "Mostrando os dados"
      ],
      "metadata": {
        "id": "JnxnuD6zGYi7"
      }
    },
    {
      "cell_type": "code",
      "source": [
        "df_original = df.copy()\n",
        "# Imprime as 15 primeiras linhas do arquivo\n",
        "print(\"PRIMEIRAS 15 LINHAS\\n\")\n",
        "print(df.head(15))\n",
        "print(\"\\n\") "
      ],
      "metadata": {
        "id": "X1wOb7S1GVwy"
      },
      "execution_count": null,
      "outputs": []
    },
    {
      "cell_type": "markdown",
      "source": [
        "Alterando os dados dos atributos "
      ],
      "metadata": {
        "id": "1hE_WYJfEyKS"
      }
    },
    {
      "cell_type": "code",
      "source": [
        "# republican => 0\n",
        "df['Class-Name'] = df['Class-Name'].replace(['republican'],0)\n",
        "\n",
        "# democrat => 1\n",
        "df['Class-Name'] = df['Class-Name'].replace(['democrat'],1)\n",
        "\n",
        "# n-> 0\n",
        "df = df.replace(['n'],int(0))\n",
        "\n",
        "# y-> 1\n",
        "df = df.replace(['y'],int(1))"
      ],
      "metadata": {
        "id": "8fr0euBbE9Cq"
      },
      "execution_count": null,
      "outputs": []
    },
    {
      "cell_type": "markdown",
      "source": [
        "Para ver a mudança: "
      ],
      "metadata": {
        "id": "Fw5s5RpVGr27"
      }
    },
    {
      "cell_type": "code",
      "source": [
        "df_original = df.copy()\n",
        "# Imprime as 15 primeiras linhas do arquivo\n",
        "print(\"PRIMEIRAS 15 LINHAS\\n\")\n",
        "print(df.head(15))\n",
        "print(\"\\n\") "
      ],
      "metadata": {
        "id": "FhskInlmGuuh"
      },
      "execution_count": null,
      "outputs": []
    },
    {
      "cell_type": "markdown",
      "source": [
        "Imprimindo informações sobre os dados"
      ],
      "metadata": {
        "id": "BIuAOqfrFMt6"
      }
    },
    {
      "cell_type": "code",
      "source": [
        "# Imprime informações sobre dos dados\n",
        "print(\"INFORMAÇÕES GERAIS DOS DADOS\\n\")\n",
        "print(df.info())\n",
        "print(\"\\n\")"
      ],
      "metadata": {
        "id": "mac7flRxFXjy"
      },
      "execution_count": null,
      "outputs": []
    },
    {
      "cell_type": "code",
      "source": [
        "# Imprime uma analise descritiva sobre dos dados\n",
        "print(\"DESCRIÇÃO DOS DADOS\\n\")\n",
        "print(df.describe())\n",
        "print(\"\\n\")"
      ],
      "metadata": {
        "id": "QEWwbFNAHTVB"
      },
      "execution_count": null,
      "outputs": []
    },
    {
      "cell_type": "code",
      "source": [
        "# Imprime a quantidade de valores faltantes por coluna\n",
        "print(\"VALORES FALTANTES\\n\")\n",
        "print(df.isnull().sum())\n",
        "print(\"\\n\")"
      ],
      "metadata": {
        "id": "MyqxBnAgHWOZ"
      },
      "execution_count": null,
      "outputs": []
    },
    {
      "cell_type": "markdown",
      "source": [
        "Imprimindo colunas com valores ausentes"
      ],
      "metadata": {
        "id": "RqJIks_DF1Kq"
      }
    },
    {
      "cell_type": "code",
      "source": [
        "columns_missing_value = df.columns[df.isnull().any()]\n",
        "print(columns_missing_value)\n",
        "method = 'number' # number or median or mean or mode"
      ],
      "metadata": {
        "id": "U3j1hpK2F4Aa",
        "outputId": "9de05549-f2d1-4917-b17d-becb4d513816",
        "colab": {
          "base_uri": "https://localhost:8080/"
        }
      },
      "execution_count": null,
      "outputs": [
        {
          "output_type": "stream",
          "name": "stdout",
          "text": [
            "Index(['handicapped-infants', 'water-project-cost-sharing',\n",
            "       'adoption-of-the-budget-resolution', 'physician-fee-freeze',\n",
            "       'el-salvador-aid', 'religious-groups-in-schools',\n",
            "       'anti-satellite-test-ban', 'aid-to-nicaraguan-contras', 'mx-missile',\n",
            "       'immigration', 'synfuels-corporation-cutback', 'education-spending',\n",
            "       'superfund-right-to-sue', 'crime', 'duty-free-exports',\n",
            "       'export-administration-act-south-africa'],\n",
            "      dtype='object')\n"
          ]
        }
      ]
    },
    {
      "cell_type": "markdown",
      "source": [
        "Função para atualizar os valores ausentes usando "
      ],
      "metadata": {
        "id": "z5Zx0ZAWwtAq"
      }
    },
    {
      "cell_type": "code",
      "source": [
        "def UpdateMissingValues(df, column, method=\"mode\", number=0):\n",
        "    if method == 'number':\n",
        "        # Substituindo valores ausentes por um número\n",
        "        df[column].fillna(number, inplace=True)\n",
        "    elif method == 'median':\n",
        "        # Substituindo valores ausentes pela mediana \n",
        "        median = df['Density'].median()\n",
        "        df[column].fillna(median, inplace=True)\n",
        "    elif method == 'mean':\n",
        "        # Substituindo valores ausentes pela média\n",
        "        mean = df[column].mean()\n",
        "        df[column].fillna(mean, inplace=True)\n",
        "    elif method == 'mode':\n",
        "        # Substituindo valores ausentes pela moda\n",
        "        mode = df[column].mode()[0]\n",
        "        df[column].fillna(mode, inplace=True)"
      ],
      "metadata": {
        "id": "ubQhfT-eH78C"
      },
      "execution_count": null,
      "outputs": []
    },
    {
      "cell_type": "code",
      "source": [
        "method = 'number' # number or median or mean or mode\n",
        "    \n",
        "for c in columns_missing_value:\n",
        "    UpdateMissingValues(df, c, method, 2)  \n",
        "\n",
        "# Salva arquivo com o tratamento para dados faltantes\n",
        "df.to_csv(output_file_abstencao, header=False, index=False)  "
      ],
      "metadata": {
        "id": "rt5MNwGpJrey"
      },
      "execution_count": null,
      "outputs": []
    },
    {
      "cell_type": "code",
      "source": [
        "def main():\n",
        "    # Faz a leitura do arquivo\n",
        "    names = ['Class-Name','handicapped-infants','water-project-cost-sharing','adoption-of-the-budget-resolution','physician-fee-freeze','el-salvador-aid',\n",
        "             'religious-groups-in-schools','anti-satellite-test-ban','aid-to-nicaraguan-contras','mx-missile','immigration','synfuels-corporation-cutback','education-spending',\n",
        "             'superfund-right-to-sue','crime','duty-free-exports','export-administration-act-south-africa'] \n",
        "    features = names\n",
        "    output_file = '/content/house-votes-84clear.data'\n",
        "    input_file = '/content/house-votes-84.data' \n",
        "    df = pd.read_csv(input_file,         # Nome do arquivo com dados\n",
        "                     names = names,      # Nome das colunas \n",
        "                     usecols = features, # Define as colunas que serão  utilizadas\n",
        "                     na_values='?')      # Define que ? será considerado valores ausentes\n",
        "    \n",
        "    df_original = df.copy()\n",
        "    # Imprime as 15 primeiras linhas do arquivo\n",
        "    print(\"PRIMEIRAS 15 LINHAS\\n\")\n",
        "    #print(df.head(15))\n",
        "    print(\"\\n\")        \n",
        "\n",
        "    # Alterandos os dados:\n",
        "    # republican => 0\n",
        "    df['Class-Name'] = df['Class-Name'].replace(['republican'],0)\n",
        "    #print(df['Class-Name'].head(15))\n",
        "\n",
        "    # democrat => 1\n",
        "    df['Class-Name'] = df['Class-Name'].replace(['democrat'],1)\n",
        "    #print(df['Class-Name'].head(15))\n",
        "\n",
        "    # n-> 0\n",
        "    df = df.replace(['n'],int(0))\n",
        "    #print(df.head(15))\n",
        "\n",
        "    # y-> 1\n",
        "    df = df.replace(['y'],int(1))\n",
        "    #print(df.head(15))\n",
        "\n",
        "    # Imprime informações sobre dos dados\n",
        "    print(\"INFORMAÇÕES GERAIS DOS DADOS\\n\")\n",
        "    print(df.info())\n",
        "    print(\"\\n\")\n",
        "    \n",
        "    # Imprime uma analise descritiva sobre dos dados\n",
        "    print(\"DESCRIÇÃO DOS DADOS\\n\")\n",
        "    print(df.describe())\n",
        "    print(\"\\n\")\n",
        "    \n",
        "    # Imprime a quantidade de valores faltantes por coluna\n",
        "    print(\"VALORES FALTANTES\\n\")\n",
        "    print(df.isnull().sum())\n",
        "    print(\"\\n\")    \n",
        "    \n",
        "    columns_missing_value = df.columns[df.isnull().any()]\n",
        "    print(columns_missing_value)\n",
        "    method = 'number' # number or median or mean or mode\n",
        "    \n",
        "    for c in columns_missing_value:\n",
        "        UpdateMissingValues(df, c)\n",
        "    \n",
        "    print(df.describe())\n",
        "    print(\"\\n\")\n",
        "    print(df.head(15))\n",
        "    print(df_original.head(15))\n",
        "    print(\"\\n\")\n",
        "    \n",
        "    # Salva arquivo com o tratamento para dados faltantes\n",
        "    df.to_csv(output_file, header=False, index=False)  \n",
        "    \n",
        "\n",
        "def UpdateMissingValues(df, column, method=\"mode\", number=0):\n",
        "    if method == 'number':\n",
        "        # Substituindo valores ausentes por um número\n",
        "        df[column].fillna(number, inplace=True)\n",
        "    elif method == 'median':\n",
        "        # Substituindo valores ausentes pela mediana \n",
        "        median = df['Density'].median()\n",
        "        df[column].fillna(median, inplace=True)\n",
        "    elif method == 'mean':\n",
        "        # Substituindo valores ausentes pela média\n",
        "        mean = df[column].mean()\n",
        "        df[column].fillna(mean, inplace=True)\n",
        "    elif method == 'mode':\n",
        "        # Substituindo valores ausentes pela moda\n",
        "        mode = df[column].mode()[0]\n",
        "        df[column].fillna(mode, inplace=True)\n",
        "\n",
        "\n",
        "\n",
        "\n",
        "if __name__ == \"__main__\":\n",
        "    main()"
      ],
      "metadata": {
        "id": "SyMxJvTlwyuI"
      },
      "execution_count": null,
      "outputs": []
    },
    {
      "cell_type": "code",
      "source": [
        ""
      ],
      "metadata": {
        "id": "E-pUzFxP8e3d"
      },
      "execution_count": null,
      "outputs": []
    }
  ]
}